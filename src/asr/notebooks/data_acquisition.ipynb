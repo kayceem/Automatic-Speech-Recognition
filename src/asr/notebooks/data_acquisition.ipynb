{
  "cells": [
    {
      "cell_type": "markdown",
      "metadata": {
        "id": "lkNFavYaedxc"
      },
      "source": [
        "# ASR Dataset EDA"
      ]
    },
    {
      "cell_type": "markdown",
      "metadata": {},
      "source": [
        "## 0. Download Data Set"
      ]
    },
    {
      "cell_type": "code",
      "execution_count": null,
      "metadata": {},
      "outputs": [],
      "source": [
        "import os\n",
        "import tarfile\n",
        "import requests\n",
        "from utils import get_data_dir, get_project_root, get_raw_data_dir\n",
        "\n",
        "url = \"\"\n",
        "\n",
        "output_path = os.path.join(get_project_root() / \"zipped_data\", \"cv-en.tar.gz\")\n",
        "os.makedirs(os.path.dirname(output_path), exist_ok=True)\n",
        "\n",
        "from tqdm.notebook import tqdm  # Use tqdm.auto if outside Jupyter\n",
        "\n",
        "print(\"Downloading Common Voice dataset...\")\n",
        "\n",
        "# Send the request with stream\n",
        "response = requests.get(url, stream=True)\n",
        "total_size = int(response.headers.get('content-length', 0))\n",
        "block_size = 8192  # 8 KB\n",
        "\n",
        "# Set up tqdm progress bar\n",
        "progress_bar = tqdm(total=total_size, unit='iB', unit_scale=True)\n",
        "\n",
        "with open(output_path, \"wb\") as f:\n",
        "    for chunk in response.iter_content(chunk_size=block_size):\n",
        "        if chunk:\n",
        "            f.write(chunk)\n",
        "            progress_bar.update(len(chunk))\n",
        "\n",
        "progress_bar.close()\n",
        "print(\"Download complete.\")\n",
        "\n",
        "# 2. Extract the .tar.gz file\n",
        "extract_dir = get_raw_data_dir(\"asr\") \n",
        "os.makedirs(extract_dir, exist_ok=True)\n",
        "\n",
        "print(f\"Extracting to {extract_dir}...\")\n",
        "with tarfile.open(output_path, \"r:gz\") as tar_ref:\n",
        "    tar_ref.extractall(path=extract_dir)\n",
        "print(\"Extraction complete.\")\n"
      ]
    },
    {
      "cell_type": "markdown",
      "metadata": {},
      "source": [
        "## 0.1 Download Subset of Data"
      ]
    },
    {
      "cell_type": "code",
      "execution_count": null,
      "metadata": {
        "colab": {
          "base_uri": "https://localhost:8080/"
        },
        "id": "jaE95MF_xNUr",
        "outputId": "7cc9a63e-a0d1-4429-f797-c17a7826f1d1"
      },
      "outputs": [],
      "source": [
        "import gdown\n",
        "import zipfile\n",
        "import os\n",
        "from utils import get_data_dir, get_project_root, get_processed_data_dir\n",
        "\n",
        "# 1. Download the file from Google Drive\n",
        "url = \"https://drive.google.com/uc?id=1rHenEIWb10HqrCp1NQ9fyRWAYlF_er2H\"\n",
        "output = os.path.join(get_project_root() / \"zipped_data\", \"speech_sample.zip\")\n",
        "os.makedirs(os.path.dirname(output), exist_ok=True)\n",
        "gdown.download(url, output, quiet=True)\n",
        "\n",
        "extract_dir = get_processed_data_dir(\"asr\")\n",
        "\n",
        "# 3. Unzip the file into the target directory\n",
        "with zipfile.ZipFile(output, 'r') as zip_ref:\n",
        "    zip_ref.extractall(extract_dir)\n"
      ]
    },
    {
      "cell_type": "markdown",
      "metadata": {
        "id": "yokiesBYeT1U"
      },
      "source": [
        "## 1. Import necessary libraries"
      ]
    },
    {
      "cell_type": "code",
      "execution_count": null,
      "metadata": {
        "id": "fFzK1HAwmhsQ"
      },
      "outputs": [],
      "source": [
        "import json\n",
        "import librosa\n",
        "import torch\n",
        "import torch.nn as nn\n",
        "import torchaudio\n",
        "import torchaudio.transforms as transforms\n",
        "import matplotlib.pyplot as plt\n",
        "from utils import get_data_dir, get_project_root, get_processed_data_dir\n",
        "from IPython.display import Audio"
      ]
    },
    {
      "cell_type": "markdown",
      "metadata": {
        "id": "WV2-F7Yveztb"
      },
      "source": [
        "## 2. Basic EDA"
      ]
    },
    {
      "cell_type": "code",
      "execution_count": null,
      "metadata": {
        "colab": {
          "base_uri": "https://localhost:8080/"
        },
        "id": "DSzk4unyfcsH",
        "outputId": "78251230-2e73-45a5-ad1c-abc06d27c5b1"
      },
      "outputs": [],
      "source": [
        "# Load the audio clips path and sentences from test.json\n",
        "data_path = get_processed_data_dir(\"asr/converted_clips\")\n",
        "test_json_path = data_path / \"test.json\"\n",
        "with open(test_json_path, 'r') as f:\n",
        "    data = json.load(f)\n",
        "\n",
        "audio_files = data[0:3]\n",
        "audio_files"
      ]
    },
    {
      "cell_type": "code",
      "execution_count": null,
      "metadata": {
        "colab": {
          "base_uri": "https://localhost:8080/",
          "height": 1000
        },
        "id": "PEhWxaE0eyOn",
        "outputId": "f1a30ff8-94fa-4449-e601-c42b3c6e0339"
      },
      "outputs": [],
      "source": [
        "# Load the sample audio file\n",
        "for idx, audio_info in enumerate(audio_files):\n",
        "    audio_path = audio_info['key']\n",
        "    \n",
        "    # Load the sample audio file\n",
        "    waveform, sample_rate = torchaudio.load(audio_path, backend=\"soundfile\")\n",
        "\n",
        "    print(f\"Sample Rate: {sample_rate}\")\n",
        "\n",
        "    display(Audio(audio_path,))\n",
        "    \n",
        "    plt.figure(figsize=(6, 2))\n",
        "    plt.plot(waveform.t().numpy())\n",
        "    plt.title(f\"Waveform of file {idx+1}\")\n",
        "    plt.show()\n"
      ]
    },
    {
      "cell_type": "code",
      "execution_count": null,
      "metadata": {
        "colab": {
          "base_uri": "https://localhost:8080/",
          "height": 1000
        },
        "id": "3CJY7fFbhn4G",
        "outputId": "df10bc4b-95c7-4bb6-9837-0c6debe6539b"
      },
      "outputs": [],
      "source": [
        "for idx, audio_info in enumerate(audio_files):\n",
        "    audio_path = audio_info['key']\n",
        "    waveform, sample_rate = torchaudio.load(audio_path, backend=\"soundfile\")\n",
        "    waveform_np = waveform.numpy().flatten()\n",
        "\n",
        "    # Mel spectrogram\n",
        "    spectrogram = librosa.feature.melspectrogram(y=waveform_np, sr=sample_rate, n_mels=128, fmax=sample_rate/2)\n",
        "    log_spectrogram = librosa.power_to_db(spectrogram)\n",
        "\n",
        "    plt.figure(figsize=(10, 4))\n",
        "    librosa.display.specshow(log_spectrogram, sr=sample_rate, x_axis='time', y_axis='mel')\n",
        "    plt.title(f'Mel Spectrogram {idx+1}')\n",
        "    plt.colorbar(format='%+2.0f dB')\n",
        "    plt.tight_layout()\n",
        "    plt.show()"
      ]
    },
    {
      "cell_type": "code",
      "execution_count": null,
      "metadata": {
        "colab": {
          "base_uri": "https://localhost:8080/",
          "height": 411
        },
        "id": "CTn2SzqsmvTV",
        "outputId": "2dfa82a7-39e6-407d-d4a9-e332c1cf770a"
      },
      "outputs": [],
      "source": [
        "# Defining LogMelSpec transformation\n",
        "log_mel_spec_transform = transforms.MelSpectrogram(\n",
        "    sample_rate=16000,\n",
        "    n_mels=128,\n",
        "    hop_length=380,\n",
        "    n_fft = 1024*2\n",
        ")\n",
        "\n",
        "# Compute the log-mel spectrogram\n",
        "log_mel_spec = log_mel_spec_transform(waveform)\n",
        "log_mel_spec = torch.log(log_mel_spec + 1e-14)  # Avoid log(0)\n",
        "\n",
        "# Display the original spectrogram\n",
        "plt.figure(figsize=(10, 4))\n",
        "plt.imshow(log_mel_spec.squeeze(0).numpy(), cmap='viridis', origin='lower', aspect='auto')\n",
        "plt.title(\"Original Log-Mel Spectrogram\")\n",
        "plt.colorbar(format='%+2.0f dB')\n",
        "plt.show()"
      ]
    },
    {
      "cell_type": "code",
      "execution_count": null,
      "metadata": {
        "colab": {
          "base_uri": "https://localhost:8080/",
          "height": 411
        },
        "id": "aUvoH_6Em2Qn",
        "outputId": "76bcd386-c509-47d3-943d-28db1a3d0bcd"
      },
      "outputs": [],
      "source": [
        "# SpecAugment transformations\n",
        "spec_augment = nn.Sequential(\n",
        "                transforms.FrequencyMasking(freq_mask_param=30),\n",
        "                transforms.TimeMasking(time_mask_param=70)\n",
        ")\n",
        "\n",
        "# Applying SpecAugment\n",
        "augmented_log_mel_spec = spec_augment(log_mel_spec)\n",
        "\n",
        "# Display augmented spectrogram\n",
        "plt.figure(figsize=(10, 4))\n",
        "plt.imshow(augmented_log_mel_spec.squeeze(0).numpy(), cmap='viridis', origin='lower', aspect='auto')\n",
        "plt.title(\"Augmented Log-Mel Spectrogram\")\n",
        "plt.colorbar(format='%+2.0f dB')\n",
        "plt.show()"
      ]
    },
    {
      "cell_type": "code",
      "execution_count": null,
      "metadata": {
        "colab": {
          "base_uri": "https://localhost:8080/"
        },
        "id": "s_e_7KDEhjTB",
        "outputId": "d9ac11a2-6a51-4fe5-84a4-fcbf8dfe2b85"
      },
      "outputs": [],
      "source": [
        "log_mel_spec.squeeze(0).numpy(), log_mel_spec.squeeze(0).shape"
      ]
    },
    {
      "cell_type": "code",
      "execution_count": null,
      "metadata": {
        "colab": {
          "base_uri": "https://localhost:8080/"
        },
        "id": "zn96O9XVECIh",
        "outputId": "eec2d0e9-c879-4999-b89a-9d72e7e9cf3b"
      },
      "outputs": [],
      "source": [
        "augmented_log_mel_spec.squeeze(0).numpy(), augmented_log_mel_spec.squeeze(0).numpy().shape"
      ]
    }
  ],
  "metadata": {
    "colab": {
      "include_colab_link": true,
      "provenance": []
    },
    "kernelspec": {
      "display_name": ".venv",
      "language": "python",
      "name": "python3"
    },
    "language_info": {
      "codemirror_mode": {
        "name": "ipython",
        "version": 3
      },
      "file_extension": ".py",
      "mimetype": "text/x-python",
      "name": "python",
      "nbconvert_exporter": "python",
      "pygments_lexer": "ipython3",
      "version": "3.11.11"
    }
  },
  "nbformat": 4,
  "nbformat_minor": 0
}
