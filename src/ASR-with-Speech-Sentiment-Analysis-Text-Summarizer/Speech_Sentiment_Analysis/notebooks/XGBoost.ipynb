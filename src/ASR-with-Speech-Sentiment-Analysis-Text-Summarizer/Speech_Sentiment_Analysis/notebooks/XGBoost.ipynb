{
 "cells": [
  {
   "cell_type": "markdown",
   "metadata": {},
   "source": [
    "## XGB Base Model for Speech Emotion Recognition"
   ]
  },
  {
   "cell_type": "markdown",
   "metadata": {},
   "source": [
    "### Import Required Libraries  "
   ]
  },
  {
   "cell_type": "code",
   "execution_count": null,
   "metadata": {},
   "outputs": [],
   "source": [
    "!cat requirements.dev.txt"
   ]
  },
  {
   "cell_type": "code",
   "execution_count": 11,
   "metadata": {},
   "outputs": [],
   "source": [
    "import pandas as pd \n",
    "import librosa\n",
    "import numpy as np\n",
    "from tqdm import tqdm\n",
    "import xgboost as xgb\n",
    "import seaborn as sns\n",
    "import matplotlib.pyplot as plt\n",
    "from sklearn.model_selection import train_test_split, GridSearchCV\n",
    "from sklearn.metrics import accuracy_score, classification_report, confusion_matrix\n",
    "from sklearn.preprocessing import LabelEncoder,  StandardScaler\n",
    "import joblib"
   ]
  },
  {
   "cell_type": "markdown",
   "metadata": {},
   "source": [
    "### Import Dataset \n",
    "> Make sure that the dataset is downsampled and augmented using the scripts provided"
   ]
  },
  {
   "cell_type": "code",
   "execution_count": 11,
   "metadata": {},
   "outputs": [],
   "source": [
    "train_csv=\"/home/kayc/Code/Fuse/ASR-with-Speech-Sentiment-and-Text-Summarizer/notebook/output/train.csv\"\n",
    "df = pd.read_csv(train_csv) #Enter path after downsampling"
   ]
  },
  {
   "cell_type": "markdown",
   "metadata": {},
   "source": [
    "### Encode emotions to numeric values"
   ]
  },
  {
   "cell_type": "code",
   "execution_count": 12,
   "metadata": {},
   "outputs": [],
   "source": [
    "label_encoder = LabelEncoder()\n",
    "df[\"Emotion_Code\"] = label_encoder.fit_transform(df[\"Emotions\"])"
   ]
  },
  {
   "cell_type": "markdown",
   "metadata": {},
   "source": [
    "### Feature Extraction (Work in Progress)\n",
    "\n",
    "> Currently consiering mfcc, chroma and contrast"
   ]
  },
  {
   "cell_type": "code",
   "execution_count": 4,
   "metadata": {},
   "outputs": [
    {
     "name": "stderr",
     "output_type": "stream",
     "text": [
      "Extracting Features:  14%|█▍        | 6678/48408 [04:21<23:42, 29.34it/s]/home/kayc/Code/Fuse/ASR-with-Speech-Sentiment-and-Text-Summarizer/.venv/lib/python3.11/site-packages/librosa/core/pitch.py:101: UserWarning: Trying to estimate tuning from empty frequency set.\n",
      "  return pitch_tuning(\n",
      "Extracting Features: 100%|██████████| 48408/48408 [28:32<00:00, 28.26it/s]\n"
     ]
    }
   ],
   "source": [
    "def extract_features(file_path):\n",
    "    y, sr = librosa.load(file_path, sr=None)\n",
    "    mfccs_mean = np.mean(librosa.feature.mfcc(y=y, sr=sr, n_mfcc=13), axis=1)\n",
    "    chroma_mean = np.mean(librosa.feature.chroma_stft(y=y, sr=sr), axis=1)\n",
    "    contrast_mean = np.mean(librosa.feature.spectral_contrast(y=y, sr=sr), axis=1)\n",
    "\n",
    "    features = {}\n",
    "    for i in range(13):\n",
    "        features[f'mfccs_mean_{i}'] = mfccs_mean[i]\n",
    "    for i in range(12):\n",
    "        features[f'chroma_mean_{i}'] = chroma_mean[i]\n",
    "    for i in range(7):\n",
    "        features[f'contrast_mean_{i}'] = contrast_mean[i]\n",
    "    return features\n",
    "\n",
    "tqdm.pandas(desc=\"Extracting Features\")\n",
    "\n",
    "features_list = df['Path'].progress_apply(extract_features).tolist()\n",
    "features_df = pd.DataFrame(features_list)\n",
    "\n",
    "df = pd.concat([df, features_df], axis=1)"
   ]
  },
  {
   "cell_type": "code",
   "execution_count": 5,
   "metadata": {},
   "outputs": [],
   "source": [
    "df.to_csv(\"features.csv\", index = False)"
   ]
  },
  {
   "cell_type": "markdown",
   "metadata": {},
   "source": [
    "### Create trainng and testing sets"
   ]
  },
  {
   "cell_type": "code",
   "execution_count": 2,
   "metadata": {},
   "outputs": [],
   "source": [
    "df = pd.read_csv(\"features.csv\")"
   ]
  },
  {
   "cell_type": "markdown",
   "metadata": {},
   "source": []
  },
  {
   "cell_type": "code",
   "execution_count": 3,
   "metadata": {},
   "outputs": [],
   "source": [
    "scaler = StandardScaler()\n",
    "X = df.drop(columns=['Path', 'Emotions', 'Emotion_Code'], axis=1)\n",
    "X = scaler.fit_transform(X)\n",
    "y = df['Emotion_Code']"
   ]
  },
  {
   "cell_type": "code",
   "execution_count": 4,
   "metadata": {},
   "outputs": [],
   "source": [
    "X_train, X_test, y_train, y_test = train_test_split(X, y, test_size=0.2, random_state=42)"
   ]
  },
  {
   "cell_type": "markdown",
   "metadata": {},
   "source": [
    "### Create XGB model and train"
   ]
  },
  {
   "cell_type": "code",
   "execution_count": 5,
   "metadata": {},
   "outputs": [],
   "source": [
    "param_grid = {\n",
    "    'max_depth': [3, 5, 7],\n",
    "    'learning_rate': [0.01, 0.1, 0.2],\n",
    "    'n_estimators': [100, 500, 1000],\n",
    "}"
   ]
  },
  {
   "cell_type": "code",
   "execution_count": 6,
   "metadata": {},
   "outputs": [
    {
     "name": "stdout",
     "output_type": "stream",
     "text": [
      "Fitting 5 folds for each of 27 candidates, totalling 135 fits\n",
      "[CV 1/5; 1/27] START learning_rate=0.01, max_depth=3, n_estimators=100..........\n",
      "[CV 1/5; 1/27] END learning_rate=0.01, max_depth=3, n_estimators=100;, score=0.413 total time=  22.8s\n",
      "[CV 2/5; 1/27] START learning_rate=0.01, max_depth=3, n_estimators=100..........\n",
      "[CV 2/5; 1/27] END learning_rate=0.01, max_depth=3, n_estimators=100;, score=0.409 total time=  19.5s\n",
      "[CV 3/5; 1/27] START learning_rate=0.01, max_depth=3, n_estimators=100..........\n",
      "[CV 3/5; 1/27] END learning_rate=0.01, max_depth=3, n_estimators=100;, score=0.413 total time=   9.1s\n",
      "[CV 4/5; 1/27] START learning_rate=0.01, max_depth=3, n_estimators=100..........\n",
      "[CV 4/5; 1/27] END learning_rate=0.01, max_depth=3, n_estimators=100;, score=0.420 total time=  13.1s\n",
      "[CV 5/5; 1/27] START learning_rate=0.01, max_depth=3, n_estimators=100..........\n",
      "[CV 5/5; 1/27] END learning_rate=0.01, max_depth=3, n_estimators=100;, score=0.417 total time=   8.2s\n",
      "[CV 1/5; 2/27] START learning_rate=0.01, max_depth=3, n_estimators=500..........\n",
      "[CV 1/5; 2/27] END learning_rate=0.01, max_depth=3, n_estimators=500;, score=0.474 total time= 1.1min\n",
      "[CV 2/5; 2/27] START learning_rate=0.01, max_depth=3, n_estimators=500..........\n",
      "[CV 2/5; 2/27] END learning_rate=0.01, max_depth=3, n_estimators=500;, score=0.462 total time= 1.8min\n",
      "[CV 3/5; 2/27] START learning_rate=0.01, max_depth=3, n_estimators=500..........\n",
      "[CV 3/5; 2/27] END learning_rate=0.01, max_depth=3, n_estimators=500;, score=0.473 total time= 1.9min\n",
      "[CV 4/5; 2/27] START learning_rate=0.01, max_depth=3, n_estimators=500..........\n",
      "[CV 4/5; 2/27] END learning_rate=0.01, max_depth=3, n_estimators=500;, score=0.471 total time=  45.8s\n",
      "[CV 5/5; 2/27] START learning_rate=0.01, max_depth=3, n_estimators=500..........\n",
      "[CV 5/5; 2/27] END learning_rate=0.01, max_depth=3, n_estimators=500;, score=0.472 total time=  28.6s\n",
      "[CV 1/5; 3/27] START learning_rate=0.01, max_depth=3, n_estimators=1000.........\n",
      "[CV 1/5; 3/27] END learning_rate=0.01, max_depth=3, n_estimators=1000;, score=0.506 total time= 1.0min\n",
      "[CV 2/5; 3/27] START learning_rate=0.01, max_depth=3, n_estimators=1000.........\n",
      "[CV 2/5; 3/27] END learning_rate=0.01, max_depth=3, n_estimators=1000;, score=0.496 total time= 1.3min\n",
      "[CV 3/5; 3/27] START learning_rate=0.01, max_depth=3, n_estimators=1000.........\n",
      "[CV 3/5; 3/27] END learning_rate=0.01, max_depth=3, n_estimators=1000;, score=0.505 total time=  56.1s\n",
      "[CV 4/5; 3/27] START learning_rate=0.01, max_depth=3, n_estimators=1000.........\n",
      "[CV 4/5; 3/27] END learning_rate=0.01, max_depth=3, n_estimators=1000;, score=0.504 total time=  57.8s\n",
      "[CV 5/5; 3/27] START learning_rate=0.01, max_depth=3, n_estimators=1000.........\n",
      "[CV 5/5; 3/27] END learning_rate=0.01, max_depth=3, n_estimators=1000;, score=0.505 total time= 1.3min\n",
      "[CV 1/5; 4/27] START learning_rate=0.01, max_depth=5, n_estimators=100..........\n",
      "[CV 1/5; 4/27] END learning_rate=0.01, max_depth=5, n_estimators=100;, score=0.463 total time=   9.8s\n",
      "[CV 2/5; 4/27] START learning_rate=0.01, max_depth=5, n_estimators=100..........\n",
      "[CV 2/5; 4/27] END learning_rate=0.01, max_depth=5, n_estimators=100;, score=0.460 total time=  10.0s\n",
      "[CV 3/5; 4/27] START learning_rate=0.01, max_depth=5, n_estimators=100..........\n",
      "[CV 3/5; 4/27] END learning_rate=0.01, max_depth=5, n_estimators=100;, score=0.462 total time=   9.8s\n",
      "[CV 4/5; 4/27] START learning_rate=0.01, max_depth=5, n_estimators=100..........\n",
      "[CV 4/5; 4/27] END learning_rate=0.01, max_depth=5, n_estimators=100;, score=0.470 total time=   9.9s\n",
      "[CV 5/5; 4/27] START learning_rate=0.01, max_depth=5, n_estimators=100..........\n",
      "[CV 5/5; 4/27] END learning_rate=0.01, max_depth=5, n_estimators=100;, score=0.465 total time=   9.9s\n",
      "[CV 1/5; 5/27] START learning_rate=0.01, max_depth=5, n_estimators=500..........\n",
      "[CV 1/5; 5/27] END learning_rate=0.01, max_depth=5, n_estimators=500;, score=0.524 total time= 2.1min\n",
      "[CV 2/5; 5/27] START learning_rate=0.01, max_depth=5, n_estimators=500..........\n",
      "[CV 2/5; 5/27] END learning_rate=0.01, max_depth=5, n_estimators=500;, score=0.513 total time= 1.7min\n",
      "[CV 3/5; 5/27] START learning_rate=0.01, max_depth=5, n_estimators=500..........\n",
      "[CV 3/5; 5/27] END learning_rate=0.01, max_depth=5, n_estimators=500;, score=0.525 total time= 1.5min\n",
      "[CV 4/5; 5/27] START learning_rate=0.01, max_depth=5, n_estimators=500..........\n",
      "[CV 4/5; 5/27] END learning_rate=0.01, max_depth=5, n_estimators=500;, score=0.532 total time= 1.2min\n",
      "[CV 5/5; 5/27] START learning_rate=0.01, max_depth=5, n_estimators=500..........\n",
      "[CV 5/5; 5/27] END learning_rate=0.01, max_depth=5, n_estimators=500;, score=0.520 total time= 2.7min\n",
      "[CV 1/5; 6/27] START learning_rate=0.01, max_depth=5, n_estimators=1000.........\n",
      "[CV 1/5; 6/27] END learning_rate=0.01, max_depth=5, n_estimators=1000;, score=0.560 total time= 3.3min\n",
      "[CV 2/5; 6/27] START learning_rate=0.01, max_depth=5, n_estimators=1000.........\n",
      "[CV 2/5; 6/27] END learning_rate=0.01, max_depth=5, n_estimators=1000;, score=0.550 total time= 2.9min\n",
      "[CV 3/5; 6/27] START learning_rate=0.01, max_depth=5, n_estimators=1000.........\n",
      "[CV 3/5; 6/27] END learning_rate=0.01, max_depth=5, n_estimators=1000;, score=0.560 total time= 2.5min\n",
      "[CV 4/5; 6/27] START learning_rate=0.01, max_depth=5, n_estimators=1000.........\n",
      "[CV 4/5; 6/27] END learning_rate=0.01, max_depth=5, n_estimators=1000;, score=0.559 total time= 3.0min\n",
      "[CV 5/5; 6/27] START learning_rate=0.01, max_depth=5, n_estimators=1000.........\n",
      "[CV 5/5; 6/27] END learning_rate=0.01, max_depth=5, n_estimators=1000;, score=0.548 total time= 5.5min\n",
      "[CV 1/5; 7/27] START learning_rate=0.01, max_depth=7, n_estimators=100..........\n",
      "[CV 1/5; 7/27] END learning_rate=0.01, max_depth=7, n_estimators=100;, score=0.513 total time=  24.9s\n",
      "[CV 2/5; 7/27] START learning_rate=0.01, max_depth=7, n_estimators=100..........\n",
      "[CV 2/5; 7/27] END learning_rate=0.01, max_depth=7, n_estimators=100;, score=0.495 total time=  31.3s\n",
      "[CV 3/5; 7/27] START learning_rate=0.01, max_depth=7, n_estimators=100..........\n",
      "[CV 3/5; 7/27] END learning_rate=0.01, max_depth=7, n_estimators=100;, score=0.509 total time= 1.1min\n",
      "[CV 4/5; 7/27] START learning_rate=0.01, max_depth=7, n_estimators=100..........\n",
      "[CV 4/5; 7/27] END learning_rate=0.01, max_depth=7, n_estimators=100;, score=0.513 total time=  20.2s\n",
      "[CV 5/5; 7/27] START learning_rate=0.01, max_depth=7, n_estimators=100..........\n",
      "[CV 5/5; 7/27] END learning_rate=0.01, max_depth=7, n_estimators=100;, score=0.505 total time=  21.1s\n",
      "[CV 1/5; 8/27] START learning_rate=0.01, max_depth=7, n_estimators=500..........\n",
      "[CV 1/5; 8/27] END learning_rate=0.01, max_depth=7, n_estimators=500;, score=0.560 total time= 1.5min\n",
      "[CV 2/5; 8/27] START learning_rate=0.01, max_depth=7, n_estimators=500..........\n",
      "[CV 2/5; 8/27] END learning_rate=0.01, max_depth=7, n_estimators=500;, score=0.548 total time= 1.6min\n",
      "[CV 3/5; 8/27] START learning_rate=0.01, max_depth=7, n_estimators=500..........\n",
      "[CV 3/5; 8/27] END learning_rate=0.01, max_depth=7, n_estimators=500;, score=0.568 total time= 1.2min\n",
      "[CV 4/5; 8/27] START learning_rate=0.01, max_depth=7, n_estimators=500..........\n",
      "[CV 4/5; 8/27] END learning_rate=0.01, max_depth=7, n_estimators=500;, score=0.564 total time= 1.5min\n",
      "[CV 5/5; 8/27] START learning_rate=0.01, max_depth=7, n_estimators=500..........\n",
      "[CV 5/5; 8/27] END learning_rate=0.01, max_depth=7, n_estimators=500;, score=0.552 total time= 1.2min\n",
      "[CV 1/5; 9/27] START learning_rate=0.01, max_depth=7, n_estimators=1000.........\n",
      "[CV 1/5; 9/27] END learning_rate=0.01, max_depth=7, n_estimators=1000;, score=0.591 total time= 2.7min\n",
      "[CV 2/5; 9/27] START learning_rate=0.01, max_depth=7, n_estimators=1000.........\n",
      "[CV 2/5; 9/27] END learning_rate=0.01, max_depth=7, n_estimators=1000;, score=0.579 total time= 3.2min\n",
      "[CV 3/5; 9/27] START learning_rate=0.01, max_depth=7, n_estimators=1000.........\n",
      "[CV 3/5; 9/27] END learning_rate=0.01, max_depth=7, n_estimators=1000;, score=0.592 total time= 3.5min\n",
      "[CV 4/5; 9/27] START learning_rate=0.01, max_depth=7, n_estimators=1000.........\n",
      "[CV 4/5; 9/27] END learning_rate=0.01, max_depth=7, n_estimators=1000;, score=0.596 total time= 4.0min\n",
      "[CV 5/5; 9/27] START learning_rate=0.01, max_depth=7, n_estimators=1000.........\n",
      "[CV 5/5; 9/27] END learning_rate=0.01, max_depth=7, n_estimators=1000;, score=0.586 total time= 3.3min\n",
      "[CV 1/5; 10/27] START learning_rate=0.1, max_depth=3, n_estimators=100..........\n",
      "[CV 1/5; 10/27] END learning_rate=0.1, max_depth=3, n_estimators=100;, score=0.510 total time=   5.5s\n",
      "[CV 2/5; 10/27] START learning_rate=0.1, max_depth=3, n_estimators=100..........\n",
      "[CV 2/5; 10/27] END learning_rate=0.1, max_depth=3, n_estimators=100;, score=0.498 total time=   5.6s\n",
      "[CV 3/5; 10/27] START learning_rate=0.1, max_depth=3, n_estimators=100..........\n",
      "[CV 3/5; 10/27] END learning_rate=0.1, max_depth=3, n_estimators=100;, score=0.505 total time=   6.0s\n",
      "[CV 4/5; 10/27] START learning_rate=0.1, max_depth=3, n_estimators=100..........\n",
      "[CV 4/5; 10/27] END learning_rate=0.1, max_depth=3, n_estimators=100;, score=0.505 total time=   7.8s\n",
      "[CV 5/5; 10/27] START learning_rate=0.1, max_depth=3, n_estimators=100..........\n",
      "[CV 5/5; 10/27] END learning_rate=0.1, max_depth=3, n_estimators=100;, score=0.507 total time=   8.3s\n",
      "[CV 1/5; 11/27] START learning_rate=0.1, max_depth=3, n_estimators=500..........\n",
      "[CV 1/5; 11/27] END learning_rate=0.1, max_depth=3, n_estimators=500;, score=0.572 total time=  39.8s\n",
      "[CV 2/5; 11/27] START learning_rate=0.1, max_depth=3, n_estimators=500..........\n",
      "[CV 2/5; 11/27] END learning_rate=0.1, max_depth=3, n_estimators=500;, score=0.555 total time=  32.9s\n",
      "[CV 3/5; 11/27] START learning_rate=0.1, max_depth=3, n_estimators=500..........\n",
      "[CV 3/5; 11/27] END learning_rate=0.1, max_depth=3, n_estimators=500;, score=0.571 total time= 1.1min\n",
      "[CV 4/5; 11/27] START learning_rate=0.1, max_depth=3, n_estimators=500..........\n",
      "[CV 4/5; 11/27] END learning_rate=0.1, max_depth=3, n_estimators=500;, score=0.573 total time=  37.1s\n",
      "[CV 5/5; 11/27] START learning_rate=0.1, max_depth=3, n_estimators=500..........\n",
      "[CV 5/5; 11/27] END learning_rate=0.1, max_depth=3, n_estimators=500;, score=0.567 total time=  35.6s\n",
      "[CV 1/5; 12/27] START learning_rate=0.1, max_depth=3, n_estimators=1000.........\n",
      "[CV 1/5; 12/27] END learning_rate=0.1, max_depth=3, n_estimators=1000;, score=0.588 total time= 1.5min\n",
      "[CV 2/5; 12/27] START learning_rate=0.1, max_depth=3, n_estimators=1000.........\n",
      "[CV 2/5; 12/27] END learning_rate=0.1, max_depth=3, n_estimators=1000;, score=0.581 total time= 1.3min\n",
      "[CV 3/5; 12/27] START learning_rate=0.1, max_depth=3, n_estimators=1000.........\n",
      "[CV 3/5; 12/27] END learning_rate=0.1, max_depth=3, n_estimators=1000;, score=0.595 total time= 1.2min\n",
      "[CV 4/5; 12/27] START learning_rate=0.1, max_depth=3, n_estimators=1000.........\n",
      "[CV 4/5; 12/27] END learning_rate=0.1, max_depth=3, n_estimators=1000;, score=0.589 total time= 1.5min\n",
      "[CV 5/5; 12/27] START learning_rate=0.1, max_depth=3, n_estimators=1000.........\n",
      "[CV 5/5; 12/27] END learning_rate=0.1, max_depth=3, n_estimators=1000;, score=0.588 total time= 1.2min\n",
      "[CV 1/5; 13/27] START learning_rate=0.1, max_depth=5, n_estimators=100..........\n",
      "[CV 1/5; 13/27] END learning_rate=0.1, max_depth=5, n_estimators=100;, score=0.558 total time=  12.9s\n",
      "[CV 2/5; 13/27] START learning_rate=0.1, max_depth=5, n_estimators=100..........\n",
      "[CV 2/5; 13/27] END learning_rate=0.1, max_depth=5, n_estimators=100;, score=0.548 total time=  18.1s\n",
      "[CV 3/5; 13/27] START learning_rate=0.1, max_depth=5, n_estimators=100..........\n",
      "[CV 3/5; 13/27] END learning_rate=0.1, max_depth=5, n_estimators=100;, score=0.561 total time=  28.3s\n",
      "[CV 4/5; 13/27] START learning_rate=0.1, max_depth=5, n_estimators=100..........\n",
      "[CV 4/5; 13/27] END learning_rate=0.1, max_depth=5, n_estimators=100;, score=0.561 total time=  11.4s\n",
      "[CV 5/5; 13/27] START learning_rate=0.1, max_depth=5, n_estimators=100..........\n",
      "[CV 5/5; 13/27] END learning_rate=0.1, max_depth=5, n_estimators=100;, score=0.550 total time=  13.5s\n",
      "[CV 1/5; 14/27] START learning_rate=0.1, max_depth=5, n_estimators=500..........\n",
      "[CV 1/5; 14/27] END learning_rate=0.1, max_depth=5, n_estimators=500;, score=0.609 total time= 1.1min\n",
      "[CV 2/5; 14/27] START learning_rate=0.1, max_depth=5, n_estimators=500..........\n",
      "[CV 2/5; 14/27] END learning_rate=0.1, max_depth=5, n_estimators=500;, score=0.595 total time= 1.4min\n",
      "[CV 3/5; 14/27] START learning_rate=0.1, max_depth=5, n_estimators=500..........\n",
      "[CV 3/5; 14/27] END learning_rate=0.1, max_depth=5, n_estimators=500;, score=0.611 total time= 1.0min\n",
      "[CV 4/5; 14/27] START learning_rate=0.1, max_depth=5, n_estimators=500..........\n",
      "[CV 4/5; 14/27] END learning_rate=0.1, max_depth=5, n_estimators=500;, score=0.604 total time= 1.1min\n",
      "[CV 5/5; 14/27] START learning_rate=0.1, max_depth=5, n_estimators=500..........\n",
      "[CV 5/5; 14/27] END learning_rate=0.1, max_depth=5, n_estimators=500;, score=0.607 total time= 1.4min\n",
      "[CV 1/5; 15/27] START learning_rate=0.1, max_depth=5, n_estimators=1000.........\n",
      "[CV 1/5; 15/27] END learning_rate=0.1, max_depth=5, n_estimators=1000;, score=0.618 total time= 2.4min\n",
      "[CV 2/5; 15/27] START learning_rate=0.1, max_depth=5, n_estimators=1000.........\n",
      "[CV 2/5; 15/27] END learning_rate=0.1, max_depth=5, n_estimators=1000;, score=0.607 total time= 2.1min\n",
      "[CV 3/5; 15/27] START learning_rate=0.1, max_depth=5, n_estimators=1000.........\n",
      "[CV 3/5; 15/27] END learning_rate=0.1, max_depth=5, n_estimators=1000;, score=0.623 total time= 2.7min\n",
      "[CV 4/5; 15/27] START learning_rate=0.1, max_depth=5, n_estimators=1000.........\n",
      "[CV 4/5; 15/27] END learning_rate=0.1, max_depth=5, n_estimators=1000;, score=0.621 total time= 2.1min\n",
      "[CV 5/5; 15/27] START learning_rate=0.1, max_depth=5, n_estimators=1000.........\n",
      "[CV 5/5; 15/27] END learning_rate=0.1, max_depth=5, n_estimators=1000;, score=0.621 total time= 1.8min\n",
      "[CV 1/5; 16/27] START learning_rate=0.1, max_depth=7, n_estimators=100..........\n",
      "[CV 1/5; 16/27] END learning_rate=0.1, max_depth=7, n_estimators=100;, score=0.589 total time=  33.2s\n",
      "[CV 2/5; 16/27] START learning_rate=0.1, max_depth=7, n_estimators=100..........\n",
      "[CV 2/5; 16/27] END learning_rate=0.1, max_depth=7, n_estimators=100;, score=0.576 total time=  17.9s\n",
      "[CV 3/5; 16/27] START learning_rate=0.1, max_depth=7, n_estimators=100..........\n",
      "[CV 3/5; 16/27] END learning_rate=0.1, max_depth=7, n_estimators=100;, score=0.593 total time=  18.1s\n",
      "[CV 4/5; 16/27] START learning_rate=0.1, max_depth=7, n_estimators=100..........\n",
      "[CV 4/5; 16/27] END learning_rate=0.1, max_depth=7, n_estimators=100;, score=0.593 total time=  18.2s\n",
      "[CV 5/5; 16/27] START learning_rate=0.1, max_depth=7, n_estimators=100..........\n",
      "[CV 5/5; 16/27] END learning_rate=0.1, max_depth=7, n_estimators=100;, score=0.582 total time=  17.9s\n",
      "[CV 1/5; 17/27] START learning_rate=0.1, max_depth=7, n_estimators=500..........\n",
      "[CV 1/5; 17/27] END learning_rate=0.1, max_depth=7, n_estimators=500;, score=0.626 total time= 1.8min\n",
      "[CV 2/5; 17/27] START learning_rate=0.1, max_depth=7, n_estimators=500..........\n",
      "[CV 2/5; 17/27] END learning_rate=0.1, max_depth=7, n_estimators=500;, score=0.618 total time= 1.4min\n",
      "[CV 3/5; 17/27] START learning_rate=0.1, max_depth=7, n_estimators=500..........\n",
      "[CV 3/5; 17/27] END learning_rate=0.1, max_depth=7, n_estimators=500;, score=0.629 total time= 1.8min\n",
      "[CV 4/5; 17/27] START learning_rate=0.1, max_depth=7, n_estimators=500..........\n",
      "[CV 4/5; 17/27] END learning_rate=0.1, max_depth=7, n_estimators=500;, score=0.628 total time= 1.4min\n",
      "[CV 5/5; 17/27] START learning_rate=0.1, max_depth=7, n_estimators=500..........\n",
      "[CV 5/5; 17/27] END learning_rate=0.1, max_depth=7, n_estimators=500;, score=0.629 total time= 1.6min\n",
      "[CV 1/5; 18/27] START learning_rate=0.1, max_depth=7, n_estimators=1000.........\n",
      "[CV 1/5; 18/27] END learning_rate=0.1, max_depth=7, n_estimators=1000;, score=0.635 total time= 3.3min\n",
      "[CV 2/5; 18/27] START learning_rate=0.1, max_depth=7, n_estimators=1000.........\n",
      "[CV 2/5; 18/27] END learning_rate=0.1, max_depth=7, n_estimators=1000;, score=0.624 total time= 3.5min\n",
      "[CV 3/5; 18/27] START learning_rate=0.1, max_depth=7, n_estimators=1000.........\n",
      "[CV 3/5; 18/27] END learning_rate=0.1, max_depth=7, n_estimators=1000;, score=0.640 total time= 3.5min\n",
      "[CV 4/5; 18/27] START learning_rate=0.1, max_depth=7, n_estimators=1000.........\n",
      "[CV 4/5; 18/27] END learning_rate=0.1, max_depth=7, n_estimators=1000;, score=0.637 total time= 3.8min\n",
      "[CV 5/5; 18/27] START learning_rate=0.1, max_depth=7, n_estimators=1000.........\n",
      "[CV 5/5; 18/27] END learning_rate=0.1, max_depth=7, n_estimators=1000;, score=0.633 total time= 3.8min\n",
      "[CV 1/5; 19/27] START learning_rate=0.2, max_depth=3, n_estimators=100..........\n",
      "[CV 1/5; 19/27] END learning_rate=0.2, max_depth=3, n_estimators=100;, score=0.537 total time=   7.5s\n",
      "[CV 2/5; 19/27] START learning_rate=0.2, max_depth=3, n_estimators=100..........\n",
      "[CV 2/5; 19/27] END learning_rate=0.2, max_depth=3, n_estimators=100;, score=0.527 total time=   6.9s\n",
      "[CV 3/5; 19/27] START learning_rate=0.2, max_depth=3, n_estimators=100..........\n",
      "[CV 3/5; 19/27] END learning_rate=0.2, max_depth=3, n_estimators=100;, score=0.538 total time=   6.8s\n",
      "[CV 4/5; 19/27] START learning_rate=0.2, max_depth=3, n_estimators=100..........\n",
      "[CV 4/5; 19/27] END learning_rate=0.2, max_depth=3, n_estimators=100;, score=0.537 total time=   8.8s\n",
      "[CV 5/5; 19/27] START learning_rate=0.2, max_depth=3, n_estimators=100..........\n",
      "[CV 5/5; 19/27] END learning_rate=0.2, max_depth=3, n_estimators=100;, score=0.535 total time=   7.7s\n",
      "[CV 1/5; 20/27] START learning_rate=0.2, max_depth=3, n_estimators=500..........\n",
      "[CV 1/5; 20/27] END learning_rate=0.2, max_depth=3, n_estimators=500;, score=0.590 total time=  37.5s\n",
      "[CV 2/5; 20/27] START learning_rate=0.2, max_depth=3, n_estimators=500..........\n",
      "[CV 2/5; 20/27] END learning_rate=0.2, max_depth=3, n_estimators=500;, score=0.578 total time=  39.5s\n",
      "[CV 3/5; 20/27] START learning_rate=0.2, max_depth=3, n_estimators=500..........\n",
      "[CV 3/5; 20/27] END learning_rate=0.2, max_depth=3, n_estimators=500;, score=0.593 total time= 1.0min\n",
      "[CV 4/5; 20/27] START learning_rate=0.2, max_depth=3, n_estimators=500..........\n",
      "[CV 4/5; 20/27] END learning_rate=0.2, max_depth=3, n_estimators=500;, score=0.595 total time=  40.5s\n",
      "[CV 5/5; 20/27] START learning_rate=0.2, max_depth=3, n_estimators=500..........\n",
      "[CV 5/5; 20/27] END learning_rate=0.2, max_depth=3, n_estimators=500;, score=0.582 total time=  34.6s\n",
      "[CV 1/5; 21/27] START learning_rate=0.2, max_depth=3, n_estimators=1000.........\n",
      "[CV 1/5; 21/27] END learning_rate=0.2, max_depth=3, n_estimators=1000;, score=0.606 total time= 2.3min\n",
      "[CV 2/5; 21/27] START learning_rate=0.2, max_depth=3, n_estimators=1000.........\n",
      "[CV 2/5; 21/27] END learning_rate=0.2, max_depth=3, n_estimators=1000;, score=0.597 total time= 4.0min\n",
      "[CV 3/5; 21/27] START learning_rate=0.2, max_depth=3, n_estimators=1000.........\n",
      "[CV 3/5; 21/27] END learning_rate=0.2, max_depth=3, n_estimators=1000;, score=0.610 total time= 1.9min\n",
      "[CV 4/5; 21/27] START learning_rate=0.2, max_depth=3, n_estimators=1000.........\n",
      "[CV 4/5; 21/27] END learning_rate=0.2, max_depth=3, n_estimators=1000;, score=0.601 total time= 1.2min\n",
      "[CV 5/5; 21/27] START learning_rate=0.2, max_depth=3, n_estimators=1000.........\n",
      "[CV 5/5; 21/27] END learning_rate=0.2, max_depth=3, n_estimators=1000;, score=0.599 total time= 1.7min\n",
      "[CV 1/5; 22/27] START learning_rate=0.2, max_depth=5, n_estimators=100..........\n",
      "[CV 1/5; 22/27] END learning_rate=0.2, max_depth=5, n_estimators=100;, score=0.583 total time=  15.3s\n",
      "[CV 2/5; 22/27] START learning_rate=0.2, max_depth=5, n_estimators=100..........\n",
      "[CV 2/5; 22/27] END learning_rate=0.2, max_depth=5, n_estimators=100;, score=0.573 total time=  14.2s\n",
      "[CV 3/5; 22/27] START learning_rate=0.2, max_depth=5, n_estimators=100..........\n",
      "[CV 3/5; 22/27] END learning_rate=0.2, max_depth=5, n_estimators=100;, score=0.586 total time=  14.2s\n",
      "[CV 4/5; 22/27] START learning_rate=0.2, max_depth=5, n_estimators=100..........\n",
      "[CV 4/5; 22/27] END learning_rate=0.2, max_depth=5, n_estimators=100;, score=0.584 total time=  14.3s\n",
      "[CV 5/5; 22/27] START learning_rate=0.2, max_depth=5, n_estimators=100..........\n",
      "[CV 5/5; 22/27] END learning_rate=0.2, max_depth=5, n_estimators=100;, score=0.575 total time=  14.7s\n",
      "[CV 1/5; 23/27] START learning_rate=0.2, max_depth=5, n_estimators=500..........\n",
      "[CV 1/5; 23/27] END learning_rate=0.2, max_depth=5, n_estimators=500;, score=0.619 total time= 1.5min\n",
      "[CV 2/5; 23/27] START learning_rate=0.2, max_depth=5, n_estimators=500..........\n",
      "[CV 2/5; 23/27] END learning_rate=0.2, max_depth=5, n_estimators=500;, score=0.607 total time=  50.8s\n",
      "[CV 3/5; 23/27] START learning_rate=0.2, max_depth=5, n_estimators=500..........\n",
      "[CV 3/5; 23/27] END learning_rate=0.2, max_depth=5, n_estimators=500;, score=0.621 total time=  58.7s\n",
      "[CV 4/5; 23/27] START learning_rate=0.2, max_depth=5, n_estimators=500..........\n",
      "[CV 4/5; 23/27] END learning_rate=0.2, max_depth=5, n_estimators=500;, score=0.619 total time= 1.2min\n",
      "[CV 5/5; 23/27] START learning_rate=0.2, max_depth=5, n_estimators=500..........\n",
      "[CV 5/5; 23/27] END learning_rate=0.2, max_depth=5, n_estimators=500;, score=0.618 total time=  56.2s\n",
      "[CV 1/5; 24/27] START learning_rate=0.2, max_depth=5, n_estimators=1000.........\n",
      "[CV 1/5; 24/27] END learning_rate=0.2, max_depth=5, n_estimators=1000;, score=0.623 total time= 2.9min\n",
      "[CV 2/5; 24/27] START learning_rate=0.2, max_depth=5, n_estimators=1000.........\n",
      "[CV 2/5; 24/27] END learning_rate=0.2, max_depth=5, n_estimators=1000;, score=0.615 total time= 2.6min\n",
      "[CV 3/5; 24/27] START learning_rate=0.2, max_depth=5, n_estimators=1000.........\n",
      "[CV 3/5; 24/27] END learning_rate=0.2, max_depth=5, n_estimators=1000;, score=0.627 total time= 2.4min\n",
      "[CV 4/5; 24/27] START learning_rate=0.2, max_depth=5, n_estimators=1000.........\n",
      "[CV 4/5; 24/27] END learning_rate=0.2, max_depth=5, n_estimators=1000;, score=0.625 total time= 2.2min\n",
      "[CV 5/5; 24/27] START learning_rate=0.2, max_depth=5, n_estimators=1000.........\n",
      "[CV 5/5; 24/27] END learning_rate=0.2, max_depth=5, n_estimators=1000;, score=0.623 total time= 2.5min\n",
      "[CV 1/5; 25/27] START learning_rate=0.2, max_depth=7, n_estimators=100..........\n",
      "[CV 1/5; 25/27] END learning_rate=0.2, max_depth=7, n_estimators=100;, score=0.608 total time=  18.1s\n",
      "[CV 2/5; 25/27] START learning_rate=0.2, max_depth=7, n_estimators=100..........\n",
      "[CV 2/5; 25/27] END learning_rate=0.2, max_depth=7, n_estimators=100;, score=0.599 total time=  41.2s\n",
      "[CV 3/5; 25/27] START learning_rate=0.2, max_depth=7, n_estimators=100..........\n",
      "[CV 3/5; 25/27] END learning_rate=0.2, max_depth=7, n_estimators=100;, score=0.610 total time=  16.0s\n",
      "[CV 4/5; 25/27] START learning_rate=0.2, max_depth=7, n_estimators=100..........\n",
      "[CV 4/5; 25/27] END learning_rate=0.2, max_depth=7, n_estimators=100;, score=0.607 total time=  16.9s\n",
      "[CV 5/5; 25/27] START learning_rate=0.2, max_depth=7, n_estimators=100..........\n",
      "[CV 5/5; 25/27] END learning_rate=0.2, max_depth=7, n_estimators=100;, score=0.603 total time=  17.7s\n",
      "[CV 1/5; 26/27] START learning_rate=0.2, max_depth=7, n_estimators=500..........\n",
      "[CV 1/5; 26/27] END learning_rate=0.2, max_depth=7, n_estimators=500;, score=0.630 total time= 1.4min\n",
      "[CV 2/5; 26/27] START learning_rate=0.2, max_depth=7, n_estimators=500..........\n",
      "[CV 2/5; 26/27] END learning_rate=0.2, max_depth=7, n_estimators=500;, score=0.620 total time= 1.5min\n",
      "[CV 3/5; 26/27] START learning_rate=0.2, max_depth=7, n_estimators=500..........\n",
      "[CV 3/5; 26/27] END learning_rate=0.2, max_depth=7, n_estimators=500;, score=0.639 total time= 1.1min\n",
      "[CV 4/5; 26/27] START learning_rate=0.2, max_depth=7, n_estimators=500..........\n",
      "[CV 4/5; 26/27] END learning_rate=0.2, max_depth=7, n_estimators=500;, score=0.631 total time= 1.6min\n",
      "[CV 5/5; 26/27] START learning_rate=0.2, max_depth=7, n_estimators=500..........\n",
      "[CV 5/5; 26/27] END learning_rate=0.2, max_depth=7, n_estimators=500;, score=0.633 total time= 1.5min\n",
      "[CV 1/5; 27/27] START learning_rate=0.2, max_depth=7, n_estimators=1000.........\n",
      "[CV 1/5; 27/27] END learning_rate=0.2, max_depth=7, n_estimators=1000;, score=0.636 total time= 3.0min\n",
      "[CV 2/5; 27/27] START learning_rate=0.2, max_depth=7, n_estimators=1000.........\n",
      "[CV 2/5; 27/27] END learning_rate=0.2, max_depth=7, n_estimators=1000;, score=0.630 total time= 5.1min\n",
      "[CV 3/5; 27/27] START learning_rate=0.2, max_depth=7, n_estimators=1000.........\n",
      "[CV 3/5; 27/27] END learning_rate=0.2, max_depth=7, n_estimators=1000;, score=0.646 total time= 3.4min\n",
      "[CV 4/5; 27/27] START learning_rate=0.2, max_depth=7, n_estimators=1000.........\n",
      "[CV 4/5; 27/27] END learning_rate=0.2, max_depth=7, n_estimators=1000;, score=0.641 total time= 3.5min\n",
      "[CV 5/5; 27/27] START learning_rate=0.2, max_depth=7, n_estimators=1000.........\n",
      "[CV 5/5; 27/27] END learning_rate=0.2, max_depth=7, n_estimators=1000;, score=0.641 total time= 4.1min\n"
     ]
    }
   ],
   "source": [
    "model = xgb.XGBClassifier(objective='multi:softprob', num_class=len(y.unique()))\n",
    "\n",
    "grid_search = GridSearchCV(estimator=model, param_grid=param_grid, verbose=10)\n",
    "grid_search.fit(X_train, y_train)\n",
    "\n",
    "best_model = grid_search.best_estimator_"
   ]
  },
  {
   "cell_type": "code",
   "execution_count": 10,
   "metadata": {},
   "outputs": [
    {
     "data": {
      "text/html": [
       "<style>#sk-container-id-2 {color: black;background-color: white;}#sk-container-id-2 pre{padding: 0;}#sk-container-id-2 div.sk-toggleable {background-color: white;}#sk-container-id-2 label.sk-toggleable__label {cursor: pointer;display: block;width: 100%;margin-bottom: 0;padding: 0.3em;box-sizing: border-box;text-align: center;}#sk-container-id-2 label.sk-toggleable__label-arrow:before {content: \"▸\";float: left;margin-right: 0.25em;color: #696969;}#sk-container-id-2 label.sk-toggleable__label-arrow:hover:before {color: black;}#sk-container-id-2 div.sk-estimator:hover label.sk-toggleable__label-arrow:before {color: black;}#sk-container-id-2 div.sk-toggleable__content {max-height: 0;max-width: 0;overflow: hidden;text-align: left;background-color: #f0f8ff;}#sk-container-id-2 div.sk-toggleable__content pre {margin: 0.2em;color: black;border-radius: 0.25em;background-color: #f0f8ff;}#sk-container-id-2 input.sk-toggleable__control:checked~div.sk-toggleable__content {max-height: 200px;max-width: 100%;overflow: auto;}#sk-container-id-2 input.sk-toggleable__control:checked~label.sk-toggleable__label-arrow:before {content: \"▾\";}#sk-container-id-2 div.sk-estimator input.sk-toggleable__control:checked~label.sk-toggleable__label {background-color: #d4ebff;}#sk-container-id-2 div.sk-label input.sk-toggleable__control:checked~label.sk-toggleable__label {background-color: #d4ebff;}#sk-container-id-2 input.sk-hidden--visually {border: 0;clip: rect(1px 1px 1px 1px);clip: rect(1px, 1px, 1px, 1px);height: 1px;margin: -1px;overflow: hidden;padding: 0;position: absolute;width: 1px;}#sk-container-id-2 div.sk-estimator {font-family: monospace;background-color: #f0f8ff;border: 1px dotted black;border-radius: 0.25em;box-sizing: border-box;margin-bottom: 0.5em;}#sk-container-id-2 div.sk-estimator:hover {background-color: #d4ebff;}#sk-container-id-2 div.sk-parallel-item::after {content: \"\";width: 100%;border-bottom: 1px solid gray;flex-grow: 1;}#sk-container-id-2 div.sk-label:hover label.sk-toggleable__label {background-color: #d4ebff;}#sk-container-id-2 div.sk-serial::before {content: \"\";position: absolute;border-left: 1px solid gray;box-sizing: border-box;top: 0;bottom: 0;left: 50%;z-index: 0;}#sk-container-id-2 div.sk-serial {display: flex;flex-direction: column;align-items: center;background-color: white;padding-right: 0.2em;padding-left: 0.2em;position: relative;}#sk-container-id-2 div.sk-item {position: relative;z-index: 1;}#sk-container-id-2 div.sk-parallel {display: flex;align-items: stretch;justify-content: center;background-color: white;position: relative;}#sk-container-id-2 div.sk-item::before, #sk-container-id-2 div.sk-parallel-item::before {content: \"\";position: absolute;border-left: 1px solid gray;box-sizing: border-box;top: 0;bottom: 0;left: 50%;z-index: -1;}#sk-container-id-2 div.sk-parallel-item {display: flex;flex-direction: column;z-index: 1;position: relative;background-color: white;}#sk-container-id-2 div.sk-parallel-item:first-child::after {align-self: flex-end;width: 50%;}#sk-container-id-2 div.sk-parallel-item:last-child::after {align-self: flex-start;width: 50%;}#sk-container-id-2 div.sk-parallel-item:only-child::after {width: 0;}#sk-container-id-2 div.sk-dashed-wrapped {border: 1px dashed gray;margin: 0 0.4em 0.5em 0.4em;box-sizing: border-box;padding-bottom: 0.4em;background-color: white;}#sk-container-id-2 div.sk-label label {font-family: monospace;font-weight: bold;display: inline-block;line-height: 1.2em;}#sk-container-id-2 div.sk-label-container {text-align: center;}#sk-container-id-2 div.sk-container {/* jupyter's `normalize.less` sets `[hidden] { display: none; }` but bootstrap.min.css set `[hidden] { display: none !important; }` so we also need the `!important` here to be able to override the default hidden behavior on the sphinx rendered scikit-learn.org. See: https://github.com/scikit-learn/scikit-learn/issues/21755 */display: inline-block !important;position: relative;}#sk-container-id-2 div.sk-text-repr-fallback {display: none;}</style><div id=\"sk-container-id-2\" class=\"sk-top-container\"><div class=\"sk-text-repr-fallback\"><pre>XGBClassifier(base_score=None, booster=None, callbacks=None,\n",
       "              colsample_bylevel=None, colsample_bynode=None,\n",
       "              colsample_bytree=None, early_stopping_rounds=None,\n",
       "              enable_categorical=False, eval_metric=None, feature_types=None,\n",
       "              gamma=None, gpu_id=None, grow_policy=None, importance_type=None,\n",
       "              interaction_constraints=None, learning_rate=None, max_bin=None,\n",
       "              max_cat_threshold=None, max_cat_to_onehot=None,\n",
       "              max_delta_step=None, max_depth=None, max_leaves=None,\n",
       "              min_child_weight=None, missing=nan, monotone_constraints=None,\n",
       "              n_estimators=100, n_jobs=None, num_class=7,\n",
       "              num_parallel_tree=None, objective=&#x27;multi:softprob&#x27;, ...)</pre><b>In a Jupyter environment, please rerun this cell to show the HTML representation or trust the notebook. <br />On GitHub, the HTML representation is unable to render, please try loading this page with nbviewer.org.</b></div><div class=\"sk-container\" hidden><div class=\"sk-item\"><div class=\"sk-estimator sk-toggleable\"><input class=\"sk-toggleable__control sk-hidden--visually\" id=\"sk-estimator-id-2\" type=\"checkbox\" checked><label for=\"sk-estimator-id-2\" class=\"sk-toggleable__label sk-toggleable__label-arrow\">XGBClassifier</label><div class=\"sk-toggleable__content\"><pre>XGBClassifier(base_score=None, booster=None, callbacks=None,\n",
       "              colsample_bylevel=None, colsample_bynode=None,\n",
       "              colsample_bytree=None, early_stopping_rounds=None,\n",
       "              enable_categorical=False, eval_metric=None, feature_types=None,\n",
       "              gamma=None, gpu_id=None, grow_policy=None, importance_type=None,\n",
       "              interaction_constraints=None, learning_rate=None, max_bin=None,\n",
       "              max_cat_threshold=None, max_cat_to_onehot=None,\n",
       "              max_delta_step=None, max_depth=None, max_leaves=None,\n",
       "              min_child_weight=None, missing=nan, monotone_constraints=None,\n",
       "              n_estimators=100, n_jobs=None, num_class=7,\n",
       "              num_parallel_tree=None, objective=&#x27;multi:softprob&#x27;, ...)</pre></div></div></div></div></div>"
      ],
      "text/plain": [
       "XGBClassifier(base_score=None, booster=None, callbacks=None,\n",
       "              colsample_bylevel=None, colsample_bynode=None,\n",
       "              colsample_bytree=None, early_stopping_rounds=None,\n",
       "              enable_categorical=False, eval_metric=None, feature_types=None,\n",
       "              gamma=None, gpu_id=None, grow_policy=None, importance_type=None,\n",
       "              interaction_constraints=None, learning_rate=None, max_bin=None,\n",
       "              max_cat_threshold=None, max_cat_to_onehot=None,\n",
       "              max_delta_step=None, max_depth=None, max_leaves=None,\n",
       "              min_child_weight=None, missing=nan, monotone_constraints=None,\n",
       "              n_estimators=100, n_jobs=None, num_class=7,\n",
       "              num_parallel_tree=None, objective='multi:softprob', ...)"
      ]
     },
     "execution_count": 10,
     "metadata": {},
     "output_type": "execute_result"
    }
   ],
   "source": [
    "model.fit(X_train, y_train, verbose=True)"
   ]
  },
  {
   "cell_type": "code",
   "execution_count": 8,
   "metadata": {},
   "outputs": [
    {
     "data": {
      "text/plain": [
       "['model.pkl']"
      ]
     },
     "execution_count": 8,
     "metadata": {},
     "output_type": "execute_result"
    }
   ],
   "source": [
    "joblib.dump(best_model, \"model.pkl\")"
   ]
  },
  {
   "cell_type": "code",
   "execution_count": 13,
   "metadata": {},
   "outputs": [
    {
     "data": {
      "text/plain": [
       "['scaler.pkl']"
      ]
     },
     "execution_count": 13,
     "metadata": {},
     "output_type": "execute_result"
    }
   ],
   "source": [
    "joblib.dump(scaler, \"scaler.pkl\")"
   ]
  },
  {
   "cell_type": "code",
   "execution_count": 14,
   "metadata": {},
   "outputs": [
    {
     "data": {
      "text/plain": [
       "['label_encoder.pkl']"
      ]
     },
     "execution_count": 14,
     "metadata": {},
     "output_type": "execute_result"
    }
   ],
   "source": [
    "joblib.dump(label_encoder, \"label_encoder.pkl\")"
   ]
  },
  {
   "cell_type": "markdown",
   "metadata": {},
   "source": [
    "### Model evaluation"
   ]
  },
  {
   "cell_type": "code",
   "execution_count": 15,
   "metadata": {},
   "outputs": [],
   "source": [
    "best_model = joblib.load(\"model.pkl\")\n",
    "scaler = joblib.load(\"scaler.pkl\")\n",
    "label_encoder = joblib.load(\"label_encoder.pkl\")"
   ]
  },
  {
   "cell_type": "code",
   "execution_count": 16,
   "metadata": {},
   "outputs": [],
   "source": [
    "y_pred = best_model.predict(X_test)"
   ]
  },
  {
   "cell_type": "code",
   "execution_count": 17,
   "metadata": {},
   "outputs": [
    {
     "name": "stdout",
     "output_type": "stream",
     "text": [
      "Accuracy: 65.08%\n",
      "              precision    recall  f1-score   support\n",
      "\n",
      "           0       0.75      0.77      0.76      1587\n",
      "           1       0.59      0.54      0.57      1549\n",
      "           2       0.65      0.57      0.61      1544\n",
      "           3       0.57      0.57      0.57      1507\n",
      "           4       0.62      0.70      0.66      1487\n",
      "           5       0.65      0.69      0.67      1563\n",
      "           6       0.90      0.87      0.88       445\n",
      "\n",
      "    accuracy                           0.65      9682\n",
      "   macro avg       0.67      0.67      0.67      9682\n",
      "weighted avg       0.65      0.65      0.65      9682\n",
      "\n"
     ]
    }
   ],
   "source": [
    "accuracy = accuracy_score(y_test, y_pred)\n",
    "print(f'Accuracy: {accuracy * 100:.2f}%')\n",
    "print(classification_report(y_test, y_pred))"
   ]
  },
  {
   "cell_type": "code",
   "execution_count": 18,
   "metadata": {},
   "outputs": [
    {
     "data": {
      "image/png": "[encoded data removed]",
      "text/plain": [
       "<Figure size 1000x1000 with 2 Axes>"
      ]
     },
     "metadata": {},
     "output_type": "display_data"
    }
   ],
   "source": [
    "cm = confusion_matrix(y_test, y_pred)\n",
    "plt.figure(figsize=(10, 10))\n",
    "sns.heatmap(cm, annot=True, fmt='d', xticklabels=label_encoder.classes_, yticklabels=label_encoder.classes_, cmap = \"Blues\")\n",
    "plt.ylabel('Actual')\n",
    "plt.xlabel('Predicted')\n",
    "plt.show()"
   ]
  },
  {
   "cell_type": "markdown",
   "metadata": {},
   "source": [
    "### Inference"
   ]
  },
  {
   "cell_type": "code",
   "execution_count": 19,
   "metadata": {},
   "outputs": [],
   "source": [
    "import pandas as pd\n",
    "import librosa\n",
    "import numpy as np\n",
    "import xgboost as xgb\n",
    "from sklearn.preprocessing import StandardScaler, LabelEncoder\n",
    "import joblib"
   ]
  },
  {
   "cell_type": "code",
   "execution_count": 20,
   "metadata": {},
   "outputs": [],
   "source": [
    "best_model = joblib.load(\"model.pkl\")\n",
    "scaler = joblib.load(\"scaler.pkl\")\n",
    "label_encoder = joblib.load(\"label_encoder.pkl\")"
   ]
  },
  {
   "cell_type": "code",
   "execution_count": 21,
   "metadata": {},
   "outputs": [],
   "source": [
    "path = \"/home/kayc/Code/Fuse/ASR-with-Speech-Sentiment-and-Text-Summarizer/notebook/output/clips/OAF_hit_angry_pitch.flac\"  # Replace with your audio file\n",
    "\n",
    "# Feature extraction\n",
    "def extract_features(file_path):\n",
    "    y, sr = librosa.load(file_path, sr=None)\n",
    "    mfccs_mean = np.mean(librosa.feature.mfcc(y=y, sr=sr, n_mfcc=13), axis=1)\n",
    "    chroma_mean = np.mean(librosa.feature.chroma_stft(y=y, sr=sr), axis=1)\n",
    "    contrast_mean = np.mean(librosa.feature.spectral_contrast(y=y, sr=sr), axis=1)\n",
    "\n",
    "    features = {}\n",
    "    for i in range(13):\n",
    "        features[f'mfccs_mean_{i}'] = mfccs_mean[i]\n",
    "    for i in range(12):\n",
    "        features[f'chroma_mean_{i}'] = chroma_mean[i]\n",
    "    for i in range(7):\n",
    "        features[f'contrast_mean_{i}'] = contrast_mean[i]\n",
    "    return features"
   ]
  },
  {
   "cell_type": "code",
   "execution_count": 22,
   "metadata": {},
   "outputs": [],
   "source": [
    "new_features = extract_features(path)\n",
    "\n",
    "# Scale the features\n",
    "new_features_df = pd.DataFrame([new_features])\n",
    "new_features_scaled = scaler.transform(new_features_df)"
   ]
  },
  {
   "cell_type": "code",
   "execution_count": 23,
   "metadata": {},
   "outputs": [
    {
     "name": "stdout",
     "output_type": "stream",
     "text": [
      "Predicted Emotion: angry\n"
     ]
    }
   ],
   "source": [
    "y_pred = best_model.predict(new_features_scaled)\n",
    "predicted_emotion = label_encoder.inverse_transform(y_pred)\n",
    "print(f'Predicted Emotion: {predicted_emotion[0]}')"
   ]
  }
 ],
 "metadata": {
  "kernelspec": {
   "display_name": "Python 3 (ipykernel)",
   "language": "python",
   "name": "python3"
  },
  "language_info": {
   "codemirror_mode": {
    "name": "ipython",
    "version": 3
   },
   "file_extension": ".py",
   "mimetype": "text/x-python",
   "name": "python",
   "nbconvert_exporter": "python",
   "pygments_lexer": "ipython3",
   "version": "3.10.12"
  }
 },
 "nbformat": 4,
 "nbformat_minor": 2
}
