{
  "cells": [
    {
      "cell_type": "markdown",
      "metadata": {
        "id": "mnvgtYuzR_Af"
      },
      "source": [
        "# Speech Sentiment EDA and Data Preparation\n",
        "\n",
        "## 01. Download Datasets\n"
      ]
    },
    {
      "cell_type": "code",
      "execution_count": null,
      "metadata": {
        "colab": {
          "base_uri": "https://localhost:8080/"
        },
        "id": "0NdgudhL_-7S",
        "outputId": "84bade5e-5770-409c-858f-a9adf1c51757"
      },
      "outputs": [],
      "source": [
        "import os\n",
        "from utils import get_project_root\n",
        "\n",
        "zipped_path = get_project_root() / 'zipped_data'\n",
        "os.makedirs(zipped_path, exist_ok=True)\n"
      ]
    },
    {
      "cell_type": "code",
      "execution_count": null,
      "metadata": {},
      "outputs": [],
      "source": [
        "os.system(f'kaggle datasets download -d uwrfkaggler/ravdess-emotional-speech-audio --path {zipped_path}')\n",
        "os.system(f'kaggle datasets download -d ejlok1/cremad/ --path {zipped_path}')\n",
        "os.system(f'kaggle datasets download -d ejlok1/toronto-emotional-speech-set-tess --path {zipped_path}')\n",
        "os.system(f'kaggle datasets download -d ejlok1/surrey-audiovisual-expressed-emotion-savee --path {zipped_path}')"
      ]
    },
    {
      "cell_type": "code",
      "execution_count": null,
      "metadata": {},
      "outputs": [],
      "source": [
        "import gdown\n",
        "import os\n",
        "from utils import get_project_root\n",
        "\n",
        "# 1. Download the file from Google Drive\n",
        "url = \"https://drive.google.com/uc?id=1scuFwqh8s7KIYAfZW1Eu6088ZAK2SI-v\"\n",
        "output = os.path.join(get_project_root() / \"zipped_data\", \"esd.zip\")\n",
        "os.makedirs(os.path.dirname(output), exist_ok=True)\n",
        "gdown.download(url, output, quiet=True)"
      ]
    },
    {
      "cell_type": "markdown",
      "metadata": {
        "id": "41D9wnVBT3lZ"
      },
      "source": [
        "## 02. Extracting & Importing Datasets"
      ]
    },
    {
      "cell_type": "code",
      "execution_count": null,
      "metadata": {},
      "outputs": [],
      "source": [
        "from utils import get_data_dir\n",
        "\n",
        "zip_files = [\n",
        "    'ravdess-emotional-speech-audio.zip',\n",
        "    'cremad.zip',\n",
        "    'toronto-emotional-speech-set-tess.zip',\n",
        "    'surrey-audiovisual-expressed-emotion-savee.zip'\n",
        "    'esd.zip'\n",
        "]\n",
        "\n",
        "extracted_path = get_data_dir() / 'raw' / 'speech_sentiment'"
      ]
    },
    {
      "cell_type": "code",
      "execution_count": null,
      "metadata": {
        "colab": {
          "base_uri": "https://localhost:8080/",
          "height": 182,
          "referenced_widgets": [
            "fb674556dc354f4fb950d88559160f75",
            "cdea3b702d9d40bab762b72d21a57f8d",
            "5390c9cd060c4a0bb83bb10285822fbe",
            "ba1bddd9a17b482ca775c8a6f78b1119",
            "56fc891fdf794dc5a0a79d9e861d21b5",
            "dcc398eddea140778df1fec461aceb8b",
            "af59968b510547248aac7880693516a0",
            "8eb4c7397b9044a18f3609719698e3ae",
            "6fcc4df48c69481490ae97fb42d0fe5b",
            "e72f2d632f8f4cb4a3a4f982f6915a08",
            "828d81f7e90c4f40961cccbc4d30b934",
            "9976b8f4c68242888ff32360aa3bdf2c",
            "13735316227f48eaa6eb92a062889fea",
            "a8b079d431c0452f9f19bca801cfa974",
            "b2acbcebb1d9418286041b57d9bce933",
            "43abb7abf80247deaebfa5b60a5012e0",
            "50ea38eaec6f4fd9bf3269adcfd07fc8",
            "f7ffd0c348d146629668ab97f6669907",
            "754fa8c5417546539fb1c90770642d8c",
            "e65a064d399d446dbbb1ea0514f0bd1d",
            "7e7af5a2bb7d4da7afc958126df895a9",
            "af76c12705b3418b88c590aaa47e3ee5",
            "35eaf2cda90443489b229c0da4600a2e",
            "34e19af0d20e4e208ef47f071a1aca52",
            "ebd40d055253461789b2c235d2a4c101",
            "b841857d9dc34982b4809a513b96f5cd",
            "9a39f641e0be4204a5bea4f04d656852",
            "08cf2c031df14a25a80805daaa01a759",
            "8abe97f7c0fb4d2ab0a0f82e061a9b65",
            "4ced3dc0434f433b8d34c5fca26b1e20",
            "e75ed9d6629243bcaeb36c591a2114cf",
            "9c708f1f43d240df8fdc20822d9dd586",
            "1b19b627f79a4f5683f2c829e3a01b25",
            "2a1a3bd6c2e649668dc5addc88161637",
            "5e2c49ff52864a0c8f188251639c9004",
            "35f23879d86b4b479b13d482e18a455e",
            "737a1880a4364fa4af06acd55fed24c5",
            "0e4e091241d747a8b0f0b4e59899ba1d",
            "495476867f4a4b8cb2bc5dc72393f6b9",
            "d57b0bc7c4db4f15b4a450626248390e",
            "2db43569fb6b475eac5a095835782a11",
            "0a994e606c2445fda6ef7f1facca4183",
            "12b369f8e44e4204922ceb38babc6920",
            "c9ce326e37d041e698a884b47fddff88"
          ]
        },
        "id": "7EvFsMjsACyN",
        "outputId": "0f90f800-b841-41cb-b3c0-254be3c9ffd6"
      },
      "outputs": [],
      "source": [
        "import zipfile\n",
        "\n",
        "os.makedirs(extracted_path, exist_ok=True)\n",
        "\n",
        "for zip_file in zip_files:\n",
        "    zip_path = os.path.join(zipped_path, zip_file)\n",
        "    with zipfile.ZipFile(zip_path, 'r') as zip_ref:\n",
        "        files = zip_ref.namelist()\n",
        "        for file in files:\n",
        "            zip_ref.extract(file, extracted_path)\n",
        "\n",
        "print(f\"Extracted to {extracted_path}\")\n"
      ]
    },
    {
      "cell_type": "code",
      "execution_count": null,
      "metadata": {
        "id": "q4jCG0nbAEA-"
      },
      "outputs": [],
      "source": [
        "import pandas as pd\n",
        "import numpy as np\n",
        "import os\n",
        "\n",
        "ravdess = os.path.join(extracted_path,'audio_speech_actors_01-24/')\n",
        "ravdess_directory_list = os.listdir(ravdess)\n",
        "\n",
        "cremad = os.path.join(extracted_path,'AudioWAV/')\n",
        "cremad_directory_list = os.listdir(cremad)\n",
        "\n",
        "tess = os.path.join(extracted_path,'tess toronto emotional speech set data/TESS Toronto emotional speech set data/')\n",
        "tess_directory_list = os.listdir(tess)\n",
        "\n",
        "savee = os.path.join(extracted_path,'ALL')\n",
        "savee_directory_list = os.listdir(savee)\n",
        "\n",
        "esd = os.path.join(extracted_path,'Emotion Speech Dataset')\n",
        "esd_directory_list = os.listdir(esd)"
      ]
    },
    {
      "cell_type": "markdown",
      "metadata": {
        "id": "eF849diaARCc"
      },
      "source": [
        "### 2.1 RAVDESS\n",
        "\n",
        "This portion of the RAVDESS contains **1440** files: `60 trials per actor x 24 actors = 1440`. The RAVDESS contains 24 professional actors (12 female, 12 male), vocalizing two lexically-matched statements in a neutral North American accent. Speech emotions includes **calm**, **happy** ,**sad**, **angry**, **fearful**, **surprise**, and **disgust** expressions. Each expression is produced at two levels of emotional intensity (normal, strong), with an additional neutral expression.\n",
        "\n",
        "\n",
        "File naming convention\n",
        "\n",
        "Each of the 1440 files has a unique filename. The filename consists of a 7-part numerical identifier (e.g., 03-01-06-01-02-01-12.wav). These identifiers define the stimulus characteristics:\n",
        "\n",
        "| **Identifier**         | **Description**                                                              | **Values**                                                                        |\n",
        "|------------------------|------------------------------------------------------------------------------|-----------------------------------------------------------------------------------|\n",
        "| **Modality**           | The type of stimulus.                                                        | 01 = full-AV, 02 = video-only, 03 = audio-only                                    |\n",
        "| **Vocal channel**      | The type of vocalization.                                                    | 01 = speech, 02 = song                                                            |\n",
        "| **Emotion**            | The emotion expressed.                                                       | 01 = neutral, 02 = calm, 03 = happy, 04 = sad, 05 = angry, 06 = fearful, 07 = disgust, 08 = surprised |\n",
        "| **Emotional intensity**| The intensity of the emotion.                                                | 01 = normal, 02 = strong (not applicable for neutral emotion)                     |\n",
        "| **Statement**          | The statement spoken.                                                        | 01 = \"Kids are talking by the door\", 02 = \"Dogs are sitting by the door\"          |\n",
        "| **Repetition**         | The repetition of the statement.                                             | 01 = 1st repetition, 02 = 2nd repetition                                          |\n",
        "| **Actor**              | The identifier of the actor.                                                 | 01 to 24 (Odd numbered actors are male, even numbered actors are female)          |\n",
        "\n",
        "#### Example Filename Breakdown: `03-01-06-01-02-01-12.wav`\n",
        "\n",
        "| **Identifier**         | **Value**  | **Description**                     |\n",
        "|------------------------|------------|-------------------------------------|\n",
        "| **Modality**           | 03         | Audio-only                          |\n",
        "| **Vocal channel**      | 01         | Speech                              |\n",
        "| **Emotion**            | 06         | Fearful                             |\n",
        "| **Emotional intensity**| 01         | Normal intensity                    |\n",
        "| **Statement**          | 02         | \"Dogs are sitting by the door\"      |\n",
        "| **Repetition**         | 01         | 1st repetition                      |\n",
        "| **Actor**              | 12         | Actor 12 (Female)                   |\n"
      ]
    },
    {
      "cell_type": "code",
      "execution_count": null,
      "metadata": {
        "id": "vTkVJUNeAUbS"
      },
      "outputs": [],
      "source": [
        "file_emotion = []\n",
        "file_path = []\n",
        "\n",
        "for i in ravdess_directory_list:\n",
        "    # There are 24 diffr. actors in previous directory\n",
        "    # Extracting files for each actor\n",
        "    actor = os.listdir(ravdess + i)\n",
        "    for f in actor:\n",
        "        part = f.split('.')[0].split('-')\n",
        "        # Third part in each file represents the emotion associated to that file\n",
        "        file_emotion.append(int(part[2]))\n",
        "        file_path.append(ravdess + i + '/' + f)"
      ]
    },
    {
      "cell_type": "code",
      "execution_count": null,
      "metadata": {
        "colab": {
          "base_uri": "https://localhost:8080/"
        },
        "id": "tvcxvjpMAWI8",
        "outputId": "12fa24eb-0987-4194-ea6b-e90c1ce7cdcb"
      },
      "outputs": [],
      "source": [
        "# Dataframe for emotion of files\n",
        "emotion_df = pd.DataFrame(file_emotion, columns=['Emotions'])\n",
        "\n",
        "# Dataframe for path of files\n",
        "path_df = pd.DataFrame(file_path, columns=['Path'])\n",
        "ravdess_df = pd.concat([emotion_df, path_df], axis=1)\n",
        "\n",
        "# Changing integers to actual emotions\n",
        "# Since Calm and Neutral labels generally denote same thing asssigning label calm as neutral\n",
        "ravdess_df[\"Emotions\"] = ravdess_df[\"Emotions\"].replace({1:'neutral', 2:'neutral', 3:'happy', 4:'sad', 5:'angry', 6:'fear', 7:'disgust',\n",
        "                             8:'surprise'})\n",
        "\n",
        "ravdess_df.Emotions.value_counts()"
      ]
    },
    {
      "cell_type": "code",
      "execution_count": null,
      "metadata": {},
      "outputs": [],
      "source": [
        "ravdess_df.head()"
      ]
    },
    {
      "cell_type": "markdown",
      "metadata": {
        "id": "DvxaQgvkAa22"
      },
      "source": [
        "### 2.2 CREMA-D\n",
        "\n",
        "CREMA-D is a data set of **7,442** original clips from 91 actors. These clips were from 48 male and 43 female actors between the ages of 20 and 74 coming from a variety of races and ethnicities (African America, Asian, Caucasian, Hispanic, and Unspecified). Actors spoke from a selection of 12 sentences. The sentences were presented using one of six different emotions (**Anger**, **Disgust**, **Fear**, **Happy**, **Neutral**, and **Sad**) and four different emotion levels (Low, Medium, High, and Unspecified)."
      ]
    },
    {
      "cell_type": "code",
      "execution_count": null,
      "metadata": {
        "id": "Fe1LwCqAAYPR"
      },
      "outputs": [],
      "source": [
        "file_emotion = []\n",
        "file_path = []\n",
        "\n",
        "for file in cremad_directory_list:\n",
        "    # storing file paths\n",
        "    file_path.append(cremad + file)\n",
        "    # storing file emotions\n",
        "    part=file.split('_')\n",
        "    if part[2] == 'SAD':\n",
        "        file_emotion.append('sad')\n",
        "    elif part[2] == 'ANG':\n",
        "        file_emotion.append('angry')\n",
        "    elif part[2] == 'DIS':\n",
        "        file_emotion.append('disgust')\n",
        "    elif part[2] == 'FEA':\n",
        "        file_emotion.append('fear')\n",
        "    elif part[2] == 'HAP':\n",
        "        file_emotion.append('happy')\n",
        "    elif part[2] == 'NEU':\n",
        "        file_emotion.append('neutral')\n",
        "    else:\n",
        "        file_emotion.append('Unknown')\n",
        "\n",
        "# Create dataframes for emotions and paths\n",
        "emotion_df = pd.DataFrame(file_emotion, columns=['Emotions'])\n",
        "path_df = pd.DataFrame(file_path, columns=['Path'])\n",
        "\n",
        "# Reset index to ensure no duplicate indices\n",
        "emotion_df.reset_index(drop=True, inplace=True)\n",
        "path_df.reset_index(drop=True, inplace=True)"
      ]
    },
    {
      "cell_type": "code",
      "execution_count": null,
      "metadata": {
        "colab": {
          "base_uri": "https://localhost:8080/"
        },
        "id": "Et_2dTwZklCD",
        "outputId": "0bc38b47-2474-4caa-a174-f0fd299b2ed6"
      },
      "outputs": [],
      "source": [
        "# Concatenate dataframes along the columns\n",
        "crema_df = pd.concat([emotion_df, path_df], axis=1)\n",
        "\n",
        "crema_df.Emotions.value_counts()"
      ]
    },
    {
      "cell_type": "code",
      "execution_count": null,
      "metadata": {},
      "outputs": [],
      "source": [
        "crema_df.head()"
      ]
    },
    {
      "cell_type": "markdown",
      "metadata": {
        "id": "DXk70JlSjT52"
      },
      "source": [
        "### 2.3 TESS\n",
        "\n",
        "There are a set of **200** target words were spoken in the carrier phrase \"Say the word _' by two actresses (aged 26 and 64 years) and recordings were made of the set portraying each of seven emotions (**anger**, **disgust**, **fear**, **happiness**, **pleasant surprise**, **sadness**, and **neutral**). There are 2800 data points (audio files) in total.\n",
        "\n",
        "The dataset is organised such that each of the two female actor and their emotions are contain within its own folder. And within that, all 200 target words audio file can be found. The format of the audio file is a WAV format."
      ]
    },
    {
      "cell_type": "code",
      "execution_count": null,
      "metadata": {
        "colab": {
          "base_uri": "https://localhost:8080/"
        },
        "id": "YnARv6JrjUhZ",
        "outputId": "1e8319db-4772-4581-fe0f-759e6eda14d2"
      },
      "outputs": [],
      "source": [
        "path_list = []\n",
        "emotion_list = []\n",
        "\n",
        "emotion_dic = {\n",
        "    'happy'   : 'happy',\n",
        "    'neutral' : 'neutral',\n",
        "    'sad'     : 'sad',\n",
        "    'Sad'     : 'sad',\n",
        "    'angry'   : 'angry',\n",
        "    'fear'    : 'fear',\n",
        "    'disgust'  : 'disgust',\n",
        "    'ps': 'surprise',\n",
        "}\n",
        "\n",
        "for directory in tess_directory_list:\n",
        "    # print(directory)\n",
        "    audio_files = os.listdir(os.path.join(tess, directory))\n",
        "\n",
        "    for audio_file in audio_files:\n",
        "        part = audio_file.split('.')[0]\n",
        "        # print(part)\n",
        "        key = part.split('_')[2]\n",
        "        if key in emotion_dic:\n",
        "            path_list.append(f\"{tess}{directory}/{audio_file}\")\n",
        "            emotion_list.append(emotion_dic[key])"
      ]
    },
    {
      "cell_type": "code",
      "execution_count": null,
      "metadata": {
        "colab": {
          "base_uri": "https://localhost:8080/"
        },
        "id": "n77Mz1RZjeBI",
        "outputId": "646369eb-c72d-4932-e7a5-8fdc5965686c"
      },
      "outputs": [],
      "source": [
        "tess_df = pd.concat([\n",
        "    pd.DataFrame(emotion_list, columns=['Emotions']),\n",
        "    pd.DataFrame(path_list, columns=['Path'])\n",
        "], axis=1)\n",
        "\n",
        "tess_df.Emotions.value_counts()"
      ]
    },
    {
      "cell_type": "code",
      "execution_count": null,
      "metadata": {},
      "outputs": [],
      "source": [
        "tess_df.head()"
      ]
    },
    {
      "cell_type": "markdown",
      "metadata": {
        "id": "h12NKmqfjubB"
      },
      "source": [
        "### 2.4 SAVEE\n",
        "\n",
        "The SAVEE database was recorded from four native English male speakers (identified as DC, JE, JK, KL), postgraduate students and researchers at the University of Surrey aged from 27 to 31 years. Emotion has been described psychologically in discrete categories: **anger**, **disgust**, **fear**, **happiness**, **sadness** and **surprise**. A neutral category is also added to provide recordings of 7 emotion categories.\n",
        "\n",
        "The text material consisted of 15 TIMIT sentences per emotion: 3 common, 2 emotion-specific and 10 generic sentences that were different for each emotion and phonetically-balanced. The 3 common and 2 × 6 = 12 emotion-specific sentences were recorded as neutral to give 30 neutral sentences. This resulted in a total of 120 utterances per speaker"
      ]
    },
    {
      "cell_type": "code",
      "execution_count": null,
      "metadata": {
        "id": "2GWysrw4juvF"
      },
      "outputs": [],
      "source": [
        "path_list = []\n",
        "gender_list = []\n",
        "emotion_list = []\n",
        "\n",
        "emotion_dic = {\n",
        "    'h'  : 'happy',\n",
        "    'n'  : 'neutral',\n",
        "    'sa' : 'sad',\n",
        "    'a'  : 'angry',\n",
        "    'f'  : 'fear',\n",
        "    'd'  : 'disgust'\n",
        "}\n",
        "\n",
        "for audio_file in savee_directory_list:\n",
        "    part = audio_file.split('_')[1]\n",
        "    key = part[:-6]\n",
        "    if key in emotion_dic:\n",
        "        path_list.append(f\"{savee}/{audio_file}\")\n",
        "        emotion_list.append(emotion_dic[key])"
      ]
    },
    {
      "cell_type": "code",
      "execution_count": null,
      "metadata": {
        "colab": {
          "base_uri": "https://localhost:8080/"
        },
        "id": "wCJPbmxgjzL4",
        "outputId": "44dced97-7f94-4514-afb1-4317f578e482"
      },
      "outputs": [],
      "source": [
        "savee_df = pd.concat([\n",
        "    pd.DataFrame(emotion_list, columns=['Emotions']),\n",
        "    pd.DataFrame(path_list, columns=['Path'])\n",
        "], axis=1)\n",
        "\n",
        "savee_df.Emotions.value_counts()"
      ]
    },
    {
      "cell_type": "code",
      "execution_count": null,
      "metadata": {},
      "outputs": [],
      "source": [
        "savee_df.head()"
      ]
    },
    {
      "cell_type": "markdown",
      "metadata": {},
      "source": [
        "### 2.5 JL corpus\n",
        "29 hours, 3500 sentences, by 10 native English speakers and 10 native Chinese speakers.\n",
        "\n",
        "5 emotions: angry, happy, neutral, sad, and surprise."
      ]
    },
    {
      "cell_type": "code",
      "execution_count": null,
      "metadata": {},
      "outputs": [],
      "source": [
        "ENGLISH = ['0011', '0012', '0013', '0014', '0015', '0016', '0017', '0018', '0019', '0020']\n",
        "path_list = []\n",
        "emotion_list = []\n",
        "for directory in esd_directory_list:\n",
        "    if directory in ENGLISH:\n",
        "        audio_directories = os.listdir(os.path.join(esd, directory))\n",
        "        for audio_directory in audio_directories :\n",
        "            if audio_directory not in ['Angry', 'Neutral', 'Sad', 'Happy', 'Surprise']:\n",
        "                continue\n",
        "            audio_files = os.listdir(os.path.join(esd, directory, audio_directory))\n",
        "            for audio_file in audio_files:\n",
        "                if audio_file.endswith('.wav'):\n",
        "                    path_list.append(f\"{esd}/{directory}/{audio_directory}/{audio_file}\")\n",
        "                    emotion_list.append(audio_directory.lower())\n",
        "esd_df = pd.concat([\n",
        "    pd.DataFrame(emotion_list, columns=['Emotions']),\n",
        "    pd.DataFrame(path_list, columns=['Path'])\n",
        "], axis=1)\n",
        "\n",
        "esd_df.Emotions.value_counts()"
      ]
    },
    {
      "cell_type": "code",
      "execution_count": null,
      "metadata": {},
      "outputs": [],
      "source": [
        "esd_df.head()"
      ]
    },
    {
      "cell_type": "markdown",
      "metadata": {
        "id": "p-A4Vq-xWJMa"
      },
      "source": [
        "### 2.6 Joining RAVDESS, CREMA-D, TESS & SAVEE Dataset"
      ]
    },
    {
      "cell_type": "code",
      "execution_count": null,
      "metadata": {
        "colab": {
          "base_uri": "https://localhost:8080/"
        },
        "id": "Qt29A9McAcHM",
        "outputId": "ab5c1e7a-faa7-4803-c538-35fa6afdc93e"
      },
      "outputs": [],
      "source": [
        "from utils import get_processed_data_dir\n",
        "\n",
        "\n",
        "data_path = pd.concat([ravdess_df, crema_df, tess_df, savee_df, esd_df], axis=0)\n",
        "data_path.reset_index(drop=True, inplace=True)\n",
        "data_path.rename(columns={'Path': 'path', 'Emotions': 'emotion'}, inplace=True)\n",
        "print(data_path.shape)\n",
        "\n",
        "processed_dir = get_processed_data_dir()\n",
        "data_path.to_csv(processed_dir / 'speech_sentiment.csv', index=False)\n",
        "data_path.emotion.value_counts()"
      ]
    },
    {
      "cell_type": "code",
      "execution_count": null,
      "metadata": {
        "colab": {
          "base_uri": "https://localhost:8080/",
          "height": 226
        },
        "id": "xvdHpKzskyX1",
        "outputId": "ade995da-1d13-4504-96f8-a9c32e86a3d4"
      },
      "outputs": [],
      "source": [
        "data_path.tail(5)"
      ]
    },
    {
      "cell_type": "code",
      "execution_count": null,
      "metadata": {
        "colab": {
          "base_uri": "https://localhost:8080/",
          "height": 590
        },
        "id": "mZePmkuaevwc",
        "outputId": "324ecf3a-bbb1-4b4f-a3f7-8db8602a6451"
      },
      "outputs": [],
      "source": [
        "import matplotlib.pyplot as plt\n",
        "import seaborn as sns\n",
        "\n",
        "palette = sns.color_palette(\"husl\", 7)\n",
        "\n",
        "# Plot the count of emotions\n",
        "plt.figure(figsize=(10, 6))\n",
        "plt.title('Count of Emotions', size=16)\n",
        "sns.countplot(x='emotion', data=data_path, hue='emotion', palette=palette, legend=False)\n",
        "plt.ylabel('Count', size=12)\n",
        "plt.xlabel('Emotions', size=12)\n",
        "sns.despine(top=True, right=True, left=False, bottom=False)\n",
        "plt.show()"
      ]
    },
    {
      "cell_type": "markdown",
      "metadata": {
        "id": "SRgWUc9QYF6Y"
      },
      "source": [
        "## 03. EDA & Data Augmentation"
      ]
    },
    {
      "cell_type": "code",
      "execution_count": null,
      "metadata": {
        "colab": {
          "base_uri": "https://localhost:8080/"
        },
        "id": "SYkPwbevf697",
        "outputId": "8f0e9f96-f3c8-4ad8-92af-c409a2174419"
      },
      "outputs": [],
      "source": [
        "import librosa\n",
        "import librosa.display\n",
        "import torchaudio\n",
        "from IPython.display import Audio\n",
        "import numpy as np\n",
        "import pandas as pd\n",
        "import matplotlib.pyplot as plt\n",
        "from utils import get_processed_data_dir\n",
        "\n",
        "data_path = pd.read_csv(get_processed_data_dir() / 'speech_sentiment.csv')\n",
        "# data_path = pd.read_csv(get_data_dir('processed/speech_sentiment/emotion_dataset.csv'))\n",
        "\n",
        "# Finding sampling rate\n",
        "data0, sr0 = torchaudio.load(data_path['path'][1])\n",
        "data1, sr1 = torchaudio.load(data_path['path'][3000])\n",
        "data2, sr2 = torchaudio.load(data_path['path'][6000])\n",
        "data3, sr3 = torchaudio.load(data_path['path'][8000])\n",
        "data4, sr4 = torchaudio.load(data_path['path'][10000])\n",
        "data5, sr5 = torchaudio.load(data_path['path'][12000])\n",
        "data6, sr6 = torchaudio.load(data_path['path'][len(data_path)-1])\n",
        "\n",
        "# Check sample rate of sample audios\n",
        "sr0, sr1, sr2, sr3, sr4, sr5, sr6"
      ]
    },
    {
      "cell_type": "markdown",
      "metadata": {
        "id": "hfOjVA7PpWVs"
      },
      "source": [
        "> There are 4 different samples rates. We need to **downsample** every clips to **16Khz** to even out."
      ]
    },
    {
      "cell_type": "markdown",
      "metadata": {
        "id": "Pe7OYIk4YyPO"
      },
      "source": [
        "### 3.1 Generate Log Mel Spectrogram"
      ]
    },
    {
      "cell_type": "code",
      "execution_count": null,
      "metadata": {
        "colab": {
          "base_uri": "https://localhost:8080/",
          "height": 631
        },
        "id": "eQYKBuZyYv3Q",
        "outputId": "c4e869d3-3a91-4847-925a-bb13a35a683d"
      },
      "outputs": [],
      "source": [
        "audio_data = [data0, data1, data2, data3, data4, data5, data6]\n",
        "sample_rates = [sr0, sr1, sr2, sr3, sr4, sr5, sr6]\n",
        "\n",
        "fig, ax = plt.subplots(3, 3, figsize=(24, 10))\n",
        "\n",
        "for idx, (data, sr) in enumerate(zip(audio_data, sample_rates)):\n",
        "    data = data.numpy().flatten()\n",
        "\n",
        "    # Compute Mel spectrogram\n",
        "    spectrogram = librosa.feature.melspectrogram(y=data, sr=sr, n_mels=128, fmax=sr/2)\n",
        "    log_spectrogram = librosa.power_to_db(spectrogram, ref=np.max)\n",
        "\n",
        "    row = idx // 3\n",
        "    col = idx % 3\n",
        "    img = librosa.display.specshow(log_spectrogram, sr=sr, x_axis='time', y_axis='mel', ax=ax[row, col])\n",
        "    ax[row, col].set_title(f'Mel Spectrogram {idx}')\n",
        "    fig.colorbar(img, ax=ax[row, col], format='%+2.0f dB')\n",
        "\n",
        "plt.tight_layout()\n",
        "plt.show()"
      ]
    },
    {
      "cell_type": "markdown",
      "metadata": {
        "id": "Xes_iEsiaBy7"
      },
      "source": [
        "### 3.2 Add Noise, Stretch, Shift & Pitch shift\n",
        "\n",
        "\n",
        "- Data augmentation creates new synthetic data by slightly altering our original training data.\n",
        "- For audio, we can generate new data by adding noise, shifting in time, changing pitch, and adjusting speed.\n",
        "- The goal is to help our model become more robust to these changes and improve its ability to generalize.\n",
        "- To be effective, these changes must keep the original label of the training sample.\n",
        "- For images, data augmentation can involve shifting, zooming, and rotating the image.\n"
      ]
    },
    {
      "cell_type": "code",
      "execution_count": null,
      "metadata": {
        "id": "ROX-byuajq2x"
      },
      "outputs": [],
      "source": [
        "def noise(data, noise_rate=0.035):\n",
        "    noise_amp = noise_rate*np.random.uniform()*np.amax(data)\n",
        "    data = data + noise_amp*np.random.normal(size=data.shape[0])\n",
        "    return data\n",
        "\n",
        "# Reference: https://librosa.org/doc/latest/generated/librosa.effects.time_stretch.html#librosa.effects.time_stretch\n",
        "def stretch(data, rate=0.8):\n",
        "    return librosa.effects.time_stretch(y=data, rate=rate)\n",
        "\n",
        "def shift(data):\n",
        "    shift_range = int(np.random.uniform(low=-5, high = 5)*1300)\n",
        "    return np.roll(data, shift_range)\n",
        "\n",
        "# Reference: https://librosa.org/doc/latest/generated/librosa.effects.pitch_shift.html#librosa.effects.pitch_shift\n",
        "def pitch(data, sampling_rate, pitch_factor=0.7):\n",
        "    return librosa.effects.pitch_shift(y=data, sr=sampling_rate, n_steps=pitch_factor)"
      ]
    },
    {
      "cell_type": "markdown",
      "metadata": {
        "id": "fEb5354ha31g"
      },
      "source": [
        "### 3.2.1 Original Audio Sample"
      ]
    },
    {
      "cell_type": "code",
      "execution_count": null,
      "metadata": {
        "colab": {
          "base_uri": "https://localhost:8080/",
          "height": 452
        },
        "id": "Rnb19-cmjtEL",
        "outputId": "731434d3-85ae-4fd7-92ff-64695b528370"
      },
      "outputs": [],
      "source": [
        "path = np.array(data_path.path)[2]\n",
        "data, sample_rate = librosa.load(path, duration = 2.5, offset = 0.6)\n",
        "data, sample_rate = librosa.load(path, sr = None, duration = 2.5, offset = 0.6)\n",
        "\n",
        "plt.figure(figsize=(14,4))\n",
        "librosa.display.waveshow(y=data, sr=sample_rate)\n",
        "Audio(path)"
      ]
    },
    {
      "cell_type": "markdown",
      "metadata": {
        "id": "a2SK39E8kSFc"
      },
      "source": [
        "### 3.2.2 Audio sample with noise injection"
      ]
    },
    {
      "cell_type": "code",
      "execution_count": null,
      "metadata": {
        "colab": {
          "base_uri": "https://localhost:8080/",
          "height": 452
        },
        "id": "M1RXqwRUjweC",
        "outputId": "e43d6075-4d0b-49d8-ecbc-93574d04c9ad"
      },
      "outputs": [],
      "source": [
        "x = noise(data)\n",
        "plt.figure(figsize=(14,4))\n",
        "librosa.display.waveshow(y=x, sr=sample_rate)\n",
        "Audio(x, rate=sample_rate)"
      ]
    },
    {
      "cell_type": "markdown",
      "metadata": {
        "id": "0Oipk3Qakaal"
      },
      "source": [
        "### 3.2.3 Audio sample with added stretch"
      ]
    },
    {
      "cell_type": "code",
      "execution_count": null,
      "metadata": {
        "colab": {
          "base_uri": "https://localhost:8080/",
          "height": 452
        },
        "id": "JaICWCX-kTph",
        "outputId": "6f652d88-3aa1-4376-cd0f-c365da2fc7b2"
      },
      "outputs": [],
      "source": [
        "x = stretch(data)\n",
        "plt.figure(figsize=(14,4))\n",
        "librosa.display.waveshow(y=x, sr=sample_rate)\n",
        "Audio(x, rate=sample_rate)"
      ]
    },
    {
      "cell_type": "markdown",
      "metadata": {
        "id": "hRohWzB5kvMj"
      },
      "source": [
        "### 3.2.4 Audio sample with added shifting"
      ]
    },
    {
      "cell_type": "code",
      "execution_count": null,
      "metadata": {
        "colab": {
          "base_uri": "https://localhost:8080/",
          "height": 452
        },
        "id": "CYRXBDstkcRR",
        "outputId": "44224ab5-eb44-4f3a-847a-ab0f2955c419"
      },
      "outputs": [],
      "source": [
        "x = shift(data)\n",
        "plt.figure(figsize=(14,4))\n",
        "librosa.display.waveshow(y=x, sr=sample_rate)\n",
        "Audio(x, rate=sample_rate)"
      ]
    },
    {
      "cell_type": "markdown",
      "metadata": {
        "id": "Q_-cI4a9k82t"
      },
      "source": [
        "### 3.2.5 Audio sample with added pitch shift"
      ]
    },
    {
      "cell_type": "code",
      "execution_count": null,
      "metadata": {
        "colab": {
          "base_uri": "https://localhost:8080/",
          "height": 452
        },
        "id": "izMktFKQkwys",
        "outputId": "56f22632-0665-4db2-e854-33e108a6b183"
      },
      "outputs": [],
      "source": [
        "x = pitch(data, sample_rate)\n",
        "plt.figure(figsize=(14,4))\n",
        "librosa.display.waveshow(y=x, sr=sample_rate)\n",
        "Audio(x, rate=sample_rate)"
      ]
    },
    {
      "cell_type": "markdown",
      "metadata": {
        "id": "X-JhpGhMtxng"
      },
      "source": [
        "## 4. Downsample and Compress datasets in ZipFile"
      ]
    },
    {
      "cell_type": "code",
      "execution_count": null,
      "metadata": {
        "colab": {
          "base_uri": "https://localhost:8080/"
        },
        "id": "yYD-LwUSq3-9",
        "outputId": "b9872bd1-bd9c-46e6-b272-efae8ace5e1c"
      },
      "outputs": [],
      "source": [
        "from speech_sentiment.scripts.downsample import downsample\n",
        "import os\n",
        "from utils import get_project_root, get_processed_data_dir\n",
        "\n",
        "\n",
        "downsample(file_path = get_processed_data_dir() / \"speech_sentiment.csv\", output_dir = get_processed_data_dir(\"speech_sentiment\"), num_workers=2)"
      ]
    },
    {
      "cell_type": "code",
      "execution_count": null,
      "metadata": {
        "colab": {
          "base_uri": "https://localhost:8080/",
          "height": 86,
          "referenced_widgets": [
            "4992bd94982148f4a6054301b876a5ac",
            "c5151114cd0d4c178114785a525018a2",
            "71e19d59a6204b0cbd5115b5fd7395ae",
            "0e2a830673474fd184561f483d5e843e",
            "5841284a1efb4c9396eb7e688de7ccb6",
            "0939bd800274465e8e7c44ad8b2b8bf0",
            "cdb8d40ac0a44cbbb4f6a453cc4818b5",
            "e6388b26aed34ad9bdf3401d07e115a9",
            "a9d2209ed0564d8688333419bdffed64",
            "3af9984d6961460c9020c7e7b5a04502",
            "51edb007b6d246f1a2b47d19e3dfe79b"
          ]
        },
        "id": "VZI0-XRdrMHl",
        "outputId": "d6162e9c-d2cf-4b0f-9486-6343afb93f34"
      },
      "outputs": [],
      "source": [
        "import zipfile, os\n",
        "from tqdm import tqdm\n",
        "\n",
        "source_folder = get_processed_data_dir(\"speech_sentiment\")\n",
        "zip_file_path = os.path.join(get_project_root(),'zipped_data','downsampled_SER_speech.zip')\n",
        "\n",
        "# Create a zip file\n",
        "with zipfile.ZipFile(zip_file_path, 'w') as zipf:\n",
        "    for root, _, files in tqdm(os.walk(source_folder), desc=\"Zipping files\"):\n",
        "        for file in files:\n",
        "            file_path = os.path.join(root, file)\n",
        "            arcname = os.path.relpath(file_path, source_folder)\n",
        "            zipf.write(file_path, arcname)\n",
        "\n",
        "print(f\"Zip file created at: {zip_file_path}\")"
      ]
    },
    {
      "cell_type": "markdown",
      "metadata": {},
      "source": [
        "## 5. Augmentation For XGBOOST"
      ]
    },
    {
      "cell_type": "code",
      "execution_count": null,
      "metadata": {},
      "outputs": [],
      "source": [
        "from speech_sentiment.scripts.augment import augment\n",
        "import os\n",
        "from utils import get_processed_data_dir\n",
        "\n",
        "augment(file_path = get_processed_data_dir(\"speech_sentiment\") / \"emotion_dataset.csv\", output_dir = get_processed_data_dir(\"speech_sentiment\"), num_workers=2)\n"
      ]
    }
  ],
  "metadata": {
    "colab": {
      "provenance": []
    },
    "kernelspec": {
      "display_name": ".venv",
      "language": "python",
      "name": "python3"
    },
    "language_info": {
      "codemirror_mode": {
        "name": "ipython",
        "version": 3
      },
      "file_extension": ".py",
      "mimetype": "text/x-python",
      "name": "python",
      "nbconvert_exporter": "python",
      "pygments_lexer": "ipython3",
      "version": "3.11.11"
    },
    "widgets": {
      "application/vnd.jupyter.widget-state+json": {
        "08cf2c031df14a25a80805daaa01a759": {
          "model_module": "@jupyter-widgets/base",
          "model_module_version": "1.2.0",
          "model_name": "LayoutModel",
          "state": {
            "_model_module": "@jupyter-widgets/base",
            "_model_module_version": "1.2.0",
            "_model_name": "LayoutModel",
            "_view_count": null,
            "_view_module": "@jupyter-widgets/base",
            "_view_module_version": "1.2.0",
            "_view_name": "LayoutView",
            "align_content": null,
            "align_items": null,
            "align_self": null,
            "border": null,
            "bottom": null,
            "display": null,
            "flex": null,
            "flex_flow": null,
            "grid_area": null,
            "grid_auto_columns": null,
            "grid_auto_flow": null,
            "grid_auto_rows": null,
            "grid_column": null,
            "grid_gap": null,
            "grid_row": null,
            "grid_template_areas": null,
            "grid_template_columns": null,
            "grid_template_rows": null,
            "height": null,
            "justify_content": null,
            "justify_items": null,
            "left": null,
            "margin": null,
            "max_height": null,
            "max_width": null,
            "min_height": null,
            "min_width": null,
            "object_fit": null,
            "object_position": null,
            "order": null,
            "overflow": null,
            "overflow_x": null,
            "overflow_y": null,
            "padding": null,
            "right": null,
            "top": null,
            "visibility": null,
            "width": null
          }
        },
        "0939bd800274465e8e7c44ad8b2b8bf0": {
          "model_module": "@jupyter-widgets/base",
          "model_module_version": "1.2.0",
          "model_name": "LayoutModel",
          "state": {
            "_model_module": "@jupyter-widgets/base",
            "_model_module_version": "1.2.0",
            "_model_name": "LayoutModel",
            "_view_count": null,
            "_view_module": "@jupyter-widgets/base",
            "_view_module_version": "1.2.0",
            "_view_name": "LayoutView",
            "align_content": null,
            "align_items": null,
            "align_self": null,
            "border": null,
            "bottom": null,
            "display": null,
            "flex": null,
            "flex_flow": null,
            "grid_area": null,
            "grid_auto_columns": null,
            "grid_auto_flow": null,
            "grid_auto_rows": null,
            "grid_column": null,
            "grid_gap": null,
            "grid_row": null,
            "grid_template_areas": null,
            "grid_template_columns": null,
            "grid_template_rows": null,
            "height": null,
            "justify_content": null,
            "justify_items": null,
            "left": null,
            "margin": null,
            "max_height": null,
            "max_width": null,
            "min_height": null,
            "min_width": null,
            "object_fit": null,
            "object_position": null,
            "order": null,
            "overflow": null,
            "overflow_x": null,
            "overflow_y": null,
            "padding": null,
            "right": null,
            "top": null,
            "visibility": null,
            "width": null
          }
        },
        "0a994e606c2445fda6ef7f1facca4183": {
          "model_module": "@jupyter-widgets/controls",
          "model_module_version": "1.5.0",
          "model_name": "ProgressStyleModel",
          "state": {
            "_model_module": "@jupyter-widgets/controls",
            "_model_module_version": "1.5.0",
            "_model_name": "ProgressStyleModel",
            "_view_count": null,
            "_view_module": "@jupyter-widgets/base",
            "_view_module_version": "1.2.0",
            "_view_name": "StyleView",
            "bar_color": null,
            "description_width": ""
          }
        },
        "0e2a830673474fd184561f483d5e843e": {
          "model_module": "@jupyter-widgets/controls",
          "model_module_version": "1.5.0",
          "model_name": "HTMLModel",
          "state": {
            "_dom_classes": [],
            "_model_module": "@jupyter-widgets/controls",
            "_model_module_version": "1.5.0",
            "_model_name": "HTMLModel",
            "_view_count": null,
            "_view_module": "@jupyter-widgets/controls",
            "_view_module_version": "1.5.0",
            "_view_name": "HTMLView",
            "description": "",
            "description_tooltip": null,
            "layout": "IPY_MODEL_3af9984d6961460c9020c7e7b5a04502",
            "placeholder": "​",
            "style": "IPY_MODEL_51edb007b6d246f1a2b47d19e3dfe79b",
            "value": " 2/? [00:03&lt;00:00,  1.84s/it]"
          }
        },
        "0e4e091241d747a8b0f0b4e59899ba1d": {
          "model_module": "@jupyter-widgets/base",
          "model_module_version": "1.2.0",
          "model_name": "LayoutModel",
          "state": {
            "_model_module": "@jupyter-widgets/base",
            "_model_module_version": "1.2.0",
            "_model_name": "LayoutModel",
            "_view_count": null,
            "_view_module": "@jupyter-widgets/base",
            "_view_module_version": "1.2.0",
            "_view_name": "LayoutView",
            "align_content": null,
            "align_items": null,
            "align_self": null,
            "border": null,
            "bottom": null,
            "display": null,
            "flex": null,
            "flex_flow": null,
            "grid_area": null,
            "grid_auto_columns": null,
            "grid_auto_flow": null,
            "grid_auto_rows": null,
            "grid_column": null,
            "grid_gap": null,
            "grid_row": null,
            "grid_template_areas": null,
            "grid_template_columns": null,
            "grid_template_rows": null,
            "height": null,
            "justify_content": null,
            "justify_items": null,
            "left": null,
            "margin": null,
            "max_height": null,
            "max_width": null,
            "min_height": null,
            "min_width": null,
            "object_fit": null,
            "object_position": null,
            "order": null,
            "overflow": null,
            "overflow_x": null,
            "overflow_y": null,
            "padding": null,
            "right": null,
            "top": null,
            "visibility": null,
            "width": null
          }
        },
        "12b369f8e44e4204922ceb38babc6920": {
          "model_module": "@jupyter-widgets/base",
          "model_module_version": "1.2.0",
          "model_name": "LayoutModel",
          "state": {
            "_model_module": "@jupyter-widgets/base",
            "_model_module_version": "1.2.0",
            "_model_name": "LayoutModel",
            "_view_count": null,
            "_view_module": "@jupyter-widgets/base",
            "_view_module_version": "1.2.0",
            "_view_name": "LayoutView",
            "align_content": null,
            "align_items": null,
            "align_self": null,
            "border": null,
            "bottom": null,
            "display": null,
            "flex": null,
            "flex_flow": null,
            "grid_area": null,
            "grid_auto_columns": null,
            "grid_auto_flow": null,
            "grid_auto_rows": null,
            "grid_column": null,
            "grid_gap": null,
            "grid_row": null,
            "grid_template_areas": null,
            "grid_template_columns": null,
            "grid_template_rows": null,
            "height": null,
            "justify_content": null,
            "justify_items": null,
            "left": null,
            "margin": null,
            "max_height": null,
            "max_width": null,
            "min_height": null,
            "min_width": null,
            "object_fit": null,
            "object_position": null,
            "order": null,
            "overflow": null,
            "overflow_x": null,
            "overflow_y": null,
            "padding": null,
            "right": null,
            "top": null,
            "visibility": null,
            "width": null
          }
        },
        "13735316227f48eaa6eb92a062889fea": {
          "model_module": "@jupyter-widgets/controls",
          "model_module_version": "1.5.0",
          "model_name": "HTMLModel",
          "state": {
            "_dom_classes": [],
            "_model_module": "@jupyter-widgets/controls",
            "_model_module_version": "1.5.0",
            "_model_name": "HTMLModel",
            "_view_count": null,
            "_view_module": "@jupyter-widgets/controls",
            "_view_module_version": "1.5.0",
            "_view_name": "HTMLView",
            "description": "",
            "description_tooltip": null,
            "layout": "IPY_MODEL_50ea38eaec6f4fd9bf3269adcfd07fc8",
            "placeholder": "​",
            "style": "IPY_MODEL_f7ffd0c348d146629668ab97f6669907",
            "value": "Extracting cremad.zip: 100%"
          }
        },
        "1b19b627f79a4f5683f2c829e3a01b25": {
          "model_module": "@jupyter-widgets/controls",
          "model_module_version": "1.5.0",
          "model_name": "DescriptionStyleModel",
          "state": {
            "_model_module": "@jupyter-widgets/controls",
            "_model_module_version": "1.5.0",
            "_model_name": "DescriptionStyleModel",
            "_view_count": null,
            "_view_module": "@jupyter-widgets/base",
            "_view_module_version": "1.2.0",
            "_view_name": "StyleView",
            "description_width": ""
          }
        },
        "2a1a3bd6c2e649668dc5addc88161637": {
          "model_module": "@jupyter-widgets/controls",
          "model_module_version": "1.5.0",
          "model_name": "HBoxModel",
          "state": {
            "_dom_classes": [],
            "_model_module": "@jupyter-widgets/controls",
            "_model_module_version": "1.5.0",
            "_model_name": "HBoxModel",
            "_view_count": null,
            "_view_module": "@jupyter-widgets/controls",
            "_view_module_version": "1.5.0",
            "_view_name": "HBoxView",
            "box_style": "",
            "children": [
              "IPY_MODEL_5e2c49ff52864a0c8f188251639c9004",
              "IPY_MODEL_35f23879d86b4b479b13d482e18a455e",
              "IPY_MODEL_737a1880a4364fa4af06acd55fed24c5"
            ],
            "layout": "IPY_MODEL_0e4e091241d747a8b0f0b4e59899ba1d"
          }
        },
        "2db43569fb6b475eac5a095835782a11": {
          "model_module": "@jupyter-widgets/base",
          "model_module_version": "1.2.0",
          "model_name": "LayoutModel",
          "state": {
            "_model_module": "@jupyter-widgets/base",
            "_model_module_version": "1.2.0",
            "_model_name": "LayoutModel",
            "_view_count": null,
            "_view_module": "@jupyter-widgets/base",
            "_view_module_version": "1.2.0",
            "_view_name": "LayoutView",
            "align_content": null,
            "align_items": null,
            "align_self": null,
            "border": null,
            "bottom": null,
            "display": null,
            "flex": null,
            "flex_flow": null,
            "grid_area": null,
            "grid_auto_columns": null,
            "grid_auto_flow": null,
            "grid_auto_rows": null,
            "grid_column": null,
            "grid_gap": null,
            "grid_row": null,
            "grid_template_areas": null,
            "grid_template_columns": null,
            "grid_template_rows": null,
            "height": null,
            "justify_content": null,
            "justify_items": null,
            "left": null,
            "margin": null,
            "max_height": null,
            "max_width": null,
            "min_height": null,
            "min_width": null,
            "object_fit": null,
            "object_position": null,
            "order": null,
            "overflow": null,
            "overflow_x": null,
            "overflow_y": null,
            "padding": null,
            "right": null,
            "top": null,
            "visibility": null,
            "width": null
          }
        },
        "34e19af0d20e4e208ef47f071a1aca52": {
          "model_module": "@jupyter-widgets/controls",
          "model_module_version": "1.5.0",
          "model_name": "HTMLModel",
          "state": {
            "_dom_classes": [],
            "_model_module": "@jupyter-widgets/controls",
            "_model_module_version": "1.5.0",
            "_model_name": "HTMLModel",
            "_view_count": null,
            "_view_module": "@jupyter-widgets/controls",
            "_view_module_version": "1.5.0",
            "_view_name": "HTMLView",
            "description": "",
            "description_tooltip": null,
            "layout": "IPY_MODEL_08cf2c031df14a25a80805daaa01a759",
            "placeholder": "​",
            "style": "IPY_MODEL_8abe97f7c0fb4d2ab0a0f82e061a9b65",
            "value": "Extracting toronto-emotional-speech-set-tess.zip: 100%"
          }
        },
        "35eaf2cda90443489b229c0da4600a2e": {
          "model_module": "@jupyter-widgets/controls",
          "model_module_version": "1.5.0",
          "model_name": "HBoxModel",
          "state": {
            "_dom_classes": [],
            "_model_module": "@jupyter-widgets/controls",
            "_model_module_version": "1.5.0",
            "_model_name": "HBoxModel",
            "_view_count": null,
            "_view_module": "@jupyter-widgets/controls",
            "_view_module_version": "1.5.0",
            "_view_name": "HBoxView",
            "box_style": "",
            "children": [
              "IPY_MODEL_34e19af0d20e4e208ef47f071a1aca52",
              "IPY_MODEL_ebd40d055253461789b2c235d2a4c101",
              "IPY_MODEL_b841857d9dc34982b4809a513b96f5cd"
            ],
            "layout": "IPY_MODEL_9a39f641e0be4204a5bea4f04d656852"
          }
        },
        "35f23879d86b4b479b13d482e18a455e": {
          "model_module": "@jupyter-widgets/controls",
          "model_module_version": "1.5.0",
          "model_name": "FloatProgressModel",
          "state": {
            "_dom_classes": [],
            "_model_module": "@jupyter-widgets/controls",
            "_model_module_version": "1.5.0",
            "_model_name": "FloatProgressModel",
            "_view_count": null,
            "_view_module": "@jupyter-widgets/controls",
            "_view_module_version": "1.5.0",
            "_view_name": "ProgressView",
            "bar_style": "success",
            "description": "",
            "description_tooltip": null,
            "layout": "IPY_MODEL_2db43569fb6b475eac5a095835782a11",
            "max": 480,
            "min": 0,
            "orientation": "horizontal",
            "style": "IPY_MODEL_0a994e606c2445fda6ef7f1facca4183",
            "value": 480
          }
        },
        "3af9984d6961460c9020c7e7b5a04502": {
          "model_module": "@jupyter-widgets/base",
          "model_module_version": "1.2.0",
          "model_name": "LayoutModel",
          "state": {
            "_model_module": "@jupyter-widgets/base",
            "_model_module_version": "1.2.0",
            "_model_name": "LayoutModel",
            "_view_count": null,
            "_view_module": "@jupyter-widgets/base",
            "_view_module_version": "1.2.0",
            "_view_name": "LayoutView",
            "align_content": null,
            "align_items": null,
            "align_self": null,
            "border": null,
            "bottom": null,
            "display": null,
            "flex": null,
            "flex_flow": null,
            "grid_area": null,
            "grid_auto_columns": null,
            "grid_auto_flow": null,
            "grid_auto_rows": null,
            "grid_column": null,
            "grid_gap": null,
            "grid_row": null,
            "grid_template_areas": null,
            "grid_template_columns": null,
            "grid_template_rows": null,
            "height": null,
            "justify_content": null,
            "justify_items": null,
            "left": null,
            "margin": null,
            "max_height": null,
            "max_width": null,
            "min_height": null,
            "min_width": null,
            "object_fit": null,
            "object_position": null,
            "order": null,
            "overflow": null,
            "overflow_x": null,
            "overflow_y": null,
            "padding": null,
            "right": null,
            "top": null,
            "visibility": null,
            "width": null
          }
        },
        "43abb7abf80247deaebfa5b60a5012e0": {
          "model_module": "@jupyter-widgets/base",
          "model_module_version": "1.2.0",
          "model_name": "LayoutModel",
          "state": {
            "_model_module": "@jupyter-widgets/base",
            "_model_module_version": "1.2.0",
            "_model_name": "LayoutModel",
            "_view_count": null,
            "_view_module": "@jupyter-widgets/base",
            "_view_module_version": "1.2.0",
            "_view_name": "LayoutView",
            "align_content": null,
            "align_items": null,
            "align_self": null,
            "border": null,
            "bottom": null,
            "display": null,
            "flex": null,
            "flex_flow": null,
            "grid_area": null,
            "grid_auto_columns": null,
            "grid_auto_flow": null,
            "grid_auto_rows": null,
            "grid_column": null,
            "grid_gap": null,
            "grid_row": null,
            "grid_template_areas": null,
            "grid_template_columns": null,
            "grid_template_rows": null,
            "height": null,
            "justify_content": null,
            "justify_items": null,
            "left": null,
            "margin": null,
            "max_height": null,
            "max_width": null,
            "min_height": null,
            "min_width": null,
            "object_fit": null,
            "object_position": null,
            "order": null,
            "overflow": null,
            "overflow_x": null,
            "overflow_y": null,
            "padding": null,
            "right": null,
            "top": null,
            "visibility": null,
            "width": null
          }
        },
        "495476867f4a4b8cb2bc5dc72393f6b9": {
          "model_module": "@jupyter-widgets/base",
          "model_module_version": "1.2.0",
          "model_name": "LayoutModel",
          "state": {
            "_model_module": "@jupyter-widgets/base",
            "_model_module_version": "1.2.0",
            "_model_name": "LayoutModel",
            "_view_count": null,
            "_view_module": "@jupyter-widgets/base",
            "_view_module_version": "1.2.0",
            "_view_name": "LayoutView",
            "align_content": null,
            "align_items": null,
            "align_self": null,
            "border": null,
            "bottom": null,
            "display": null,
            "flex": null,
            "flex_flow": null,
            "grid_area": null,
            "grid_auto_columns": null,
            "grid_auto_flow": null,
            "grid_auto_rows": null,
            "grid_column": null,
            "grid_gap": null,
            "grid_row": null,
            "grid_template_areas": null,
            "grid_template_columns": null,
            "grid_template_rows": null,
            "height": null,
            "justify_content": null,
            "justify_items": null,
            "left": null,
            "margin": null,
            "max_height": null,
            "max_width": null,
            "min_height": null,
            "min_width": null,
            "object_fit": null,
            "object_position": null,
            "order": null,
            "overflow": null,
            "overflow_x": null,
            "overflow_y": null,
            "padding": null,
            "right": null,
            "top": null,
            "visibility": null,
            "width": null
          }
        },
        "4992bd94982148f4a6054301b876a5ac": {
          "model_module": "@jupyter-widgets/controls",
          "model_module_version": "1.5.0",
          "model_name": "HBoxModel",
          "state": {
            "_dom_classes": [],
            "_model_module": "@jupyter-widgets/controls",
            "_model_module_version": "1.5.0",
            "_model_name": "HBoxModel",
            "_view_count": null,
            "_view_module": "@jupyter-widgets/controls",
            "_view_module_version": "1.5.0",
            "_view_name": "HBoxView",
            "box_style": "",
            "children": [
              "IPY_MODEL_c5151114cd0d4c178114785a525018a2",
              "IPY_MODEL_71e19d59a6204b0cbd5115b5fd7395ae",
              "IPY_MODEL_0e2a830673474fd184561f483d5e843e"
            ],
            "layout": "IPY_MODEL_5841284a1efb4c9396eb7e688de7ccb6"
          }
        },
        "4ced3dc0434f433b8d34c5fca26b1e20": {
          "model_module": "@jupyter-widgets/base",
          "model_module_version": "1.2.0",
          "model_name": "LayoutModel",
          "state": {
            "_model_module": "@jupyter-widgets/base",
            "_model_module_version": "1.2.0",
            "_model_name": "LayoutModel",
            "_view_count": null,
            "_view_module": "@jupyter-widgets/base",
            "_view_module_version": "1.2.0",
            "_view_name": "LayoutView",
            "align_content": null,
            "align_items": null,
            "align_self": null,
            "border": null,
            "bottom": null,
            "display": null,
            "flex": null,
            "flex_flow": null,
            "grid_area": null,
            "grid_auto_columns": null,
            "grid_auto_flow": null,
            "grid_auto_rows": null,
            "grid_column": null,
            "grid_gap": null,
            "grid_row": null,
            "grid_template_areas": null,
            "grid_template_columns": null,
            "grid_template_rows": null,
            "height": null,
            "justify_content": null,
            "justify_items": null,
            "left": null,
            "margin": null,
            "max_height": null,
            "max_width": null,
            "min_height": null,
            "min_width": null,
            "object_fit": null,
            "object_position": null,
            "order": null,
            "overflow": null,
            "overflow_x": null,
            "overflow_y": null,
            "padding": null,
            "right": null,
            "top": null,
            "visibility": null,
            "width": null
          }
        },
        "50ea38eaec6f4fd9bf3269adcfd07fc8": {
          "model_module": "@jupyter-widgets/base",
          "model_module_version": "1.2.0",
          "model_name": "LayoutModel",
          "state": {
            "_model_module": "@jupyter-widgets/base",
            "_model_module_version": "1.2.0",
            "_model_name": "LayoutModel",
            "_view_count": null,
            "_view_module": "@jupyter-widgets/base",
            "_view_module_version": "1.2.0",
            "_view_name": "LayoutView",
            "align_content": null,
            "align_items": null,
            "align_self": null,
            "border": null,
            "bottom": null,
            "display": null,
            "flex": null,
            "flex_flow": null,
            "grid_area": null,
            "grid_auto_columns": null,
            "grid_auto_flow": null,
            "grid_auto_rows": null,
            "grid_column": null,
            "grid_gap": null,
            "grid_row": null,
            "grid_template_areas": null,
            "grid_template_columns": null,
            "grid_template_rows": null,
            "height": null,
            "justify_content": null,
            "justify_items": null,
            "left": null,
            "margin": null,
            "max_height": null,
            "max_width": null,
            "min_height": null,
            "min_width": null,
            "object_fit": null,
            "object_position": null,
            "order": null,
            "overflow": null,
            "overflow_x": null,
            "overflow_y": null,
            "padding": null,
            "right": null,
            "top": null,
            "visibility": null,
            "width": null
          }
        },
        "51edb007b6d246f1a2b47d19e3dfe79b": {
          "model_module": "@jupyter-widgets/controls",
          "model_module_version": "1.5.0",
          "model_name": "DescriptionStyleModel",
          "state": {
            "_model_module": "@jupyter-widgets/controls",
            "_model_module_version": "1.5.0",
            "_model_name": "DescriptionStyleModel",
            "_view_count": null,
            "_view_module": "@jupyter-widgets/base",
            "_view_module_version": "1.2.0",
            "_view_name": "StyleView",
            "description_width": ""
          }
        },
        "5390c9cd060c4a0bb83bb10285822fbe": {
          "model_module": "@jupyter-widgets/controls",
          "model_module_version": "1.5.0",
          "model_name": "FloatProgressModel",
          "state": {
            "_dom_classes": [],
            "_model_module": "@jupyter-widgets/controls",
            "_model_module_version": "1.5.0",
            "_model_name": "FloatProgressModel",
            "_view_count": null,
            "_view_module": "@jupyter-widgets/controls",
            "_view_module_version": "1.5.0",
            "_view_name": "ProgressView",
            "bar_style": "success",
            "description": "",
            "description_tooltip": null,
            "layout": "IPY_MODEL_8eb4c7397b9044a18f3609719698e3ae",
            "max": 2880,
            "min": 0,
            "orientation": "horizontal",
            "style": "IPY_MODEL_6fcc4df48c69481490ae97fb42d0fe5b",
            "value": 2880
          }
        },
        "56fc891fdf794dc5a0a79d9e861d21b5": {
          "model_module": "@jupyter-widgets/base",
          "model_module_version": "1.2.0",
          "model_name": "LayoutModel",
          "state": {
            "_model_module": "@jupyter-widgets/base",
            "_model_module_version": "1.2.0",
            "_model_name": "LayoutModel",
            "_view_count": null,
            "_view_module": "@jupyter-widgets/base",
            "_view_module_version": "1.2.0",
            "_view_name": "LayoutView",
            "align_content": null,
            "align_items": null,
            "align_self": null,
            "border": null,
            "bottom": null,
            "display": null,
            "flex": null,
            "flex_flow": null,
            "grid_area": null,
            "grid_auto_columns": null,
            "grid_auto_flow": null,
            "grid_auto_rows": null,
            "grid_column": null,
            "grid_gap": null,
            "grid_row": null,
            "grid_template_areas": null,
            "grid_template_columns": null,
            "grid_template_rows": null,
            "height": null,
            "justify_content": null,
            "justify_items": null,
            "left": null,
            "margin": null,
            "max_height": null,
            "max_width": null,
            "min_height": null,
            "min_width": null,
            "object_fit": null,
            "object_position": null,
            "order": null,
            "overflow": null,
            "overflow_x": null,
            "overflow_y": null,
            "padding": null,
            "right": null,
            "top": null,
            "visibility": null,
            "width": null
          }
        },
        "5841284a1efb4c9396eb7e688de7ccb6": {
          "model_module": "@jupyter-widgets/base",
          "model_module_version": "1.2.0",
          "model_name": "LayoutModel",
          "state": {
            "_model_module": "@jupyter-widgets/base",
            "_model_module_version": "1.2.0",
            "_model_name": "LayoutModel",
            "_view_count": null,
            "_view_module": "@jupyter-widgets/base",
            "_view_module_version": "1.2.0",
            "_view_name": "LayoutView",
            "align_content": null,
            "align_items": null,
            "align_self": null,
            "border": null,
            "bottom": null,
            "display": null,
            "flex": null,
            "flex_flow": null,
            "grid_area": null,
            "grid_auto_columns": null,
            "grid_auto_flow": null,
            "grid_auto_rows": null,
            "grid_column": null,
            "grid_gap": null,
            "grid_row": null,
            "grid_template_areas": null,
            "grid_template_columns": null,
            "grid_template_rows": null,
            "height": null,
            "justify_content": null,
            "justify_items": null,
            "left": null,
            "margin": null,
            "max_height": null,
            "max_width": null,
            "min_height": null,
            "min_width": null,
            "object_fit": null,
            "object_position": null,
            "order": null,
            "overflow": null,
            "overflow_x": null,
            "overflow_y": null,
            "padding": null,
            "right": null,
            "top": null,
            "visibility": null,
            "width": null
          }
        },
        "5e2c49ff52864a0c8f188251639c9004": {
          "model_module": "@jupyter-widgets/controls",
          "model_module_version": "1.5.0",
          "model_name": "HTMLModel",
          "state": {
            "_dom_classes": [],
            "_model_module": "@jupyter-widgets/controls",
            "_model_module_version": "1.5.0",
            "_model_name": "HTMLModel",
            "_view_count": null,
            "_view_module": "@jupyter-widgets/controls",
            "_view_module_version": "1.5.0",
            "_view_name": "HTMLView",
            "description": "",
            "description_tooltip": null,
            "layout": "IPY_MODEL_495476867f4a4b8cb2bc5dc72393f6b9",
            "placeholder": "​",
            "style": "IPY_MODEL_d57b0bc7c4db4f15b4a450626248390e",
            "value": "Extracting surrey-audiovisual-expressed-emotion-savee.zip: 100%"
          }
        },
        "6fcc4df48c69481490ae97fb42d0fe5b": {
          "model_module": "@jupyter-widgets/controls",
          "model_module_version": "1.5.0",
          "model_name": "ProgressStyleModel",
          "state": {
            "_model_module": "@jupyter-widgets/controls",
            "_model_module_version": "1.5.0",
            "_model_name": "ProgressStyleModel",
            "_view_count": null,
            "_view_module": "@jupyter-widgets/base",
            "_view_module_version": "1.2.0",
            "_view_name": "StyleView",
            "bar_color": null,
            "description_width": ""
          }
        },
        "71e19d59a6204b0cbd5115b5fd7395ae": {
          "model_module": "@jupyter-widgets/controls",
          "model_module_version": "1.5.0",
          "model_name": "FloatProgressModel",
          "state": {
            "_dom_classes": [],
            "_model_module": "@jupyter-widgets/controls",
            "_model_module_version": "1.5.0",
            "_model_name": "FloatProgressModel",
            "_view_count": null,
            "_view_module": "@jupyter-widgets/controls",
            "_view_module_version": "1.5.0",
            "_view_name": "ProgressView",
            "bar_style": "success",
            "description": "",
            "description_tooltip": null,
            "layout": "IPY_MODEL_e6388b26aed34ad9bdf3401d07e115a9",
            "max": 1,
            "min": 0,
            "orientation": "horizontal",
            "style": "IPY_MODEL_a9d2209ed0564d8688333419bdffed64",
            "value": 1
          }
        },
        "737a1880a4364fa4af06acd55fed24c5": {
          "model_module": "@jupyter-widgets/controls",
          "model_module_version": "1.5.0",
          "model_name": "HTMLModel",
          "state": {
            "_dom_classes": [],
            "_model_module": "@jupyter-widgets/controls",
            "_model_module_version": "1.5.0",
            "_model_name": "HTMLModel",
            "_view_count": null,
            "_view_module": "@jupyter-widgets/controls",
            "_view_module_version": "1.5.0",
            "_view_name": "HTMLView",
            "description": "",
            "description_tooltip": null,
            "layout": "IPY_MODEL_12b369f8e44e4204922ceb38babc6920",
            "placeholder": "​",
            "style": "IPY_MODEL_c9ce326e37d041e698a884b47fddff88",
            "value": " 480/480 [00:01&lt;00:00, 230.47it/s]"
          }
        },
        "754fa8c5417546539fb1c90770642d8c": {
          "model_module": "@jupyter-widgets/base",
          "model_module_version": "1.2.0",
          "model_name": "LayoutModel",
          "state": {
            "_model_module": "@jupyter-widgets/base",
            "_model_module_version": "1.2.0",
            "_model_name": "LayoutModel",
            "_view_count": null,
            "_view_module": "@jupyter-widgets/base",
            "_view_module_version": "1.2.0",
            "_view_name": "LayoutView",
            "align_content": null,
            "align_items": null,
            "align_self": null,
            "border": null,
            "bottom": null,
            "display": null,
            "flex": null,
            "flex_flow": null,
            "grid_area": null,
            "grid_auto_columns": null,
            "grid_auto_flow": null,
            "grid_auto_rows": null,
            "grid_column": null,
            "grid_gap": null,
            "grid_row": null,
            "grid_template_areas": null,
            "grid_template_columns": null,
            "grid_template_rows": null,
            "height": null,
            "justify_content": null,
            "justify_items": null,
            "left": null,
            "margin": null,
            "max_height": null,
            "max_width": null,
            "min_height": null,
            "min_width": null,
            "object_fit": null,
            "object_position": null,
            "order": null,
            "overflow": null,
            "overflow_x": null,
            "overflow_y": null,
            "padding": null,
            "right": null,
            "top": null,
            "visibility": null,
            "width": null
          }
        },
        "7e7af5a2bb7d4da7afc958126df895a9": {
          "model_module": "@jupyter-widgets/base",
          "model_module_version": "1.2.0",
          "model_name": "LayoutModel",
          "state": {
            "_model_module": "@jupyter-widgets/base",
            "_model_module_version": "1.2.0",
            "_model_name": "LayoutModel",
            "_view_count": null,
            "_view_module": "@jupyter-widgets/base",
            "_view_module_version": "1.2.0",
            "_view_name": "LayoutView",
            "align_content": null,
            "align_items": null,
            "align_self": null,
            "border": null,
            "bottom": null,
            "display": null,
            "flex": null,
            "flex_flow": null,
            "grid_area": null,
            "grid_auto_columns": null,
            "grid_auto_flow": null,
            "grid_auto_rows": null,
            "grid_column": null,
            "grid_gap": null,
            "grid_row": null,
            "grid_template_areas": null,
            "grid_template_columns": null,
            "grid_template_rows": null,
            "height": null,
            "justify_content": null,
            "justify_items": null,
            "left": null,
            "margin": null,
            "max_height": null,
            "max_width": null,
            "min_height": null,
            "min_width": null,
            "object_fit": null,
            "object_position": null,
            "order": null,
            "overflow": null,
            "overflow_x": null,
            "overflow_y": null,
            "padding": null,
            "right": null,
            "top": null,
            "visibility": null,
            "width": null
          }
        },
        "828d81f7e90c4f40961cccbc4d30b934": {
          "model_module": "@jupyter-widgets/controls",
          "model_module_version": "1.5.0",
          "model_name": "DescriptionStyleModel",
          "state": {
            "_model_module": "@jupyter-widgets/controls",
            "_model_module_version": "1.5.0",
            "_model_name": "DescriptionStyleModel",
            "_view_count": null,
            "_view_module": "@jupyter-widgets/base",
            "_view_module_version": "1.2.0",
            "_view_name": "StyleView",
            "description_width": ""
          }
        },
        "8abe97f7c0fb4d2ab0a0f82e061a9b65": {
          "model_module": "@jupyter-widgets/controls",
          "model_module_version": "1.5.0",
          "model_name": "DescriptionStyleModel",
          "state": {
            "_model_module": "@jupyter-widgets/controls",
            "_model_module_version": "1.5.0",
            "_model_name": "DescriptionStyleModel",
            "_view_count": null,
            "_view_module": "@jupyter-widgets/base",
            "_view_module_version": "1.2.0",
            "_view_name": "StyleView",
            "description_width": ""
          }
        },
        "8eb4c7397b9044a18f3609719698e3ae": {
          "model_module": "@jupyter-widgets/base",
          "model_module_version": "1.2.0",
          "model_name": "LayoutModel",
          "state": {
            "_model_module": "@jupyter-widgets/base",
            "_model_module_version": "1.2.0",
            "_model_name": "LayoutModel",
            "_view_count": null,
            "_view_module": "@jupyter-widgets/base",
            "_view_module_version": "1.2.0",
            "_view_name": "LayoutView",
            "align_content": null,
            "align_items": null,
            "align_self": null,
            "border": null,
            "bottom": null,
            "display": null,
            "flex": null,
            "flex_flow": null,
            "grid_area": null,
            "grid_auto_columns": null,
            "grid_auto_flow": null,
            "grid_auto_rows": null,
            "grid_column": null,
            "grid_gap": null,
            "grid_row": null,
            "grid_template_areas": null,
            "grid_template_columns": null,
            "grid_template_rows": null,
            "height": null,
            "justify_content": null,
            "justify_items": null,
            "left": null,
            "margin": null,
            "max_height": null,
            "max_width": null,
            "min_height": null,
            "min_width": null,
            "object_fit": null,
            "object_position": null,
            "order": null,
            "overflow": null,
            "overflow_x": null,
            "overflow_y": null,
            "padding": null,
            "right": null,
            "top": null,
            "visibility": null,
            "width": null
          }
        },
        "9976b8f4c68242888ff32360aa3bdf2c": {
          "model_module": "@jupyter-widgets/controls",
          "model_module_version": "1.5.0",
          "model_name": "HBoxModel",
          "state": {
            "_dom_classes": [],
            "_model_module": "@jupyter-widgets/controls",
            "_model_module_version": "1.5.0",
            "_model_name": "HBoxModel",
            "_view_count": null,
            "_view_module": "@jupyter-widgets/controls",
            "_view_module_version": "1.5.0",
            "_view_name": "HBoxView",
            "box_style": "",
            "children": [
              "IPY_MODEL_13735316227f48eaa6eb92a062889fea",
              "IPY_MODEL_a8b079d431c0452f9f19bca801cfa974",
              "IPY_MODEL_b2acbcebb1d9418286041b57d9bce933"
            ],
            "layout": "IPY_MODEL_43abb7abf80247deaebfa5b60a5012e0"
          }
        },
        "9a39f641e0be4204a5bea4f04d656852": {
          "model_module": "@jupyter-widgets/base",
          "model_module_version": "1.2.0",
          "model_name": "LayoutModel",
          "state": {
            "_model_module": "@jupyter-widgets/base",
            "_model_module_version": "1.2.0",
            "_model_name": "LayoutModel",
            "_view_count": null,
            "_view_module": "@jupyter-widgets/base",
            "_view_module_version": "1.2.0",
            "_view_name": "LayoutView",
            "align_content": null,
            "align_items": null,
            "align_self": null,
            "border": null,
            "bottom": null,
            "display": null,
            "flex": null,
            "flex_flow": null,
            "grid_area": null,
            "grid_auto_columns": null,
            "grid_auto_flow": null,
            "grid_auto_rows": null,
            "grid_column": null,
            "grid_gap": null,
            "grid_row": null,
            "grid_template_areas": null,
            "grid_template_columns": null,
            "grid_template_rows": null,
            "height": null,
            "justify_content": null,
            "justify_items": null,
            "left": null,
            "margin": null,
            "max_height": null,
            "max_width": null,
            "min_height": null,
            "min_width": null,
            "object_fit": null,
            "object_position": null,
            "order": null,
            "overflow": null,
            "overflow_x": null,
            "overflow_y": null,
            "padding": null,
            "right": null,
            "top": null,
            "visibility": null,
            "width": null
          }
        },
        "9c708f1f43d240df8fdc20822d9dd586": {
          "model_module": "@jupyter-widgets/base",
          "model_module_version": "1.2.0",
          "model_name": "LayoutModel",
          "state": {
            "_model_module": "@jupyter-widgets/base",
            "_model_module_version": "1.2.0",
            "_model_name": "LayoutModel",
            "_view_count": null,
            "_view_module": "@jupyter-widgets/base",
            "_view_module_version": "1.2.0",
            "_view_name": "LayoutView",
            "align_content": null,
            "align_items": null,
            "align_self": null,
            "border": null,
            "bottom": null,
            "display": null,
            "flex": null,
            "flex_flow": null,
            "grid_area": null,
            "grid_auto_columns": null,
            "grid_auto_flow": null,
            "grid_auto_rows": null,
            "grid_column": null,
            "grid_gap": null,
            "grid_row": null,
            "grid_template_areas": null,
            "grid_template_columns": null,
            "grid_template_rows": null,
            "height": null,
            "justify_content": null,
            "justify_items": null,
            "left": null,
            "margin": null,
            "max_height": null,
            "max_width": null,
            "min_height": null,
            "min_width": null,
            "object_fit": null,
            "object_position": null,
            "order": null,
            "overflow": null,
            "overflow_x": null,
            "overflow_y": null,
            "padding": null,
            "right": null,
            "top": null,
            "visibility": null,
            "width": null
          }
        },
        "a8b079d431c0452f9f19bca801cfa974": {
          "model_module": "@jupyter-widgets/controls",
          "model_module_version": "1.5.0",
          "model_name": "FloatProgressModel",
          "state": {
            "_dom_classes": [],
            "_model_module": "@jupyter-widgets/controls",
            "_model_module_version": "1.5.0",
            "_model_name": "FloatProgressModel",
            "_view_count": null,
            "_view_module": "@jupyter-widgets/controls",
            "_view_module_version": "1.5.0",
            "_view_name": "ProgressView",
            "bar_style": "success",
            "description": "",
            "description_tooltip": null,
            "layout": "IPY_MODEL_754fa8c5417546539fb1c90770642d8c",
            "max": 7442,
            "min": 0,
            "orientation": "horizontal",
            "style": "IPY_MODEL_e65a064d399d446dbbb1ea0514f0bd1d",
            "value": 7442
          }
        },
        "a9d2209ed0564d8688333419bdffed64": {
          "model_module": "@jupyter-widgets/controls",
          "model_module_version": "1.5.0",
          "model_name": "ProgressStyleModel",
          "state": {
            "_model_module": "@jupyter-widgets/controls",
            "_model_module_version": "1.5.0",
            "_model_name": "ProgressStyleModel",
            "_view_count": null,
            "_view_module": "@jupyter-widgets/base",
            "_view_module_version": "1.2.0",
            "_view_name": "StyleView",
            "bar_color": null,
            "description_width": ""
          }
        },
        "af59968b510547248aac7880693516a0": {
          "model_module": "@jupyter-widgets/controls",
          "model_module_version": "1.5.0",
          "model_name": "DescriptionStyleModel",
          "state": {
            "_model_module": "@jupyter-widgets/controls",
            "_model_module_version": "1.5.0",
            "_model_name": "DescriptionStyleModel",
            "_view_count": null,
            "_view_module": "@jupyter-widgets/base",
            "_view_module_version": "1.2.0",
            "_view_name": "StyleView",
            "description_width": ""
          }
        },
        "af76c12705b3418b88c590aaa47e3ee5": {
          "model_module": "@jupyter-widgets/controls",
          "model_module_version": "1.5.0",
          "model_name": "DescriptionStyleModel",
          "state": {
            "_model_module": "@jupyter-widgets/controls",
            "_model_module_version": "1.5.0",
            "_model_name": "DescriptionStyleModel",
            "_view_count": null,
            "_view_module": "@jupyter-widgets/base",
            "_view_module_version": "1.2.0",
            "_view_name": "StyleView",
            "description_width": ""
          }
        },
        "b2acbcebb1d9418286041b57d9bce933": {
          "model_module": "@jupyter-widgets/controls",
          "model_module_version": "1.5.0",
          "model_name": "HTMLModel",
          "state": {
            "_dom_classes": [],
            "_model_module": "@jupyter-widgets/controls",
            "_model_module_version": "1.5.0",
            "_model_name": "HTMLModel",
            "_view_count": null,
            "_view_module": "@jupyter-widgets/controls",
            "_view_module_version": "1.5.0",
            "_view_name": "HTMLView",
            "description": "",
            "description_tooltip": null,
            "layout": "IPY_MODEL_7e7af5a2bb7d4da7afc958126df895a9",
            "placeholder": "​",
            "style": "IPY_MODEL_af76c12705b3418b88c590aaa47e3ee5",
            "value": " 7442/7442 [00:09&lt;00:00, 935.99it/s]"
          }
        },
        "b841857d9dc34982b4809a513b96f5cd": {
          "model_module": "@jupyter-widgets/controls",
          "model_module_version": "1.5.0",
          "model_name": "HTMLModel",
          "state": {
            "_dom_classes": [],
            "_model_module": "@jupyter-widgets/controls",
            "_model_module_version": "1.5.0",
            "_model_name": "HTMLModel",
            "_view_count": null,
            "_view_module": "@jupyter-widgets/controls",
            "_view_module_version": "1.5.0",
            "_view_name": "HTMLView",
            "description": "",
            "description_tooltip": null,
            "layout": "IPY_MODEL_9c708f1f43d240df8fdc20822d9dd586",
            "placeholder": "​",
            "style": "IPY_MODEL_1b19b627f79a4f5683f2c829e3a01b25",
            "value": " 5600/5600 [00:07&lt;00:00, 731.02it/s]"
          }
        },
        "ba1bddd9a17b482ca775c8a6f78b1119": {
          "model_module": "@jupyter-widgets/controls",
          "model_module_version": "1.5.0",
          "model_name": "HTMLModel",
          "state": {
            "_dom_classes": [],
            "_model_module": "@jupyter-widgets/controls",
            "_model_module_version": "1.5.0",
            "_model_name": "HTMLModel",
            "_view_count": null,
            "_view_module": "@jupyter-widgets/controls",
            "_view_module_version": "1.5.0",
            "_view_name": "HTMLView",
            "description": "",
            "description_tooltip": null,
            "layout": "IPY_MODEL_e72f2d632f8f4cb4a3a4f982f6915a08",
            "placeholder": "​",
            "style": "IPY_MODEL_828d81f7e90c4f40961cccbc4d30b934",
            "value": " 2880/2880 [00:13&lt;00:00, 275.80it/s]"
          }
        },
        "c5151114cd0d4c178114785a525018a2": {
          "model_module": "@jupyter-widgets/controls",
          "model_module_version": "1.5.0",
          "model_name": "HTMLModel",
          "state": {
            "_dom_classes": [],
            "_model_module": "@jupyter-widgets/controls",
            "_model_module_version": "1.5.0",
            "_model_name": "HTMLModel",
            "_view_count": null,
            "_view_module": "@jupyter-widgets/controls",
            "_view_module_version": "1.5.0",
            "_view_name": "HTMLView",
            "description": "",
            "description_tooltip": null,
            "layout": "IPY_MODEL_0939bd800274465e8e7c44ad8b2b8bf0",
            "placeholder": "​",
            "style": "IPY_MODEL_cdb8d40ac0a44cbbb4f6a453cc4818b5",
            "value": "Zipping files: "
          }
        },
        "c9ce326e37d041e698a884b47fddff88": {
          "model_module": "@jupyter-widgets/controls",
          "model_module_version": "1.5.0",
          "model_name": "DescriptionStyleModel",
          "state": {
            "_model_module": "@jupyter-widgets/controls",
            "_model_module_version": "1.5.0",
            "_model_name": "DescriptionStyleModel",
            "_view_count": null,
            "_view_module": "@jupyter-widgets/base",
            "_view_module_version": "1.2.0",
            "_view_name": "StyleView",
            "description_width": ""
          }
        },
        "cdb8d40ac0a44cbbb4f6a453cc4818b5": {
          "model_module": "@jupyter-widgets/controls",
          "model_module_version": "1.5.0",
          "model_name": "DescriptionStyleModel",
          "state": {
            "_model_module": "@jupyter-widgets/controls",
            "_model_module_version": "1.5.0",
            "_model_name": "DescriptionStyleModel",
            "_view_count": null,
            "_view_module": "@jupyter-widgets/base",
            "_view_module_version": "1.2.0",
            "_view_name": "StyleView",
            "description_width": ""
          }
        },
        "cdea3b702d9d40bab762b72d21a57f8d": {
          "model_module": "@jupyter-widgets/controls",
          "model_module_version": "1.5.0",
          "model_name": "HTMLModel",
          "state": {
            "_dom_classes": [],
            "_model_module": "@jupyter-widgets/controls",
            "_model_module_version": "1.5.0",
            "_model_name": "HTMLModel",
            "_view_count": null,
            "_view_module": "@jupyter-widgets/controls",
            "_view_module_version": "1.5.0",
            "_view_name": "HTMLView",
            "description": "",
            "description_tooltip": null,
            "layout": "IPY_MODEL_dcc398eddea140778df1fec461aceb8b",
            "placeholder": "​",
            "style": "IPY_MODEL_af59968b510547248aac7880693516a0",
            "value": "Extracting ravdess-emotional-speech-audio.zip: 100%"
          }
        },
        "d57b0bc7c4db4f15b4a450626248390e": {
          "model_module": "@jupyter-widgets/controls",
          "model_module_version": "1.5.0",
          "model_name": "DescriptionStyleModel",
          "state": {
            "_model_module": "@jupyter-widgets/controls",
            "_model_module_version": "1.5.0",
            "_model_name": "DescriptionStyleModel",
            "_view_count": null,
            "_view_module": "@jupyter-widgets/base",
            "_view_module_version": "1.2.0",
            "_view_name": "StyleView",
            "description_width": ""
          }
        },
        "dcc398eddea140778df1fec461aceb8b": {
          "model_module": "@jupyter-widgets/base",
          "model_module_version": "1.2.0",
          "model_name": "LayoutModel",
          "state": {
            "_model_module": "@jupyter-widgets/base",
            "_model_module_version": "1.2.0",
            "_model_name": "LayoutModel",
            "_view_count": null,
            "_view_module": "@jupyter-widgets/base",
            "_view_module_version": "1.2.0",
            "_view_name": "LayoutView",
            "align_content": null,
            "align_items": null,
            "align_self": null,
            "border": null,
            "bottom": null,
            "display": null,
            "flex": null,
            "flex_flow": null,
            "grid_area": null,
            "grid_auto_columns": null,
            "grid_auto_flow": null,
            "grid_auto_rows": null,
            "grid_column": null,
            "grid_gap": null,
            "grid_row": null,
            "grid_template_areas": null,
            "grid_template_columns": null,
            "grid_template_rows": null,
            "height": null,
            "justify_content": null,
            "justify_items": null,
            "left": null,
            "margin": null,
            "max_height": null,
            "max_width": null,
            "min_height": null,
            "min_width": null,
            "object_fit": null,
            "object_position": null,
            "order": null,
            "overflow": null,
            "overflow_x": null,
            "overflow_y": null,
            "padding": null,
            "right": null,
            "top": null,
            "visibility": null,
            "width": null
          }
        },
        "e6388b26aed34ad9bdf3401d07e115a9": {
          "model_module": "@jupyter-widgets/base",
          "model_module_version": "1.2.0",
          "model_name": "LayoutModel",
          "state": {
            "_model_module": "@jupyter-widgets/base",
            "_model_module_version": "1.2.0",
            "_model_name": "LayoutModel",
            "_view_count": null,
            "_view_module": "@jupyter-widgets/base",
            "_view_module_version": "1.2.0",
            "_view_name": "LayoutView",
            "align_content": null,
            "align_items": null,
            "align_self": null,
            "border": null,
            "bottom": null,
            "display": null,
            "flex": null,
            "flex_flow": null,
            "grid_area": null,
            "grid_auto_columns": null,
            "grid_auto_flow": null,
            "grid_auto_rows": null,
            "grid_column": null,
            "grid_gap": null,
            "grid_row": null,
            "grid_template_areas": null,
            "grid_template_columns": null,
            "grid_template_rows": null,
            "height": null,
            "justify_content": null,
            "justify_items": null,
            "left": null,
            "margin": null,
            "max_height": null,
            "max_width": null,
            "min_height": null,
            "min_width": null,
            "object_fit": null,
            "object_position": null,
            "order": null,
            "overflow": null,
            "overflow_x": null,
            "overflow_y": null,
            "padding": null,
            "right": null,
            "top": null,
            "visibility": null,
            "width": "20px"
          }
        },
        "e65a064d399d446dbbb1ea0514f0bd1d": {
          "model_module": "@jupyter-widgets/controls",
          "model_module_version": "1.5.0",
          "model_name": "ProgressStyleModel",
          "state": {
            "_model_module": "@jupyter-widgets/controls",
            "_model_module_version": "1.5.0",
            "_model_name": "ProgressStyleModel",
            "_view_count": null,
            "_view_module": "@jupyter-widgets/base",
            "_view_module_version": "1.2.0",
            "_view_name": "StyleView",
            "bar_color": null,
            "description_width": ""
          }
        },
        "e72f2d632f8f4cb4a3a4f982f6915a08": {
          "model_module": "@jupyter-widgets/base",
          "model_module_version": "1.2.0",
          "model_name": "LayoutModel",
          "state": {
            "_model_module": "@jupyter-widgets/base",
            "_model_module_version": "1.2.0",
            "_model_name": "LayoutModel",
            "_view_count": null,
            "_view_module": "@jupyter-widgets/base",
            "_view_module_version": "1.2.0",
            "_view_name": "LayoutView",
            "align_content": null,
            "align_items": null,
            "align_self": null,
            "border": null,
            "bottom": null,
            "display": null,
            "flex": null,
            "flex_flow": null,
            "grid_area": null,
            "grid_auto_columns": null,
            "grid_auto_flow": null,
            "grid_auto_rows": null,
            "grid_column": null,
            "grid_gap": null,
            "grid_row": null,
            "grid_template_areas": null,
            "grid_template_columns": null,
            "grid_template_rows": null,
            "height": null,
            "justify_content": null,
            "justify_items": null,
            "left": null,
            "margin": null,
            "max_height": null,
            "max_width": null,
            "min_height": null,
            "min_width": null,
            "object_fit": null,
            "object_position": null,
            "order": null,
            "overflow": null,
            "overflow_x": null,
            "overflow_y": null,
            "padding": null,
            "right": null,
            "top": null,
            "visibility": null,
            "width": null
          }
        },
        "e75ed9d6629243bcaeb36c591a2114cf": {
          "model_module": "@jupyter-widgets/controls",
          "model_module_version": "1.5.0",
          "model_name": "ProgressStyleModel",
          "state": {
            "_model_module": "@jupyter-widgets/controls",
            "_model_module_version": "1.5.0",
            "_model_name": "ProgressStyleModel",
            "_view_count": null,
            "_view_module": "@jupyter-widgets/base",
            "_view_module_version": "1.2.0",
            "_view_name": "StyleView",
            "bar_color": null,
            "description_width": ""
          }
        },
        "ebd40d055253461789b2c235d2a4c101": {
          "model_module": "@jupyter-widgets/controls",
          "model_module_version": "1.5.0",
          "model_name": "FloatProgressModel",
          "state": {
            "_dom_classes": [],
            "_model_module": "@jupyter-widgets/controls",
            "_model_module_version": "1.5.0",
            "_model_name": "FloatProgressModel",
            "_view_count": null,
            "_view_module": "@jupyter-widgets/controls",
            "_view_module_version": "1.5.0",
            "_view_name": "ProgressView",
            "bar_style": "success",
            "description": "",
            "description_tooltip": null,
            "layout": "IPY_MODEL_4ced3dc0434f433b8d34c5fca26b1e20",
            "max": 5600,
            "min": 0,
            "orientation": "horizontal",
            "style": "IPY_MODEL_e75ed9d6629243bcaeb36c591a2114cf",
            "value": 5600
          }
        },
        "f7ffd0c348d146629668ab97f6669907": {
          "model_module": "@jupyter-widgets/controls",
          "model_module_version": "1.5.0",
          "model_name": "DescriptionStyleModel",
          "state": {
            "_model_module": "@jupyter-widgets/controls",
            "_model_module_version": "1.5.0",
            "_model_name": "DescriptionStyleModel",
            "_view_count": null,
            "_view_module": "@jupyter-widgets/base",
            "_view_module_version": "1.2.0",
            "_view_name": "StyleView",
            "description_width": ""
          }
        },
        "fb674556dc354f4fb950d88559160f75": {
          "model_module": "@jupyter-widgets/controls",
          "model_module_version": "1.5.0",
          "model_name": "HBoxModel",
          "state": {
            "_dom_classes": [],
            "_model_module": "@jupyter-widgets/controls",
            "_model_module_version": "1.5.0",
            "_model_name": "HBoxModel",
            "_view_count": null,
            "_view_module": "@jupyter-widgets/controls",
            "_view_module_version": "1.5.0",
            "_view_name": "HBoxView",
            "box_style": "",
            "children": [
              "IPY_MODEL_cdea3b702d9d40bab762b72d21a57f8d",
              "IPY_MODEL_5390c9cd060c4a0bb83bb10285822fbe",
              "IPY_MODEL_ba1bddd9a17b482ca775c8a6f78b1119"
            ],
            "layout": "IPY_MODEL_56fc891fdf794dc5a0a79d9e861d21b5"
          }
        }
      }
    }
  },
  "nbformat": 4,
  "nbformat_minor": 0
}
