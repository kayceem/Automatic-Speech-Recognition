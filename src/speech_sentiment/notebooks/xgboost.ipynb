{
 "cells": [
  {
   "cell_type": "markdown",
   "metadata": {},
   "source": [
    "## XGB Base Model for Speech Emotion Recognition"
   ]
  },
  {
   "cell_type": "markdown",
   "metadata": {},
   "source": [
    "### Import Required Libraries  "
   ]
  },
  {
   "cell_type": "code",
   "execution_count": null,
   "metadata": {},
   "outputs": [],
   "source": [
    "import pandas as pd \n",
    "import librosa\n",
    "import numpy as np\n",
    "from tqdm import tqdm\n",
    "import xgboost as xgb\n",
    "import seaborn as sns\n",
    "import matplotlib.pyplot as plt\n",
    "from sklearn.model_selection import train_test_split, GridSearchCV\n",
    "from sklearn.metrics import accuracy_score, classification_report, confusion_matrix\n",
    "from sklearn.preprocessing import LabelEncoder,  StandardScaler\n",
    "import joblib\n",
    "from utils import get_processed_data_dir, get_models_dir"
   ]
  },
  {
   "cell_type": "markdown",
   "metadata": {},
   "source": [
    "### Import Dataset \n",
    "> Make sure that the dataset is downsampled and augmented using the scripts provided"
   ]
  },
  {
   "cell_type": "code",
   "execution_count": null,
   "metadata": {},
   "outputs": [],
   "source": [
    "train_csv= get_processed_data_dir(\"speech_sentiment\") / \"emotion_dataset.csv\"\n",
    "df = pd.read_csv(train_csv)"
   ]
  },
  {
   "cell_type": "markdown",
   "metadata": {},
   "source": [
    "### Encode emotions to numeric values"
   ]
  },
  {
   "cell_type": "code",
   "execution_count": null,
   "metadata": {},
   "outputs": [],
   "source": [
    "label_encoder = LabelEncoder()\n",
    "df[\"emotion_lable\"] = label_encoder.fit_transform(df[\"emotion\"])"
   ]
  },
  {
   "cell_type": "markdown",
   "metadata": {},
   "source": [
    "### Feature Extraction (Work in Progress)\n",
    "\n",
    "> Currently consiering mfcc, chroma and contrast"
   ]
  },
  {
   "cell_type": "code",
   "execution_count": null,
   "metadata": {},
   "outputs": [],
   "source": [
    "def extract_features(file_path):\n",
    "    y, sr = librosa.load(file_path, sr=None)\n",
    "    mfccs_mean = np.mean(librosa.feature.mfcc(y=y, sr=sr, n_mfcc=13), axis=1)\n",
    "    chroma_mean = np.mean(librosa.feature.chroma_stft(y=y, sr=sr), axis=1)\n",
    "    contrast_mean = np.mean(librosa.feature.spectral_contrast(y=y, sr=sr), axis=1)\n",
    "\n",
    "    features = {}\n",
    "    for i in range(13):\n",
    "        features[f'mfccs_mean_{i}'] = mfccs_mean[i]\n",
    "    for i in range(12):\n",
    "        features[f'chroma_mean_{i}'] = chroma_mean[i]\n",
    "    for i in range(7):\n",
    "        features[f'contrast_mean_{i}'] = contrast_mean[i]\n",
    "    return features\n",
    "\n",
    "tqdm.pandas(desc=\"Extracting Features\")\n",
    "\n",
    "features_list = df['path'].progress_apply(extract_features).tolist()\n",
    "features_df = pd.DataFrame(features_list)\n",
    "\n",
    "df = pd.concat([df, features_df], axis=1)"
   ]
  },
  {
   "cell_type": "code",
   "execution_count": null,
   "metadata": {},
   "outputs": [],
   "source": [
    "features_path = get_processed_data_dir(\"speech_sentiment\") / \"xgb_features.csv\"\n",
    "df.to_csv(features_path, index = False)"
   ]
  },
  {
   "cell_type": "markdown",
   "metadata": {},
   "source": [
    "### Create trainng and testing sets"
   ]
  },
  {
   "cell_type": "code",
   "execution_count": null,
   "metadata": {},
   "outputs": [],
   "source": [
    "features_path = get_processed_data_dir(\"speech_sentiment\") / \"xgb_features.csv\"\n",
    "df = pd.read_csv(features_path)"
   ]
  },
  {
   "cell_type": "markdown",
   "metadata": {},
   "source": [
    "### Scaling the data"
   ]
  },
  {
   "cell_type": "code",
   "execution_count": null,
   "metadata": {},
   "outputs": [],
   "source": [
    "scaler = StandardScaler()\n",
    "X = df.drop(columns=['path', 'emotion', 'emotion_lable'], axis=1)\n",
    "X = scaler.fit_transform(X)\n",
    "y = df['emotion_lable']"
   ]
  },
  {
   "cell_type": "code",
   "execution_count": null,
   "metadata": {},
   "outputs": [],
   "source": [
    "X_train, X_test, y_train, y_test = train_test_split(X, y, test_size=0.2, random_state=42)"
   ]
  },
  {
   "cell_type": "markdown",
   "metadata": {},
   "source": [
    "### Create XGB model and train"
   ]
  },
  {
   "cell_type": "code",
   "execution_count": null,
   "metadata": {},
   "outputs": [],
   "source": [
    "param_grid = {\n",
    "    'max_depth': [3, 5, 7],\n",
    "    'learning_rate': [0.01, 0.1, 0.2],\n",
    "    'n_estimators': [100, 500, 1000],\n",
    "}"
   ]
  },
  {
   "cell_type": "code",
   "execution_count": null,
   "metadata": {},
   "outputs": [],
   "source": [
    "model = xgb.XGBClassifier(objective='multi:softprob', num_class=len(y.unique()))\n",
    "\n",
    "grid_search = GridSearchCV(estimator=model, param_grid=param_grid, verbose=10)\n",
    "grid_search.fit(X_train, y_train)\n",
    "\n",
    "best_model = grid_search.best_estimator_"
   ]
  },
  {
   "cell_type": "code",
   "execution_count": null,
   "metadata": {},
   "outputs": [],
   "source": [
    "model.fit(X_train, y_train, verbose=True)"
   ]
  },
  {
   "cell_type": "code",
   "execution_count": null,
   "metadata": {},
   "outputs": [],
   "source": [
    "model_dir = get_models_dir(\"speech_sentiment/xgb\")\n",
    "joblib.dump(best_model, model_dir / \"model.pkl\")\n",
    "joblib.dump(scaler, model_dir / \"scaler.pkl\")\n",
    "joblib.dump(label_encoder, model_dir / \"label_encoder.pkl\")\n"
   ]
  },
  {
   "cell_type": "markdown",
   "metadata": {},
   "source": [
    "### Model evaluation"
   ]
  },
  {
   "cell_type": "code",
   "execution_count": null,
   "metadata": {},
   "outputs": [],
   "source": [
    "model_dir = get_models_dir(\"speech_sentiment/xgb\")\n",
    "best_model = joblib.load(model_dir / \"model.pkl\")\n",
    "scaler = joblib.load(model_dir / \"scaler.pkl\")\n",
    "label_encoder = joblib.load(model_dir / \"label_encoder.pkl\")"
   ]
  },
  {
   "cell_type": "code",
   "execution_count": null,
   "metadata": {},
   "outputs": [],
   "source": [
    "y_pred = best_model.predict(X_test)"
   ]
  },
  {
   "cell_type": "code",
   "execution_count": null,
   "metadata": {},
   "outputs": [],
   "source": [
    "accuracy = accuracy_score(y_test, y_pred)\n",
    "print(f'Accuracy: {accuracy * 100:.2f}%')\n",
    "print(classification_report(y_test, y_pred))"
   ]
  },
  {
   "cell_type": "code",
   "execution_count": null,
   "metadata": {},
   "outputs": [],
   "source": [
    "cm = confusion_matrix(y_test, y_pred)\n",
    "plt.figure(figsize=(10, 10))\n",
    "sns.heatmap(cm, annot=True, fmt='d', xticklabels=label_encoder.classes_, yticklabels=label_encoder.classes_, cmap = \"Blues\")\n",
    "plt.ylabel('Actual')\n",
    "plt.xlabel('Predicted')\n",
    "plt.show()\n",
    "plt.savefig(model_dir / 'confusion_matrix.png')"
   ]
  },
  {
   "cell_type": "markdown",
   "metadata": {},
   "source": [
    "### Inference"
   ]
  },
  {
   "cell_type": "code",
   "execution_count": null,
   "metadata": {},
   "outputs": [],
   "source": [
    "import pandas as pd\n",
    "import librosa\n",
    "import numpy as np\n",
    "import xgboost as xgb\n",
    "from sklearn.preprocessing import StandardScaler, LabelEncoder\n",
    "import joblib\n",
    "from utils import get_models_dir\n",
    "import os"
   ]
  },
  {
   "cell_type": "code",
   "execution_count": null,
   "metadata": {},
   "outputs": [],
   "source": [
    "model_dir = get_models_dir(\"speech_sentiment/xgb\")\n",
    "best_model = joblib.load(model_dir / \"model.pkl\")\n",
    "scaler = joblib.load(model_dir / \"scaler.pkl\")\n",
    "label_encoder = joblib.load(model_dir / \"label_encoder.pkl\")"
   ]
  },
  {
   "cell_type": "code",
   "execution_count": null,
   "metadata": {},
   "outputs": [],
   "source": [
    "clips_dir = get_processed_data_dir(\"speech_sentiment\") / \"downsampled_clips\"\n",
    "test_clip = clips_dir / os.listdir(clips_dir)[18000]\n",
    "\n",
    "# Feature extraction\n",
    "def extract_features(file_path):\n",
    "    y, sr = librosa.load(file_path, sr=None)\n",
    "    mfccs_mean = np.mean(librosa.feature.mfcc(y=y, sr=sr, n_mfcc=13), axis=1)\n",
    "    chroma_mean = np.mean(librosa.feature.chroma_stft(y=y, sr=sr), axis=1)\n",
    "    contrast_mean = np.mean(librosa.feature.spectral_contrast(y=y, sr=sr), axis=1)\n",
    "\n",
    "    features = {}\n",
    "    for i in range(13):\n",
    "        features[f'mfccs_mean_{i}'] = mfccs_mean[i]\n",
    "    for i in range(12):\n",
    "        features[f'chroma_mean_{i}'] = chroma_mean[i]\n",
    "    for i in range(7):\n",
    "        features[f'contrast_mean_{i}'] = contrast_mean[i]\n",
    "    return features"
   ]
  },
  {
   "cell_type": "code",
   "execution_count": null,
   "metadata": {},
   "outputs": [],
   "source": [
    "new_features = extract_features(test_clip)\n",
    "\n",
    "# Scale the features\n",
    "new_features_df = pd.DataFrame([new_features])\n",
    "new_features_scaled = scaler.transform(new_features_df)"
   ]
  },
  {
   "cell_type": "code",
   "execution_count": null,
   "metadata": {},
   "outputs": [],
   "source": [
    "y_pred = best_model.predict(new_features_scaled)\n",
    "predicted_emotion = label_encoder.inverse_transform(y_pred)\n",
    "print(f'Predicted Emotion: {predicted_emotion[0]}')"
   ]
  }
 ],
 "metadata": {
  "kernelspec": {
   "display_name": ".venv",
   "language": "python",
   "name": "python3"
  },
  "language_info": {
   "codemirror_mode": {
    "name": "ipython",
    "version": 3
   },
   "file_extension": ".py",
   "mimetype": "text/x-python",
   "name": "python",
   "nbconvert_exporter": "python",
   "pygments_lexer": "ipython3",
   "version": "3.11.11"
  }
 },
 "nbformat": 4,
 "nbformat_minor": 2
}
