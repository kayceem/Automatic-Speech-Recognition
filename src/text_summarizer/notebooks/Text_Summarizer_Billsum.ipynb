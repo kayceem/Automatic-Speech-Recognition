{
  "cells": [
    {
      "cell_type": "markdown",
      "metadata": {
        "id": "zKOYZ0OzACbp"
      },
      "source": [
        "# Text Summarization EDA\n"
      ]
    },
    {
      "cell_type": "markdown",
      "metadata": {},
      "source": [
        "### Billsum"
      ]
    },
    {
      "cell_type": "code",
      "execution_count": 7,
      "metadata": {},
      "outputs": [],
      "source": [
        "from datasets import load_dataset\n",
        "import pandas as pd\n",
        "from utils import get_data_dir\n",
        "\n",
        "save_dir = get_data_dir(\"raw/text_summarization/billsum\")\n",
        "\n",
        "dataset = load_dataset(\"FiscalNote/billsum\")\n",
        "\n",
        "train_df = pd.DataFrame(dataset[\"train\"])\n",
        "test_df = pd.DataFrame(dataset[\"test\"])\n",
        "\n",
        "train_df.to_parquet(save_dir / \"train.parquet\", index=False)\n",
        "test_df.to_parquet(save_dir / \"test.parquet\", index=False)\n"
      ]
    },
    {
      "cell_type": "markdown",
      "metadata": {},
      "source": [
        "### SAMSUM"
      ]
    },
    {
      "cell_type": "code",
      "execution_count": null,
      "metadata": {},
      "outputs": [],
      "source": []
    },
    {
      "cell_type": "markdown",
      "metadata": {},
      "source": [
        "## 01. Install and Import Libraries"
      ]
    },
    {
      "cell_type": "code",
      "execution_count": 8,
      "metadata": {},
      "outputs": [
        {
          "name": "stdout",
          "output_type": "stream",
          "text": [
            "Requirement already satisfied: textblob in /home/kayc/Code/Fuse/ASR-with-Speech-Sentiment-and-Text-Summarizer/.venv/lib/python3.11/site-packages (0.19.0)\n",
            "Requirement already satisfied: plotly in /home/kayc/Code/Fuse/ASR-with-Speech-Sentiment-and-Text-Summarizer/.venv/lib/python3.11/site-packages (6.1.0)\n",
            "Requirement already satisfied: nltk>=3.9 in /home/kayc/Code/Fuse/ASR-with-Speech-Sentiment-and-Text-Summarizer/.venv/lib/python3.11/site-packages (from textblob) (3.9.1)\n",
            "Requirement already satisfied: narwhals>=1.15.1 in /home/kayc/Code/Fuse/ASR-with-Speech-Sentiment-and-Text-Summarizer/.venv/lib/python3.11/site-packages (from plotly) (1.40.0)\n",
            "Requirement already satisfied: packaging in /home/kayc/Code/Fuse/ASR-with-Speech-Sentiment-and-Text-Summarizer/.venv/lib/python3.11/site-packages (from plotly) (24.2)\n",
            "Requirement already satisfied: click in /home/kayc/Code/Fuse/ASR-with-Speech-Sentiment-and-Text-Summarizer/.venv/lib/python3.11/site-packages (from nltk>=3.9->textblob) (8.1.8)\n",
            "Requirement already satisfied: joblib in /home/kayc/Code/Fuse/ASR-with-Speech-Sentiment-and-Text-Summarizer/.venv/lib/python3.11/site-packages (from nltk>=3.9->textblob) (1.4.2)\n",
            "Requirement already satisfied: regex>=2021.8.3 in /home/kayc/Code/Fuse/ASR-with-Speech-Sentiment-and-Text-Summarizer/.venv/lib/python3.11/site-packages (from nltk>=3.9->textblob) (2024.11.6)\n",
            "Requirement already satisfied: tqdm in /home/kayc/Code/Fuse/ASR-with-Speech-Sentiment-and-Text-Summarizer/.venv/lib/python3.11/site-packages (from nltk>=3.9->textblob) (4.67.1)\n",
            "\n",
            "\u001b[1m[\u001b[0m\u001b[34;49mnotice\u001b[0m\u001b[1;39;49m]\u001b[0m\u001b[39;49m A new release of pip is available: \u001b[0m\u001b[31;49m24.3.1\u001b[0m\u001b[39;49m -> \u001b[0m\u001b[32;49m25.1.1\u001b[0m\n",
            "\u001b[1m[\u001b[0m\u001b[34;49mnotice\u001b[0m\u001b[1;39;49m]\u001b[0m\u001b[39;49m To update, run: \u001b[0m\u001b[32;49mpip install --upgrade pip\u001b[0m\n"
          ]
        }
      ],
      "source": [
        "!pip install textblob plotly"
      ]
    },
    {
      "cell_type": "code",
      "execution_count": 1,
      "metadata": {
        "id": "6X8HuqDbZkuT"
      },
      "outputs": [],
      "source": [
        "import re                                                                 # This library allows us to clean text data\n",
        "import pandas as pd\n",
        "import numpy as np\n",
        "import plotly.graph_objects as go\n",
        "import plotly.figure_factory as ff\n",
        "\n",
        "from scipy.stats import gaussian_kde\n",
        "from plotly.subplots import make_subplots\n",
        "from textblob import TextBlob                                             # Fix spelling mistakes in texts\n",
        "from sklearn.feature_extraction.text import TfidfVectorizer               # Identify most common terms in the corpus\n",
        "from utils import get_data_dir"
      ]
    },
    {
      "cell_type": "code",
      "execution_count": 2,
      "metadata": {
        "id": "cn5FG6G6Y4bT"
      },
      "outputs": [],
      "source": [
        "# Configuring notebook\n",
        "seed = 42\n",
        "colormap = 'cividis'\n",
        "template = 'plotly_dark'"
      ]
    },
    {
      "cell_type": "markdown",
      "metadata": {
        "id": "kjHw4eWDASy_"
      },
      "source": [
        "## 02. Data Visualization"
      ]
    },
    {
      "cell_type": "code",
      "execution_count": 3,
      "metadata": {
        "id": "e4NLqsPtdmSw"
      },
      "outputs": [],
      "source": [
        "def display_feature_list(features, feature_type):\n",
        "    '''\n",
        "    This function displays the features within each list for each type of data\n",
        "    '''\n",
        "\n",
        "    print(f\"\\n{feature_type} Features: \")\n",
        "    print(', '.join(features) if features else 'None')\n",
        "\n",
        "\n",
        "def describe_df(df):\n",
        "    \"\"\"\n",
        "    This function prints some basic info on the dataset and\n",
        "    sets global variables for feature lists.\n",
        "    \"\"\"\n",
        "\n",
        "    global categorical_features, continuous_features, binary_features\n",
        "    categorical_features = [\n",
        "        col for col in df.columns if df[col].dtype == 'object']\n",
        "    binary_features = [col for col in df.columns if df[col].nunique(\n",
        "    ) <= 2 and df[col].dtype != 'object']\n",
        "    continuous_features = [\n",
        "        col for col in df.columns if df[col].dtype != 'object' and col not in binary_features]\n",
        "\n",
        "    print(f\"\\n{type(df).__name__} shape: {df.shape}\")\n",
        "    print(f'Missing Data: \\n{df.isnull().sum()}')\n",
        "    print(f'Duplicates: {df.duplicated().sum()}')\n",
        "    print(f'Data Types: \\n{df.dtypes}')\n",
        "\n",
        "    display_feature_list(categorical_features, 'Categorical')\n",
        "    display_feature_list(continuous_features, 'Continuous')\n",
        "    display_feature_list(binary_features, 'Binary')\n",
        "\n",
        "    display(df.head(3))"
      ]
    },
    {
      "cell_type": "code",
      "execution_count": 4,
      "metadata": {
        "id": "5GQYio1HeCKE"
      },
      "outputs": [],
      "source": [
        "def histogram_boxplot(df, hist_color, box_color, height, width, legend, name):\n",
        "    '''\n",
        "    This function plots a Histogram and a Box Plot side by side\n",
        "\n",
        "    Parameters:\n",
        "    hist_color = The color of the histogram\n",
        "    box_color = The color of the boxplots\n",
        "    heigh and width = Image size\n",
        "    legend = Either to display legend or not\n",
        "    '''\n",
        "\n",
        "    features = df.select_dtypes(include=[np.number]).columns.tolist()\n",
        "\n",
        "    for feat in features:\n",
        "        try:\n",
        "            fig = make_subplots(\n",
        "                rows=1,\n",
        "                cols=2,\n",
        "                subplot_titles=[\"Box Plot\", \"Histogram\"],\n",
        "                horizontal_spacing=0.2\n",
        "            )\n",
        "\n",
        "            density = gaussian_kde(df[feat])\n",
        "            x_vals = np.linspace(min(df[feat]), max(df[feat]), 200)\n",
        "            density_vals = density(x_vals)\n",
        "\n",
        "            fig.add_trace(go.Scatter(x=x_vals, y=density_vals, mode='lines',\n",
        "                                     fill='tozeroy', name=\"Density\", line_color=hist_color), row=1, col=2)\n",
        "            fig.add_trace(go.Box(\n",
        "                y=df[feat], name=\"Box Plot\", boxmean=True, line_color=box_color), row=1, col=1)\n",
        "\n",
        "            fig.update_layout(title={'text': f'<b>{name} Word Count<br><sup><i>&nbsp;&nbsp;&nbsp;&nbsp;{feat}</i></sup></b>',\n",
        "                                     'x': .025, 'xanchor': 'left'},\n",
        "                              margin=dict(t=100),\n",
        "                              showlegend=legend,\n",
        "                              template=template,\n",
        "                              # plot_bgcolor=bg_color,paper_bgcolor=paper_color,\n",
        "                              height=height, width=width\n",
        "                              )\n",
        "\n",
        "            fig.update_yaxes(title_text=f\"<b>Words</b>\",\n",
        "                             row=1, col=1, showgrid=False)\n",
        "            fig.update_xaxes(title_text=\"\", row=1, col=1, showgrid=False)\n",
        "\n",
        "            fig.update_yaxes(title_text=\"<b>Frequency</b>\",\n",
        "                             row=1, col=2, showgrid=False)\n",
        "            fig.update_xaxes(title_text=f\"<b>Words</b>\",\n",
        "                             row=1, col=2, showgrid=False)\n",
        "\n",
        "            fig.show()\n",
        "\n",
        "        except Exception as e:\n",
        "            print(f\"An error occurred: {e}\")"
      ]
    },
    {
      "cell_type": "code",
      "execution_count": 5,
      "metadata": {
        "id": "wUMEFW7NeGMD"
      },
      "outputs": [],
      "source": [
        "def plot_correlation(df, title, subtitle, height, width, font_size):\n",
        "    '''\n",
        "    This function is resposible to plot a correlation map among features in the dataset.\n",
        "\n",
        "    Parameters:\n",
        "    height = Define height\n",
        "    width = Define width\n",
        "    font_size = Define the font size for the annotations\n",
        "    '''\n",
        "    corr = np.round(df.corr(numeric_only=True), 2)\n",
        "    mask = np.triu(np.ones_like(corr, dtype=bool))\n",
        "    c_mask = np.where(~mask, corr, 100)\n",
        "\n",
        "    c = []\n",
        "    for i in c_mask.tolist()[1:]:\n",
        "        c.append([x for x in i if x != 100])\n",
        "\n",
        "    fig = ff.create_annotated_heatmap(z=c[::-1],\n",
        "                                      x=corr.index.tolist()[:-1],\n",
        "                                      y=corr.columns.tolist()[1:][::-1],\n",
        "                                      colorscale=colormap)\n",
        "\n",
        "    fig.update_layout(title={'text': f\"<b>{title} Heatmap<br><sup>&nbsp;&nbsp;&nbsp;&nbsp;<i>{subtitle}</i></sup></b>\",\n",
        "                             'x': .025, 'xanchor': 'left', 'y': .95},\n",
        "                      margin=dict(t=210, l=110),\n",
        "                      yaxis=dict(autorange='reversed', showgrid=False),\n",
        "                      xaxis=dict(showgrid=False),\n",
        "                      template=template,\n",
        "                      # plot_bgcolor=bg_color,paper_bgcolor=paper_color,\n",
        "                      height=height, width=width)\n",
        "\n",
        "    fig.add_trace(go.Heatmap(z=c[::-1],\n",
        "                             colorscale=colormap,\n",
        "                             showscale=True,\n",
        "                             visible=False))\n",
        "    fig.data[1].visible = True\n",
        "\n",
        "    for i in range(len(fig.layout.annotations)):\n",
        "        fig.layout.annotations[i].font.size = font_size\n",
        "\n",
        "    fig.show()"
      ]
    },
    {
      "cell_type": "code",
      "execution_count": 6,
      "metadata": {
        "id": "QjaZBD72eIse"
      },
      "outputs": [],
      "source": [
        "def compute_tfidf(df_column, ngram_range=(1,1), max_features=15):\n",
        "    vectorizer = TfidfVectorizer(max_features=max_features, stop_words='english', ngram_range=ngram_range)\n",
        "    x = vectorizer.fit_transform(df_column.fillna(''))\n",
        "    df_tfidfvect = pd.DataFrame(x.toarray(), columns=vectorizer.get_feature_names_out())\n",
        "    return df_tfidfvect"
      ]
    },
    {
      "cell_type": "code",
      "execution_count": 7,
      "metadata": {
        "id": "kfspnReTaJ6u"
      },
      "outputs": [],
      "source": [
        "data_dir = get_data_dir(\"raw/text_summarization/billsum\")\n",
        "train = pd.read_parquet(data_dir / \"train.parquet\")\n",
        "test = pd.read_parquet(data_dir / \"test.parquet\")"
      ]
    },
    {
      "cell_type": "code",
      "execution_count": 8,
      "metadata": {
        "colab": {
          "base_uri": "https://localhost:8080/",
          "height": 537
        },
        "id": "zIGoamM_ZUhS",
        "outputId": "84157981-0b1c-44d6-f012-dae133ab7f8a"
      },
      "outputs": [
        {
          "name": "stdout",
          "output_type": "stream",
          "text": [
            "\n",
            "DataFrame shape: (18949, 3)\n",
            "Missing Data: \n",
            "text       0\n",
            "summary    0\n",
            "title      0\n",
            "dtype: int64\n",
            "Duplicates: 0\n",
            "Data Types: \n",
            "text       object\n",
            "summary    object\n",
            "title      object\n",
            "dtype: object\n",
            "\n",
            "Categorical Features: \n",
            "text, summary, title\n",
            "\n",
            "Continuous Features: \n",
            "None\n",
            "\n",
            "Binary Features: \n",
            "None\n"
          ]
        },
        {
          "data": {
            "text/html": [
              "<div>\n",
              "<style scoped>\n",
              "    .dataframe tbody tr th:only-of-type {\n",
              "        vertical-align: middle;\n",
              "    }\n",
              "\n",
              "    .dataframe tbody tr th {\n",
              "        vertical-align: top;\n",
              "    }\n",
              "\n",
              "    .dataframe thead th {\n",
              "        text-align: right;\n",
              "    }\n",
              "</style>\n",
              "<table border=\"1\" class=\"dataframe\">\n",
              "  <thead>\n",
              "    <tr style=\"text-align: right;\">\n",
              "      <th></th>\n",
              "      <th>text</th>\n",
              "      <th>summary</th>\n",
              "      <th>title</th>\n",
              "    </tr>\n",
              "  </thead>\n",
              "  <tbody>\n",
              "    <tr>\n",
              "      <th>0</th>\n",
              "      <td>SECTION 1. LIABILITY OF BUSINESS ENTITIES PROV...</td>\n",
              "      <td>Shields a business entity from civil liability...</td>\n",
              "      <td>A bill to limit the civil liability of busines...</td>\n",
              "    </tr>\n",
              "    <tr>\n",
              "      <th>1</th>\n",
              "      <td>SECTION 1. SHORT TITLE.\\n\\n    This Act may be...</td>\n",
              "      <td>Human Rights Information Act - Requires certai...</td>\n",
              "      <td>Human Rights Information Act</td>\n",
              "    </tr>\n",
              "    <tr>\n",
              "      <th>2</th>\n",
              "      <td>SECTION 1. SHORT TITLE.\\n\\n    This Act may be...</td>\n",
              "      <td>Jackie Robinson Commemorative Coin Act - Direc...</td>\n",
              "      <td>Jackie Robinson Commemorative Coin Act</td>\n",
              "    </tr>\n",
              "  </tbody>\n",
              "</table>\n",
              "</div>"
            ],
            "text/plain": [
              "                                                text  \\\n",
              "0  SECTION 1. LIABILITY OF BUSINESS ENTITIES PROV...   \n",
              "1  SECTION 1. SHORT TITLE.\\n\\n    This Act may be...   \n",
              "2  SECTION 1. SHORT TITLE.\\n\\n    This Act may be...   \n",
              "\n",
              "                                             summary  \\\n",
              "0  Shields a business entity from civil liability...   \n",
              "1  Human Rights Information Act - Requires certai...   \n",
              "2  Jackie Robinson Commemorative Coin Act - Direc...   \n",
              "\n",
              "                                               title  \n",
              "0  A bill to limit the civil liability of busines...  \n",
              "1                       Human Rights Information Act  \n",
              "2             Jackie Robinson Commemorative Coin Act  "
            ]
          },
          "metadata": {},
          "output_type": "display_data"
        }
      ],
      "source": [
        "# Extracting info on the training Dataframe\n",
        "describe_df(train)"
      ]
    },
    {
      "cell_type": "code",
      "execution_count": 9,
      "metadata": {
        "colab": {
          "base_uri": "https://localhost:8080/",
          "height": 89
        },
        "id": "mDVQ6xIGeZZH",
        "outputId": "421d16b4-1e58-434a-dbf3-0f5545c895ce"
      },
      "outputs": [
        {
          "data": {
            "text/html": [
              "<div>\n",
              "<style scoped>\n",
              "    .dataframe tbody tr th:only-of-type {\n",
              "        vertical-align: middle;\n",
              "    }\n",
              "\n",
              "    .dataframe tbody tr th {\n",
              "        vertical-align: top;\n",
              "    }\n",
              "\n",
              "    .dataframe thead th {\n",
              "        text-align: right;\n",
              "    }\n",
              "</style>\n",
              "<table border=\"1\" class=\"dataframe\">\n",
              "  <thead>\n",
              "    <tr style=\"text-align: right;\">\n",
              "      <th></th>\n",
              "      <th>text</th>\n",
              "      <th>summary</th>\n",
              "      <th>title</th>\n",
              "    </tr>\n",
              "  </thead>\n",
              "  <tbody>\n",
              "  </tbody>\n",
              "</table>\n",
              "</div>"
            ],
            "text/plain": [
              "Empty DataFrame\n",
              "Columns: [text, summary, title]\n",
              "Index: []"
            ]
          },
          "execution_count": 9,
          "metadata": {},
          "output_type": "execute_result"
        }
      ],
      "source": [
        "mask = train['text'].isnull()       # Creating mask with null dialogues\n",
        "filtered_train = train[mask]        # Filtering dataframe\n",
        "filtered_train                      # Visualizing"
      ]
    },
    {
      "cell_type": "code",
      "execution_count": 10,
      "metadata": {
        "colab": {
          "base_uri": "https://localhost:8080/",
          "height": 1000
        },
        "id": "BUHkmPMdegTN",
        "outputId": "3ec2a073-4d36-40eb-cd06-3ef887f86bc1"
      },
      "outputs": [
        {
          "data": {
            "application/vnd.plotly.v1+json": {
              "config": {
                "plotlyServerURL": "https://plot.ly"
              },
              "data": [
                {
                  "fill": "tozeroy",
                  "line": {
                    "color": "#89c2e0"
                  },
                  "mode": "lines",
                  "name": "Density",
                  "type": "scatter",
                  "x": {
                    "bdata": "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",
                    "dtype": "f8"
                  },
                  "xaxis": "x2",
                  "y": {
                    "bdata": "sUd+xxjXxT5eJoMBVFnKPthz4LXzUM8+WHt286hi0j6j2UQU0WLVPpIhG8wrtdg+NWV8jjpr3D7rZtyAZU7gPoNSkX3qtOI+hom4RdR+5T47PeM44MnoPtEW4nYsv+w+kRdaWavL8D4LC9KOn8/zPtRD5DWPnvc+UD1AiL16/D7K4yey2VsBPwAXXGDTXQU/Ml2Cl+F/Cj+Anlx+uYMQPwDRJcWYoBQ/JYpUZB2/GT8xzdYzAwQgP7mnHXvH0CM/phFxwQ1WKD/1KYHTNZ8tP745qhpk2DE/nAduWkFDNT90T8fC2Qg5P0hUEYYUHD0/a9g+Pf+0QD+WeM9lHe1CP1/xcLUHKEU/Cvxj/wRWRz/KOWOoEGdJP2NWtd8OTEs/Ky3tcP/3TD8ONsG+BWFOPxnBns0fgU8/i3hH6DgrUD9DLDC2jnFQPz85Te1XllA/8TP6sqGdUD/RD9qgPYxQP5rcEzJBZ1A/QtRnqpczUD+ectaAYutPPygFcnOmYk8/OX0s1wzTTj/Xpbu/OkFOP+PdHCSTsE0/mImpAG8jTT8XK8PmVZtMP6a1/0MuGUw/rNSYNWGdSz9voieh8SdLP1I+jEiJuEo/BMHQlYBOSj/SXnrY5uhJP2nu6m6Qhkk/QR71py4mST+9dQoScsZIPyj+lvAzZkg/w2zhup8ESD+e/i84U6FHP6KFhTJsPEc/RMBMQ37WRj+altc7cXBGP10OUlxPC0Y/s0enoA+oRT9YVurjaUdFP6iRpKC/6UQ/i2PVcx2PRD8hlbyLUTdEP2amkcoM4kM/+95eEwKPQz/XSnTO+T1DP4amuwDW7kI/yUtjiYqhQj/05JsKElZCP7zBBoVoDEI/cb7eoJDEQT9y3UL5oX5BPz45h6PYOkE/zya4hpv5QD+kdlFGcbtAP1E4s8nhgEA/op5RS0pKQD/kmu4wsBdAP8/so21C0T8/Xh18kFl4Pz/d4cNK9yE/P+hxFQEFyz4/aqq+kIlwPj8hRcIxMRA+P0UH0JO5qD0/fWcz0ys6PT9FVYpm2sU8P2gafKUmTjw/wcNjfBzWOz9fjuEO+WA7PxPTGvWx8To/WbRVco+KOj/BHc9o5iw6P3zKecX42Dk/bud1wv2NOT9MB1zQTko5P3iNRryxCzk/DQDwdLTPOD+yLaAnC5Q4P+WRmrPfVjg/On7PRQMXOD9ud9UQ+dM3PyUTcZXajTc/xpUhIiBFNz9IDB2cX/o2P9I7OoEVrjY/HFhyj4dgNj/oNUgtxxE2PxjA4dvOwTU/7D6IU61wNT+2iNkPrR41P1NvYslozDQ/SDUEmMN6ND9FsYAGxCo0PwM9hcVZ3TM/R3aa6BuTMz9dewxqEEwzPx3IM6CMBzM/LQYnhDnEMj/M7UH1PoAyP2uTRvmPOTI/s6N+XknuMT8BREVnDp0xP5cAsTRORTE/uvtxVmHnMD/WNApneIQwPzC/CW5gHjA/rYolvlhuLz+gRMsosqEuP4a9HVAB2i0/9F7j01YZLT/o99H6hGAsP7yflok8rys/G7qpcUkEKz8cPla91l0qP013wAWquSk/LLWiy1MVKT82KupHXG4oP759Gbx2wic/vbY0PL8PJz8KGa0R/FQmP/M0JVTSkSU/gXLHo9rGJD96NLQ1ifUjP6NjYnPpHyM/83c57DtIIj9HwFVDj3AhP3JRaCxumiA/7PrDZWqNHz+XySpnLOsdP83hhHOETRw/wga+4FKzGj/BiRnHfBsZP4VMfsVahRc/rDfSqv/wFT9ThjIEVV8UP1lJ0VUV0hI/aC5mIK9LET+w+gTsM54PP+Ig1FxFvww/BXizimABCj/Iu1boA2sHP0YiuePRAQU/lDR0qwfKAj+ei3wUCsYAPxQcGus87P0+hAOZCcSw+j4ScVj0ENL3Pub8EPW4RfU+hhlG5Nr/8j5UFJQCl/TwPgLSt0W6Mu4+v6bEAKzL6j6iQ/iQjKjnPsHr5tTVwuQ+PEx6sdkX4j4QWc3gd07fPmpNaRTU4to+Gtrg9c3s1j5W67SPMWrTPnLcMq0xVtA+h5dQjZZTyz4DecJJEbnGPg0Rg2aQysI+Mewfmzbrvj575rdgPlC5PsD7+HpWobQ+ERp2IiK9sD6rRvV2eQirPg==",
                    "dtype": "f8"
                  },
                  "yaxis": "y2"
                },
                {
                  "boxmean": true,
                  "line": {
                    "color": "#d500ff"
                  },
                  "name": "Box Plot",
                  "type": "box",
                  "xaxis": "x",
                  "y": {
                    "bdata": "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",
                    "dtype": "i2"
                  },
                  "yaxis": "y"
                }
              ],
              "layout": {
                "annotations": [
                  {
                    "font": {
                      "size": 16
                    },
                    "showarrow": false,
                    "text": "Box Plot",
                    "x": 0.2,
                    "xanchor": "center",
                    "xref": "paper",
                    "y": 1,
                    "yanchor": "bottom",
                    "yref": "paper"
                  },
                  {
                    "font": {
                      "size": 16
                    },
                    "showarrow": false,
                    "text": "Histogram",
                    "x": 0.8,
                    "xanchor": "center",
                    "xref": "paper",
                    "y": 1,
                    "yanchor": "bottom",
                    "yref": "paper"
                  }
                ],
                "height": 600,
                "margin": {
                  "t": 100
                },
                "showlegend": true,
                "template": {
                  "data": {
                    "bar": [
                      {
                        "error_x": {
                          "color": "#f2f5fa"
                        },
                        "error_y": {
                          "color": "#f2f5fa"
                        },
                        "marker": {
                          "line": {
                            "color": "rgb(17,17,17)",
                            "width": 0.5
                          },
                          "pattern": {
                            "fillmode": "overlay",
                            "size": 10,
                            "solidity": 0.2
                          }
                        },
                        "type": "bar"
                      }
                    ],
                    "barpolar": [
                      {
                        "marker": {
                          "line": {
                            "color": "rgb(17,17,17)",
                            "width": 0.5
                          },
                          "pattern": {
                            "fillmode": "overlay",
                            "size": 10,
                            "solidity": 0.2
                          }
                        },
                        "type": "barpolar"
                      }
                    ],
                    "carpet": [
                      {
                        "aaxis": {
                          "endlinecolor": "#A2B1C6",
                          "gridcolor": "#506784",
                          "linecolor": "#506784",
                          "minorgridcolor": "#506784",
                          "startlinecolor": "#A2B1C6"
                        },
                        "baxis": {
                          "endlinecolor": "#A2B1C6",
                          "gridcolor": "#506784",
                          "linecolor": "#506784",
                          "minorgridcolor": "#506784",
                          "startlinecolor": "#A2B1C6"
                        },
                        "type": "carpet"
                      }
                    ],
                    "choropleth": [
                      {
                        "colorbar": {
                          "outlinewidth": 0,
                          "ticks": ""
                        },
                        "type": "choropleth"
                      }
                    ],
                    "contour": [
                      {
                        "colorbar": {
                          "outlinewidth": 0,
                          "ticks": ""
                        },
                        "colorscale": [
                          [
                            0,
                            "#0d0887"
                          ],
                          [
                            0.1111111111111111,
                            "#46039f"
                          ],
                          [
                            0.2222222222222222,
                            "#7201a8"
                          ],
                          [
                            0.3333333333333333,
                            "#9c179e"
                          ],
                          [
                            0.4444444444444444,
                            "#bd3786"
                          ],
                          [
                            0.5555555555555556,
                            "#d8576b"
                          ],
                          [
                            0.6666666666666666,
                            "#ed7953"
                          ],
                          [
                            0.7777777777777778,
                            "#fb9f3a"
                          ],
                          [
                            0.8888888888888888,
                            "#fdca26"
                          ],
                          [
                            1,
                            "#f0f921"
                          ]
                        ],
                        "type": "contour"
                      }
                    ],
                    "contourcarpet": [
                      {
                        "colorbar": {
                          "outlinewidth": 0,
                          "ticks": ""
                        },
                        "type": "contourcarpet"
                      }
                    ],
                    "heatmap": [
                      {
                        "colorbar": {
                          "outlinewidth": 0,
                          "ticks": ""
                        },
                        "colorscale": [
                          [
                            0,
                            "#0d0887"
                          ],
                          [
                            0.1111111111111111,
                            "#46039f"
                          ],
                          [
                            0.2222222222222222,
                            "#7201a8"
                          ],
                          [
                            0.3333333333333333,
                            "#9c179e"
                          ],
                          [
                            0.4444444444444444,
                            "#bd3786"
                          ],
                          [
                            0.5555555555555556,
                            "#d8576b"
                          ],
                          [
                            0.6666666666666666,
                            "#ed7953"
                          ],
                          [
                            0.7777777777777778,
                            "#fb9f3a"
                          ],
                          [
                            0.8888888888888888,
                            "#fdca26"
                          ],
                          [
                            1,
                            "#f0f921"
                          ]
                        ],
                        "type": "heatmap"
                      }
                    ],
                    "histogram": [
                      {
                        "marker": {
                          "pattern": {
                            "fillmode": "overlay",
                            "size": 10,
                            "solidity": 0.2
                          }
                        },
                        "type": "histogram"
                      }
                    ],
                    "histogram2d": [
                      {
                        "colorbar": {
                          "outlinewidth": 0,
                          "ticks": ""
                        },
                        "colorscale": [
                          [
                            0,
                            "#0d0887"
                          ],
                          [
                            0.1111111111111111,
                            "#46039f"
                          ],
                          [
                            0.2222222222222222,
                            "#7201a8"
                          ],
                          [
                            0.3333333333333333,
                            "#9c179e"
                          ],
                          [
                            0.4444444444444444,
                            "#bd3786"
                          ],
                          [
                            0.5555555555555556,
                            "#d8576b"
                          ],
                          [
                            0.6666666666666666,
                            "#ed7953"
                          ],
                          [
                            0.7777777777777778,
                            "#fb9f3a"
                          ],
                          [
                            0.8888888888888888,
                            "#fdca26"
                          ],
                          [
                            1,
                            "#f0f921"
                          ]
                        ],
                        "type": "histogram2d"
                      }
                    ],
                    "histogram2dcontour": [
                      {
                        "colorbar": {
                          "outlinewidth": 0,
                          "ticks": ""
                        },
                        "colorscale": [
                          [
                            0,
                            "#0d0887"
                          ],
                          [
                            0.1111111111111111,
                            "#46039f"
                          ],
                          [
                            0.2222222222222222,
                            "#7201a8"
                          ],
                          [
                            0.3333333333333333,
                            "#9c179e"
                          ],
                          [
                            0.4444444444444444,
                            "#bd3786"
                          ],
                          [
                            0.5555555555555556,
                            "#d8576b"
                          ],
                          [
                            0.6666666666666666,
                            "#ed7953"
                          ],
                          [
                            0.7777777777777778,
                            "#fb9f3a"
                          ],
                          [
                            0.8888888888888888,
                            "#fdca26"
                          ],
                          [
                            1,
                            "#f0f921"
                          ]
                        ],
                        "type": "histogram2dcontour"
                      }
                    ],
                    "mesh3d": [
                      {
                        "colorbar": {
                          "outlinewidth": 0,
                          "ticks": ""
                        },
                        "type": "mesh3d"
                      }
                    ],
                    "parcoords": [
                      {
                        "line": {
                          "colorbar": {
                            "outlinewidth": 0,
                            "ticks": ""
                          }
                        },
                        "type": "parcoords"
                      }
                    ],
                    "pie": [
                      {
                        "automargin": true,
                        "type": "pie"
                      }
                    ],
                    "scatter": [
                      {
                        "marker": {
                          "line": {
                            "color": "#283442"
                          }
                        },
                        "type": "scatter"
                      }
                    ],
                    "scatter3d": [
                      {
                        "line": {
                          "colorbar": {
                            "outlinewidth": 0,
                            "ticks": ""
                          }
                        },
                        "marker": {
                          "colorbar": {
                            "outlinewidth": 0,
                            "ticks": ""
                          }
                        },
                        "type": "scatter3d"
                      }
                    ],
                    "scattercarpet": [
                      {
                        "marker": {
                          "colorbar": {
                            "outlinewidth": 0,
                            "ticks": ""
                          }
                        },
                        "type": "scattercarpet"
                      }
                    ],
                    "scattergeo": [
                      {
                        "marker": {
                          "colorbar": {
                            "outlinewidth": 0,
                            "ticks": ""
                          }
                        },
                        "type": "scattergeo"
                      }
                    ],
                    "scattergl": [
                      {
                        "marker": {
                          "line": {
                            "color": "#283442"
                          }
                        },
                        "type": "scattergl"
                      }
                    ],
                    "scattermap": [
                      {
                        "marker": {
                          "colorbar": {
                            "outlinewidth": 0,
                            "ticks": ""
                          }
                        },
                        "type": "scattermap"
                      }
                    ],
                    "scattermapbox": [
                      {
                        "marker": {
                          "colorbar": {
                            "outlinewidth": 0,
                            "ticks": ""
                          }
                        },
                        "type": "scattermapbox"
                      }
                    ],
                    "scatterpolar": [
                      {
                        "marker": {
                          "colorbar": {
                            "outlinewidth": 0,
                            "ticks": ""
                          }
                        },
                        "type": "scatterpolar"
                      }
                    ],
                    "scatterpolargl": [
                      {
                        "marker": {
                          "colorbar": {
                            "outlinewidth": 0,
                            "ticks": ""
                          }
                        },
                        "type": "scatterpolargl"
                      }
                    ],
                    "scatterternary": [
                      {
                        "marker": {
                          "colorbar": {
                            "outlinewidth": 0,
                            "ticks": ""
                          }
                        },
                        "type": "scatterternary"
                      }
                    ],
                    "surface": [
                      {
                        "colorbar": {
                          "outlinewidth": 0,
                          "ticks": ""
                        },
                        "colorscale": [
                          [
                            0,
                            "#0d0887"
                          ],
                          [
                            0.1111111111111111,
                            "#46039f"
                          ],
                          [
                            0.2222222222222222,
                            "#7201a8"
                          ],
                          [
                            0.3333333333333333,
                            "#9c179e"
                          ],
                          [
                            0.4444444444444444,
                            "#bd3786"
                          ],
                          [
                            0.5555555555555556,
                            "#d8576b"
                          ],
                          [
                            0.6666666666666666,
                            "#ed7953"
                          ],
                          [
                            0.7777777777777778,
                            "#fb9f3a"
                          ],
                          [
                            0.8888888888888888,
                            "#fdca26"
                          ],
                          [
                            1,
                            "#f0f921"
                          ]
                        ],
                        "type": "surface"
                      }
                    ],
                    "table": [
                      {
                        "cells": {
                          "fill": {
                            "color": "#506784"
                          },
                          "line": {
                            "color": "rgb(17,17,17)"
                          }
                        },
                        "header": {
                          "fill": {
                            "color": "#2a3f5f"
                          },
                          "line": {
                            "color": "rgb(17,17,17)"
                          }
                        },
                        "type": "table"
                      }
                    ]
                  },
                  "layout": {
                    "annotationdefaults": {
                      "arrowcolor": "#f2f5fa",
                      "arrowhead": 0,
                      "arrowwidth": 1
                    },
                    "autotypenumbers": "strict",
                    "coloraxis": {
                      "colorbar": {
                        "outlinewidth": 0,
                        "ticks": ""
                      }
                    },
                    "colorscale": {
                      "diverging": [
                        [
                          0,
                          "#8e0152"
                        ],
                        [
                          0.1,
                          "#c51b7d"
                        ],
                        [
                          0.2,
                          "#de77ae"
                        ],
                        [
                          0.3,
                          "#f1b6da"
                        ],
                        [
                          0.4,
                          "#fde0ef"
                        ],
                        [
                          0.5,
                          "#f7f7f7"
                        ],
                        [
                          0.6,
                          "#e6f5d0"
                        ],
                        [
                          0.7,
                          "#b8e186"
                        ],
                        [
                          0.8,
                          "#7fbc41"
                        ],
                        [
                          0.9,
                          "#4d9221"
                        ],
                        [
                          1,
                          "#276419"
                        ]
                      ],
                      "sequential": [
                        [
                          0,
                          "#0d0887"
                        ],
                        [
                          0.1111111111111111,
                          "#46039f"
                        ],
                        [
                          0.2222222222222222,
                          "#7201a8"
                        ],
                        [
                          0.3333333333333333,
                          "#9c179e"
                        ],
                        [
                          0.4444444444444444,
                          "#bd3786"
                        ],
                        [
                          0.5555555555555556,
                          "#d8576b"
                        ],
                        [
                          0.6666666666666666,
                          "#ed7953"
                        ],
                        [
                          0.7777777777777778,
                          "#fb9f3a"
                        ],
                        [
                          0.8888888888888888,
                          "#fdca26"
                        ],
                        [
                          1,
                          "#f0f921"
                        ]
                      ],
                      "sequentialminus": [
                        [
                          0,
                          "#0d0887"
                        ],
                        [
                          0.1111111111111111,
                          "#46039f"
                        ],
                        [
                          0.2222222222222222,
                          "#7201a8"
                        ],
                        [
                          0.3333333333333333,
                          "#9c179e"
                        ],
                        [
                          0.4444444444444444,
                          "#bd3786"
                        ],
                        [
                          0.5555555555555556,
                          "#d8576b"
                        ],
                        [
                          0.6666666666666666,
                          "#ed7953"
                        ],
                        [
                          0.7777777777777778,
                          "#fb9f3a"
                        ],
                        [
                          0.8888888888888888,
                          "#fdca26"
                        ],
                        [
                          1,
                          "#f0f921"
                        ]
                      ]
                    },
                    "colorway": [
                      "#636efa",
                      "#EF553B",
                      "#00cc96",
                      "#ab63fa",
                      "#FFA15A",
                      "#19d3f3",
                      "#FF6692",
                      "#B6E880",
                      "#FF97FF",
                      "#FECB52"
                    ],
                    "font": {
                      "color": "#f2f5fa"
                    },
                    "geo": {
                      "bgcolor": "rgb(17,17,17)",
                      "lakecolor": "rgb(17,17,17)",
                      "landcolor": "rgb(17,17,17)",
                      "showlakes": true,
                      "showland": true,
                      "subunitcolor": "#506784"
                    },
                    "hoverlabel": {
                      "align": "left"
                    },
                    "hovermode": "closest",
                    "mapbox": {
                      "style": "dark"
                    },
                    "paper_bgcolor": "rgb(17,17,17)",
                    "plot_bgcolor": "rgb(17,17,17)",
                    "polar": {
                      "angularaxis": {
                        "gridcolor": "#506784",
                        "linecolor": "#506784",
                        "ticks": ""
                      },
                      "bgcolor": "rgb(17,17,17)",
                      "radialaxis": {
                        "gridcolor": "#506784",
                        "linecolor": "#506784",
                        "ticks": ""
                      }
                    },
                    "scene": {
                      "xaxis": {
                        "backgroundcolor": "rgb(17,17,17)",
                        "gridcolor": "#506784",
                        "gridwidth": 2,
                        "linecolor": "#506784",
                        "showbackground": true,
                        "ticks": "",
                        "zerolinecolor": "#C8D4E3"
                      },
                      "yaxis": {
                        "backgroundcolor": "rgb(17,17,17)",
                        "gridcolor": "#506784",
                        "gridwidth": 2,
                        "linecolor": "#506784",
                        "showbackground": true,
                        "ticks": "",
                        "zerolinecolor": "#C8D4E3"
                      },
                      "zaxis": {
                        "backgroundcolor": "rgb(17,17,17)",
                        "gridcolor": "#506784",
                        "gridwidth": 2,
                        "linecolor": "#506784",
                        "showbackground": true,
                        "ticks": "",
                        "zerolinecolor": "#C8D4E3"
                      }
                    },
                    "shapedefaults": {
                      "line": {
                        "color": "#f2f5fa"
                      }
                    },
                    "sliderdefaults": {
                      "bgcolor": "#C8D4E3",
                      "bordercolor": "rgb(17,17,17)",
                      "borderwidth": 1,
                      "tickwidth": 0
                    },
                    "ternary": {
                      "aaxis": {
                        "gridcolor": "#506784",
                        "linecolor": "#506784",
                        "ticks": ""
                      },
                      "baxis": {
                        "gridcolor": "#506784",
                        "linecolor": "#506784",
                        "ticks": ""
                      },
                      "bgcolor": "rgb(17,17,17)",
                      "caxis": {
                        "gridcolor": "#506784",
                        "linecolor": "#506784",
                        "ticks": ""
                      }
                    },
                    "title": {
                      "x": 0.05
                    },
                    "updatemenudefaults": {
                      "bgcolor": "#506784",
                      "borderwidth": 0
                    },
                    "xaxis": {
                      "automargin": true,
                      "gridcolor": "#283442",
                      "linecolor": "#506784",
                      "ticks": "",
                      "title": {
                        "standoff": 15
                      },
                      "zerolinecolor": "#283442",
                      "zerolinewidth": 2
                    },
                    "yaxis": {
                      "automargin": true,
                      "gridcolor": "#283442",
                      "linecolor": "#506784",
                      "ticks": "",
                      "title": {
                        "standoff": 15
                      },
                      "zerolinecolor": "#283442",
                      "zerolinewidth": 2
                    }
                  }
                },
                "title": {
                  "text": "<b>Train Dataset Word Count<br><sup><i>&nbsp;&nbsp;&nbsp;&nbsp;text</i></sup></b>",
                  "x": 0.025,
                  "xanchor": "left"
                },
                "width": 1000,
                "xaxis": {
                  "anchor": "y",
                  "domain": [
                    0,
                    0.4
                  ],
                  "showgrid": false,
                  "title": {
                    "text": ""
                  }
                },
                "xaxis2": {
                  "anchor": "y2",
                  "domain": [
                    0.6000000000000001,
                    1
                  ],
                  "showgrid": false,
                  "title": {
                    "text": "<b>Words</b>"
                  }
                },
                "yaxis": {
                  "anchor": "x",
                  "domain": [
                    0,
                    1
                  ],
                  "showgrid": false,
                  "title": {
                    "text": "<b>Words</b>"
                  }
                },
                "yaxis2": {
                  "anchor": "x2",
                  "domain": [
                    0,
                    1
                  ],
                  "showgrid": false,
                  "title": {
                    "text": "<b>Frequency</b>"
                  }
                }
              }
            }
          },
          "metadata": {},
          "output_type": "display_data"
        },
        {
          "data": {
            "application/vnd.plotly.v1+json": {
              "config": {
                "plotlyServerURL": "https://plot.ly"
              },
              "data": [
                {
                  "fill": "tozeroy",
                  "line": {
                    "color": "#89c2e0"
                  },
                  "mode": "lines",
                  "name": "Density",
                  "type": "scatter",
                  "x": {
                    "bdata": "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",
                    "dtype": "f8"
                  },
                  "xaxis": "x2",
                  "y": {
                    "bdata": "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",
                    "dtype": "f8"
                  },
                  "yaxis": "y2"
                },
                {
                  "boxmean": true,
                  "line": {
                    "color": "#d500ff"
                  },
                  "name": "Box Plot",
                  "type": "box",
                  "xaxis": "x",
                  "y": {
                    "bdata": "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",
                    "dtype": "i2"
                  },
                  "yaxis": "y"
                }
              ],
              "layout": {
                "annotations": [
                  {
                    "font": {
                      "size": 16
                    },
                    "showarrow": false,
                    "text": "Box Plot",
                    "x": 0.2,
                    "xanchor": "center",
                    "xref": "paper",
                    "y": 1,
                    "yanchor": "bottom",
                    "yref": "paper"
                  },
                  {
                    "font": {
                      "size": 16
                    },
                    "showarrow": false,
                    "text": "Histogram",
                    "x": 0.8,
                    "xanchor": "center",
                    "xref": "paper",
                    "y": 1,
                    "yanchor": "bottom",
                    "yref": "paper"
                  }
                ],
                "height": 600,
                "margin": {
                  "t": 100
                },
                "showlegend": true,
                "template": {
                  "data": {
                    "bar": [
                      {
                        "error_x": {
                          "color": "#f2f5fa"
                        },
                        "error_y": {
                          "color": "#f2f5fa"
                        },
                        "marker": {
                          "line": {
                            "color": "rgb(17,17,17)",
                            "width": 0.5
                          },
                          "pattern": {
                            "fillmode": "overlay",
                            "size": 10,
                            "solidity": 0.2
                          }
                        },
                        "type": "bar"
                      }
                    ],
                    "barpolar": [
                      {
                        "marker": {
                          "line": {
                            "color": "rgb(17,17,17)",
                            "width": 0.5
                          },
                          "pattern": {
                            "fillmode": "overlay",
                            "size": 10,
                            "solidity": 0.2
                          }
                        },
                        "type": "barpolar"
                      }
                    ],
                    "carpet": [
                      {
                        "aaxis": {
                          "endlinecolor": "#A2B1C6",
                          "gridcolor": "#506784",
                          "linecolor": "#506784",
                          "minorgridcolor": "#506784",
                          "startlinecolor": "#A2B1C6"
                        },
                        "baxis": {
                          "endlinecolor": "#A2B1C6",
                          "gridcolor": "#506784",
                          "linecolor": "#506784",
                          "minorgridcolor": "#506784",
                          "startlinecolor": "#A2B1C6"
                        },
                        "type": "carpet"
                      }
                    ],
                    "choropleth": [
                      {
                        "colorbar": {
                          "outlinewidth": 0,
                          "ticks": ""
                        },
                        "type": "choropleth"
                      }
                    ],
                    "contour": [
                      {
                        "colorbar": {
                          "outlinewidth": 0,
                          "ticks": ""
                        },
                        "colorscale": [
                          [
                            0,
                            "#0d0887"
                          ],
                          [
                            0.1111111111111111,
                            "#46039f"
                          ],
                          [
                            0.2222222222222222,
                            "#7201a8"
                          ],
                          [
                            0.3333333333333333,
                            "#9c179e"
                          ],
                          [
                            0.4444444444444444,
                            "#bd3786"
                          ],
                          [
                            0.5555555555555556,
                            "#d8576b"
                          ],
                          [
                            0.6666666666666666,
                            "#ed7953"
                          ],
                          [
                            0.7777777777777778,
                            "#fb9f3a"
                          ],
                          [
                            0.8888888888888888,
                            "#fdca26"
                          ],
                          [
                            1,
                            "#f0f921"
                          ]
                        ],
                        "type": "contour"
                      }
                    ],
                    "contourcarpet": [
                      {
                        "colorbar": {
                          "outlinewidth": 0,
                          "ticks": ""
                        },
                        "type": "contourcarpet"
                      }
                    ],
                    "heatmap": [
                      {
                        "colorbar": {
                          "outlinewidth": 0,
                          "ticks": ""
                        },
                        "colorscale": [
                          [
                            0,
                            "#0d0887"
                          ],
                          [
                            0.1111111111111111,
                            "#46039f"
                          ],
                          [
                            0.2222222222222222,
                            "#7201a8"
                          ],
                          [
                            0.3333333333333333,
                            "#9c179e"
                          ],
                          [
                            0.4444444444444444,
                            "#bd3786"
                          ],
                          [
                            0.5555555555555556,
                            "#d8576b"
                          ],
                          [
                            0.6666666666666666,
                            "#ed7953"
                          ],
                          [
                            0.7777777777777778,
                            "#fb9f3a"
                          ],
                          [
                            0.8888888888888888,
                            "#fdca26"
                          ],
                          [
                            1,
                            "#f0f921"
                          ]
                        ],
                        "type": "heatmap"
                      }
                    ],
                    "histogram": [
                      {
                        "marker": {
                          "pattern": {
                            "fillmode": "overlay",
                            "size": 10,
                            "solidity": 0.2
                          }
                        },
                        "type": "histogram"
                      }
                    ],
                    "histogram2d": [
                      {
                        "colorbar": {
                          "outlinewidth": 0,
                          "ticks": ""
                        },
                        "colorscale": [
                          [
                            0,
                            "#0d0887"
                          ],
                          [
                            0.1111111111111111,
                            "#46039f"
                          ],
                          [
                            0.2222222222222222,
                            "#7201a8"
                          ],
                          [
                            0.3333333333333333,
                            "#9c179e"
                          ],
                          [
                            0.4444444444444444,
                            "#bd3786"
                          ],
                          [
                            0.5555555555555556,
                            "#d8576b"
                          ],
                          [
                            0.6666666666666666,
                            "#ed7953"
                          ],
                          [
                            0.7777777777777778,
                            "#fb9f3a"
                          ],
                          [
                            0.8888888888888888,
                            "#fdca26"
                          ],
                          [
                            1,
                            "#f0f921"
                          ]
                        ],
                        "type": "histogram2d"
                      }
                    ],
                    "histogram2dcontour": [
                      {
                        "colorbar": {
                          "outlinewidth": 0,
                          "ticks": ""
                        },
                        "colorscale": [
                          [
                            0,
                            "#0d0887"
                          ],
                          [
                            0.1111111111111111,
                            "#46039f"
                          ],
                          [
                            0.2222222222222222,
                            "#7201a8"
                          ],
                          [
                            0.3333333333333333,
                            "#9c179e"
                          ],
                          [
                            0.4444444444444444,
                            "#bd3786"
                          ],
                          [
                            0.5555555555555556,
                            "#d8576b"
                          ],
                          [
                            0.6666666666666666,
                            "#ed7953"
                          ],
                          [
                            0.7777777777777778,
                            "#fb9f3a"
                          ],
                          [
                            0.8888888888888888,
                            "#fdca26"
                          ],
                          [
                            1,
                            "#f0f921"
                          ]
                        ],
                        "type": "histogram2dcontour"
                      }
                    ],
                    "mesh3d": [
                      {
                        "colorbar": {
                          "outlinewidth": 0,
                          "ticks": ""
                        },
                        "type": "mesh3d"
                      }
                    ],
                    "parcoords": [
                      {
                        "line": {
                          "colorbar": {
                            "outlinewidth": 0,
                            "ticks": ""
                          }
                        },
                        "type": "parcoords"
                      }
                    ],
                    "pie": [
                      {
                        "automargin": true,
                        "type": "pie"
                      }
                    ],
                    "scatter": [
                      {
                        "marker": {
                          "line": {
                            "color": "#283442"
                          }
                        },
                        "type": "scatter"
                      }
                    ],
                    "scatter3d": [
                      {
                        "line": {
                          "colorbar": {
                            "outlinewidth": 0,
                            "ticks": ""
                          }
                        },
                        "marker": {
                          "colorbar": {
                            "outlinewidth": 0,
                            "ticks": ""
                          }
                        },
                        "type": "scatter3d"
                      }
                    ],
                    "scattercarpet": [
                      {
                        "marker": {
                          "colorbar": {
                            "outlinewidth": 0,
                            "ticks": ""
                          }
                        },
                        "type": "scattercarpet"
                      }
                    ],
                    "scattergeo": [
                      {
                        "marker": {
                          "colorbar": {
                            "outlinewidth": 0,
                            "ticks": ""
                          }
                        },
                        "type": "scattergeo"
                      }
                    ],
                    "scattergl": [
                      {
                        "marker": {
                          "line": {
                            "color": "#283442"
                          }
                        },
                        "type": "scattergl"
                      }
                    ],
                    "scattermap": [
                      {
                        "marker": {
                          "colorbar": {
                            "outlinewidth": 0,
                            "ticks": ""
                          }
                        },
                        "type": "scattermap"
                      }
                    ],
                    "scattermapbox": [
                      {
                        "marker": {
                          "colorbar": {
                            "outlinewidth": 0,
                            "ticks": ""
                          }
                        },
                        "type": "scattermapbox"
                      }
                    ],
                    "scatterpolar": [
                      {
                        "marker": {
                          "colorbar": {
                            "outlinewidth": 0,
                            "ticks": ""
                          }
                        },
                        "type": "scatterpolar"
                      }
                    ],
                    "scatterpolargl": [
                      {
                        "marker": {
                          "colorbar": {
                            "outlinewidth": 0,
                            "ticks": ""
                          }
                        },
                        "type": "scatterpolargl"
                      }
                    ],
                    "scatterternary": [
                      {
                        "marker": {
                          "colorbar": {
                            "outlinewidth": 0,
                            "ticks": ""
                          }
                        },
                        "type": "scatterternary"
                      }
                    ],
                    "surface": [
                      {
                        "colorbar": {
                          "outlinewidth": 0,
                          "ticks": ""
                        },
                        "colorscale": [
                          [
                            0,
                            "#0d0887"
                          ],
                          [
                            0.1111111111111111,
                            "#46039f"
                          ],
                          [
                            0.2222222222222222,
                            "#7201a8"
                          ],
                          [
                            0.3333333333333333,
                            "#9c179e"
                          ],
                          [
                            0.4444444444444444,
                            "#bd3786"
                          ],
                          [
                            0.5555555555555556,
                            "#d8576b"
                          ],
                          [
                            0.6666666666666666,
                            "#ed7953"
                          ],
                          [
                            0.7777777777777778,
                            "#fb9f3a"
                          ],
                          [
                            0.8888888888888888,
                            "#fdca26"
                          ],
                          [
                            1,
                            "#f0f921"
                          ]
                        ],
                        "type": "surface"
                      }
                    ],
                    "table": [
                      {
                        "cells": {
                          "fill": {
                            "color": "#506784"
                          },
                          "line": {
                            "color": "rgb(17,17,17)"
                          }
                        },
                        "header": {
                          "fill": {
                            "color": "#2a3f5f"
                          },
                          "line": {
                            "color": "rgb(17,17,17)"
                          }
                        },
                        "type": "table"
                      }
                    ]
                  },
                  "layout": {
                    "annotationdefaults": {
                      "arrowcolor": "#f2f5fa",
                      "arrowhead": 0,
                      "arrowwidth": 1
                    },
                    "autotypenumbers": "strict",
                    "coloraxis": {
                      "colorbar": {
                        "outlinewidth": 0,
                        "ticks": ""
                      }
                    },
                    "colorscale": {
                      "diverging": [
                        [
                          0,
                          "#8e0152"
                        ],
                        [
                          0.1,
                          "#c51b7d"
                        ],
                        [
                          0.2,
                          "#de77ae"
                        ],
                        [
                          0.3,
                          "#f1b6da"
                        ],
                        [
                          0.4,
                          "#fde0ef"
                        ],
                        [
                          0.5,
                          "#f7f7f7"
                        ],
                        [
                          0.6,
                          "#e6f5d0"
                        ],
                        [
                          0.7,
                          "#b8e186"
                        ],
                        [
                          0.8,
                          "#7fbc41"
                        ],
                        [
                          0.9,
                          "#4d9221"
                        ],
                        [
                          1,
                          "#276419"
                        ]
                      ],
                      "sequential": [
                        [
                          0,
                          "#0d0887"
                        ],
                        [
                          0.1111111111111111,
                          "#46039f"
                        ],
                        [
                          0.2222222222222222,
                          "#7201a8"
                        ],
                        [
                          0.3333333333333333,
                          "#9c179e"
                        ],
                        [
                          0.4444444444444444,
                          "#bd3786"
                        ],
                        [
                          0.5555555555555556,
                          "#d8576b"
                        ],
                        [
                          0.6666666666666666,
                          "#ed7953"
                        ],
                        [
                          0.7777777777777778,
                          "#fb9f3a"
                        ],
                        [
                          0.8888888888888888,
                          "#fdca26"
                        ],
                        [
                          1,
                          "#f0f921"
                        ]
                      ],
                      "sequentialminus": [
                        [
                          0,
                          "#0d0887"
                        ],
                        [
                          0.1111111111111111,
                          "#46039f"
                        ],
                        [
                          0.2222222222222222,
                          "#7201a8"
                        ],
                        [
                          0.3333333333333333,
                          "#9c179e"
                        ],
                        [
                          0.4444444444444444,
                          "#bd3786"
                        ],
                        [
                          0.5555555555555556,
                          "#d8576b"
                        ],
                        [
                          0.6666666666666666,
                          "#ed7953"
                        ],
                        [
                          0.7777777777777778,
                          "#fb9f3a"
                        ],
                        [
                          0.8888888888888888,
                          "#fdca26"
                        ],
                        [
                          1,
                          "#f0f921"
                        ]
                      ]
                    },
                    "colorway": [
                      "#636efa",
                      "#EF553B",
                      "#00cc96",
                      "#ab63fa",
                      "#FFA15A",
                      "#19d3f3",
                      "#FF6692",
                      "#B6E880",
                      "#FF97FF",
                      "#FECB52"
                    ],
                    "font": {
                      "color": "#f2f5fa"
                    },
                    "geo": {
                      "bgcolor": "rgb(17,17,17)",
                      "lakecolor": "rgb(17,17,17)",
                      "landcolor": "rgb(17,17,17)",
                      "showlakes": true,
                      "showland": true,
                      "subunitcolor": "#506784"
                    },
                    "hoverlabel": {
                      "align": "left"
                    },
                    "hovermode": "closest",
                    "mapbox": {
                      "style": "dark"
                    },
                    "paper_bgcolor": "rgb(17,17,17)",
                    "plot_bgcolor": "rgb(17,17,17)",
                    "polar": {
                      "angularaxis": {
                        "gridcolor": "#506784",
                        "linecolor": "#506784",
                        "ticks": ""
                      },
                      "bgcolor": "rgb(17,17,17)",
                      "radialaxis": {
                        "gridcolor": "#506784",
                        "linecolor": "#506784",
                        "ticks": ""
                      }
                    },
                    "scene": {
                      "xaxis": {
                        "backgroundcolor": "rgb(17,17,17)",
                        "gridcolor": "#506784",
                        "gridwidth": 2,
                        "linecolor": "#506784",
                        "showbackground": true,
                        "ticks": "",
                        "zerolinecolor": "#C8D4E3"
                      },
                      "yaxis": {
                        "backgroundcolor": "rgb(17,17,17)",
                        "gridcolor": "#506784",
                        "gridwidth": 2,
                        "linecolor": "#506784",
                        "showbackground": true,
                        "ticks": "",
                        "zerolinecolor": "#C8D4E3"
                      },
                      "zaxis": {
                        "backgroundcolor": "rgb(17,17,17)",
                        "gridcolor": "#506784",
                        "gridwidth": 2,
                        "linecolor": "#506784",
                        "showbackground": true,
                        "ticks": "",
                        "zerolinecolor": "#C8D4E3"
                      }
                    },
                    "shapedefaults": {
                      "line": {
                        "color": "#f2f5fa"
                      }
                    },
                    "sliderdefaults": {
                      "bgcolor": "#C8D4E3",
                      "bordercolor": "rgb(17,17,17)",
                      "borderwidth": 1,
                      "tickwidth": 0
                    },
                    "ternary": {
                      "aaxis": {
                        "gridcolor": "#506784",
                        "linecolor": "#506784",
                        "ticks": ""
                      },
                      "baxis": {
                        "gridcolor": "#506784",
                        "linecolor": "#506784",
                        "ticks": ""
                      },
                      "bgcolor": "rgb(17,17,17)",
                      "caxis": {
                        "gridcolor": "#506784",
                        "linecolor": "#506784",
                        "ticks": ""
                      }
                    },
                    "title": {
                      "x": 0.05
                    },
                    "updatemenudefaults": {
                      "bgcolor": "#506784",
                      "borderwidth": 0
                    },
                    "xaxis": {
                      "automargin": true,
                      "gridcolor": "#283442",
                      "linecolor": "#506784",
                      "ticks": "",
                      "title": {
                        "standoff": 15
                      },
                      "zerolinecolor": "#283442",
                      "zerolinewidth": 2
                    },
                    "yaxis": {
                      "automargin": true,
                      "gridcolor": "#283442",
                      "linecolor": "#506784",
                      "ticks": "",
                      "title": {
                        "standoff": 15
                      },
                      "zerolinecolor": "#283442",
                      "zerolinewidth": 2
                    }
                  }
                },
                "title": {
                  "text": "<b>Train Dataset Word Count<br><sup><i>&nbsp;&nbsp;&nbsp;&nbsp;summary</i></sup></b>",
                  "x": 0.025,
                  "xanchor": "left"
                },
                "width": 1000,
                "xaxis": {
                  "anchor": "y",
                  "domain": [
                    0,
                    0.4
                  ],
                  "showgrid": false,
                  "title": {
                    "text": ""
                  }
                },
                "xaxis2": {
                  "anchor": "y2",
                  "domain": [
                    0.6000000000000001,
                    1
                  ],
                  "showgrid": false,
                  "title": {
                    "text": "<b>Words</b>"
                  }
                },
                "yaxis": {
                  "anchor": "x",
                  "domain": [
                    0,
                    1
                  ],
                  "showgrid": false,
                  "title": {
                    "text": "<b>Words</b>"
                  }
                },
                "yaxis2": {
                  "anchor": "x2",
                  "domain": [
                    0,
                    1
                  ],
                  "showgrid": false,
                  "title": {
                    "text": "<b>Frequency</b>"
                  }
                }
              }
            }
          },
          "metadata": {},
          "output_type": "display_data"
        },
        {
          "data": {
            "application/vnd.plotly.v1+json": {
              "config": {
                "plotlyServerURL": "https://plot.ly"
              },
              "data": [
                {
                  "fill": "tozeroy",
                  "line": {
                    "color": "#89c2e0"
                  },
                  "mode": "lines",
                  "name": "Density",
                  "type": "scatter",
                  "x": {
                    "bdata": "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",
                    "dtype": "f8"
                  },
                  "xaxis": "x2",
                  "y": {
                    "bdata": "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",
                    "dtype": "f8"
                  },
                  "yaxis": "y2"
                },
                {
                  "boxmean": true,
                  "line": {
                    "color": "#d500ff"
                  },
                  "name": "Box Plot",
                  "type": "box",
                  "xaxis": "x",
                  "y": {
                    "bdata": "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",
                    "dtype": "i2"
                  },
                  "yaxis": "y"
                }
              ],
              "layout": {
                "annotations": [
                  {
                    "font": {
                      "size": 16
                    },
                    "showarrow": false,
                    "text": "Box Plot",
                    "x": 0.2,
                    "xanchor": "center",
                    "xref": "paper",
                    "y": 1,
                    "yanchor": "bottom",
                    "yref": "paper"
                  },
                  {
                    "font": {
                      "size": 16
                    },
                    "showarrow": false,
                    "text": "Histogram",
                    "x": 0.8,
                    "xanchor": "center",
                    "xref": "paper",
                    "y": 1,
                    "yanchor": "bottom",
                    "yref": "paper"
                  }
                ],
                "height": 600,
                "margin": {
                  "t": 100
                },
                "showlegend": true,
                "template": {
                  "data": {
                    "bar": [
                      {
                        "error_x": {
                          "color": "#f2f5fa"
                        },
                        "error_y": {
                          "color": "#f2f5fa"
                        },
                        "marker": {
                          "line": {
                            "color": "rgb(17,17,17)",
                            "width": 0.5
                          },
                          "pattern": {
                            "fillmode": "overlay",
                            "size": 10,
                            "solidity": 0.2
                          }
                        },
                        "type": "bar"
                      }
                    ],
                    "barpolar": [
                      {
                        "marker": {
                          "line": {
                            "color": "rgb(17,17,17)",
                            "width": 0.5
                          },
                          "pattern": {
                            "fillmode": "overlay",
                            "size": 10,
                            "solidity": 0.2
                          }
                        },
                        "type": "barpolar"
                      }
                    ],
                    "carpet": [
                      {
                        "aaxis": {
                          "endlinecolor": "#A2B1C6",
                          "gridcolor": "#506784",
                          "linecolor": "#506784",
                          "minorgridcolor": "#506784",
                          "startlinecolor": "#A2B1C6"
                        },
                        "baxis": {
                          "endlinecolor": "#A2B1C6",
                          "gridcolor": "#506784",
                          "linecolor": "#506784",
                          "minorgridcolor": "#506784",
                          "startlinecolor": "#A2B1C6"
                        },
                        "type": "carpet"
                      }
                    ],
                    "choropleth": [
                      {
                        "colorbar": {
                          "outlinewidth": 0,
                          "ticks": ""
                        },
                        "type": "choropleth"
                      }
                    ],
                    "contour": [
                      {
                        "colorbar": {
                          "outlinewidth": 0,
                          "ticks": ""
                        },
                        "colorscale": [
                          [
                            0,
                            "#0d0887"
                          ],
                          [
                            0.1111111111111111,
                            "#46039f"
                          ],
                          [
                            0.2222222222222222,
                            "#7201a8"
                          ],
                          [
                            0.3333333333333333,
                            "#9c179e"
                          ],
                          [
                            0.4444444444444444,
                            "#bd3786"
                          ],
                          [
                            0.5555555555555556,
                            "#d8576b"
                          ],
                          [
                            0.6666666666666666,
                            "#ed7953"
                          ],
                          [
                            0.7777777777777778,
                            "#fb9f3a"
                          ],
                          [
                            0.8888888888888888,
                            "#fdca26"
                          ],
                          [
                            1,
                            "#f0f921"
                          ]
                        ],
                        "type": "contour"
                      }
                    ],
                    "contourcarpet": [
                      {
                        "colorbar": {
                          "outlinewidth": 0,
                          "ticks": ""
                        },
                        "type": "contourcarpet"
                      }
                    ],
                    "heatmap": [
                      {
                        "colorbar": {
                          "outlinewidth": 0,
                          "ticks": ""
                        },
                        "colorscale": [
                          [
                            0,
                            "#0d0887"
                          ],
                          [
                            0.1111111111111111,
                            "#46039f"
                          ],
                          [
                            0.2222222222222222,
                            "#7201a8"
                          ],
                          [
                            0.3333333333333333,
                            "#9c179e"
                          ],
                          [
                            0.4444444444444444,
                            "#bd3786"
                          ],
                          [
                            0.5555555555555556,
                            "#d8576b"
                          ],
                          [
                            0.6666666666666666,
                            "#ed7953"
                          ],
                          [
                            0.7777777777777778,
                            "#fb9f3a"
                          ],
                          [
                            0.8888888888888888,
                            "#fdca26"
                          ],
                          [
                            1,
                            "#f0f921"
                          ]
                        ],
                        "type": "heatmap"
                      }
                    ],
                    "histogram": [
                      {
                        "marker": {
                          "pattern": {
                            "fillmode": "overlay",
                            "size": 10,
                            "solidity": 0.2
                          }
                        },
                        "type": "histogram"
                      }
                    ],
                    "histogram2d": [
                      {
                        "colorbar": {
                          "outlinewidth": 0,
                          "ticks": ""
                        },
                        "colorscale": [
                          [
                            0,
                            "#0d0887"
                          ],
                          [
                            0.1111111111111111,
                            "#46039f"
                          ],
                          [
                            0.2222222222222222,
                            "#7201a8"
                          ],
                          [
                            0.3333333333333333,
                            "#9c179e"
                          ],
                          [
                            0.4444444444444444,
                            "#bd3786"
                          ],
                          [
                            0.5555555555555556,
                            "#d8576b"
                          ],
                          [
                            0.6666666666666666,
                            "#ed7953"
                          ],
                          [
                            0.7777777777777778,
                            "#fb9f3a"
                          ],
                          [
                            0.8888888888888888,
                            "#fdca26"
                          ],
                          [
                            1,
                            "#f0f921"
                          ]
                        ],
                        "type": "histogram2d"
                      }
                    ],
                    "histogram2dcontour": [
                      {
                        "colorbar": {
                          "outlinewidth": 0,
                          "ticks": ""
                        },
                        "colorscale": [
                          [
                            0,
                            "#0d0887"
                          ],
                          [
                            0.1111111111111111,
                            "#46039f"
                          ],
                          [
                            0.2222222222222222,
                            "#7201a8"
                          ],
                          [
                            0.3333333333333333,
                            "#9c179e"
                          ],
                          [
                            0.4444444444444444,
                            "#bd3786"
                          ],
                          [
                            0.5555555555555556,
                            "#d8576b"
                          ],
                          [
                            0.6666666666666666,
                            "#ed7953"
                          ],
                          [
                            0.7777777777777778,
                            "#fb9f3a"
                          ],
                          [
                            0.8888888888888888,
                            "#fdca26"
                          ],
                          [
                            1,
                            "#f0f921"
                          ]
                        ],
                        "type": "histogram2dcontour"
                      }
                    ],
                    "mesh3d": [
                      {
                        "colorbar": {
                          "outlinewidth": 0,
                          "ticks": ""
                        },
                        "type": "mesh3d"
                      }
                    ],
                    "parcoords": [
                      {
                        "line": {
                          "colorbar": {
                            "outlinewidth": 0,
                            "ticks": ""
                          }
                        },
                        "type": "parcoords"
                      }
                    ],
                    "pie": [
                      {
                        "automargin": true,
                        "type": "pie"
                      }
                    ],
                    "scatter": [
                      {
                        "marker": {
                          "line": {
                            "color": "#283442"
                          }
                        },
                        "type": "scatter"
                      }
                    ],
                    "scatter3d": [
                      {
                        "line": {
                          "colorbar": {
                            "outlinewidth": 0,
                            "ticks": ""
                          }
                        },
                        "marker": {
                          "colorbar": {
                            "outlinewidth": 0,
                            "ticks": ""
                          }
                        },
                        "type": "scatter3d"
                      }
                    ],
                    "scattercarpet": [
                      {
                        "marker": {
                          "colorbar": {
                            "outlinewidth": 0,
                            "ticks": ""
                          }
                        },
                        "type": "scattercarpet"
                      }
                    ],
                    "scattergeo": [
                      {
                        "marker": {
                          "colorbar": {
                            "outlinewidth": 0,
                            "ticks": ""
                          }
                        },
                        "type": "scattergeo"
                      }
                    ],
                    "scattergl": [
                      {
                        "marker": {
                          "line": {
                            "color": "#283442"
                          }
                        },
                        "type": "scattergl"
                      }
                    ],
                    "scattermap": [
                      {
                        "marker": {
                          "colorbar": {
                            "outlinewidth": 0,
                            "ticks": ""
                          }
                        },
                        "type": "scattermap"
                      }
                    ],
                    "scattermapbox": [
                      {
                        "marker": {
                          "colorbar": {
                            "outlinewidth": 0,
                            "ticks": ""
                          }
                        },
                        "type": "scattermapbox"
                      }
                    ],
                    "scatterpolar": [
                      {
                        "marker": {
                          "colorbar": {
                            "outlinewidth": 0,
                            "ticks": ""
                          }
                        },
                        "type": "scatterpolar"
                      }
                    ],
                    "scatterpolargl": [
                      {
                        "marker": {
                          "colorbar": {
                            "outlinewidth": 0,
                            "ticks": ""
                          }
                        },
                        "type": "scatterpolargl"
                      }
                    ],
                    "scatterternary": [
                      {
                        "marker": {
                          "colorbar": {
                            "outlinewidth": 0,
                            "ticks": ""
                          }
                        },
                        "type": "scatterternary"
                      }
                    ],
                    "surface": [
                      {
                        "colorbar": {
                          "outlinewidth": 0,
                          "ticks": ""
                        },
                        "colorscale": [
                          [
                            0,
                            "#0d0887"
                          ],
                          [
                            0.1111111111111111,
                            "#46039f"
                          ],
                          [
                            0.2222222222222222,
                            "#7201a8"
                          ],
                          [
                            0.3333333333333333,
                            "#9c179e"
                          ],
                          [
                            0.4444444444444444,
                            "#bd3786"
                          ],
                          [
                            0.5555555555555556,
                            "#d8576b"
                          ],
                          [
                            0.6666666666666666,
                            "#ed7953"
                          ],
                          [
                            0.7777777777777778,
                            "#fb9f3a"
                          ],
                          [
                            0.8888888888888888,
                            "#fdca26"
                          ],
                          [
                            1,
                            "#f0f921"
                          ]
                        ],
                        "type": "surface"
                      }
                    ],
                    "table": [
                      {
                        "cells": {
                          "fill": {
                            "color": "#506784"
                          },
                          "line": {
                            "color": "rgb(17,17,17)"
                          }
                        },
                        "header": {
                          "fill": {
                            "color": "#2a3f5f"
                          },
                          "line": {
                            "color": "rgb(17,17,17)"
                          }
                        },
                        "type": "table"
                      }
                    ]
                  },
                  "layout": {
                    "annotationdefaults": {
                      "arrowcolor": "#f2f5fa",
                      "arrowhead": 0,
                      "arrowwidth": 1
                    },
                    "autotypenumbers": "strict",
                    "coloraxis": {
                      "colorbar": {
                        "outlinewidth": 0,
                        "ticks": ""
                      }
                    },
                    "colorscale": {
                      "diverging": [
                        [
                          0,
                          "#8e0152"
                        ],
                        [
                          0.1,
                          "#c51b7d"
                        ],
                        [
                          0.2,
                          "#de77ae"
                        ],
                        [
                          0.3,
                          "#f1b6da"
                        ],
                        [
                          0.4,
                          "#fde0ef"
                        ],
                        [
                          0.5,
                          "#f7f7f7"
                        ],
                        [
                          0.6,
                          "#e6f5d0"
                        ],
                        [
                          0.7,
                          "#b8e186"
                        ],
                        [
                          0.8,
                          "#7fbc41"
                        ],
                        [
                          0.9,
                          "#4d9221"
                        ],
                        [
                          1,
                          "#276419"
                        ]
                      ],
                      "sequential": [
                        [
                          0,
                          "#0d0887"
                        ],
                        [
                          0.1111111111111111,
                          "#46039f"
                        ],
                        [
                          0.2222222222222222,
                          "#7201a8"
                        ],
                        [
                          0.3333333333333333,
                          "#9c179e"
                        ],
                        [
                          0.4444444444444444,
                          "#bd3786"
                        ],
                        [
                          0.5555555555555556,
                          "#d8576b"
                        ],
                        [
                          0.6666666666666666,
                          "#ed7953"
                        ],
                        [
                          0.7777777777777778,
                          "#fb9f3a"
                        ],
                        [
                          0.8888888888888888,
                          "#fdca26"
                        ],
                        [
                          1,
                          "#f0f921"
                        ]
                      ],
                      "sequentialminus": [
                        [
                          0,
                          "#0d0887"
                        ],
                        [
                          0.1111111111111111,
                          "#46039f"
                        ],
                        [
                          0.2222222222222222,
                          "#7201a8"
                        ],
                        [
                          0.3333333333333333,
                          "#9c179e"
                        ],
                        [
                          0.4444444444444444,
                          "#bd3786"
                        ],
                        [
                          0.5555555555555556,
                          "#d8576b"
                        ],
                        [
                          0.6666666666666666,
                          "#ed7953"
                        ],
                        [
                          0.7777777777777778,
                          "#fb9f3a"
                        ],
                        [
                          0.8888888888888888,
                          "#fdca26"
                        ],
                        [
                          1,
                          "#f0f921"
                        ]
                      ]
                    },
                    "colorway": [
                      "#636efa",
                      "#EF553B",
                      "#00cc96",
                      "#ab63fa",
                      "#FFA15A",
                      "#19d3f3",
                      "#FF6692",
                      "#B6E880",
                      "#FF97FF",
                      "#FECB52"
                    ],
                    "font": {
                      "color": "#f2f5fa"
                    },
                    "geo": {
                      "bgcolor": "rgb(17,17,17)",
                      "lakecolor": "rgb(17,17,17)",
                      "landcolor": "rgb(17,17,17)",
                      "showlakes": true,
                      "showland": true,
                      "subunitcolor": "#506784"
                    },
                    "hoverlabel": {
                      "align": "left"
                    },
                    "hovermode": "closest",
                    "mapbox": {
                      "style": "dark"
                    },
                    "paper_bgcolor": "rgb(17,17,17)",
                    "plot_bgcolor": "rgb(17,17,17)",
                    "polar": {
                      "angularaxis": {
                        "gridcolor": "#506784",
                        "linecolor": "#506784",
                        "ticks": ""
                      },
                      "bgcolor": "rgb(17,17,17)",
                      "radialaxis": {
                        "gridcolor": "#506784",
                        "linecolor": "#506784",
                        "ticks": ""
                      }
                    },
                    "scene": {
                      "xaxis": {
                        "backgroundcolor": "rgb(17,17,17)",
                        "gridcolor": "#506784",
                        "gridwidth": 2,
                        "linecolor": "#506784",
                        "showbackground": true,
                        "ticks": "",
                        "zerolinecolor": "#C8D4E3"
                      },
                      "yaxis": {
                        "backgroundcolor": "rgb(17,17,17)",
                        "gridcolor": "#506784",
                        "gridwidth": 2,
                        "linecolor": "#506784",
                        "showbackground": true,
                        "ticks": "",
                        "zerolinecolor": "#C8D4E3"
                      },
                      "zaxis": {
                        "backgroundcolor": "rgb(17,17,17)",
                        "gridcolor": "#506784",
                        "gridwidth": 2,
                        "linecolor": "#506784",
                        "showbackground": true,
                        "ticks": "",
                        "zerolinecolor": "#C8D4E3"
                      }
                    },
                    "shapedefaults": {
                      "line": {
                        "color": "#f2f5fa"
                      }
                    },
                    "sliderdefaults": {
                      "bgcolor": "#C8D4E3",
                      "bordercolor": "rgb(17,17,17)",
                      "borderwidth": 1,
                      "tickwidth": 0
                    },
                    "ternary": {
                      "aaxis": {
                        "gridcolor": "#506784",
                        "linecolor": "#506784",
                        "ticks": ""
                      },
                      "baxis": {
                        "gridcolor": "#506784",
                        "linecolor": "#506784",
                        "ticks": ""
                      },
                      "bgcolor": "rgb(17,17,17)",
                      "caxis": {
                        "gridcolor": "#506784",
                        "linecolor": "#506784",
                        "ticks": ""
                      }
                    },
                    "title": {
                      "x": 0.05
                    },
                    "updatemenudefaults": {
                      "bgcolor": "#506784",
                      "borderwidth": 0
                    },
                    "xaxis": {
                      "automargin": true,
                      "gridcolor": "#283442",
                      "linecolor": "#506784",
                      "ticks": "",
                      "title": {
                        "standoff": 15
                      },
                      "zerolinecolor": "#283442",
                      "zerolinewidth": 2
                    },
                    "yaxis": {
                      "automargin": true,
                      "gridcolor": "#283442",
                      "linecolor": "#506784",
                      "ticks": "",
                      "title": {
                        "standoff": 15
                      },
                      "zerolinecolor": "#283442",
                      "zerolinewidth": 2
                    }
                  }
                },
                "title": {
                  "text": "<b>Train Dataset Word Count<br><sup><i>&nbsp;&nbsp;&nbsp;&nbsp;title</i></sup></b>",
                  "x": 0.025,
                  "xanchor": "left"
                },
                "width": 1000,
                "xaxis": {
                  "anchor": "y",
                  "domain": [
                    0,
                    0.4
                  ],
                  "showgrid": false,
                  "title": {
                    "text": ""
                  }
                },
                "xaxis2": {
                  "anchor": "y2",
                  "domain": [
                    0.6000000000000001,
                    1
                  ],
                  "showgrid": false,
                  "title": {
                    "text": "<b>Words</b>"
                  }
                },
                "yaxis": {
                  "anchor": "x",
                  "domain": [
                    0,
                    1
                  ],
                  "showgrid": false,
                  "title": {
                    "text": "<b>Words</b>"
                  }
                },
                "yaxis2": {
                  "anchor": "x2",
                  "domain": [
                    0,
                    1
                  ],
                  "showgrid": false,
                  "title": {
                    "text": "<b>Frequency</b>"
                  }
                }
              }
            }
          },
          "metadata": {},
          "output_type": "display_data"
        }
      ],
      "source": [
        "df_text_lenght = pd.DataFrame()                                                # Creating an empty dataframe\n",
        "\n",
        "for feat in categorical_features:                                              # Iterating through features --> Text & Summary\n",
        "    df_text_lenght[feat] = train[feat].apply(lambda x: len(str(x).split()))    # Counting words for each feature\n",
        "\n",
        "# Plotting histogram-boxplot\n",
        "histogram_boxplot(df_text_lenght,'#89c2e0', '#d500ff', 600, 1000, True, 'Train Dataset')"
      ]
    },
    {
      "cell_type": "code",
      "execution_count": 11,
      "metadata": {
        "id": "DN8LHaWAuQg5"
      },
      "outputs": [],
      "source": [
        "def vectorize_and_plot(data, ngram_range, title, subtitle):\n",
        "    vectorizer = TfidfVectorizer(max_features=15, stop_words='english', ngram_range=ngram_range)  # Top 15 terms\n",
        "    x = vectorizer.fit_transform(data.fillna(''))\n",
        "    df_tfidfvect = pd.DataFrame(x.toarray(), columns=vectorizer.get_feature_names_out())\n",
        "    plot_correlation(df_tfidfvect, title, subtitle, 800, 800, 12)"
      ]
    },
    {
      "cell_type": "code",
      "execution_count": 12,
      "metadata": {
        "colab": {
          "base_uri": "https://localhost:8080/",
          "height": 817
        },
        "id": "5sXk3Jpquc78",
        "outputId": "364f1e2e-efcf-4afc-e10f-478d03d97f43"
      },
      "outputs": [
        {
          "data": {
            "application/vnd.plotly.v1+json": {
              "config": {
                "plotlyServerURL": "https://plot.ly"
              },
              "data": [
                {
                  "colorscale": [
                    [
                      0,
                      "#00224e"
                    ],
                    [
                      0.1111111111111111,
                      "#123570"
                    ],
                    [
                      0.2222222222222222,
                      "#3b496c"
                    ],
                    [
                      0.3333333333333333,
                      "#575d6d"
                    ],
                    [
                      0.4444444444444444,
                      "#707173"
                    ],
                    [
                      0.5555555555555556,
                      "#8a8678"
                    ],
                    [
                      0.6666666666666666,
                      "#a59c74"
                    ],
                    [
                      0.7777777777777778,
                      "#c3b369"
                    ],
                    [
                      0.8888888888888888,
                      "#e1cc55"
                    ],
                    [
                      1,
                      "#fee838"
                    ]
                  ],
                  "reversescale": false,
                  "showscale": false,
                  "type": "heatmap",
                  "x": [
                    "act",
                    "amended",
                    "federal",
                    "general",
                    "paragraph",
                    "sec",
                    "secretary",
                    "section",
                    "shall",
                    "state",
                    "states",
                    "subsection",
                    "title",
                    "united"
                  ],
                  "y": [
                    "year",
                    "united",
                    "title",
                    "subsection",
                    "states",
                    "state",
                    "shall",
                    "section",
                    "secretary",
                    "sec",
                    "paragraph",
                    "general",
                    "federal",
                    "amended"
                  ],
                  "z": [
                    [
                      -0.2,
                      0.07,
                      -0.15,
                      0.02,
                      0.06,
                      -0.08,
                      -0.11,
                      0.11,
                      -0.02,
                      -0.11,
                      -0.19,
                      0.04,
                      -0.14,
                      -0.2
                    ],
                    [
                      -0.1,
                      -0.22,
                      -0.08,
                      -0.08,
                      -0.23,
                      0.06,
                      -0.13,
                      -0.3,
                      -0.16,
                      -0.13,
                      0.94,
                      -0.17,
                      0.14
                    ],
                    [
                      -0.03,
                      0.12,
                      -0.01,
                      -0.02,
                      -0.03,
                      0.18,
                      -0.09,
                      0.09,
                      -0.04,
                      -0.11,
                      0.13,
                      -0.01
                    ],
                    [
                      -0.13,
                      0.17,
                      -0.15,
                      0.04,
                      0.24,
                      -0.18,
                      -0.06,
                      0.15,
                      -0.01,
                      -0.14,
                      -0.19
                    ],
                    [
                      -0.11,
                      -0.25,
                      -0.06,
                      -0.08,
                      -0.25,
                      0.06,
                      -0.13,
                      -0.34,
                      -0.17,
                      -0.01
                    ],
                    [
                      -0.07,
                      -0.2,
                      0.06,
                      -0.05,
                      -0.13,
                      -0.07,
                      -0.06,
                      -0.25,
                      -0.19
                    ],
                    [
                      -0.07,
                      -0.28,
                      0.03,
                      0.16,
                      -0.08,
                      0.04,
                      0.08,
                      -0.13
                    ],
                    [
                      -0.04,
                      0.54,
                      -0.24,
                      0.03,
                      0.2,
                      -0.07,
                      -0.25
                    ],
                    [
                      -0.07,
                      -0.3,
                      -0.07,
                      -0.11,
                      -0.14,
                      -0.04
                    ],
                    [
                      0.26,
                      0.03,
                      0.04,
                      0.01,
                      -0.21
                    ],
                    [
                      -0.09,
                      0.35,
                      -0.15,
                      0.05
                    ],
                    [
                      -0.05,
                      -0.02,
                      0
                    ],
                    [
                      0.07,
                      -0.21
                    ],
                    [
                      0.01
                    ]
                  ]
                },
                {
                  "colorscale": [
                    [
                      0,
                      "#00224e"
                    ],
                    [
                      0.1111111111111111,
                      "#123570"
                    ],
                    [
                      0.2222222222222222,
                      "#3b496c"
                    ],
                    [
                      0.3333333333333333,
                      "#575d6d"
                    ],
                    [
                      0.4444444444444444,
                      "#707173"
                    ],
                    [
                      0.5555555555555556,
                      "#8a8678"
                    ],
                    [
                      0.6666666666666666,
                      "#a59c74"
                    ],
                    [
                      0.7777777777777778,
                      "#c3b369"
                    ],
                    [
                      0.8888888888888888,
                      "#e1cc55"
                    ],
                    [
                      1,
                      "#fee838"
                    ]
                  ],
                  "showscale": true,
                  "type": "heatmap",
                  "visible": true,
                  "z": [
                    [
                      -0.2,
                      0.07,
                      -0.15,
                      0.02,
                      0.06,
                      -0.08,
                      -0.11,
                      0.11,
                      -0.02,
                      -0.11,
                      -0.19,
                      0.04,
                      -0.14,
                      -0.2
                    ],
                    [
                      -0.1,
                      -0.22,
                      -0.08,
                      -0.08,
                      -0.23,
                      0.06,
                      -0.13,
                      -0.3,
                      -0.16,
                      -0.13,
                      0.94,
                      -0.17,
                      0.14
                    ],
                    [
                      -0.03,
                      0.12,
                      -0.01,
                      -0.02,
                      -0.03,
                      0.18,
                      -0.09,
                      0.09,
                      -0.04,
                      -0.11,
                      0.13,
                      -0.01
                    ],
                    [
                      -0.13,
                      0.17,
                      -0.15,
                      0.04,
                      0.24,
                      -0.18,
                      -0.06,
                      0.15,
                      -0.01,
                      -0.14,
                      -0.19
                    ],
                    [
                      -0.11,
                      -0.25,
                      -0.06,
                      -0.08,
                      -0.25,
                      0.06,
                      -0.13,
                      -0.34,
                      -0.17,
                      -0.01
                    ],
                    [
                      -0.07,
                      -0.2,
                      0.06,
                      -0.05,
                      -0.13,
                      -0.07,
                      -0.06,
                      -0.25,
                      -0.19
                    ],
                    [
                      -0.07,
                      -0.28,
                      0.03,
                      0.16,
                      -0.08,
                      0.04,
                      0.08,
                      -0.13
                    ],
                    [
                      -0.04,
                      0.54,
                      -0.24,
                      0.03,
                      0.2,
                      -0.07,
                      -0.25
                    ],
                    [
                      -0.07,
                      -0.3,
                      -0.07,
                      -0.11,
                      -0.14,
                      -0.04
                    ],
                    [
                      0.26,
                      0.03,
                      0.04,
                      0.01,
                      -0.21
                    ],
                    [
                      -0.09,
                      0.35,
                      -0.15,
                      0.05
                    ],
                    [
                      -0.05,
                      -0.02,
                      0
                    ],
                    [
                      0.07,
                      -0.21
                    ],
                    [
                      0.01
                    ]
                  ]
                }
              ],
              "layout": {
                "annotations": [
                  {
                    "font": {
                      "color": "#FFFFFF",
                      "size": 12
                    },
                    "showarrow": false,
                    "text": "-0.2",
                    "x": "act",
                    "xref": "x",
                    "y": "year",
                    "yref": "y"
                  },
                  {
                    "font": {
                      "color": "#FFFFFF",
                      "size": 12
                    },
                    "showarrow": false,
                    "text": "0.07",
                    "x": "amended",
                    "xref": "x",
                    "y": "year",
                    "yref": "y"
                  },
                  {
                    "font": {
                      "color": "#FFFFFF",
                      "size": 12
                    },
                    "showarrow": false,
                    "text": "-0.15",
                    "x": "federal",
                    "xref": "x",
                    "y": "year",
                    "yref": "y"
                  },
                  {
                    "font": {
                      "color": "#FFFFFF",
                      "size": 12
                    },
                    "showarrow": false,
                    "text": "0.02",
                    "x": "general",
                    "xref": "x",
                    "y": "year",
                    "yref": "y"
                  },
                  {
                    "font": {
                      "color": "#FFFFFF",
                      "size": 12
                    },
                    "showarrow": false,
                    "text": "0.06",
                    "x": "paragraph",
                    "xref": "x",
                    "y": "year",
                    "yref": "y"
                  },
                  {
                    "font": {
                      "color": "#FFFFFF",
                      "size": 12
                    },
                    "showarrow": false,
                    "text": "-0.08",
                    "x": "sec",
                    "xref": "x",
                    "y": "year",
                    "yref": "y"
                  },
                  {
                    "font": {
                      "color": "#FFFFFF",
                      "size": 12
                    },
                    "showarrow": false,
                    "text": "-0.11",
                    "x": "secretary",
                    "xref": "x",
                    "y": "year",
                    "yref": "y"
                  },
                  {
                    "font": {
                      "color": "#FFFFFF",
                      "size": 12
                    },
                    "showarrow": false,
                    "text": "0.11",
                    "x": "section",
                    "xref": "x",
                    "y": "year",
                    "yref": "y"
                  },
                  {
                    "font": {
                      "color": "#FFFFFF",
                      "size": 12
                    },
                    "showarrow": false,
                    "text": "-0.02",
                    "x": "shall",
                    "xref": "x",
                    "y": "year",
                    "yref": "y"
                  },
                  {
                    "font": {
                      "color": "#FFFFFF",
                      "size": 12
                    },
                    "showarrow": false,
                    "text": "-0.11",
                    "x": "state",
                    "xref": "x",
                    "y": "year",
                    "yref": "y"
                  },
                  {
                    "font": {
                      "color": "#FFFFFF",
                      "size": 12
                    },
                    "showarrow": false,
                    "text": "-0.19",
                    "x": "states",
                    "xref": "x",
                    "y": "year",
                    "yref": "y"
                  },
                  {
                    "font": {
                      "color": "#FFFFFF",
                      "size": 12
                    },
                    "showarrow": false,
                    "text": "0.04",
                    "x": "subsection",
                    "xref": "x",
                    "y": "year",
                    "yref": "y"
                  },
                  {
                    "font": {
                      "color": "#FFFFFF",
                      "size": 12
                    },
                    "showarrow": false,
                    "text": "-0.14",
                    "x": "title",
                    "xref": "x",
                    "y": "year",
                    "yref": "y"
                  },
                  {
                    "font": {
                      "color": "#FFFFFF",
                      "size": 12
                    },
                    "showarrow": false,
                    "text": "-0.2",
                    "x": "united",
                    "xref": "x",
                    "y": "year",
                    "yref": "y"
                  },
                  {
                    "font": {
                      "color": "#FFFFFF",
                      "size": 12
                    },
                    "showarrow": false,
                    "text": "-0.1",
                    "x": "act",
                    "xref": "x",
                    "y": "united",
                    "yref": "y"
                  },
                  {
                    "font": {
                      "color": "#FFFFFF",
                      "size": 12
                    },
                    "showarrow": false,
                    "text": "-0.22",
                    "x": "amended",
                    "xref": "x",
                    "y": "united",
                    "yref": "y"
                  },
                  {
                    "font": {
                      "color": "#FFFFFF",
                      "size": 12
                    },
                    "showarrow": false,
                    "text": "-0.08",
                    "x": "federal",
                    "xref": "x",
                    "y": "united",
                    "yref": "y"
                  },
                  {
                    "font": {
                      "color": "#FFFFFF",
                      "size": 12
                    },
                    "showarrow": false,
                    "text": "-0.08",
                    "x": "general",
                    "xref": "x",
                    "y": "united",
                    "yref": "y"
                  },
                  {
                    "font": {
                      "color": "#FFFFFF",
                      "size": 12
                    },
                    "showarrow": false,
                    "text": "-0.23",
                    "x": "paragraph",
                    "xref": "x",
                    "y": "united",
                    "yref": "y"
                  },
                  {
                    "font": {
                      "color": "#FFFFFF",
                      "size": 12
                    },
                    "showarrow": false,
                    "text": "0.06",
                    "x": "sec",
                    "xref": "x",
                    "y": "united",
                    "yref": "y"
                  },
                  {
                    "font": {
                      "color": "#FFFFFF",
                      "size": 12
                    },
                    "showarrow": false,
                    "text": "-0.13",
                    "x": "secretary",
                    "xref": "x",
                    "y": "united",
                    "yref": "y"
                  },
                  {
                    "font": {
                      "color": "#FFFFFF",
                      "size": 12
                    },
                    "showarrow": false,
                    "text": "-0.3",
                    "x": "section",
                    "xref": "x",
                    "y": "united",
                    "yref": "y"
                  },
                  {
                    "font": {
                      "color": "#FFFFFF",
                      "size": 12
                    },
                    "showarrow": false,
                    "text": "-0.16",
                    "x": "shall",
                    "xref": "x",
                    "y": "united",
                    "yref": "y"
                  },
                  {
                    "font": {
                      "color": "#FFFFFF",
                      "size": 12
                    },
                    "showarrow": false,
                    "text": "-0.13",
                    "x": "state",
                    "xref": "x",
                    "y": "united",
                    "yref": "y"
                  },
                  {
                    "font": {
                      "color": "#000000",
                      "size": 12
                    },
                    "showarrow": false,
                    "text": "0.94",
                    "x": "states",
                    "xref": "x",
                    "y": "united",
                    "yref": "y"
                  },
                  {
                    "font": {
                      "color": "#FFFFFF",
                      "size": 12
                    },
                    "showarrow": false,
                    "text": "-0.17",
                    "x": "subsection",
                    "xref": "x",
                    "y": "united",
                    "yref": "y"
                  },
                  {
                    "font": {
                      "color": "#FFFFFF",
                      "size": 12
                    },
                    "showarrow": false,
                    "text": "0.14",
                    "x": "title",
                    "xref": "x",
                    "y": "united",
                    "yref": "y"
                  },
                  {
                    "font": {
                      "color": "#FFFFFF",
                      "size": 12
                    },
                    "showarrow": false,
                    "text": "-0.03",
                    "x": "act",
                    "xref": "x",
                    "y": "title",
                    "yref": "y"
                  },
                  {
                    "font": {
                      "color": "#FFFFFF",
                      "size": 12
                    },
                    "showarrow": false,
                    "text": "0.12",
                    "x": "amended",
                    "xref": "x",
                    "y": "title",
                    "yref": "y"
                  },
                  {
                    "font": {
                      "color": "#FFFFFF",
                      "size": 12
                    },
                    "showarrow": false,
                    "text": "-0.01",
                    "x": "federal",
                    "xref": "x",
                    "y": "title",
                    "yref": "y"
                  },
                  {
                    "font": {
                      "color": "#FFFFFF",
                      "size": 12
                    },
                    "showarrow": false,
                    "text": "-0.02",
                    "x": "general",
                    "xref": "x",
                    "y": "title",
                    "yref": "y"
                  },
                  {
                    "font": {
                      "color": "#FFFFFF",
                      "size": 12
                    },
                    "showarrow": false,
                    "text": "-0.03",
                    "x": "paragraph",
                    "xref": "x",
                    "y": "title",
                    "yref": "y"
                  },
                  {
                    "font": {
                      "color": "#FFFFFF",
                      "size": 12
                    },
                    "showarrow": false,
                    "text": "0.18",
                    "x": "sec",
                    "xref": "x",
                    "y": "title",
                    "yref": "y"
                  },
                  {
                    "font": {
                      "color": "#FFFFFF",
                      "size": 12
                    },
                    "showarrow": false,
                    "text": "-0.09",
                    "x": "secretary",
                    "xref": "x",
                    "y": "title",
                    "yref": "y"
                  },
                  {
                    "font": {
                      "color": "#FFFFFF",
                      "size": 12
                    },
                    "showarrow": false,
                    "text": "0.09",
                    "x": "section",
                    "xref": "x",
                    "y": "title",
                    "yref": "y"
                  },
                  {
                    "font": {
                      "color": "#FFFFFF",
                      "size": 12
                    },
                    "showarrow": false,
                    "text": "-0.04",
                    "x": "shall",
                    "xref": "x",
                    "y": "title",
                    "yref": "y"
                  },
                  {
                    "font": {
                      "color": "#FFFFFF",
                      "size": 12
                    },
                    "showarrow": false,
                    "text": "-0.11",
                    "x": "state",
                    "xref": "x",
                    "y": "title",
                    "yref": "y"
                  },
                  {
                    "font": {
                      "color": "#FFFFFF",
                      "size": 12
                    },
                    "showarrow": false,
                    "text": "0.13",
                    "x": "states",
                    "xref": "x",
                    "y": "title",
                    "yref": "y"
                  },
                  {
                    "font": {
                      "color": "#FFFFFF",
                      "size": 12
                    },
                    "showarrow": false,
                    "text": "-0.01",
                    "x": "subsection",
                    "xref": "x",
                    "y": "title",
                    "yref": "y"
                  },
                  {
                    "font": {
                      "color": "#FFFFFF",
                      "size": 12
                    },
                    "showarrow": false,
                    "text": "-0.13",
                    "x": "act",
                    "xref": "x",
                    "y": "subsection",
                    "yref": "y"
                  },
                  {
                    "font": {
                      "color": "#FFFFFF",
                      "size": 12
                    },
                    "showarrow": false,
                    "text": "0.17",
                    "x": "amended",
                    "xref": "x",
                    "y": "subsection",
                    "yref": "y"
                  },
                  {
                    "font": {
                      "color": "#FFFFFF",
                      "size": 12
                    },
                    "showarrow": false,
                    "text": "-0.15",
                    "x": "federal",
                    "xref": "x",
                    "y": "subsection",
                    "yref": "y"
                  },
                  {
                    "font": {
                      "color": "#FFFFFF",
                      "size": 12
                    },
                    "showarrow": false,
                    "text": "0.04",
                    "x": "general",
                    "xref": "x",
                    "y": "subsection",
                    "yref": "y"
                  },
                  {
                    "font": {
                      "color": "#FFFFFF",
                      "size": 12
                    },
                    "showarrow": false,
                    "text": "0.24",
                    "x": "paragraph",
                    "xref": "x",
                    "y": "subsection",
                    "yref": "y"
                  },
                  {
                    "font": {
                      "color": "#FFFFFF",
                      "size": 12
                    },
                    "showarrow": false,
                    "text": "-0.18",
                    "x": "sec",
                    "xref": "x",
                    "y": "subsection",
                    "yref": "y"
                  },
                  {
                    "font": {
                      "color": "#FFFFFF",
                      "size": 12
                    },
                    "showarrow": false,
                    "text": "-0.06",
                    "x": "secretary",
                    "xref": "x",
                    "y": "subsection",
                    "yref": "y"
                  },
                  {
                    "font": {
                      "color": "#FFFFFF",
                      "size": 12
                    },
                    "showarrow": false,
                    "text": "0.15",
                    "x": "section",
                    "xref": "x",
                    "y": "subsection",
                    "yref": "y"
                  },
                  {
                    "font": {
                      "color": "#FFFFFF",
                      "size": 12
                    },
                    "showarrow": false,
                    "text": "-0.01",
                    "x": "shall",
                    "xref": "x",
                    "y": "subsection",
                    "yref": "y"
                  },
                  {
                    "font": {
                      "color": "#FFFFFF",
                      "size": 12
                    },
                    "showarrow": false,
                    "text": "-0.14",
                    "x": "state",
                    "xref": "x",
                    "y": "subsection",
                    "yref": "y"
                  },
                  {
                    "font": {
                      "color": "#FFFFFF",
                      "size": 12
                    },
                    "showarrow": false,
                    "text": "-0.19",
                    "x": "states",
                    "xref": "x",
                    "y": "subsection",
                    "yref": "y"
                  },
                  {
                    "font": {
                      "color": "#FFFFFF",
                      "size": 12
                    },
                    "showarrow": false,
                    "text": "-0.11",
                    "x": "act",
                    "xref": "x",
                    "y": "states",
                    "yref": "y"
                  },
                  {
                    "font": {
                      "color": "#FFFFFF",
                      "size": 12
                    },
                    "showarrow": false,
                    "text": "-0.25",
                    "x": "amended",
                    "xref": "x",
                    "y": "states",
                    "yref": "y"
                  },
                  {
                    "font": {
                      "color": "#FFFFFF",
                      "size": 12
                    },
                    "showarrow": false,
                    "text": "-0.06",
                    "x": "federal",
                    "xref": "x",
                    "y": "states",
                    "yref": "y"
                  },
                  {
                    "font": {
                      "color": "#FFFFFF",
                      "size": 12
                    },
                    "showarrow": false,
                    "text": "-0.08",
                    "x": "general",
                    "xref": "x",
                    "y": "states",
                    "yref": "y"
                  },
                  {
                    "font": {
                      "color": "#FFFFFF",
                      "size": 12
                    },
                    "showarrow": false,
                    "text": "-0.25",
                    "x": "paragraph",
                    "xref": "x",
                    "y": "states",
                    "yref": "y"
                  },
                  {
                    "font": {
                      "color": "#FFFFFF",
                      "size": 12
                    },
                    "showarrow": false,
                    "text": "0.06",
                    "x": "sec",
                    "xref": "x",
                    "y": "states",
                    "yref": "y"
                  },
                  {
                    "font": {
                      "color": "#FFFFFF",
                      "size": 12
                    },
                    "showarrow": false,
                    "text": "-0.13",
                    "x": "secretary",
                    "xref": "x",
                    "y": "states",
                    "yref": "y"
                  },
                  {
                    "font": {
                      "color": "#FFFFFF",
                      "size": 12
                    },
                    "showarrow": false,
                    "text": "-0.34",
                    "x": "section",
                    "xref": "x",
                    "y": "states",
                    "yref": "y"
                  },
                  {
                    "font": {
                      "color": "#FFFFFF",
                      "size": 12
                    },
                    "showarrow": false,
                    "text": "-0.17",
                    "x": "shall",
                    "xref": "x",
                    "y": "states",
                    "yref": "y"
                  },
                  {
                    "font": {
                      "color": "#FFFFFF",
                      "size": 12
                    },
                    "showarrow": false,
                    "text": "-0.01",
                    "x": "state",
                    "xref": "x",
                    "y": "states",
                    "yref": "y"
                  },
                  {
                    "font": {
                      "color": "#FFFFFF",
                      "size": 12
                    },
                    "showarrow": false,
                    "text": "-0.07",
                    "x": "act",
                    "xref": "x",
                    "y": "state",
                    "yref": "y"
                  },
                  {
                    "font": {
                      "color": "#FFFFFF",
                      "size": 12
                    },
                    "showarrow": false,
                    "text": "-0.2",
                    "x": "amended",
                    "xref": "x",
                    "y": "state",
                    "yref": "y"
                  },
                  {
                    "font": {
                      "color": "#FFFFFF",
                      "size": 12
                    },
                    "showarrow": false,
                    "text": "0.06",
                    "x": "federal",
                    "xref": "x",
                    "y": "state",
                    "yref": "y"
                  },
                  {
                    "font": {
                      "color": "#FFFFFF",
                      "size": 12
                    },
                    "showarrow": false,
                    "text": "-0.05",
                    "x": "general",
                    "xref": "x",
                    "y": "state",
                    "yref": "y"
                  },
                  {
                    "font": {
                      "color": "#FFFFFF",
                      "size": 12
                    },
                    "showarrow": false,
                    "text": "-0.13",
                    "x": "paragraph",
                    "xref": "x",
                    "y": "state",
                    "yref": "y"
                  },
                  {
                    "font": {
                      "color": "#FFFFFF",
                      "size": 12
                    },
                    "showarrow": false,
                    "text": "-0.07",
                    "x": "sec",
                    "xref": "x",
                    "y": "state",
                    "yref": "y"
                  },
                  {
                    "font": {
                      "color": "#FFFFFF",
                      "size": 12
                    },
                    "showarrow": false,
                    "text": "-0.06",
                    "x": "secretary",
                    "xref": "x",
                    "y": "state",
                    "yref": "y"
                  },
                  {
                    "font": {
                      "color": "#FFFFFF",
                      "size": 12
                    },
                    "showarrow": false,
                    "text": "-0.25",
                    "x": "section",
                    "xref": "x",
                    "y": "state",
                    "yref": "y"
                  },
                  {
                    "font": {
                      "color": "#FFFFFF",
                      "size": 12
                    },
                    "showarrow": false,
                    "text": "-0.19",
                    "x": "shall",
                    "xref": "x",
                    "y": "state",
                    "yref": "y"
                  },
                  {
                    "font": {
                      "color": "#FFFFFF",
                      "size": 12
                    },
                    "showarrow": false,
                    "text": "-0.07",
                    "x": "act",
                    "xref": "x",
                    "y": "shall",
                    "yref": "y"
                  },
                  {
                    "font": {
                      "color": "#FFFFFF",
                      "size": 12
                    },
                    "showarrow": false,
                    "text": "-0.28",
                    "x": "amended",
                    "xref": "x",
                    "y": "shall",
                    "yref": "y"
                  },
                  {
                    "font": {
                      "color": "#FFFFFF",
                      "size": 12
                    },
                    "showarrow": false,
                    "text": "0.03",
                    "x": "federal",
                    "xref": "x",
                    "y": "shall",
                    "yref": "y"
                  },
                  {
                    "font": {
                      "color": "#FFFFFF",
                      "size": 12
                    },
                    "showarrow": false,
                    "text": "0.16",
                    "x": "general",
                    "xref": "x",
                    "y": "shall",
                    "yref": "y"
                  },
                  {
                    "font": {
                      "color": "#FFFFFF",
                      "size": 12
                    },
                    "showarrow": false,
                    "text": "-0.08",
                    "x": "paragraph",
                    "xref": "x",
                    "y": "shall",
                    "yref": "y"
                  },
                  {
                    "font": {
                      "color": "#FFFFFF",
                      "size": 12
                    },
                    "showarrow": false,
                    "text": "0.04",
                    "x": "sec",
                    "xref": "x",
                    "y": "shall",
                    "yref": "y"
                  },
                  {
                    "font": {
                      "color": "#FFFFFF",
                      "size": 12
                    },
                    "showarrow": false,
                    "text": "0.08",
                    "x": "secretary",
                    "xref": "x",
                    "y": "shall",
                    "yref": "y"
                  },
                  {
                    "font": {
                      "color": "#FFFFFF",
                      "size": 12
                    },
                    "showarrow": false,
                    "text": "-0.13",
                    "x": "section",
                    "xref": "x",
                    "y": "shall",
                    "yref": "y"
                  },
                  {
                    "font": {
                      "color": "#FFFFFF",
                      "size": 12
                    },
                    "showarrow": false,
                    "text": "-0.04",
                    "x": "act",
                    "xref": "x",
                    "y": "section",
                    "yref": "y"
                  },
                  {
                    "font": {
                      "color": "#000000",
                      "size": 12
                    },
                    "showarrow": false,
                    "text": "0.54",
                    "x": "amended",
                    "xref": "x",
                    "y": "section",
                    "yref": "y"
                  },
                  {
                    "font": {
                      "color": "#FFFFFF",
                      "size": 12
                    },
                    "showarrow": false,
                    "text": "-0.24",
                    "x": "federal",
                    "xref": "x",
                    "y": "section",
                    "yref": "y"
                  },
                  {
                    "font": {
                      "color": "#FFFFFF",
                      "size": 12
                    },
                    "showarrow": false,
                    "text": "0.03",
                    "x": "general",
                    "xref": "x",
                    "y": "section",
                    "yref": "y"
                  },
                  {
                    "font": {
                      "color": "#FFFFFF",
                      "size": 12
                    },
                    "showarrow": false,
                    "text": "0.2",
                    "x": "paragraph",
                    "xref": "x",
                    "y": "section",
                    "yref": "y"
                  },
                  {
                    "font": {
                      "color": "#FFFFFF",
                      "size": 12
                    },
                    "showarrow": false,
                    "text": "-0.07",
                    "x": "sec",
                    "xref": "x",
                    "y": "section",
                    "yref": "y"
                  },
                  {
                    "font": {
                      "color": "#FFFFFF",
                      "size": 12
                    },
                    "showarrow": false,
                    "text": "-0.25",
                    "x": "secretary",
                    "xref": "x",
                    "y": "section",
                    "yref": "y"
                  },
                  {
                    "font": {
                      "color": "#FFFFFF",
                      "size": 12
                    },
                    "showarrow": false,
                    "text": "-0.07",
                    "x": "act",
                    "xref": "x",
                    "y": "secretary",
                    "yref": "y"
                  },
                  {
                    "font": {
                      "color": "#FFFFFF",
                      "size": 12
                    },
                    "showarrow": false,
                    "text": "-0.3",
                    "x": "amended",
                    "xref": "x",
                    "y": "secretary",
                    "yref": "y"
                  },
                  {
                    "font": {
                      "color": "#FFFFFF",
                      "size": 12
                    },
                    "showarrow": false,
                    "text": "-0.07",
                    "x": "federal",
                    "xref": "x",
                    "y": "secretary",
                    "yref": "y"
                  },
                  {
                    "font": {
                      "color": "#FFFFFF",
                      "size": 12
                    },
                    "showarrow": false,
                    "text": "-0.11",
                    "x": "general",
                    "xref": "x",
                    "y": "secretary",
                    "yref": "y"
                  },
                  {
                    "font": {
                      "color": "#FFFFFF",
                      "size": 12
                    },
                    "showarrow": false,
                    "text": "-0.14",
                    "x": "paragraph",
                    "xref": "x",
                    "y": "secretary",
                    "yref": "y"
                  },
                  {
                    "font": {
                      "color": "#FFFFFF",
                      "size": 12
                    },
                    "showarrow": false,
                    "text": "-0.04",
                    "x": "sec",
                    "xref": "x",
                    "y": "secretary",
                    "yref": "y"
                  },
                  {
                    "font": {
                      "color": "#FFFFFF",
                      "size": 12
                    },
                    "showarrow": false,
                    "text": "0.26",
                    "x": "act",
                    "xref": "x",
                    "y": "sec",
                    "yref": "y"
                  },
                  {
                    "font": {
                      "color": "#FFFFFF",
                      "size": 12
                    },
                    "showarrow": false,
                    "text": "0.03",
                    "x": "amended",
                    "xref": "x",
                    "y": "sec",
                    "yref": "y"
                  },
                  {
                    "font": {
                      "color": "#FFFFFF",
                      "size": 12
                    },
                    "showarrow": false,
                    "text": "0.04",
                    "x": "federal",
                    "xref": "x",
                    "y": "sec",
                    "yref": "y"
                  },
                  {
                    "font": {
                      "color": "#FFFFFF",
                      "size": 12
                    },
                    "showarrow": false,
                    "text": "0.01",
                    "x": "general",
                    "xref": "x",
                    "y": "sec",
                    "yref": "y"
                  },
                  {
                    "font": {
                      "color": "#FFFFFF",
                      "size": 12
                    },
                    "showarrow": false,
                    "text": "-0.21",
                    "x": "paragraph",
                    "xref": "x",
                    "y": "sec",
                    "yref": "y"
                  },
                  {
                    "font": {
                      "color": "#FFFFFF",
                      "size": 12
                    },
                    "showarrow": false,
                    "text": "-0.09",
                    "x": "act",
                    "xref": "x",
                    "y": "paragraph",
                    "yref": "y"
                  },
                  {
                    "font": {
                      "color": "#000000",
                      "size": 12
                    },
                    "showarrow": false,
                    "text": "0.35",
                    "x": "amended",
                    "xref": "x",
                    "y": "paragraph",
                    "yref": "y"
                  },
                  {
                    "font": {
                      "color": "#FFFFFF",
                      "size": 12
                    },
                    "showarrow": false,
                    "text": "-0.15",
                    "x": "federal",
                    "xref": "x",
                    "y": "paragraph",
                    "yref": "y"
                  },
                  {
                    "font": {
                      "color": "#FFFFFF",
                      "size": 12
                    },
                    "showarrow": false,
                    "text": "0.05",
                    "x": "general",
                    "xref": "x",
                    "y": "paragraph",
                    "yref": "y"
                  },
                  {
                    "font": {
                      "color": "#FFFFFF",
                      "size": 12
                    },
                    "showarrow": false,
                    "text": "-0.05",
                    "x": "act",
                    "xref": "x",
                    "y": "general",
                    "yref": "y"
                  },
                  {
                    "font": {
                      "color": "#FFFFFF",
                      "size": 12
                    },
                    "showarrow": false,
                    "text": "-0.02",
                    "x": "amended",
                    "xref": "x",
                    "y": "general",
                    "yref": "y"
                  },
                  {
                    "font": {
                      "color": "#FFFFFF",
                      "size": 12
                    },
                    "showarrow": false,
                    "text": "-0.0",
                    "x": "federal",
                    "xref": "x",
                    "y": "general",
                    "yref": "y"
                  },
                  {
                    "font": {
                      "color": "#FFFFFF",
                      "size": 12
                    },
                    "showarrow": false,
                    "text": "0.07",
                    "x": "act",
                    "xref": "x",
                    "y": "federal",
                    "yref": "y"
                  },
                  {
                    "font": {
                      "color": "#FFFFFF",
                      "size": 12
                    },
                    "showarrow": false,
                    "text": "-0.21",
                    "x": "amended",
                    "xref": "x",
                    "y": "federal",
                    "yref": "y"
                  },
                  {
                    "font": {
                      "color": "#FFFFFF",
                      "size": 12
                    },
                    "showarrow": false,
                    "text": "0.01",
                    "x": "act",
                    "xref": "x",
                    "y": "amended",
                    "yref": "y"
                  }
                ],
                "height": 800,
                "margin": {
                  "l": 110,
                  "t": 210
                },
                "template": {
                  "data": {
                    "bar": [
                      {
                        "error_x": {
                          "color": "#f2f5fa"
                        },
                        "error_y": {
                          "color": "#f2f5fa"
                        },
                        "marker": {
                          "line": {
                            "color": "rgb(17,17,17)",
                            "width": 0.5
                          },
                          "pattern": {
                            "fillmode": "overlay",
                            "size": 10,
                            "solidity": 0.2
                          }
                        },
                        "type": "bar"
                      }
                    ],
                    "barpolar": [
                      {
                        "marker": {
                          "line": {
                            "color": "rgb(17,17,17)",
                            "width": 0.5
                          },
                          "pattern": {
                            "fillmode": "overlay",
                            "size": 10,
                            "solidity": 0.2
                          }
                        },
                        "type": "barpolar"
                      }
                    ],
                    "carpet": [
                      {
                        "aaxis": {
                          "endlinecolor": "#A2B1C6",
                          "gridcolor": "#506784",
                          "linecolor": "#506784",
                          "minorgridcolor": "#506784",
                          "startlinecolor": "#A2B1C6"
                        },
                        "baxis": {
                          "endlinecolor": "#A2B1C6",
                          "gridcolor": "#506784",
                          "linecolor": "#506784",
                          "minorgridcolor": "#506784",
                          "startlinecolor": "#A2B1C6"
                        },
                        "type": "carpet"
                      }
                    ],
                    "choropleth": [
                      {
                        "colorbar": {
                          "outlinewidth": 0,
                          "ticks": ""
                        },
                        "type": "choropleth"
                      }
                    ],
                    "contour": [
                      {
                        "colorbar": {
                          "outlinewidth": 0,
                          "ticks": ""
                        },
                        "colorscale": [
                          [
                            0,
                            "#0d0887"
                          ],
                          [
                            0.1111111111111111,
                            "#46039f"
                          ],
                          [
                            0.2222222222222222,
                            "#7201a8"
                          ],
                          [
                            0.3333333333333333,
                            "#9c179e"
                          ],
                          [
                            0.4444444444444444,
                            "#bd3786"
                          ],
                          [
                            0.5555555555555556,
                            "#d8576b"
                          ],
                          [
                            0.6666666666666666,
                            "#ed7953"
                          ],
                          [
                            0.7777777777777778,
                            "#fb9f3a"
                          ],
                          [
                            0.8888888888888888,
                            "#fdca26"
                          ],
                          [
                            1,
                            "#f0f921"
                          ]
                        ],
                        "type": "contour"
                      }
                    ],
                    "contourcarpet": [
                      {
                        "colorbar": {
                          "outlinewidth": 0,
                          "ticks": ""
                        },
                        "type": "contourcarpet"
                      }
                    ],
                    "heatmap": [
                      {
                        "colorbar": {
                          "outlinewidth": 0,
                          "ticks": ""
                        },
                        "colorscale": [
                          [
                            0,
                            "#0d0887"
                          ],
                          [
                            0.1111111111111111,
                            "#46039f"
                          ],
                          [
                            0.2222222222222222,
                            "#7201a8"
                          ],
                          [
                            0.3333333333333333,
                            "#9c179e"
                          ],
                          [
                            0.4444444444444444,
                            "#bd3786"
                          ],
                          [
                            0.5555555555555556,
                            "#d8576b"
                          ],
                          [
                            0.6666666666666666,
                            "#ed7953"
                          ],
                          [
                            0.7777777777777778,
                            "#fb9f3a"
                          ],
                          [
                            0.8888888888888888,
                            "#fdca26"
                          ],
                          [
                            1,
                            "#f0f921"
                          ]
                        ],
                        "type": "heatmap"
                      }
                    ],
                    "histogram": [
                      {
                        "marker": {
                          "pattern": {
                            "fillmode": "overlay",
                            "size": 10,
                            "solidity": 0.2
                          }
                        },
                        "type": "histogram"
                      }
                    ],
                    "histogram2d": [
                      {
                        "colorbar": {
                          "outlinewidth": 0,
                          "ticks": ""
                        },
                        "colorscale": [
                          [
                            0,
                            "#0d0887"
                          ],
                          [
                            0.1111111111111111,
                            "#46039f"
                          ],
                          [
                            0.2222222222222222,
                            "#7201a8"
                          ],
                          [
                            0.3333333333333333,
                            "#9c179e"
                          ],
                          [
                            0.4444444444444444,
                            "#bd3786"
                          ],
                          [
                            0.5555555555555556,
                            "#d8576b"
                          ],
                          [
                            0.6666666666666666,
                            "#ed7953"
                          ],
                          [
                            0.7777777777777778,
                            "#fb9f3a"
                          ],
                          [
                            0.8888888888888888,
                            "#fdca26"
                          ],
                          [
                            1,
                            "#f0f921"
                          ]
                        ],
                        "type": "histogram2d"
                      }
                    ],
                    "histogram2dcontour": [
                      {
                        "colorbar": {
                          "outlinewidth": 0,
                          "ticks": ""
                        },
                        "colorscale": [
                          [
                            0,
                            "#0d0887"
                          ],
                          [
                            0.1111111111111111,
                            "#46039f"
                          ],
                          [
                            0.2222222222222222,
                            "#7201a8"
                          ],
                          [
                            0.3333333333333333,
                            "#9c179e"
                          ],
                          [
                            0.4444444444444444,
                            "#bd3786"
                          ],
                          [
                            0.5555555555555556,
                            "#d8576b"
                          ],
                          [
                            0.6666666666666666,
                            "#ed7953"
                          ],
                          [
                            0.7777777777777778,
                            "#fb9f3a"
                          ],
                          [
                            0.8888888888888888,
                            "#fdca26"
                          ],
                          [
                            1,
                            "#f0f921"
                          ]
                        ],
                        "type": "histogram2dcontour"
                      }
                    ],
                    "mesh3d": [
                      {
                        "colorbar": {
                          "outlinewidth": 0,
                          "ticks": ""
                        },
                        "type": "mesh3d"
                      }
                    ],
                    "parcoords": [
                      {
                        "line": {
                          "colorbar": {
                            "outlinewidth": 0,
                            "ticks": ""
                          }
                        },
                        "type": "parcoords"
                      }
                    ],
                    "pie": [
                      {
                        "automargin": true,
                        "type": "pie"
                      }
                    ],
                    "scatter": [
                      {
                        "marker": {
                          "line": {
                            "color": "#283442"
                          }
                        },
                        "type": "scatter"
                      }
                    ],
                    "scatter3d": [
                      {
                        "line": {
                          "colorbar": {
                            "outlinewidth": 0,
                            "ticks": ""
                          }
                        },
                        "marker": {
                          "colorbar": {
                            "outlinewidth": 0,
                            "ticks": ""
                          }
                        },
                        "type": "scatter3d"
                      }
                    ],
                    "scattercarpet": [
                      {
                        "marker": {
                          "colorbar": {
                            "outlinewidth": 0,
                            "ticks": ""
                          }
                        },
                        "type": "scattercarpet"
                      }
                    ],
                    "scattergeo": [
                      {
                        "marker": {
                          "colorbar": {
                            "outlinewidth": 0,
                            "ticks": ""
                          }
                        },
                        "type": "scattergeo"
                      }
                    ],
                    "scattergl": [
                      {
                        "marker": {
                          "line": {
                            "color": "#283442"
                          }
                        },
                        "type": "scattergl"
                      }
                    ],
                    "scattermap": [
                      {
                        "marker": {
                          "colorbar": {
                            "outlinewidth": 0,
                            "ticks": ""
                          }
                        },
                        "type": "scattermap"
                      }
                    ],
                    "scattermapbox": [
                      {
                        "marker": {
                          "colorbar": {
                            "outlinewidth": 0,
                            "ticks": ""
                          }
                        },
                        "type": "scattermapbox"
                      }
                    ],
                    "scatterpolar": [
                      {
                        "marker": {
                          "colorbar": {
                            "outlinewidth": 0,
                            "ticks": ""
                          }
                        },
                        "type": "scatterpolar"
                      }
                    ],
                    "scatterpolargl": [
                      {
                        "marker": {
                          "colorbar": {
                            "outlinewidth": 0,
                            "ticks": ""
                          }
                        },
                        "type": "scatterpolargl"
                      }
                    ],
                    "scatterternary": [
                      {
                        "marker": {
                          "colorbar": {
                            "outlinewidth": 0,
                            "ticks": ""
                          }
                        },
                        "type": "scatterternary"
                      }
                    ],
                    "surface": [
                      {
                        "colorbar": {
                          "outlinewidth": 0,
                          "ticks": ""
                        },
                        "colorscale": [
                          [
                            0,
                            "#0d0887"
                          ],
                          [
                            0.1111111111111111,
                            "#46039f"
                          ],
                          [
                            0.2222222222222222,
                            "#7201a8"
                          ],
                          [
                            0.3333333333333333,
                            "#9c179e"
                          ],
                          [
                            0.4444444444444444,
                            "#bd3786"
                          ],
                          [
                            0.5555555555555556,
                            "#d8576b"
                          ],
                          [
                            0.6666666666666666,
                            "#ed7953"
                          ],
                          [
                            0.7777777777777778,
                            "#fb9f3a"
                          ],
                          [
                            0.8888888888888888,
                            "#fdca26"
                          ],
                          [
                            1,
                            "#f0f921"
                          ]
                        ],
                        "type": "surface"
                      }
                    ],
                    "table": [
                      {
                        "cells": {
                          "fill": {
                            "color": "#506784"
                          },
                          "line": {
                            "color": "rgb(17,17,17)"
                          }
                        },
                        "header": {
                          "fill": {
                            "color": "#2a3f5f"
                          },
                          "line": {
                            "color": "rgb(17,17,17)"
                          }
                        },
                        "type": "table"
                      }
                    ]
                  },
                  "layout": {
                    "annotationdefaults": {
                      "arrowcolor": "#f2f5fa",
                      "arrowhead": 0,
                      "arrowwidth": 1
                    },
                    "autotypenumbers": "strict",
                    "coloraxis": {
                      "colorbar": {
                        "outlinewidth": 0,
                        "ticks": ""
                      }
                    },
                    "colorscale": {
                      "diverging": [
                        [
                          0,
                          "#8e0152"
                        ],
                        [
                          0.1,
                          "#c51b7d"
                        ],
                        [
                          0.2,
                          "#de77ae"
                        ],
                        [
                          0.3,
                          "#f1b6da"
                        ],
                        [
                          0.4,
                          "#fde0ef"
                        ],
                        [
                          0.5,
                          "#f7f7f7"
                        ],
                        [
                          0.6,
                          "#e6f5d0"
                        ],
                        [
                          0.7,
                          "#b8e186"
                        ],
                        [
                          0.8,
                          "#7fbc41"
                        ],
                        [
                          0.9,
                          "#4d9221"
                        ],
                        [
                          1,
                          "#276419"
                        ]
                      ],
                      "sequential": [
                        [
                          0,
                          "#0d0887"
                        ],
                        [
                          0.1111111111111111,
                          "#46039f"
                        ],
                        [
                          0.2222222222222222,
                          "#7201a8"
                        ],
                        [
                          0.3333333333333333,
                          "#9c179e"
                        ],
                        [
                          0.4444444444444444,
                          "#bd3786"
                        ],
                        [
                          0.5555555555555556,
                          "#d8576b"
                        ],
                        [
                          0.6666666666666666,
                          "#ed7953"
                        ],
                        [
                          0.7777777777777778,
                          "#fb9f3a"
                        ],
                        [
                          0.8888888888888888,
                          "#fdca26"
                        ],
                        [
                          1,
                          "#f0f921"
                        ]
                      ],
                      "sequentialminus": [
                        [
                          0,
                          "#0d0887"
                        ],
                        [
                          0.1111111111111111,
                          "#46039f"
                        ],
                        [
                          0.2222222222222222,
                          "#7201a8"
                        ],
                        [
                          0.3333333333333333,
                          "#9c179e"
                        ],
                        [
                          0.4444444444444444,
                          "#bd3786"
                        ],
                        [
                          0.5555555555555556,
                          "#d8576b"
                        ],
                        [
                          0.6666666666666666,
                          "#ed7953"
                        ],
                        [
                          0.7777777777777778,
                          "#fb9f3a"
                        ],
                        [
                          0.8888888888888888,
                          "#fdca26"
                        ],
                        [
                          1,
                          "#f0f921"
                        ]
                      ]
                    },
                    "colorway": [
                      "#636efa",
                      "#EF553B",
                      "#00cc96",
                      "#ab63fa",
                      "#FFA15A",
                      "#19d3f3",
                      "#FF6692",
                      "#B6E880",
                      "#FF97FF",
                      "#FECB52"
                    ],
                    "font": {
                      "color": "#f2f5fa"
                    },
                    "geo": {
                      "bgcolor": "rgb(17,17,17)",
                      "lakecolor": "rgb(17,17,17)",
                      "landcolor": "rgb(17,17,17)",
                      "showlakes": true,
                      "showland": true,
                      "subunitcolor": "#506784"
                    },
                    "hoverlabel": {
                      "align": "left"
                    },
                    "hovermode": "closest",
                    "mapbox": {
                      "style": "dark"
                    },
                    "paper_bgcolor": "rgb(17,17,17)",
                    "plot_bgcolor": "rgb(17,17,17)",
                    "polar": {
                      "angularaxis": {
                        "gridcolor": "#506784",
                        "linecolor": "#506784",
                        "ticks": ""
                      },
                      "bgcolor": "rgb(17,17,17)",
                      "radialaxis": {
                        "gridcolor": "#506784",
                        "linecolor": "#506784",
                        "ticks": ""
                      }
                    },
                    "scene": {
                      "xaxis": {
                        "backgroundcolor": "rgb(17,17,17)",
                        "gridcolor": "#506784",
                        "gridwidth": 2,
                        "linecolor": "#506784",
                        "showbackground": true,
                        "ticks": "",
                        "zerolinecolor": "#C8D4E3"
                      },
                      "yaxis": {
                        "backgroundcolor": "rgb(17,17,17)",
                        "gridcolor": "#506784",
                        "gridwidth": 2,
                        "linecolor": "#506784",
                        "showbackground": true,
                        "ticks": "",
                        "zerolinecolor": "#C8D4E3"
                      },
                      "zaxis": {
                        "backgroundcolor": "rgb(17,17,17)",
                        "gridcolor": "#506784",
                        "gridwidth": 2,
                        "linecolor": "#506784",
                        "showbackground": true,
                        "ticks": "",
                        "zerolinecolor": "#C8D4E3"
                      }
                    },
                    "shapedefaults": {
                      "line": {
                        "color": "#f2f5fa"
                      }
                    },
                    "sliderdefaults": {
                      "bgcolor": "#C8D4E3",
                      "bordercolor": "rgb(17,17,17)",
                      "borderwidth": 1,
                      "tickwidth": 0
                    },
                    "ternary": {
                      "aaxis": {
                        "gridcolor": "#506784",
                        "linecolor": "#506784",
                        "ticks": ""
                      },
                      "baxis": {
                        "gridcolor": "#506784",
                        "linecolor": "#506784",
                        "ticks": ""
                      },
                      "bgcolor": "rgb(17,17,17)",
                      "caxis": {
                        "gridcolor": "#506784",
                        "linecolor": "#506784",
                        "ticks": ""
                      }
                    },
                    "title": {
                      "x": 0.05
                    },
                    "updatemenudefaults": {
                      "bgcolor": "#506784",
                      "borderwidth": 0
                    },
                    "xaxis": {
                      "automargin": true,
                      "gridcolor": "#283442",
                      "linecolor": "#506784",
                      "ticks": "",
                      "title": {
                        "standoff": 15
                      },
                      "zerolinecolor": "#283442",
                      "zerolinewidth": 2
                    },
                    "yaxis": {
                      "automargin": true,
                      "gridcolor": "#283442",
                      "linecolor": "#506784",
                      "ticks": "",
                      "title": {
                        "standoff": 15
                      },
                      "zerolinecolor": "#283442",
                      "zerolinewidth": 2
                    }
                  }
                },
                "title": {
                  "text": "<b>Unigrams Heatmap<br><sup>&nbsp;&nbsp;&nbsp;&nbsp;<i>Train - Text</i></sup></b>",
                  "x": 0.025,
                  "xanchor": "left",
                  "y": 0.95
                },
                "width": 800,
                "xaxis": {
                  "dtick": 1,
                  "gridcolor": "rgb(0, 0, 0)",
                  "showgrid": false,
                  "side": "top",
                  "ticks": ""
                },
                "yaxis": {
                  "autorange": "reversed",
                  "dtick": 1,
                  "showgrid": false,
                  "ticks": "",
                  "ticksuffix": "  "
                }
              }
            }
          },
          "metadata": {},
          "output_type": "display_data"
        }
      ],
      "source": [
        "vectorize_and_plot(train['text'], (1, 1), 'Unigrams', 'Train - Text')"
      ]
    },
    {
      "cell_type": "code",
      "execution_count": 13,
      "metadata": {
        "colab": {
          "base_uri": "https://localhost:8080/",
          "height": 817
        },
        "id": "v9T7ThFIvKLl",
        "outputId": "1a5c2b8c-e3f3-4dc1-ed68-8f7e137f07af"
      },
      "outputs": [
        {
          "data": {
            "application/vnd.plotly.v1+json": {
              "config": {
                "plotlyServerURL": "https://plot.ly"
              },
              "data": [
                {
                  "colorscale": [
                    [
                      0,
                      "#00224e"
                    ],
                    [
                      0.1111111111111111,
                      "#123570"
                    ],
                    [
                      0.2222222222222222,
                      "#3b496c"
                    ],
                    [
                      0.3333333333333333,
                      "#575d6d"
                    ],
                    [
                      0.4444444444444444,
                      "#707173"
                    ],
                    [
                      0.5555555555555556,
                      "#8a8678"
                    ],
                    [
                      0.6666666666666666,
                      "#a59c74"
                    ],
                    [
                      0.7777777777777778,
                      "#c3b369"
                    ],
                    [
                      0.8888888888888888,
                      "#e1cc55"
                    ],
                    [
                      1,
                      "#fee838"
                    ]
                  ],
                  "reversescale": false,
                  "showscale": false,
                  "type": "heatmap",
                  "x": [
                    "000 000",
                    "act cited",
                    "adding end",
                    "amended striking",
                    "date enactment",
                    "enactment act",
                    "end following",
                    "fiscal year",
                    "following new",
                    "secretary shall",
                    "shall apply",
                    "short title",
                    "states code",
                    "title act"
                  ],
                  "y": [
                    "united states",
                    "title act",
                    "states code",
                    "short title",
                    "shall apply",
                    "secretary shall",
                    "following new",
                    "fiscal year",
                    "end following",
                    "enactment act",
                    "date enactment",
                    "amended striking",
                    "adding end",
                    "act cited"
                  ],
                  "z": [
                    [
                      -0.15,
                      -0.14,
                      -0.33,
                      -0.27,
                      -0.13,
                      -0.06,
                      -0.33,
                      -0.2,
                      -0.29,
                      -0.24,
                      -0.23,
                      -0.15,
                      0.34,
                      -0.15
                    ],
                    [
                      -0.03,
                      0.98,
                      -0.02,
                      -0.14,
                      0.09,
                      0.06,
                      -0.01,
                      -0.14,
                      -0.07,
                      -0.03,
                      -0.01,
                      0.9,
                      -0.13
                    ],
                    [
                      -0.17,
                      -0.12,
                      -0.09,
                      -0.09,
                      -0.09,
                      -0.06,
                      -0.09,
                      -0.13,
                      -0.1,
                      -0.16,
                      -0.11,
                      -0.12
                    ],
                    [
                      -0.03,
                      0.91,
                      -0.02,
                      -0.12,
                      0.08,
                      0.07,
                      -0.01,
                      -0.13,
                      -0.07,
                      -0.03,
                      -0.01
                    ],
                    [
                      -0.16,
                      -0.01,
                      0.13,
                      0.16,
                      0.03,
                      0.03,
                      0.11,
                      -0.19,
                      0.31,
                      -0.18
                    ],
                    [
                      0.02,
                      -0.04,
                      -0.14,
                      -0.19,
                      -0.04,
                      -0.06,
                      -0.13,
                      -0.01,
                      -0.14
                    ],
                    [
                      -0.15,
                      -0.07,
                      0.38,
                      0.19,
                      -0.08,
                      -0.12,
                      0.35,
                      -0.15
                    ],
                    [
                      0.23,
                      -0.13,
                      -0.13,
                      -0.1,
                      -0.18,
                      -0.17,
                      -0.12
                    ],
                    [
                      -0.12,
                      -0.01,
                      0.95,
                      0.16,
                      -0.04,
                      -0.16
                    ],
                    [
                      -0.12,
                      0.06,
                      -0.17,
                      -0.12,
                      0.77
                    ],
                    [
                      -0.12,
                      0.08,
                      -0.05,
                      -0.1
                    ],
                    [
                      -0.1,
                      -0.15,
                      0.17
                    ],
                    [
                      -0.12,
                      -0.02
                    ],
                    [
                      -0.03
                    ]
                  ]
                },
                {
                  "colorscale": [
                    [
                      0,
                      "#00224e"
                    ],
                    [
                      0.1111111111111111,
                      "#123570"
                    ],
                    [
                      0.2222222222222222,
                      "#3b496c"
                    ],
                    [
                      0.3333333333333333,
                      "#575d6d"
                    ],
                    [
                      0.4444444444444444,
                      "#707173"
                    ],
                    [
                      0.5555555555555556,
                      "#8a8678"
                    ],
                    [
                      0.6666666666666666,
                      "#a59c74"
                    ],
                    [
                      0.7777777777777778,
                      "#c3b369"
                    ],
                    [
                      0.8888888888888888,
                      "#e1cc55"
                    ],
                    [
                      1,
                      "#fee838"
                    ]
                  ],
                  "showscale": true,
                  "type": "heatmap",
                  "visible": true,
                  "z": [
                    [
                      -0.15,
                      -0.14,
                      -0.33,
                      -0.27,
                      -0.13,
                      -0.06,
                      -0.33,
                      -0.2,
                      -0.29,
                      -0.24,
                      -0.23,
                      -0.15,
                      0.34,
                      -0.15
                    ],
                    [
                      -0.03,
                      0.98,
                      -0.02,
                      -0.14,
                      0.09,
                      0.06,
                      -0.01,
                      -0.14,
                      -0.07,
                      -0.03,
                      -0.01,
                      0.9,
                      -0.13
                    ],
                    [
                      -0.17,
                      -0.12,
                      -0.09,
                      -0.09,
                      -0.09,
                      -0.06,
                      -0.09,
                      -0.13,
                      -0.1,
                      -0.16,
                      -0.11,
                      -0.12
                    ],
                    [
                      -0.03,
                      0.91,
                      -0.02,
                      -0.12,
                      0.08,
                      0.07,
                      -0.01,
                      -0.13,
                      -0.07,
                      -0.03,
                      -0.01
                    ],
                    [
                      -0.16,
                      -0.01,
                      0.13,
                      0.16,
                      0.03,
                      0.03,
                      0.11,
                      -0.19,
                      0.31,
                      -0.18
                    ],
                    [
                      0.02,
                      -0.04,
                      -0.14,
                      -0.19,
                      -0.04,
                      -0.06,
                      -0.13,
                      -0.01,
                      -0.14
                    ],
                    [
                      -0.15,
                      -0.07,
                      0.38,
                      0.19,
                      -0.08,
                      -0.12,
                      0.35,
                      -0.15
                    ],
                    [
                      0.23,
                      -0.13,
                      -0.13,
                      -0.1,
                      -0.18,
                      -0.17,
                      -0.12
                    ],
                    [
                      -0.12,
                      -0.01,
                      0.95,
                      0.16,
                      -0.04,
                      -0.16
                    ],
                    [
                      -0.12,
                      0.06,
                      -0.17,
                      -0.12,
                      0.77
                    ],
                    [
                      -0.12,
                      0.08,
                      -0.05,
                      -0.1
                    ],
                    [
                      -0.1,
                      -0.15,
                      0.17
                    ],
                    [
                      -0.12,
                      -0.02
                    ],
                    [
                      -0.03
                    ]
                  ]
                }
              ],
              "layout": {
                "annotations": [
                  {
                    "font": {
                      "color": "#FFFFFF",
                      "size": 12
                    },
                    "showarrow": false,
                    "text": "-0.15",
                    "x": "000 000",
                    "xref": "x",
                    "y": "united states",
                    "yref": "y"
                  },
                  {
                    "font": {
                      "color": "#FFFFFF",
                      "size": 12
                    },
                    "showarrow": false,
                    "text": "-0.14",
                    "x": "act cited",
                    "xref": "x",
                    "y": "united states",
                    "yref": "y"
                  },
                  {
                    "font": {
                      "color": "#FFFFFF",
                      "size": 12
                    },
                    "showarrow": false,
                    "text": "-0.33",
                    "x": "adding end",
                    "xref": "x",
                    "y": "united states",
                    "yref": "y"
                  },
                  {
                    "font": {
                      "color": "#FFFFFF",
                      "size": 12
                    },
                    "showarrow": false,
                    "text": "-0.27",
                    "x": "amended striking",
                    "xref": "x",
                    "y": "united states",
                    "yref": "y"
                  },
                  {
                    "font": {
                      "color": "#FFFFFF",
                      "size": 12
                    },
                    "showarrow": false,
                    "text": "-0.13",
                    "x": "date enactment",
                    "xref": "x",
                    "y": "united states",
                    "yref": "y"
                  },
                  {
                    "font": {
                      "color": "#FFFFFF",
                      "size": 12
                    },
                    "showarrow": false,
                    "text": "-0.06",
                    "x": "enactment act",
                    "xref": "x",
                    "y": "united states",
                    "yref": "y"
                  },
                  {
                    "font": {
                      "color": "#FFFFFF",
                      "size": 12
                    },
                    "showarrow": false,
                    "text": "-0.33",
                    "x": "end following",
                    "xref": "x",
                    "y": "united states",
                    "yref": "y"
                  },
                  {
                    "font": {
                      "color": "#FFFFFF",
                      "size": 12
                    },
                    "showarrow": false,
                    "text": "-0.2",
                    "x": "fiscal year",
                    "xref": "x",
                    "y": "united states",
                    "yref": "y"
                  },
                  {
                    "font": {
                      "color": "#FFFFFF",
                      "size": 12
                    },
                    "showarrow": false,
                    "text": "-0.29",
                    "x": "following new",
                    "xref": "x",
                    "y": "united states",
                    "yref": "y"
                  },
                  {
                    "font": {
                      "color": "#FFFFFF",
                      "size": 12
                    },
                    "showarrow": false,
                    "text": "-0.24",
                    "x": "secretary shall",
                    "xref": "x",
                    "y": "united states",
                    "yref": "y"
                  },
                  {
                    "font": {
                      "color": "#FFFFFF",
                      "size": 12
                    },
                    "showarrow": false,
                    "text": "-0.23",
                    "x": "shall apply",
                    "xref": "x",
                    "y": "united states",
                    "yref": "y"
                  },
                  {
                    "font": {
                      "color": "#FFFFFF",
                      "size": 12
                    },
                    "showarrow": false,
                    "text": "-0.15",
                    "x": "short title",
                    "xref": "x",
                    "y": "united states",
                    "yref": "y"
                  },
                  {
                    "font": {
                      "color": "#000000",
                      "size": 12
                    },
                    "showarrow": false,
                    "text": "0.34",
                    "x": "states code",
                    "xref": "x",
                    "y": "united states",
                    "yref": "y"
                  },
                  {
                    "font": {
                      "color": "#FFFFFF",
                      "size": 12
                    },
                    "showarrow": false,
                    "text": "-0.15",
                    "x": "title act",
                    "xref": "x",
                    "y": "united states",
                    "yref": "y"
                  },
                  {
                    "font": {
                      "color": "#FFFFFF",
                      "size": 12
                    },
                    "showarrow": false,
                    "text": "-0.03",
                    "x": "000 000",
                    "xref": "x",
                    "y": "title act",
                    "yref": "y"
                  },
                  {
                    "font": {
                      "color": "#000000",
                      "size": 12
                    },
                    "showarrow": false,
                    "text": "0.98",
                    "x": "act cited",
                    "xref": "x",
                    "y": "title act",
                    "yref": "y"
                  },
                  {
                    "font": {
                      "color": "#FFFFFF",
                      "size": 12
                    },
                    "showarrow": false,
                    "text": "-0.02",
                    "x": "adding end",
                    "xref": "x",
                    "y": "title act",
                    "yref": "y"
                  },
                  {
                    "font": {
                      "color": "#FFFFFF",
                      "size": 12
                    },
                    "showarrow": false,
                    "text": "-0.14",
                    "x": "amended striking",
                    "xref": "x",
                    "y": "title act",
                    "yref": "y"
                  },
                  {
                    "font": {
                      "color": "#FFFFFF",
                      "size": 12
                    },
                    "showarrow": false,
                    "text": "0.09",
                    "x": "date enactment",
                    "xref": "x",
                    "y": "title act",
                    "yref": "y"
                  },
                  {
                    "font": {
                      "color": "#FFFFFF",
                      "size": 12
                    },
                    "showarrow": false,
                    "text": "0.06",
                    "x": "enactment act",
                    "xref": "x",
                    "y": "title act",
                    "yref": "y"
                  },
                  {
                    "font": {
                      "color": "#FFFFFF",
                      "size": 12
                    },
                    "showarrow": false,
                    "text": "-0.01",
                    "x": "end following",
                    "xref": "x",
                    "y": "title act",
                    "yref": "y"
                  },
                  {
                    "font": {
                      "color": "#FFFFFF",
                      "size": 12
                    },
                    "showarrow": false,
                    "text": "-0.14",
                    "x": "fiscal year",
                    "xref": "x",
                    "y": "title act",
                    "yref": "y"
                  },
                  {
                    "font": {
                      "color": "#FFFFFF",
                      "size": 12
                    },
                    "showarrow": false,
                    "text": "-0.07",
                    "x": "following new",
                    "xref": "x",
                    "y": "title act",
                    "yref": "y"
                  },
                  {
                    "font": {
                      "color": "#FFFFFF",
                      "size": 12
                    },
                    "showarrow": false,
                    "text": "-0.03",
                    "x": "secretary shall",
                    "xref": "x",
                    "y": "title act",
                    "yref": "y"
                  },
                  {
                    "font": {
                      "color": "#FFFFFF",
                      "size": 12
                    },
                    "showarrow": false,
                    "text": "-0.01",
                    "x": "shall apply",
                    "xref": "x",
                    "y": "title act",
                    "yref": "y"
                  },
                  {
                    "font": {
                      "color": "#000000",
                      "size": 12
                    },
                    "showarrow": false,
                    "text": "0.9",
                    "x": "short title",
                    "xref": "x",
                    "y": "title act",
                    "yref": "y"
                  },
                  {
                    "font": {
                      "color": "#FFFFFF",
                      "size": 12
                    },
                    "showarrow": false,
                    "text": "-0.13",
                    "x": "states code",
                    "xref": "x",
                    "y": "title act",
                    "yref": "y"
                  },
                  {
                    "font": {
                      "color": "#FFFFFF",
                      "size": 12
                    },
                    "showarrow": false,
                    "text": "-0.17",
                    "x": "000 000",
                    "xref": "x",
                    "y": "states code",
                    "yref": "y"
                  },
                  {
                    "font": {
                      "color": "#FFFFFF",
                      "size": 12
                    },
                    "showarrow": false,
                    "text": "-0.12",
                    "x": "act cited",
                    "xref": "x",
                    "y": "states code",
                    "yref": "y"
                  },
                  {
                    "font": {
                      "color": "#FFFFFF",
                      "size": 12
                    },
                    "showarrow": false,
                    "text": "-0.09",
                    "x": "adding end",
                    "xref": "x",
                    "y": "states code",
                    "yref": "y"
                  },
                  {
                    "font": {
                      "color": "#FFFFFF",
                      "size": 12
                    },
                    "showarrow": false,
                    "text": "-0.09",
                    "x": "amended striking",
                    "xref": "x",
                    "y": "states code",
                    "yref": "y"
                  },
                  {
                    "font": {
                      "color": "#FFFFFF",
                      "size": 12
                    },
                    "showarrow": false,
                    "text": "-0.09",
                    "x": "date enactment",
                    "xref": "x",
                    "y": "states code",
                    "yref": "y"
                  },
                  {
                    "font": {
                      "color": "#FFFFFF",
                      "size": 12
                    },
                    "showarrow": false,
                    "text": "-0.06",
                    "x": "enactment act",
                    "xref": "x",
                    "y": "states code",
                    "yref": "y"
                  },
                  {
                    "font": {
                      "color": "#FFFFFF",
                      "size": 12
                    },
                    "showarrow": false,
                    "text": "-0.09",
                    "x": "end following",
                    "xref": "x",
                    "y": "states code",
                    "yref": "y"
                  },
                  {
                    "font": {
                      "color": "#FFFFFF",
                      "size": 12
                    },
                    "showarrow": false,
                    "text": "-0.13",
                    "x": "fiscal year",
                    "xref": "x",
                    "y": "states code",
                    "yref": "y"
                  },
                  {
                    "font": {
                      "color": "#FFFFFF",
                      "size": 12
                    },
                    "showarrow": false,
                    "text": "-0.1",
                    "x": "following new",
                    "xref": "x",
                    "y": "states code",
                    "yref": "y"
                  },
                  {
                    "font": {
                      "color": "#FFFFFF",
                      "size": 12
                    },
                    "showarrow": false,
                    "text": "-0.16",
                    "x": "secretary shall",
                    "xref": "x",
                    "y": "states code",
                    "yref": "y"
                  },
                  {
                    "font": {
                      "color": "#FFFFFF",
                      "size": 12
                    },
                    "showarrow": false,
                    "text": "-0.11",
                    "x": "shall apply",
                    "xref": "x",
                    "y": "states code",
                    "yref": "y"
                  },
                  {
                    "font": {
                      "color": "#FFFFFF",
                      "size": 12
                    },
                    "showarrow": false,
                    "text": "-0.12",
                    "x": "short title",
                    "xref": "x",
                    "y": "states code",
                    "yref": "y"
                  },
                  {
                    "font": {
                      "color": "#FFFFFF",
                      "size": 12
                    },
                    "showarrow": false,
                    "text": "-0.03",
                    "x": "000 000",
                    "xref": "x",
                    "y": "short title",
                    "yref": "y"
                  },
                  {
                    "font": {
                      "color": "#000000",
                      "size": 12
                    },
                    "showarrow": false,
                    "text": "0.91",
                    "x": "act cited",
                    "xref": "x",
                    "y": "short title",
                    "yref": "y"
                  },
                  {
                    "font": {
                      "color": "#FFFFFF",
                      "size": 12
                    },
                    "showarrow": false,
                    "text": "-0.02",
                    "x": "adding end",
                    "xref": "x",
                    "y": "short title",
                    "yref": "y"
                  },
                  {
                    "font": {
                      "color": "#FFFFFF",
                      "size": 12
                    },
                    "showarrow": false,
                    "text": "-0.12",
                    "x": "amended striking",
                    "xref": "x",
                    "y": "short title",
                    "yref": "y"
                  },
                  {
                    "font": {
                      "color": "#FFFFFF",
                      "size": 12
                    },
                    "showarrow": false,
                    "text": "0.08",
                    "x": "date enactment",
                    "xref": "x",
                    "y": "short title",
                    "yref": "y"
                  },
                  {
                    "font": {
                      "color": "#FFFFFF",
                      "size": 12
                    },
                    "showarrow": false,
                    "text": "0.07",
                    "x": "enactment act",
                    "xref": "x",
                    "y": "short title",
                    "yref": "y"
                  },
                  {
                    "font": {
                      "color": "#FFFFFF",
                      "size": 12
                    },
                    "showarrow": false,
                    "text": "-0.01",
                    "x": "end following",
                    "xref": "x",
                    "y": "short title",
                    "yref": "y"
                  },
                  {
                    "font": {
                      "color": "#FFFFFF",
                      "size": 12
                    },
                    "showarrow": false,
                    "text": "-0.13",
                    "x": "fiscal year",
                    "xref": "x",
                    "y": "short title",
                    "yref": "y"
                  },
                  {
                    "font": {
                      "color": "#FFFFFF",
                      "size": 12
                    },
                    "showarrow": false,
                    "text": "-0.07",
                    "x": "following new",
                    "xref": "x",
                    "y": "short title",
                    "yref": "y"
                  },
                  {
                    "font": {
                      "color": "#FFFFFF",
                      "size": 12
                    },
                    "showarrow": false,
                    "text": "-0.03",
                    "x": "secretary shall",
                    "xref": "x",
                    "y": "short title",
                    "yref": "y"
                  },
                  {
                    "font": {
                      "color": "#FFFFFF",
                      "size": 12
                    },
                    "showarrow": false,
                    "text": "-0.01",
                    "x": "shall apply",
                    "xref": "x",
                    "y": "short title",
                    "yref": "y"
                  },
                  {
                    "font": {
                      "color": "#FFFFFF",
                      "size": 12
                    },
                    "showarrow": false,
                    "text": "-0.16",
                    "x": "000 000",
                    "xref": "x",
                    "y": "shall apply",
                    "yref": "y"
                  },
                  {
                    "font": {
                      "color": "#FFFFFF",
                      "size": 12
                    },
                    "showarrow": false,
                    "text": "-0.01",
                    "x": "act cited",
                    "xref": "x",
                    "y": "shall apply",
                    "yref": "y"
                  },
                  {
                    "font": {
                      "color": "#FFFFFF",
                      "size": 12
                    },
                    "showarrow": false,
                    "text": "0.13",
                    "x": "adding end",
                    "xref": "x",
                    "y": "shall apply",
                    "yref": "y"
                  },
                  {
                    "font": {
                      "color": "#FFFFFF",
                      "size": 12
                    },
                    "showarrow": false,
                    "text": "0.16",
                    "x": "amended striking",
                    "xref": "x",
                    "y": "shall apply",
                    "yref": "y"
                  },
                  {
                    "font": {
                      "color": "#FFFFFF",
                      "size": 12
                    },
                    "showarrow": false,
                    "text": "0.03",
                    "x": "date enactment",
                    "xref": "x",
                    "y": "shall apply",
                    "yref": "y"
                  },
                  {
                    "font": {
                      "color": "#FFFFFF",
                      "size": 12
                    },
                    "showarrow": false,
                    "text": "0.03",
                    "x": "enactment act",
                    "xref": "x",
                    "y": "shall apply",
                    "yref": "y"
                  },
                  {
                    "font": {
                      "color": "#FFFFFF",
                      "size": 12
                    },
                    "showarrow": false,
                    "text": "0.11",
                    "x": "end following",
                    "xref": "x",
                    "y": "shall apply",
                    "yref": "y"
                  },
                  {
                    "font": {
                      "color": "#FFFFFF",
                      "size": 12
                    },
                    "showarrow": false,
                    "text": "-0.19",
                    "x": "fiscal year",
                    "xref": "x",
                    "y": "shall apply",
                    "yref": "y"
                  },
                  {
                    "font": {
                      "color": "#FFFFFF",
                      "size": 12
                    },
                    "showarrow": false,
                    "text": "0.31",
                    "x": "following new",
                    "xref": "x",
                    "y": "shall apply",
                    "yref": "y"
                  },
                  {
                    "font": {
                      "color": "#FFFFFF",
                      "size": 12
                    },
                    "showarrow": false,
                    "text": "-0.18",
                    "x": "secretary shall",
                    "xref": "x",
                    "y": "shall apply",
                    "yref": "y"
                  },
                  {
                    "font": {
                      "color": "#FFFFFF",
                      "size": 12
                    },
                    "showarrow": false,
                    "text": "0.02",
                    "x": "000 000",
                    "xref": "x",
                    "y": "secretary shall",
                    "yref": "y"
                  },
                  {
                    "font": {
                      "color": "#FFFFFF",
                      "size": 12
                    },
                    "showarrow": false,
                    "text": "-0.04",
                    "x": "act cited",
                    "xref": "x",
                    "y": "secretary shall",
                    "yref": "y"
                  },
                  {
                    "font": {
                      "color": "#FFFFFF",
                      "size": 12
                    },
                    "showarrow": false,
                    "text": "-0.14",
                    "x": "adding end",
                    "xref": "x",
                    "y": "secretary shall",
                    "yref": "y"
                  },
                  {
                    "font": {
                      "color": "#FFFFFF",
                      "size": 12
                    },
                    "showarrow": false,
                    "text": "-0.19",
                    "x": "amended striking",
                    "xref": "x",
                    "y": "secretary shall",
                    "yref": "y"
                  },
                  {
                    "font": {
                      "color": "#FFFFFF",
                      "size": 12
                    },
                    "showarrow": false,
                    "text": "-0.04",
                    "x": "date enactment",
                    "xref": "x",
                    "y": "secretary shall",
                    "yref": "y"
                  },
                  {
                    "font": {
                      "color": "#FFFFFF",
                      "size": 12
                    },
                    "showarrow": false,
                    "text": "-0.06",
                    "x": "enactment act",
                    "xref": "x",
                    "y": "secretary shall",
                    "yref": "y"
                  },
                  {
                    "font": {
                      "color": "#FFFFFF",
                      "size": 12
                    },
                    "showarrow": false,
                    "text": "-0.13",
                    "x": "end following",
                    "xref": "x",
                    "y": "secretary shall",
                    "yref": "y"
                  },
                  {
                    "font": {
                      "color": "#FFFFFF",
                      "size": 12
                    },
                    "showarrow": false,
                    "text": "-0.01",
                    "x": "fiscal year",
                    "xref": "x",
                    "y": "secretary shall",
                    "yref": "y"
                  },
                  {
                    "font": {
                      "color": "#FFFFFF",
                      "size": 12
                    },
                    "showarrow": false,
                    "text": "-0.14",
                    "x": "following new",
                    "xref": "x",
                    "y": "secretary shall",
                    "yref": "y"
                  },
                  {
                    "font": {
                      "color": "#FFFFFF",
                      "size": 12
                    },
                    "showarrow": false,
                    "text": "-0.15",
                    "x": "000 000",
                    "xref": "x",
                    "y": "following new",
                    "yref": "y"
                  },
                  {
                    "font": {
                      "color": "#FFFFFF",
                      "size": 12
                    },
                    "showarrow": false,
                    "text": "-0.07",
                    "x": "act cited",
                    "xref": "x",
                    "y": "following new",
                    "yref": "y"
                  },
                  {
                    "font": {
                      "color": "#000000",
                      "size": 12
                    },
                    "showarrow": false,
                    "text": "0.38",
                    "x": "adding end",
                    "xref": "x",
                    "y": "following new",
                    "yref": "y"
                  },
                  {
                    "font": {
                      "color": "#FFFFFF",
                      "size": 12
                    },
                    "showarrow": false,
                    "text": "0.19",
                    "x": "amended striking",
                    "xref": "x",
                    "y": "following new",
                    "yref": "y"
                  },
                  {
                    "font": {
                      "color": "#FFFFFF",
                      "size": 12
                    },
                    "showarrow": false,
                    "text": "-0.08",
                    "x": "date enactment",
                    "xref": "x",
                    "y": "following new",
                    "yref": "y"
                  },
                  {
                    "font": {
                      "color": "#FFFFFF",
                      "size": 12
                    },
                    "showarrow": false,
                    "text": "-0.12",
                    "x": "enactment act",
                    "xref": "x",
                    "y": "following new",
                    "yref": "y"
                  },
                  {
                    "font": {
                      "color": "#000000",
                      "size": 12
                    },
                    "showarrow": false,
                    "text": "0.35",
                    "x": "end following",
                    "xref": "x",
                    "y": "following new",
                    "yref": "y"
                  },
                  {
                    "font": {
                      "color": "#FFFFFF",
                      "size": 12
                    },
                    "showarrow": false,
                    "text": "-0.15",
                    "x": "fiscal year",
                    "xref": "x",
                    "y": "following new",
                    "yref": "y"
                  },
                  {
                    "font": {
                      "color": "#FFFFFF",
                      "size": 12
                    },
                    "showarrow": false,
                    "text": "0.23",
                    "x": "000 000",
                    "xref": "x",
                    "y": "fiscal year",
                    "yref": "y"
                  },
                  {
                    "font": {
                      "color": "#FFFFFF",
                      "size": 12
                    },
                    "showarrow": false,
                    "text": "-0.13",
                    "x": "act cited",
                    "xref": "x",
                    "y": "fiscal year",
                    "yref": "y"
                  },
                  {
                    "font": {
                      "color": "#FFFFFF",
                      "size": 12
                    },
                    "showarrow": false,
                    "text": "-0.13",
                    "x": "adding end",
                    "xref": "x",
                    "y": "fiscal year",
                    "yref": "y"
                  },
                  {
                    "font": {
                      "color": "#FFFFFF",
                      "size": 12
                    },
                    "showarrow": false,
                    "text": "-0.1",
                    "x": "amended striking",
                    "xref": "x",
                    "y": "fiscal year",
                    "yref": "y"
                  },
                  {
                    "font": {
                      "color": "#FFFFFF",
                      "size": 12
                    },
                    "showarrow": false,
                    "text": "-0.18",
                    "x": "date enactment",
                    "xref": "x",
                    "y": "fiscal year",
                    "yref": "y"
                  },
                  {
                    "font": {
                      "color": "#FFFFFF",
                      "size": 12
                    },
                    "showarrow": false,
                    "text": "-0.17",
                    "x": "enactment act",
                    "xref": "x",
                    "y": "fiscal year",
                    "yref": "y"
                  },
                  {
                    "font": {
                      "color": "#FFFFFF",
                      "size": 12
                    },
                    "showarrow": false,
                    "text": "-0.12",
                    "x": "end following",
                    "xref": "x",
                    "y": "fiscal year",
                    "yref": "y"
                  },
                  {
                    "font": {
                      "color": "#FFFFFF",
                      "size": 12
                    },
                    "showarrow": false,
                    "text": "-0.12",
                    "x": "000 000",
                    "xref": "x",
                    "y": "end following",
                    "yref": "y"
                  },
                  {
                    "font": {
                      "color": "#FFFFFF",
                      "size": 12
                    },
                    "showarrow": false,
                    "text": "-0.01",
                    "x": "act cited",
                    "xref": "x",
                    "y": "end following",
                    "yref": "y"
                  },
                  {
                    "font": {
                      "color": "#000000",
                      "size": 12
                    },
                    "showarrow": false,
                    "text": "0.95",
                    "x": "adding end",
                    "xref": "x",
                    "y": "end following",
                    "yref": "y"
                  },
                  {
                    "font": {
                      "color": "#FFFFFF",
                      "size": 12
                    },
                    "showarrow": false,
                    "text": "0.16",
                    "x": "amended striking",
                    "xref": "x",
                    "y": "end following",
                    "yref": "y"
                  },
                  {
                    "font": {
                      "color": "#FFFFFF",
                      "size": 12
                    },
                    "showarrow": false,
                    "text": "-0.04",
                    "x": "date enactment",
                    "xref": "x",
                    "y": "end following",
                    "yref": "y"
                  },
                  {
                    "font": {
                      "color": "#FFFFFF",
                      "size": 12
                    },
                    "showarrow": false,
                    "text": "-0.16",
                    "x": "enactment act",
                    "xref": "x",
                    "y": "end following",
                    "yref": "y"
                  },
                  {
                    "font": {
                      "color": "#FFFFFF",
                      "size": 12
                    },
                    "showarrow": false,
                    "text": "-0.12",
                    "x": "000 000",
                    "xref": "x",
                    "y": "enactment act",
                    "yref": "y"
                  },
                  {
                    "font": {
                      "color": "#FFFFFF",
                      "size": 12
                    },
                    "showarrow": false,
                    "text": "0.06",
                    "x": "act cited",
                    "xref": "x",
                    "y": "enactment act",
                    "yref": "y"
                  },
                  {
                    "font": {
                      "color": "#FFFFFF",
                      "size": 12
                    },
                    "showarrow": false,
                    "text": "-0.17",
                    "x": "adding end",
                    "xref": "x",
                    "y": "enactment act",
                    "yref": "y"
                  },
                  {
                    "font": {
                      "color": "#FFFFFF",
                      "size": 12
                    },
                    "showarrow": false,
                    "text": "-0.12",
                    "x": "amended striking",
                    "xref": "x",
                    "y": "enactment act",
                    "yref": "y"
                  },
                  {
                    "font": {
                      "color": "#000000",
                      "size": 12
                    },
                    "showarrow": false,
                    "text": "0.77",
                    "x": "date enactment",
                    "xref": "x",
                    "y": "enactment act",
                    "yref": "y"
                  },
                  {
                    "font": {
                      "color": "#FFFFFF",
                      "size": 12
                    },
                    "showarrow": false,
                    "text": "-0.12",
                    "x": "000 000",
                    "xref": "x",
                    "y": "date enactment",
                    "yref": "y"
                  },
                  {
                    "font": {
                      "color": "#FFFFFF",
                      "size": 12
                    },
                    "showarrow": false,
                    "text": "0.08",
                    "x": "act cited",
                    "xref": "x",
                    "y": "date enactment",
                    "yref": "y"
                  },
                  {
                    "font": {
                      "color": "#FFFFFF",
                      "size": 12
                    },
                    "showarrow": false,
                    "text": "-0.05",
                    "x": "adding end",
                    "xref": "x",
                    "y": "date enactment",
                    "yref": "y"
                  },
                  {
                    "font": {
                      "color": "#FFFFFF",
                      "size": 12
                    },
                    "showarrow": false,
                    "text": "-0.1",
                    "x": "amended striking",
                    "xref": "x",
                    "y": "date enactment",
                    "yref": "y"
                  },
                  {
                    "font": {
                      "color": "#FFFFFF",
                      "size": 12
                    },
                    "showarrow": false,
                    "text": "-0.1",
                    "x": "000 000",
                    "xref": "x",
                    "y": "amended striking",
                    "yref": "y"
                  },
                  {
                    "font": {
                      "color": "#FFFFFF",
                      "size": 12
                    },
                    "showarrow": false,
                    "text": "-0.15",
                    "x": "act cited",
                    "xref": "x",
                    "y": "amended striking",
                    "yref": "y"
                  },
                  {
                    "font": {
                      "color": "#FFFFFF",
                      "size": 12
                    },
                    "showarrow": false,
                    "text": "0.17",
                    "x": "adding end",
                    "xref": "x",
                    "y": "amended striking",
                    "yref": "y"
                  },
                  {
                    "font": {
                      "color": "#FFFFFF",
                      "size": 12
                    },
                    "showarrow": false,
                    "text": "-0.12",
                    "x": "000 000",
                    "xref": "x",
                    "y": "adding end",
                    "yref": "y"
                  },
                  {
                    "font": {
                      "color": "#FFFFFF",
                      "size": 12
                    },
                    "showarrow": false,
                    "text": "-0.02",
                    "x": "act cited",
                    "xref": "x",
                    "y": "adding end",
                    "yref": "y"
                  },
                  {
                    "font": {
                      "color": "#FFFFFF",
                      "size": 12
                    },
                    "showarrow": false,
                    "text": "-0.03",
                    "x": "000 000",
                    "xref": "x",
                    "y": "act cited",
                    "yref": "y"
                  }
                ],
                "height": 800,
                "margin": {
                  "l": 110,
                  "t": 210
                },
                "template": {
                  "data": {
                    "bar": [
                      {
                        "error_x": {
                          "color": "#f2f5fa"
                        },
                        "error_y": {
                          "color": "#f2f5fa"
                        },
                        "marker": {
                          "line": {
                            "color": "rgb(17,17,17)",
                            "width": 0.5
                          },
                          "pattern": {
                            "fillmode": "overlay",
                            "size": 10,
                            "solidity": 0.2
                          }
                        },
                        "type": "bar"
                      }
                    ],
                    "barpolar": [
                      {
                        "marker": {
                          "line": {
                            "color": "rgb(17,17,17)",
                            "width": 0.5
                          },
                          "pattern": {
                            "fillmode": "overlay",
                            "size": 10,
                            "solidity": 0.2
                          }
                        },
                        "type": "barpolar"
                      }
                    ],
                    "carpet": [
                      {
                        "aaxis": {
                          "endlinecolor": "#A2B1C6",
                          "gridcolor": "#506784",
                          "linecolor": "#506784",
                          "minorgridcolor": "#506784",
                          "startlinecolor": "#A2B1C6"
                        },
                        "baxis": {
                          "endlinecolor": "#A2B1C6",
                          "gridcolor": "#506784",
                          "linecolor": "#506784",
                          "minorgridcolor": "#506784",
                          "startlinecolor": "#A2B1C6"
                        },
                        "type": "carpet"
                      }
                    ],
                    "choropleth": [
                      {
                        "colorbar": {
                          "outlinewidth": 0,
                          "ticks": ""
                        },
                        "type": "choropleth"
                      }
                    ],
                    "contour": [
                      {
                        "colorbar": {
                          "outlinewidth": 0,
                          "ticks": ""
                        },
                        "colorscale": [
                          [
                            0,
                            "#0d0887"
                          ],
                          [
                            0.1111111111111111,
                            "#46039f"
                          ],
                          [
                            0.2222222222222222,
                            "#7201a8"
                          ],
                          [
                            0.3333333333333333,
                            "#9c179e"
                          ],
                          [
                            0.4444444444444444,
                            "#bd3786"
                          ],
                          [
                            0.5555555555555556,
                            "#d8576b"
                          ],
                          [
                            0.6666666666666666,
                            "#ed7953"
                          ],
                          [
                            0.7777777777777778,
                            "#fb9f3a"
                          ],
                          [
                            0.8888888888888888,
                            "#fdca26"
                          ],
                          [
                            1,
                            "#f0f921"
                          ]
                        ],
                        "type": "contour"
                      }
                    ],
                    "contourcarpet": [
                      {
                        "colorbar": {
                          "outlinewidth": 0,
                          "ticks": ""
                        },
                        "type": "contourcarpet"
                      }
                    ],
                    "heatmap": [
                      {
                        "colorbar": {
                          "outlinewidth": 0,
                          "ticks": ""
                        },
                        "colorscale": [
                          [
                            0,
                            "#0d0887"
                          ],
                          [
                            0.1111111111111111,
                            "#46039f"
                          ],
                          [
                            0.2222222222222222,
                            "#7201a8"
                          ],
                          [
                            0.3333333333333333,
                            "#9c179e"
                          ],
                          [
                            0.4444444444444444,
                            "#bd3786"
                          ],
                          [
                            0.5555555555555556,
                            "#d8576b"
                          ],
                          [
                            0.6666666666666666,
                            "#ed7953"
                          ],
                          [
                            0.7777777777777778,
                            "#fb9f3a"
                          ],
                          [
                            0.8888888888888888,
                            "#fdca26"
                          ],
                          [
                            1,
                            "#f0f921"
                          ]
                        ],
                        "type": "heatmap"
                      }
                    ],
                    "histogram": [
                      {
                        "marker": {
                          "pattern": {
                            "fillmode": "overlay",
                            "size": 10,
                            "solidity": 0.2
                          }
                        },
                        "type": "histogram"
                      }
                    ],
                    "histogram2d": [
                      {
                        "colorbar": {
                          "outlinewidth": 0,
                          "ticks": ""
                        },
                        "colorscale": [
                          [
                            0,
                            "#0d0887"
                          ],
                          [
                            0.1111111111111111,
                            "#46039f"
                          ],
                          [
                            0.2222222222222222,
                            "#7201a8"
                          ],
                          [
                            0.3333333333333333,
                            "#9c179e"
                          ],
                          [
                            0.4444444444444444,
                            "#bd3786"
                          ],
                          [
                            0.5555555555555556,
                            "#d8576b"
                          ],
                          [
                            0.6666666666666666,
                            "#ed7953"
                          ],
                          [
                            0.7777777777777778,
                            "#fb9f3a"
                          ],
                          [
                            0.8888888888888888,
                            "#fdca26"
                          ],
                          [
                            1,
                            "#f0f921"
                          ]
                        ],
                        "type": "histogram2d"
                      }
                    ],
                    "histogram2dcontour": [
                      {
                        "colorbar": {
                          "outlinewidth": 0,
                          "ticks": ""
                        },
                        "colorscale": [
                          [
                            0,
                            "#0d0887"
                          ],
                          [
                            0.1111111111111111,
                            "#46039f"
                          ],
                          [
                            0.2222222222222222,
                            "#7201a8"
                          ],
                          [
                            0.3333333333333333,
                            "#9c179e"
                          ],
                          [
                            0.4444444444444444,
                            "#bd3786"
                          ],
                          [
                            0.5555555555555556,
                            "#d8576b"
                          ],
                          [
                            0.6666666666666666,
                            "#ed7953"
                          ],
                          [
                            0.7777777777777778,
                            "#fb9f3a"
                          ],
                          [
                            0.8888888888888888,
                            "#fdca26"
                          ],
                          [
                            1,
                            "#f0f921"
                          ]
                        ],
                        "type": "histogram2dcontour"
                      }
                    ],
                    "mesh3d": [
                      {
                        "colorbar": {
                          "outlinewidth": 0,
                          "ticks": ""
                        },
                        "type": "mesh3d"
                      }
                    ],
                    "parcoords": [
                      {
                        "line": {
                          "colorbar": {
                            "outlinewidth": 0,
                            "ticks": ""
                          }
                        },
                        "type": "parcoords"
                      }
                    ],
                    "pie": [
                      {
                        "automargin": true,
                        "type": "pie"
                      }
                    ],
                    "scatter": [
                      {
                        "marker": {
                          "line": {
                            "color": "#283442"
                          }
                        },
                        "type": "scatter"
                      }
                    ],
                    "scatter3d": [
                      {
                        "line": {
                          "colorbar": {
                            "outlinewidth": 0,
                            "ticks": ""
                          }
                        },
                        "marker": {
                          "colorbar": {
                            "outlinewidth": 0,
                            "ticks": ""
                          }
                        },
                        "type": "scatter3d"
                      }
                    ],
                    "scattercarpet": [
                      {
                        "marker": {
                          "colorbar": {
                            "outlinewidth": 0,
                            "ticks": ""
                          }
                        },
                        "type": "scattercarpet"
                      }
                    ],
                    "scattergeo": [
                      {
                        "marker": {
                          "colorbar": {
                            "outlinewidth": 0,
                            "ticks": ""
                          }
                        },
                        "type": "scattergeo"
                      }
                    ],
                    "scattergl": [
                      {
                        "marker": {
                          "line": {
                            "color": "#283442"
                          }
                        },
                        "type": "scattergl"
                      }
                    ],
                    "scattermap": [
                      {
                        "marker": {
                          "colorbar": {
                            "outlinewidth": 0,
                            "ticks": ""
                          }
                        },
                        "type": "scattermap"
                      }
                    ],
                    "scattermapbox": [
                      {
                        "marker": {
                          "colorbar": {
                            "outlinewidth": 0,
                            "ticks": ""
                          }
                        },
                        "type": "scattermapbox"
                      }
                    ],
                    "scatterpolar": [
                      {
                        "marker": {
                          "colorbar": {
                            "outlinewidth": 0,
                            "ticks": ""
                          }
                        },
                        "type": "scatterpolar"
                      }
                    ],
                    "scatterpolargl": [
                      {
                        "marker": {
                          "colorbar": {
                            "outlinewidth": 0,
                            "ticks": ""
                          }
                        },
                        "type": "scatterpolargl"
                      }
                    ],
                    "scatterternary": [
                      {
                        "marker": {
                          "colorbar": {
                            "outlinewidth": 0,
                            "ticks": ""
                          }
                        },
                        "type": "scatterternary"
                      }
                    ],
                    "surface": [
                      {
                        "colorbar": {
                          "outlinewidth": 0,
                          "ticks": ""
                        },
                        "colorscale": [
                          [
                            0,
                            "#0d0887"
                          ],
                          [
                            0.1111111111111111,
                            "#46039f"
                          ],
                          [
                            0.2222222222222222,
                            "#7201a8"
                          ],
                          [
                            0.3333333333333333,
                            "#9c179e"
                          ],
                          [
                            0.4444444444444444,
                            "#bd3786"
                          ],
                          [
                            0.5555555555555556,
                            "#d8576b"
                          ],
                          [
                            0.6666666666666666,
                            "#ed7953"
                          ],
                          [
                            0.7777777777777778,
                            "#fb9f3a"
                          ],
                          [
                            0.8888888888888888,
                            "#fdca26"
                          ],
                          [
                            1,
                            "#f0f921"
                          ]
                        ],
                        "type": "surface"
                      }
                    ],
                    "table": [
                      {
                        "cells": {
                          "fill": {
                            "color": "#506784"
                          },
                          "line": {
                            "color": "rgb(17,17,17)"
                          }
                        },
                        "header": {
                          "fill": {
                            "color": "#2a3f5f"
                          },
                          "line": {
                            "color": "rgb(17,17,17)"
                          }
                        },
                        "type": "table"
                      }
                    ]
                  },
                  "layout": {
                    "annotationdefaults": {
                      "arrowcolor": "#f2f5fa",
                      "arrowhead": 0,
                      "arrowwidth": 1
                    },
                    "autotypenumbers": "strict",
                    "coloraxis": {
                      "colorbar": {
                        "outlinewidth": 0,
                        "ticks": ""
                      }
                    },
                    "colorscale": {
                      "diverging": [
                        [
                          0,
                          "#8e0152"
                        ],
                        [
                          0.1,
                          "#c51b7d"
                        ],
                        [
                          0.2,
                          "#de77ae"
                        ],
                        [
                          0.3,
                          "#f1b6da"
                        ],
                        [
                          0.4,
                          "#fde0ef"
                        ],
                        [
                          0.5,
                          "#f7f7f7"
                        ],
                        [
                          0.6,
                          "#e6f5d0"
                        ],
                        [
                          0.7,
                          "#b8e186"
                        ],
                        [
                          0.8,
                          "#7fbc41"
                        ],
                        [
                          0.9,
                          "#4d9221"
                        ],
                        [
                          1,
                          "#276419"
                        ]
                      ],
                      "sequential": [
                        [
                          0,
                          "#0d0887"
                        ],
                        [
                          0.1111111111111111,
                          "#46039f"
                        ],
                        [
                          0.2222222222222222,
                          "#7201a8"
                        ],
                        [
                          0.3333333333333333,
                          "#9c179e"
                        ],
                        [
                          0.4444444444444444,
                          "#bd3786"
                        ],
                        [
                          0.5555555555555556,
                          "#d8576b"
                        ],
                        [
                          0.6666666666666666,
                          "#ed7953"
                        ],
                        [
                          0.7777777777777778,
                          "#fb9f3a"
                        ],
                        [
                          0.8888888888888888,
                          "#fdca26"
                        ],
                        [
                          1,
                          "#f0f921"
                        ]
                      ],
                      "sequentialminus": [
                        [
                          0,
                          "#0d0887"
                        ],
                        [
                          0.1111111111111111,
                          "#46039f"
                        ],
                        [
                          0.2222222222222222,
                          "#7201a8"
                        ],
                        [
                          0.3333333333333333,
                          "#9c179e"
                        ],
                        [
                          0.4444444444444444,
                          "#bd3786"
                        ],
                        [
                          0.5555555555555556,
                          "#d8576b"
                        ],
                        [
                          0.6666666666666666,
                          "#ed7953"
                        ],
                        [
                          0.7777777777777778,
                          "#fb9f3a"
                        ],
                        [
                          0.8888888888888888,
                          "#fdca26"
                        ],
                        [
                          1,
                          "#f0f921"
                        ]
                      ]
                    },
                    "colorway": [
                      "#636efa",
                      "#EF553B",
                      "#00cc96",
                      "#ab63fa",
                      "#FFA15A",
                      "#19d3f3",
                      "#FF6692",
                      "#B6E880",
                      "#FF97FF",
                      "#FECB52"
                    ],
                    "font": {
                      "color": "#f2f5fa"
                    },
                    "geo": {
                      "bgcolor": "rgb(17,17,17)",
                      "lakecolor": "rgb(17,17,17)",
                      "landcolor": "rgb(17,17,17)",
                      "showlakes": true,
                      "showland": true,
                      "subunitcolor": "#506784"
                    },
                    "hoverlabel": {
                      "align": "left"
                    },
                    "hovermode": "closest",
                    "mapbox": {
                      "style": "dark"
                    },
                    "paper_bgcolor": "rgb(17,17,17)",
                    "plot_bgcolor": "rgb(17,17,17)",
                    "polar": {
                      "angularaxis": {
                        "gridcolor": "#506784",
                        "linecolor": "#506784",
                        "ticks": ""
                      },
                      "bgcolor": "rgb(17,17,17)",
                      "radialaxis": {
                        "gridcolor": "#506784",
                        "linecolor": "#506784",
                        "ticks": ""
                      }
                    },
                    "scene": {
                      "xaxis": {
                        "backgroundcolor": "rgb(17,17,17)",
                        "gridcolor": "#506784",
                        "gridwidth": 2,
                        "linecolor": "#506784",
                        "showbackground": true,
                        "ticks": "",
                        "zerolinecolor": "#C8D4E3"
                      },
                      "yaxis": {
                        "backgroundcolor": "rgb(17,17,17)",
                        "gridcolor": "#506784",
                        "gridwidth": 2,
                        "linecolor": "#506784",
                        "showbackground": true,
                        "ticks": "",
                        "zerolinecolor": "#C8D4E3"
                      },
                      "zaxis": {
                        "backgroundcolor": "rgb(17,17,17)",
                        "gridcolor": "#506784",
                        "gridwidth": 2,
                        "linecolor": "#506784",
                        "showbackground": true,
                        "ticks": "",
                        "zerolinecolor": "#C8D4E3"
                      }
                    },
                    "shapedefaults": {
                      "line": {
                        "color": "#f2f5fa"
                      }
                    },
                    "sliderdefaults": {
                      "bgcolor": "#C8D4E3",
                      "bordercolor": "rgb(17,17,17)",
                      "borderwidth": 1,
                      "tickwidth": 0
                    },
                    "ternary": {
                      "aaxis": {
                        "gridcolor": "#506784",
                        "linecolor": "#506784",
                        "ticks": ""
                      },
                      "baxis": {
                        "gridcolor": "#506784",
                        "linecolor": "#506784",
                        "ticks": ""
                      },
                      "bgcolor": "rgb(17,17,17)",
                      "caxis": {
                        "gridcolor": "#506784",
                        "linecolor": "#506784",
                        "ticks": ""
                      }
                    },
                    "title": {
                      "x": 0.05
                    },
                    "updatemenudefaults": {
                      "bgcolor": "#506784",
                      "borderwidth": 0
                    },
                    "xaxis": {
                      "automargin": true,
                      "gridcolor": "#283442",
                      "linecolor": "#506784",
                      "ticks": "",
                      "title": {
                        "standoff": 15
                      },
                      "zerolinecolor": "#283442",
                      "zerolinewidth": 2
                    },
                    "yaxis": {
                      "automargin": true,
                      "gridcolor": "#283442",
                      "linecolor": "#506784",
                      "ticks": "",
                      "title": {
                        "standoff": 15
                      },
                      "zerolinecolor": "#283442",
                      "zerolinewidth": 2
                    }
                  }
                },
                "title": {
                  "text": "<b>Bigrams Heatmap<br><sup>&nbsp;&nbsp;&nbsp;&nbsp;<i>Train - Text</i></sup></b>",
                  "x": 0.025,
                  "xanchor": "left",
                  "y": 0.95
                },
                "width": 800,
                "xaxis": {
                  "dtick": 1,
                  "gridcolor": "rgb(0, 0, 0)",
                  "showgrid": false,
                  "side": "top",
                  "ticks": ""
                },
                "yaxis": {
                  "autorange": "reversed",
                  "dtick": 1,
                  "showgrid": false,
                  "ticks": "",
                  "ticksuffix": "  "
                }
              }
            }
          },
          "metadata": {},
          "output_type": "display_data"
        }
      ],
      "source": [
        "vectorize_and_plot(train['text'], (2, 2), 'Bigrams', 'Train - Text')"
      ]
    },
    {
      "cell_type": "code",
      "execution_count": 14,
      "metadata": {
        "colab": {
          "base_uri": "https://localhost:8080/",
          "height": 817
        },
        "id": "g8hpWoHPaQpe",
        "outputId": "e7ba7a7b-c07c-4f64-cbac-698a64eaa435"
      },
      "outputs": [
        {
          "data": {
            "application/vnd.plotly.v1+json": {
              "config": {
                "plotlyServerURL": "https://plot.ly"
              },
              "data": [
                {
                  "colorscale": [
                    [
                      0,
                      "#00224e"
                    ],
                    [
                      0.1111111111111111,
                      "#123570"
                    ],
                    [
                      0.2222222222222222,
                      "#3b496c"
                    ],
                    [
                      0.3333333333333333,
                      "#575d6d"
                    ],
                    [
                      0.4444444444444444,
                      "#707173"
                    ],
                    [
                      0.5555555555555556,
                      "#8a8678"
                    ],
                    [
                      0.6666666666666666,
                      "#a59c74"
                    ],
                    [
                      0.7777777777777778,
                      "#c3b369"
                    ],
                    [
                      0.8888888888888888,
                      "#e1cc55"
                    ],
                    [
                      1,
                      "#fee838"
                    ]
                  ],
                  "reversescale": false,
                  "showscale": false,
                  "type": "heatmap",
                  "x": [
                    "act amends",
                    "amends federal",
                    "amends internal",
                    "authorizes appropriations",
                    "authorizes secretary",
                    "directs secretary",
                    "health care",
                    "internal revenue",
                    "requires secretary",
                    "revenue code",
                    "security act",
                    "sets forth",
                    "social security",
                    "state local"
                  ],
                  "y": [
                    "united states",
                    "state local",
                    "social security",
                    "sets forth",
                    "security act",
                    "revenue code",
                    "requires secretary",
                    "internal revenue",
                    "health care",
                    "directs secretary",
                    "authorizes secretary",
                    "authorizes appropriations",
                    "amends internal",
                    "amends federal"
                  ],
                  "z": [
                    [
                      -0.08,
                      -0.04,
                      -0.11,
                      -0.05,
                      -0.04,
                      -0.04,
                      -0.08,
                      -0.11,
                      -0.04,
                      -0.11,
                      -0.09,
                      -0.04,
                      -0.09,
                      -0.04
                    ],
                    [
                      -0.04,
                      -0.01,
                      -0.07,
                      -0.01,
                      -0.02,
                      -0.05,
                      -0.04,
                      -0.07,
                      -0.04,
                      -0.07,
                      -0.04,
                      -0.01,
                      -0.05
                    ],
                    [
                      -0.04,
                      -0.07,
                      -0.05,
                      -0.06,
                      -0.06,
                      -0.05,
                      0.02,
                      -0.04,
                      -0.05,
                      -0.04,
                      0.62,
                      -0.07
                    ],
                    [
                      -0.05,
                      0,
                      -0.08,
                      0.04,
                      -0.01,
                      -0.03,
                      -0.04,
                      -0.08,
                      -0.03,
                      -0.08,
                      -0.06
                    ],
                    [
                      -0.03,
                      -0.07,
                      -0.07,
                      -0.06,
                      -0.05,
                      -0.05,
                      0.02,
                      -0.04,
                      -0.04,
                      -0.04
                    ],
                    [
                      0,
                      -0.1,
                      0.96,
                      -0.1,
                      -0.09,
                      -0.14,
                      -0.04,
                      0.96,
                      -0.1
                    ],
                    [
                      -0.06,
                      -0.05,
                      -0.1,
                      0,
                      0.06,
                      0.08,
                      0.01,
                      -0.1
                    ],
                    [
                      0,
                      -0.09,
                      0.92,
                      -0.1,
                      -0.09,
                      -0.14,
                      -0.04
                    ],
                    [
                      -0.04,
                      -0.05,
                      -0.04,
                      -0.04,
                      -0.03,
                      -0.02
                    ],
                    [
                      -0.1,
                      -0.09,
                      -0.13,
                      0,
                      0.07
                    ],
                    [
                      -0.06,
                      -0.05,
                      -0.09,
                      0.06
                    ],
                    [
                      -0.06,
                      -0.05,
                      -0.1
                    ],
                    [
                      0,
                      -0.1
                    ],
                    [
                      0.05
                    ]
                  ]
                },
                {
                  "colorscale": [
                    [
                      0,
                      "#00224e"
                    ],
                    [
                      0.1111111111111111,
                      "#123570"
                    ],
                    [
                      0.2222222222222222,
                      "#3b496c"
                    ],
                    [
                      0.3333333333333333,
                      "#575d6d"
                    ],
                    [
                      0.4444444444444444,
                      "#707173"
                    ],
                    [
                      0.5555555555555556,
                      "#8a8678"
                    ],
                    [
                      0.6666666666666666,
                      "#a59c74"
                    ],
                    [
                      0.7777777777777778,
                      "#c3b369"
                    ],
                    [
                      0.8888888888888888,
                      "#e1cc55"
                    ],
                    [
                      1,
                      "#fee838"
                    ]
                  ],
                  "showscale": true,
                  "type": "heatmap",
                  "visible": true,
                  "z": [
                    [
                      -0.08,
                      -0.04,
                      -0.11,
                      -0.05,
                      -0.04,
                      -0.04,
                      -0.08,
                      -0.11,
                      -0.04,
                      -0.11,
                      -0.09,
                      -0.04,
                      -0.09,
                      -0.04
                    ],
                    [
                      -0.04,
                      -0.01,
                      -0.07,
                      -0.01,
                      -0.02,
                      -0.05,
                      -0.04,
                      -0.07,
                      -0.04,
                      -0.07,
                      -0.04,
                      -0.01,
                      -0.05
                    ],
                    [
                      -0.04,
                      -0.07,
                      -0.05,
                      -0.06,
                      -0.06,
                      -0.05,
                      0.02,
                      -0.04,
                      -0.05,
                      -0.04,
                      0.62,
                      -0.07
                    ],
                    [
                      -0.05,
                      0,
                      -0.08,
                      0.04,
                      -0.01,
                      -0.03,
                      -0.04,
                      -0.08,
                      -0.03,
                      -0.08,
                      -0.06
                    ],
                    [
                      -0.03,
                      -0.07,
                      -0.07,
                      -0.06,
                      -0.05,
                      -0.05,
                      0.02,
                      -0.04,
                      -0.04,
                      -0.04
                    ],
                    [
                      0,
                      -0.1,
                      0.96,
                      -0.1,
                      -0.09,
                      -0.14,
                      -0.04,
                      0.96,
                      -0.1
                    ],
                    [
                      -0.06,
                      -0.05,
                      -0.1,
                      0,
                      0.06,
                      0.08,
                      0.01,
                      -0.1
                    ],
                    [
                      0,
                      -0.09,
                      0.92,
                      -0.1,
                      -0.09,
                      -0.14,
                      -0.04
                    ],
                    [
                      -0.04,
                      -0.05,
                      -0.04,
                      -0.04,
                      -0.03,
                      -0.02
                    ],
                    [
                      -0.1,
                      -0.09,
                      -0.13,
                      0,
                      0.07
                    ],
                    [
                      -0.06,
                      -0.05,
                      -0.09,
                      0.06
                    ],
                    [
                      -0.06,
                      -0.05,
                      -0.1
                    ],
                    [
                      0,
                      -0.1
                    ],
                    [
                      0.05
                    ]
                  ]
                }
              ],
              "layout": {
                "annotations": [
                  {
                    "font": {
                      "color": "#FFFFFF",
                      "size": 12
                    },
                    "showarrow": false,
                    "text": "-0.08",
                    "x": "act amends",
                    "xref": "x",
                    "y": "united states",
                    "yref": "y"
                  },
                  {
                    "font": {
                      "color": "#FFFFFF",
                      "size": 12
                    },
                    "showarrow": false,
                    "text": "-0.04",
                    "x": "amends federal",
                    "xref": "x",
                    "y": "united states",
                    "yref": "y"
                  },
                  {
                    "font": {
                      "color": "#FFFFFF",
                      "size": 12
                    },
                    "showarrow": false,
                    "text": "-0.11",
                    "x": "amends internal",
                    "xref": "x",
                    "y": "united states",
                    "yref": "y"
                  },
                  {
                    "font": {
                      "color": "#FFFFFF",
                      "size": 12
                    },
                    "showarrow": false,
                    "text": "-0.05",
                    "x": "authorizes appropriations",
                    "xref": "x",
                    "y": "united states",
                    "yref": "y"
                  },
                  {
                    "font": {
                      "color": "#FFFFFF",
                      "size": 12
                    },
                    "showarrow": false,
                    "text": "-0.04",
                    "x": "authorizes secretary",
                    "xref": "x",
                    "y": "united states",
                    "yref": "y"
                  },
                  {
                    "font": {
                      "color": "#FFFFFF",
                      "size": 12
                    },
                    "showarrow": false,
                    "text": "-0.04",
                    "x": "directs secretary",
                    "xref": "x",
                    "y": "united states",
                    "yref": "y"
                  },
                  {
                    "font": {
                      "color": "#FFFFFF",
                      "size": 12
                    },
                    "showarrow": false,
                    "text": "-0.08",
                    "x": "health care",
                    "xref": "x",
                    "y": "united states",
                    "yref": "y"
                  },
                  {
                    "font": {
                      "color": "#FFFFFF",
                      "size": 12
                    },
                    "showarrow": false,
                    "text": "-0.11",
                    "x": "internal revenue",
                    "xref": "x",
                    "y": "united states",
                    "yref": "y"
                  },
                  {
                    "font": {
                      "color": "#FFFFFF",
                      "size": 12
                    },
                    "showarrow": false,
                    "text": "-0.04",
                    "x": "requires secretary",
                    "xref": "x",
                    "y": "united states",
                    "yref": "y"
                  },
                  {
                    "font": {
                      "color": "#FFFFFF",
                      "size": 12
                    },
                    "showarrow": false,
                    "text": "-0.11",
                    "x": "revenue code",
                    "xref": "x",
                    "y": "united states",
                    "yref": "y"
                  },
                  {
                    "font": {
                      "color": "#FFFFFF",
                      "size": 12
                    },
                    "showarrow": false,
                    "text": "-0.09",
                    "x": "security act",
                    "xref": "x",
                    "y": "united states",
                    "yref": "y"
                  },
                  {
                    "font": {
                      "color": "#FFFFFF",
                      "size": 12
                    },
                    "showarrow": false,
                    "text": "-0.04",
                    "x": "sets forth",
                    "xref": "x",
                    "y": "united states",
                    "yref": "y"
                  },
                  {
                    "font": {
                      "color": "#FFFFFF",
                      "size": 12
                    },
                    "showarrow": false,
                    "text": "-0.09",
                    "x": "social security",
                    "xref": "x",
                    "y": "united states",
                    "yref": "y"
                  },
                  {
                    "font": {
                      "color": "#FFFFFF",
                      "size": 12
                    },
                    "showarrow": false,
                    "text": "-0.04",
                    "x": "state local",
                    "xref": "x",
                    "y": "united states",
                    "yref": "y"
                  },
                  {
                    "font": {
                      "color": "#FFFFFF",
                      "size": 12
                    },
                    "showarrow": false,
                    "text": "-0.04",
                    "x": "act amends",
                    "xref": "x",
                    "y": "state local",
                    "yref": "y"
                  },
                  {
                    "font": {
                      "color": "#FFFFFF",
                      "size": 12
                    },
                    "showarrow": false,
                    "text": "-0.01",
                    "x": "amends federal",
                    "xref": "x",
                    "y": "state local",
                    "yref": "y"
                  },
                  {
                    "font": {
                      "color": "#FFFFFF",
                      "size": 12
                    },
                    "showarrow": false,
                    "text": "-0.07",
                    "x": "amends internal",
                    "xref": "x",
                    "y": "state local",
                    "yref": "y"
                  },
                  {
                    "font": {
                      "color": "#FFFFFF",
                      "size": 12
                    },
                    "showarrow": false,
                    "text": "-0.01",
                    "x": "authorizes appropriations",
                    "xref": "x",
                    "y": "state local",
                    "yref": "y"
                  },
                  {
                    "font": {
                      "color": "#FFFFFF",
                      "size": 12
                    },
                    "showarrow": false,
                    "text": "-0.02",
                    "x": "authorizes secretary",
                    "xref": "x",
                    "y": "state local",
                    "yref": "y"
                  },
                  {
                    "font": {
                      "color": "#FFFFFF",
                      "size": 12
                    },
                    "showarrow": false,
                    "text": "-0.05",
                    "x": "directs secretary",
                    "xref": "x",
                    "y": "state local",
                    "yref": "y"
                  },
                  {
                    "font": {
                      "color": "#FFFFFF",
                      "size": 12
                    },
                    "showarrow": false,
                    "text": "-0.04",
                    "x": "health care",
                    "xref": "x",
                    "y": "state local",
                    "yref": "y"
                  },
                  {
                    "font": {
                      "color": "#FFFFFF",
                      "size": 12
                    },
                    "showarrow": false,
                    "text": "-0.07",
                    "x": "internal revenue",
                    "xref": "x",
                    "y": "state local",
                    "yref": "y"
                  },
                  {
                    "font": {
                      "color": "#FFFFFF",
                      "size": 12
                    },
                    "showarrow": false,
                    "text": "-0.04",
                    "x": "requires secretary",
                    "xref": "x",
                    "y": "state local",
                    "yref": "y"
                  },
                  {
                    "font": {
                      "color": "#FFFFFF",
                      "size": 12
                    },
                    "showarrow": false,
                    "text": "-0.07",
                    "x": "revenue code",
                    "xref": "x",
                    "y": "state local",
                    "yref": "y"
                  },
                  {
                    "font": {
                      "color": "#FFFFFF",
                      "size": 12
                    },
                    "showarrow": false,
                    "text": "-0.04",
                    "x": "security act",
                    "xref": "x",
                    "y": "state local",
                    "yref": "y"
                  },
                  {
                    "font": {
                      "color": "#FFFFFF",
                      "size": 12
                    },
                    "showarrow": false,
                    "text": "-0.01",
                    "x": "sets forth",
                    "xref": "x",
                    "y": "state local",
                    "yref": "y"
                  },
                  {
                    "font": {
                      "color": "#FFFFFF",
                      "size": 12
                    },
                    "showarrow": false,
                    "text": "-0.05",
                    "x": "social security",
                    "xref": "x",
                    "y": "state local",
                    "yref": "y"
                  },
                  {
                    "font": {
                      "color": "#FFFFFF",
                      "size": 12
                    },
                    "showarrow": false,
                    "text": "-0.04",
                    "x": "act amends",
                    "xref": "x",
                    "y": "social security",
                    "yref": "y"
                  },
                  {
                    "font": {
                      "color": "#FFFFFF",
                      "size": 12
                    },
                    "showarrow": false,
                    "text": "-0.07",
                    "x": "amends federal",
                    "xref": "x",
                    "y": "social security",
                    "yref": "y"
                  },
                  {
                    "font": {
                      "color": "#FFFFFF",
                      "size": 12
                    },
                    "showarrow": false,
                    "text": "-0.05",
                    "x": "amends internal",
                    "xref": "x",
                    "y": "social security",
                    "yref": "y"
                  },
                  {
                    "font": {
                      "color": "#FFFFFF",
                      "size": 12
                    },
                    "showarrow": false,
                    "text": "-0.06",
                    "x": "authorizes appropriations",
                    "xref": "x",
                    "y": "social security",
                    "yref": "y"
                  },
                  {
                    "font": {
                      "color": "#FFFFFF",
                      "size": 12
                    },
                    "showarrow": false,
                    "text": "-0.06",
                    "x": "authorizes secretary",
                    "xref": "x",
                    "y": "social security",
                    "yref": "y"
                  },
                  {
                    "font": {
                      "color": "#FFFFFF",
                      "size": 12
                    },
                    "showarrow": false,
                    "text": "-0.05",
                    "x": "directs secretary",
                    "xref": "x",
                    "y": "social security",
                    "yref": "y"
                  },
                  {
                    "font": {
                      "color": "#FFFFFF",
                      "size": 12
                    },
                    "showarrow": false,
                    "text": "0.02",
                    "x": "health care",
                    "xref": "x",
                    "y": "social security",
                    "yref": "y"
                  },
                  {
                    "font": {
                      "color": "#FFFFFF",
                      "size": 12
                    },
                    "showarrow": false,
                    "text": "-0.04",
                    "x": "internal revenue",
                    "xref": "x",
                    "y": "social security",
                    "yref": "y"
                  },
                  {
                    "font": {
                      "color": "#FFFFFF",
                      "size": 12
                    },
                    "showarrow": false,
                    "text": "-0.05",
                    "x": "requires secretary",
                    "xref": "x",
                    "y": "social security",
                    "yref": "y"
                  },
                  {
                    "font": {
                      "color": "#FFFFFF",
                      "size": 12
                    },
                    "showarrow": false,
                    "text": "-0.04",
                    "x": "revenue code",
                    "xref": "x",
                    "y": "social security",
                    "yref": "y"
                  },
                  {
                    "font": {
                      "color": "#000000",
                      "size": 12
                    },
                    "showarrow": false,
                    "text": "0.62",
                    "x": "security act",
                    "xref": "x",
                    "y": "social security",
                    "yref": "y"
                  },
                  {
                    "font": {
                      "color": "#FFFFFF",
                      "size": 12
                    },
                    "showarrow": false,
                    "text": "-0.07",
                    "x": "sets forth",
                    "xref": "x",
                    "y": "social security",
                    "yref": "y"
                  },
                  {
                    "font": {
                      "color": "#FFFFFF",
                      "size": 12
                    },
                    "showarrow": false,
                    "text": "-0.05",
                    "x": "act amends",
                    "xref": "x",
                    "y": "sets forth",
                    "yref": "y"
                  },
                  {
                    "font": {
                      "color": "#FFFFFF",
                      "size": 12
                    },
                    "showarrow": false,
                    "text": "-0.0",
                    "x": "amends federal",
                    "xref": "x",
                    "y": "sets forth",
                    "yref": "y"
                  },
                  {
                    "font": {
                      "color": "#FFFFFF",
                      "size": 12
                    },
                    "showarrow": false,
                    "text": "-0.08",
                    "x": "amends internal",
                    "xref": "x",
                    "y": "sets forth",
                    "yref": "y"
                  },
                  {
                    "font": {
                      "color": "#FFFFFF",
                      "size": 12
                    },
                    "showarrow": false,
                    "text": "0.04",
                    "x": "authorizes appropriations",
                    "xref": "x",
                    "y": "sets forth",
                    "yref": "y"
                  },
                  {
                    "font": {
                      "color": "#FFFFFF",
                      "size": 12
                    },
                    "showarrow": false,
                    "text": "-0.01",
                    "x": "authorizes secretary",
                    "xref": "x",
                    "y": "sets forth",
                    "yref": "y"
                  },
                  {
                    "font": {
                      "color": "#FFFFFF",
                      "size": 12
                    },
                    "showarrow": false,
                    "text": "-0.03",
                    "x": "directs secretary",
                    "xref": "x",
                    "y": "sets forth",
                    "yref": "y"
                  },
                  {
                    "font": {
                      "color": "#FFFFFF",
                      "size": 12
                    },
                    "showarrow": false,
                    "text": "-0.04",
                    "x": "health care",
                    "xref": "x",
                    "y": "sets forth",
                    "yref": "y"
                  },
                  {
                    "font": {
                      "color": "#FFFFFF",
                      "size": 12
                    },
                    "showarrow": false,
                    "text": "-0.08",
                    "x": "internal revenue",
                    "xref": "x",
                    "y": "sets forth",
                    "yref": "y"
                  },
                  {
                    "font": {
                      "color": "#FFFFFF",
                      "size": 12
                    },
                    "showarrow": false,
                    "text": "-0.03",
                    "x": "requires secretary",
                    "xref": "x",
                    "y": "sets forth",
                    "yref": "y"
                  },
                  {
                    "font": {
                      "color": "#FFFFFF",
                      "size": 12
                    },
                    "showarrow": false,
                    "text": "-0.08",
                    "x": "revenue code",
                    "xref": "x",
                    "y": "sets forth",
                    "yref": "y"
                  },
                  {
                    "font": {
                      "color": "#FFFFFF",
                      "size": 12
                    },
                    "showarrow": false,
                    "text": "-0.06",
                    "x": "security act",
                    "xref": "x",
                    "y": "sets forth",
                    "yref": "y"
                  },
                  {
                    "font": {
                      "color": "#FFFFFF",
                      "size": 12
                    },
                    "showarrow": false,
                    "text": "-0.03",
                    "x": "act amends",
                    "xref": "x",
                    "y": "security act",
                    "yref": "y"
                  },
                  {
                    "font": {
                      "color": "#FFFFFF",
                      "size": 12
                    },
                    "showarrow": false,
                    "text": "-0.07",
                    "x": "amends federal",
                    "xref": "x",
                    "y": "security act",
                    "yref": "y"
                  },
                  {
                    "font": {
                      "color": "#FFFFFF",
                      "size": 12
                    },
                    "showarrow": false,
                    "text": "-0.07",
                    "x": "amends internal",
                    "xref": "x",
                    "y": "security act",
                    "yref": "y"
                  },
                  {
                    "font": {
                      "color": "#FFFFFF",
                      "size": 12
                    },
                    "showarrow": false,
                    "text": "-0.06",
                    "x": "authorizes appropriations",
                    "xref": "x",
                    "y": "security act",
                    "yref": "y"
                  },
                  {
                    "font": {
                      "color": "#FFFFFF",
                      "size": 12
                    },
                    "showarrow": false,
                    "text": "-0.05",
                    "x": "authorizes secretary",
                    "xref": "x",
                    "y": "security act",
                    "yref": "y"
                  },
                  {
                    "font": {
                      "color": "#FFFFFF",
                      "size": 12
                    },
                    "showarrow": false,
                    "text": "-0.05",
                    "x": "directs secretary",
                    "xref": "x",
                    "y": "security act",
                    "yref": "y"
                  },
                  {
                    "font": {
                      "color": "#FFFFFF",
                      "size": 12
                    },
                    "showarrow": false,
                    "text": "0.02",
                    "x": "health care",
                    "xref": "x",
                    "y": "security act",
                    "yref": "y"
                  },
                  {
                    "font": {
                      "color": "#FFFFFF",
                      "size": 12
                    },
                    "showarrow": false,
                    "text": "-0.04",
                    "x": "internal revenue",
                    "xref": "x",
                    "y": "security act",
                    "yref": "y"
                  },
                  {
                    "font": {
                      "color": "#FFFFFF",
                      "size": 12
                    },
                    "showarrow": false,
                    "text": "-0.04",
                    "x": "requires secretary",
                    "xref": "x",
                    "y": "security act",
                    "yref": "y"
                  },
                  {
                    "font": {
                      "color": "#FFFFFF",
                      "size": 12
                    },
                    "showarrow": false,
                    "text": "-0.04",
                    "x": "revenue code",
                    "xref": "x",
                    "y": "security act",
                    "yref": "y"
                  },
                  {
                    "font": {
                      "color": "#FFFFFF",
                      "size": 12
                    },
                    "showarrow": false,
                    "text": "-0.0",
                    "x": "act amends",
                    "xref": "x",
                    "y": "revenue code",
                    "yref": "y"
                  },
                  {
                    "font": {
                      "color": "#FFFFFF",
                      "size": 12
                    },
                    "showarrow": false,
                    "text": "-0.1",
                    "x": "amends federal",
                    "xref": "x",
                    "y": "revenue code",
                    "yref": "y"
                  },
                  {
                    "font": {
                      "color": "#000000",
                      "size": 12
                    },
                    "showarrow": false,
                    "text": "0.96",
                    "x": "amends internal",
                    "xref": "x",
                    "y": "revenue code",
                    "yref": "y"
                  },
                  {
                    "font": {
                      "color": "#FFFFFF",
                      "size": 12
                    },
                    "showarrow": false,
                    "text": "-0.1",
                    "x": "authorizes appropriations",
                    "xref": "x",
                    "y": "revenue code",
                    "yref": "y"
                  },
                  {
                    "font": {
                      "color": "#FFFFFF",
                      "size": 12
                    },
                    "showarrow": false,
                    "text": "-0.09",
                    "x": "authorizes secretary",
                    "xref": "x",
                    "y": "revenue code",
                    "yref": "y"
                  },
                  {
                    "font": {
                      "color": "#FFFFFF",
                      "size": 12
                    },
                    "showarrow": false,
                    "text": "-0.14",
                    "x": "directs secretary",
                    "xref": "x",
                    "y": "revenue code",
                    "yref": "y"
                  },
                  {
                    "font": {
                      "color": "#FFFFFF",
                      "size": 12
                    },
                    "showarrow": false,
                    "text": "-0.04",
                    "x": "health care",
                    "xref": "x",
                    "y": "revenue code",
                    "yref": "y"
                  },
                  {
                    "font": {
                      "color": "#000000",
                      "size": 12
                    },
                    "showarrow": false,
                    "text": "0.96",
                    "x": "internal revenue",
                    "xref": "x",
                    "y": "revenue code",
                    "yref": "y"
                  },
                  {
                    "font": {
                      "color": "#FFFFFF",
                      "size": 12
                    },
                    "showarrow": false,
                    "text": "-0.1",
                    "x": "requires secretary",
                    "xref": "x",
                    "y": "revenue code",
                    "yref": "y"
                  },
                  {
                    "font": {
                      "color": "#FFFFFF",
                      "size": 12
                    },
                    "showarrow": false,
                    "text": "-0.06",
                    "x": "act amends",
                    "xref": "x",
                    "y": "requires secretary",
                    "yref": "y"
                  },
                  {
                    "font": {
                      "color": "#FFFFFF",
                      "size": 12
                    },
                    "showarrow": false,
                    "text": "-0.05",
                    "x": "amends federal",
                    "xref": "x",
                    "y": "requires secretary",
                    "yref": "y"
                  },
                  {
                    "font": {
                      "color": "#FFFFFF",
                      "size": 12
                    },
                    "showarrow": false,
                    "text": "-0.1",
                    "x": "amends internal",
                    "xref": "x",
                    "y": "requires secretary",
                    "yref": "y"
                  },
                  {
                    "font": {
                      "color": "#FFFFFF",
                      "size": 12
                    },
                    "showarrow": false,
                    "text": "-0.0",
                    "x": "authorizes appropriations",
                    "xref": "x",
                    "y": "requires secretary",
                    "yref": "y"
                  },
                  {
                    "font": {
                      "color": "#FFFFFF",
                      "size": 12
                    },
                    "showarrow": false,
                    "text": "0.06",
                    "x": "authorizes secretary",
                    "xref": "x",
                    "y": "requires secretary",
                    "yref": "y"
                  },
                  {
                    "font": {
                      "color": "#FFFFFF",
                      "size": 12
                    },
                    "showarrow": false,
                    "text": "0.08",
                    "x": "directs secretary",
                    "xref": "x",
                    "y": "requires secretary",
                    "yref": "y"
                  },
                  {
                    "font": {
                      "color": "#FFFFFF",
                      "size": 12
                    },
                    "showarrow": false,
                    "text": "0.01",
                    "x": "health care",
                    "xref": "x",
                    "y": "requires secretary",
                    "yref": "y"
                  },
                  {
                    "font": {
                      "color": "#FFFFFF",
                      "size": 12
                    },
                    "showarrow": false,
                    "text": "-0.1",
                    "x": "internal revenue",
                    "xref": "x",
                    "y": "requires secretary",
                    "yref": "y"
                  },
                  {
                    "font": {
                      "color": "#FFFFFF",
                      "size": 12
                    },
                    "showarrow": false,
                    "text": "-0.0",
                    "x": "act amends",
                    "xref": "x",
                    "y": "internal revenue",
                    "yref": "y"
                  },
                  {
                    "font": {
                      "color": "#FFFFFF",
                      "size": 12
                    },
                    "showarrow": false,
                    "text": "-0.09",
                    "x": "amends federal",
                    "xref": "x",
                    "y": "internal revenue",
                    "yref": "y"
                  },
                  {
                    "font": {
                      "color": "#000000",
                      "size": 12
                    },
                    "showarrow": false,
                    "text": "0.92",
                    "x": "amends internal",
                    "xref": "x",
                    "y": "internal revenue",
                    "yref": "y"
                  },
                  {
                    "font": {
                      "color": "#FFFFFF",
                      "size": 12
                    },
                    "showarrow": false,
                    "text": "-0.1",
                    "x": "authorizes appropriations",
                    "xref": "x",
                    "y": "internal revenue",
                    "yref": "y"
                  },
                  {
                    "font": {
                      "color": "#FFFFFF",
                      "size": 12
                    },
                    "showarrow": false,
                    "text": "-0.09",
                    "x": "authorizes secretary",
                    "xref": "x",
                    "y": "internal revenue",
                    "yref": "y"
                  },
                  {
                    "font": {
                      "color": "#FFFFFF",
                      "size": 12
                    },
                    "showarrow": false,
                    "text": "-0.14",
                    "x": "directs secretary",
                    "xref": "x",
                    "y": "internal revenue",
                    "yref": "y"
                  },
                  {
                    "font": {
                      "color": "#FFFFFF",
                      "size": 12
                    },
                    "showarrow": false,
                    "text": "-0.04",
                    "x": "health care",
                    "xref": "x",
                    "y": "internal revenue",
                    "yref": "y"
                  },
                  {
                    "font": {
                      "color": "#FFFFFF",
                      "size": 12
                    },
                    "showarrow": false,
                    "text": "-0.04",
                    "x": "act amends",
                    "xref": "x",
                    "y": "health care",
                    "yref": "y"
                  },
                  {
                    "font": {
                      "color": "#FFFFFF",
                      "size": 12
                    },
                    "showarrow": false,
                    "text": "-0.05",
                    "x": "amends federal",
                    "xref": "x",
                    "y": "health care",
                    "yref": "y"
                  },
                  {
                    "font": {
                      "color": "#FFFFFF",
                      "size": 12
                    },
                    "showarrow": false,
                    "text": "-0.04",
                    "x": "amends internal",
                    "xref": "x",
                    "y": "health care",
                    "yref": "y"
                  },
                  {
                    "font": {
                      "color": "#FFFFFF",
                      "size": 12
                    },
                    "showarrow": false,
                    "text": "-0.04",
                    "x": "authorizes appropriations",
                    "xref": "x",
                    "y": "health care",
                    "yref": "y"
                  },
                  {
                    "font": {
                      "color": "#FFFFFF",
                      "size": 12
                    },
                    "showarrow": false,
                    "text": "-0.03",
                    "x": "authorizes secretary",
                    "xref": "x",
                    "y": "health care",
                    "yref": "y"
                  },
                  {
                    "font": {
                      "color": "#FFFFFF",
                      "size": 12
                    },
                    "showarrow": false,
                    "text": "-0.02",
                    "x": "directs secretary",
                    "xref": "x",
                    "y": "health care",
                    "yref": "y"
                  },
                  {
                    "font": {
                      "color": "#FFFFFF",
                      "size": 12
                    },
                    "showarrow": false,
                    "text": "-0.1",
                    "x": "act amends",
                    "xref": "x",
                    "y": "directs secretary",
                    "yref": "y"
                  },
                  {
                    "font": {
                      "color": "#FFFFFF",
                      "size": 12
                    },
                    "showarrow": false,
                    "text": "-0.09",
                    "x": "amends federal",
                    "xref": "x",
                    "y": "directs secretary",
                    "yref": "y"
                  },
                  {
                    "font": {
                      "color": "#FFFFFF",
                      "size": 12
                    },
                    "showarrow": false,
                    "text": "-0.13",
                    "x": "amends internal",
                    "xref": "x",
                    "y": "directs secretary",
                    "yref": "y"
                  },
                  {
                    "font": {
                      "color": "#FFFFFF",
                      "size": 12
                    },
                    "showarrow": false,
                    "text": "0.0",
                    "x": "authorizes appropriations",
                    "xref": "x",
                    "y": "directs secretary",
                    "yref": "y"
                  },
                  {
                    "font": {
                      "color": "#FFFFFF",
                      "size": 12
                    },
                    "showarrow": false,
                    "text": "0.07",
                    "x": "authorizes secretary",
                    "xref": "x",
                    "y": "directs secretary",
                    "yref": "y"
                  },
                  {
                    "font": {
                      "color": "#FFFFFF",
                      "size": 12
                    },
                    "showarrow": false,
                    "text": "-0.06",
                    "x": "act amends",
                    "xref": "x",
                    "y": "authorizes secretary",
                    "yref": "y"
                  },
                  {
                    "font": {
                      "color": "#FFFFFF",
                      "size": 12
                    },
                    "showarrow": false,
                    "text": "-0.05",
                    "x": "amends federal",
                    "xref": "x",
                    "y": "authorizes secretary",
                    "yref": "y"
                  },
                  {
                    "font": {
                      "color": "#FFFFFF",
                      "size": 12
                    },
                    "showarrow": false,
                    "text": "-0.09",
                    "x": "amends internal",
                    "xref": "x",
                    "y": "authorizes secretary",
                    "yref": "y"
                  },
                  {
                    "font": {
                      "color": "#FFFFFF",
                      "size": 12
                    },
                    "showarrow": false,
                    "text": "0.06",
                    "x": "authorizes appropriations",
                    "xref": "x",
                    "y": "authorizes secretary",
                    "yref": "y"
                  },
                  {
                    "font": {
                      "color": "#FFFFFF",
                      "size": 12
                    },
                    "showarrow": false,
                    "text": "-0.06",
                    "x": "act amends",
                    "xref": "x",
                    "y": "authorizes appropriations",
                    "yref": "y"
                  },
                  {
                    "font": {
                      "color": "#FFFFFF",
                      "size": 12
                    },
                    "showarrow": false,
                    "text": "-0.05",
                    "x": "amends federal",
                    "xref": "x",
                    "y": "authorizes appropriations",
                    "yref": "y"
                  },
                  {
                    "font": {
                      "color": "#FFFFFF",
                      "size": 12
                    },
                    "showarrow": false,
                    "text": "-0.1",
                    "x": "amends internal",
                    "xref": "x",
                    "y": "authorizes appropriations",
                    "yref": "y"
                  },
                  {
                    "font": {
                      "color": "#FFFFFF",
                      "size": 12
                    },
                    "showarrow": false,
                    "text": "0.0",
                    "x": "act amends",
                    "xref": "x",
                    "y": "amends internal",
                    "yref": "y"
                  },
                  {
                    "font": {
                      "color": "#FFFFFF",
                      "size": 12
                    },
                    "showarrow": false,
                    "text": "-0.1",
                    "x": "amends federal",
                    "xref": "x",
                    "y": "amends internal",
                    "yref": "y"
                  },
                  {
                    "font": {
                      "color": "#FFFFFF",
                      "size": 12
                    },
                    "showarrow": false,
                    "text": "0.05",
                    "x": "act amends",
                    "xref": "x",
                    "y": "amends federal",
                    "yref": "y"
                  }
                ],
                "height": 800,
                "margin": {
                  "l": 110,
                  "t": 210
                },
                "template": {
                  "data": {
                    "bar": [
                      {
                        "error_x": {
                          "color": "#f2f5fa"
                        },
                        "error_y": {
                          "color": "#f2f5fa"
                        },
                        "marker": {
                          "line": {
                            "color": "rgb(17,17,17)",
                            "width": 0.5
                          },
                          "pattern": {
                            "fillmode": "overlay",
                            "size": 10,
                            "solidity": 0.2
                          }
                        },
                        "type": "bar"
                      }
                    ],
                    "barpolar": [
                      {
                        "marker": {
                          "line": {
                            "color": "rgb(17,17,17)",
                            "width": 0.5
                          },
                          "pattern": {
                            "fillmode": "overlay",
                            "size": 10,
                            "solidity": 0.2
                          }
                        },
                        "type": "barpolar"
                      }
                    ],
                    "carpet": [
                      {
                        "aaxis": {
                          "endlinecolor": "#A2B1C6",
                          "gridcolor": "#506784",
                          "linecolor": "#506784",
                          "minorgridcolor": "#506784",
                          "startlinecolor": "#A2B1C6"
                        },
                        "baxis": {
                          "endlinecolor": "#A2B1C6",
                          "gridcolor": "#506784",
                          "linecolor": "#506784",
                          "minorgridcolor": "#506784",
                          "startlinecolor": "#A2B1C6"
                        },
                        "type": "carpet"
                      }
                    ],
                    "choropleth": [
                      {
                        "colorbar": {
                          "outlinewidth": 0,
                          "ticks": ""
                        },
                        "type": "choropleth"
                      }
                    ],
                    "contour": [
                      {
                        "colorbar": {
                          "outlinewidth": 0,
                          "ticks": ""
                        },
                        "colorscale": [
                          [
                            0,
                            "#0d0887"
                          ],
                          [
                            0.1111111111111111,
                            "#46039f"
                          ],
                          [
                            0.2222222222222222,
                            "#7201a8"
                          ],
                          [
                            0.3333333333333333,
                            "#9c179e"
                          ],
                          [
                            0.4444444444444444,
                            "#bd3786"
                          ],
                          [
                            0.5555555555555556,
                            "#d8576b"
                          ],
                          [
                            0.6666666666666666,
                            "#ed7953"
                          ],
                          [
                            0.7777777777777778,
                            "#fb9f3a"
                          ],
                          [
                            0.8888888888888888,
                            "#fdca26"
                          ],
                          [
                            1,
                            "#f0f921"
                          ]
                        ],
                        "type": "contour"
                      }
                    ],
                    "contourcarpet": [
                      {
                        "colorbar": {
                          "outlinewidth": 0,
                          "ticks": ""
                        },
                        "type": "contourcarpet"
                      }
                    ],
                    "heatmap": [
                      {
                        "colorbar": {
                          "outlinewidth": 0,
                          "ticks": ""
                        },
                        "colorscale": [
                          [
                            0,
                            "#0d0887"
                          ],
                          [
                            0.1111111111111111,
                            "#46039f"
                          ],
                          [
                            0.2222222222222222,
                            "#7201a8"
                          ],
                          [
                            0.3333333333333333,
                            "#9c179e"
                          ],
                          [
                            0.4444444444444444,
                            "#bd3786"
                          ],
                          [
                            0.5555555555555556,
                            "#d8576b"
                          ],
                          [
                            0.6666666666666666,
                            "#ed7953"
                          ],
                          [
                            0.7777777777777778,
                            "#fb9f3a"
                          ],
                          [
                            0.8888888888888888,
                            "#fdca26"
                          ],
                          [
                            1,
                            "#f0f921"
                          ]
                        ],
                        "type": "heatmap"
                      }
                    ],
                    "histogram": [
                      {
                        "marker": {
                          "pattern": {
                            "fillmode": "overlay",
                            "size": 10,
                            "solidity": 0.2
                          }
                        },
                        "type": "histogram"
                      }
                    ],
                    "histogram2d": [
                      {
                        "colorbar": {
                          "outlinewidth": 0,
                          "ticks": ""
                        },
                        "colorscale": [
                          [
                            0,
                            "#0d0887"
                          ],
                          [
                            0.1111111111111111,
                            "#46039f"
                          ],
                          [
                            0.2222222222222222,
                            "#7201a8"
                          ],
                          [
                            0.3333333333333333,
                            "#9c179e"
                          ],
                          [
                            0.4444444444444444,
                            "#bd3786"
                          ],
                          [
                            0.5555555555555556,
                            "#d8576b"
                          ],
                          [
                            0.6666666666666666,
                            "#ed7953"
                          ],
                          [
                            0.7777777777777778,
                            "#fb9f3a"
                          ],
                          [
                            0.8888888888888888,
                            "#fdca26"
                          ],
                          [
                            1,
                            "#f0f921"
                          ]
                        ],
                        "type": "histogram2d"
                      }
                    ],
                    "histogram2dcontour": [
                      {
                        "colorbar": {
                          "outlinewidth": 0,
                          "ticks": ""
                        },
                        "colorscale": [
                          [
                            0,
                            "#0d0887"
                          ],
                          [
                            0.1111111111111111,
                            "#46039f"
                          ],
                          [
                            0.2222222222222222,
                            "#7201a8"
                          ],
                          [
                            0.3333333333333333,
                            "#9c179e"
                          ],
                          [
                            0.4444444444444444,
                            "#bd3786"
                          ],
                          [
                            0.5555555555555556,
                            "#d8576b"
                          ],
                          [
                            0.6666666666666666,
                            "#ed7953"
                          ],
                          [
                            0.7777777777777778,
                            "#fb9f3a"
                          ],
                          [
                            0.8888888888888888,
                            "#fdca26"
                          ],
                          [
                            1,
                            "#f0f921"
                          ]
                        ],
                        "type": "histogram2dcontour"
                      }
                    ],
                    "mesh3d": [
                      {
                        "colorbar": {
                          "outlinewidth": 0,
                          "ticks": ""
                        },
                        "type": "mesh3d"
                      }
                    ],
                    "parcoords": [
                      {
                        "line": {
                          "colorbar": {
                            "outlinewidth": 0,
                            "ticks": ""
                          }
                        },
                        "type": "parcoords"
                      }
                    ],
                    "pie": [
                      {
                        "automargin": true,
                        "type": "pie"
                      }
                    ],
                    "scatter": [
                      {
                        "marker": {
                          "line": {
                            "color": "#283442"
                          }
                        },
                        "type": "scatter"
                      }
                    ],
                    "scatter3d": [
                      {
                        "line": {
                          "colorbar": {
                            "outlinewidth": 0,
                            "ticks": ""
                          }
                        },
                        "marker": {
                          "colorbar": {
                            "outlinewidth": 0,
                            "ticks": ""
                          }
                        },
                        "type": "scatter3d"
                      }
                    ],
                    "scattercarpet": [
                      {
                        "marker": {
                          "colorbar": {
                            "outlinewidth": 0,
                            "ticks": ""
                          }
                        },
                        "type": "scattercarpet"
                      }
                    ],
                    "scattergeo": [
                      {
                        "marker": {
                          "colorbar": {
                            "outlinewidth": 0,
                            "ticks": ""
                          }
                        },
                        "type": "scattergeo"
                      }
                    ],
                    "scattergl": [
                      {
                        "marker": {
                          "line": {
                            "color": "#283442"
                          }
                        },
                        "type": "scattergl"
                      }
                    ],
                    "scattermap": [
                      {
                        "marker": {
                          "colorbar": {
                            "outlinewidth": 0,
                            "ticks": ""
                          }
                        },
                        "type": "scattermap"
                      }
                    ],
                    "scattermapbox": [
                      {
                        "marker": {
                          "colorbar": {
                            "outlinewidth": 0,
                            "ticks": ""
                          }
                        },
                        "type": "scattermapbox"
                      }
                    ],
                    "scatterpolar": [
                      {
                        "marker": {
                          "colorbar": {
                            "outlinewidth": 0,
                            "ticks": ""
                          }
                        },
                        "type": "scatterpolar"
                      }
                    ],
                    "scatterpolargl": [
                      {
                        "marker": {
                          "colorbar": {
                            "outlinewidth": 0,
                            "ticks": ""
                          }
                        },
                        "type": "scatterpolargl"
                      }
                    ],
                    "scatterternary": [
                      {
                        "marker": {
                          "colorbar": {
                            "outlinewidth": 0,
                            "ticks": ""
                          }
                        },
                        "type": "scatterternary"
                      }
                    ],
                    "surface": [
                      {
                        "colorbar": {
                          "outlinewidth": 0,
                          "ticks": ""
                        },
                        "colorscale": [
                          [
                            0,
                            "#0d0887"
                          ],
                          [
                            0.1111111111111111,
                            "#46039f"
                          ],
                          [
                            0.2222222222222222,
                            "#7201a8"
                          ],
                          [
                            0.3333333333333333,
                            "#9c179e"
                          ],
                          [
                            0.4444444444444444,
                            "#bd3786"
                          ],
                          [
                            0.5555555555555556,
                            "#d8576b"
                          ],
                          [
                            0.6666666666666666,
                            "#ed7953"
                          ],
                          [
                            0.7777777777777778,
                            "#fb9f3a"
                          ],
                          [
                            0.8888888888888888,
                            "#fdca26"
                          ],
                          [
                            1,
                            "#f0f921"
                          ]
                        ],
                        "type": "surface"
                      }
                    ],
                    "table": [
                      {
                        "cells": {
                          "fill": {
                            "color": "#506784"
                          },
                          "line": {
                            "color": "rgb(17,17,17)"
                          }
                        },
                        "header": {
                          "fill": {
                            "color": "#2a3f5f"
                          },
                          "line": {
                            "color": "rgb(17,17,17)"
                          }
                        },
                        "type": "table"
                      }
                    ]
                  },
                  "layout": {
                    "annotationdefaults": {
                      "arrowcolor": "#f2f5fa",
                      "arrowhead": 0,
                      "arrowwidth": 1
                    },
                    "autotypenumbers": "strict",
                    "coloraxis": {
                      "colorbar": {
                        "outlinewidth": 0,
                        "ticks": ""
                      }
                    },
                    "colorscale": {
                      "diverging": [
                        [
                          0,
                          "#8e0152"
                        ],
                        [
                          0.1,
                          "#c51b7d"
                        ],
                        [
                          0.2,
                          "#de77ae"
                        ],
                        [
                          0.3,
                          "#f1b6da"
                        ],
                        [
                          0.4,
                          "#fde0ef"
                        ],
                        [
                          0.5,
                          "#f7f7f7"
                        ],
                        [
                          0.6,
                          "#e6f5d0"
                        ],
                        [
                          0.7,
                          "#b8e186"
                        ],
                        [
                          0.8,
                          "#7fbc41"
                        ],
                        [
                          0.9,
                          "#4d9221"
                        ],
                        [
                          1,
                          "#276419"
                        ]
                      ],
                      "sequential": [
                        [
                          0,
                          "#0d0887"
                        ],
                        [
                          0.1111111111111111,
                          "#46039f"
                        ],
                        [
                          0.2222222222222222,
                          "#7201a8"
                        ],
                        [
                          0.3333333333333333,
                          "#9c179e"
                        ],
                        [
                          0.4444444444444444,
                          "#bd3786"
                        ],
                        [
                          0.5555555555555556,
                          "#d8576b"
                        ],
                        [
                          0.6666666666666666,
                          "#ed7953"
                        ],
                        [
                          0.7777777777777778,
                          "#fb9f3a"
                        ],
                        [
                          0.8888888888888888,
                          "#fdca26"
                        ],
                        [
                          1,
                          "#f0f921"
                        ]
                      ],
                      "sequentialminus": [
                        [
                          0,
                          "#0d0887"
                        ],
                        [
                          0.1111111111111111,
                          "#46039f"
                        ],
                        [
                          0.2222222222222222,
                          "#7201a8"
                        ],
                        [
                          0.3333333333333333,
                          "#9c179e"
                        ],
                        [
                          0.4444444444444444,
                          "#bd3786"
                        ],
                        [
                          0.5555555555555556,
                          "#d8576b"
                        ],
                        [
                          0.6666666666666666,
                          "#ed7953"
                        ],
                        [
                          0.7777777777777778,
                          "#fb9f3a"
                        ],
                        [
                          0.8888888888888888,
                          "#fdca26"
                        ],
                        [
                          1,
                          "#f0f921"
                        ]
                      ]
                    },
                    "colorway": [
                      "#636efa",
                      "#EF553B",
                      "#00cc96",
                      "#ab63fa",
                      "#FFA15A",
                      "#19d3f3",
                      "#FF6692",
                      "#B6E880",
                      "#FF97FF",
                      "#FECB52"
                    ],
                    "font": {
                      "color": "#f2f5fa"
                    },
                    "geo": {
                      "bgcolor": "rgb(17,17,17)",
                      "lakecolor": "rgb(17,17,17)",
                      "landcolor": "rgb(17,17,17)",
                      "showlakes": true,
                      "showland": true,
                      "subunitcolor": "#506784"
                    },
                    "hoverlabel": {
                      "align": "left"
                    },
                    "hovermode": "closest",
                    "mapbox": {
                      "style": "dark"
                    },
                    "paper_bgcolor": "rgb(17,17,17)",
                    "plot_bgcolor": "rgb(17,17,17)",
                    "polar": {
                      "angularaxis": {
                        "gridcolor": "#506784",
                        "linecolor": "#506784",
                        "ticks": ""
                      },
                      "bgcolor": "rgb(17,17,17)",
                      "radialaxis": {
                        "gridcolor": "#506784",
                        "linecolor": "#506784",
                        "ticks": ""
                      }
                    },
                    "scene": {
                      "xaxis": {
                        "backgroundcolor": "rgb(17,17,17)",
                        "gridcolor": "#506784",
                        "gridwidth": 2,
                        "linecolor": "#506784",
                        "showbackground": true,
                        "ticks": "",
                        "zerolinecolor": "#C8D4E3"
                      },
                      "yaxis": {
                        "backgroundcolor": "rgb(17,17,17)",
                        "gridcolor": "#506784",
                        "gridwidth": 2,
                        "linecolor": "#506784",
                        "showbackground": true,
                        "ticks": "",
                        "zerolinecolor": "#C8D4E3"
                      },
                      "zaxis": {
                        "backgroundcolor": "rgb(17,17,17)",
                        "gridcolor": "#506784",
                        "gridwidth": 2,
                        "linecolor": "#506784",
                        "showbackground": true,
                        "ticks": "",
                        "zerolinecolor": "#C8D4E3"
                      }
                    },
                    "shapedefaults": {
                      "line": {
                        "color": "#f2f5fa"
                      }
                    },
                    "sliderdefaults": {
                      "bgcolor": "#C8D4E3",
                      "bordercolor": "rgb(17,17,17)",
                      "borderwidth": 1,
                      "tickwidth": 0
                    },
                    "ternary": {
                      "aaxis": {
                        "gridcolor": "#506784",
                        "linecolor": "#506784",
                        "ticks": ""
                      },
                      "baxis": {
                        "gridcolor": "#506784",
                        "linecolor": "#506784",
                        "ticks": ""
                      },
                      "bgcolor": "rgb(17,17,17)",
                      "caxis": {
                        "gridcolor": "#506784",
                        "linecolor": "#506784",
                        "ticks": ""
                      }
                    },
                    "title": {
                      "x": 0.05
                    },
                    "updatemenudefaults": {
                      "bgcolor": "#506784",
                      "borderwidth": 0
                    },
                    "xaxis": {
                      "automargin": true,
                      "gridcolor": "#283442",
                      "linecolor": "#506784",
                      "ticks": "",
                      "title": {
                        "standoff": 15
                      },
                      "zerolinecolor": "#283442",
                      "zerolinewidth": 2
                    },
                    "yaxis": {
                      "automargin": true,
                      "gridcolor": "#283442",
                      "linecolor": "#506784",
                      "ticks": "",
                      "title": {
                        "standoff": 15
                      },
                      "zerolinecolor": "#283442",
                      "zerolinewidth": 2
                    }
                  }
                },
                "title": {
                  "text": "<b>Bigrams Heatmap<br><sup>&nbsp;&nbsp;&nbsp;&nbsp;<i>Train - Summary</i></sup></b>",
                  "x": 0.025,
                  "xanchor": "left",
                  "y": 0.95
                },
                "width": 800,
                "xaxis": {
                  "dtick": 1,
                  "gridcolor": "rgb(0, 0, 0)",
                  "showgrid": false,
                  "side": "top",
                  "ticks": ""
                },
                "yaxis": {
                  "autorange": "reversed",
                  "dtick": 1,
                  "showgrid": false,
                  "ticks": "",
                  "ticksuffix": "  "
                }
              }
            }
          },
          "metadata": {},
          "output_type": "display_data"
        }
      ],
      "source": [
        "vectorize_and_plot(train['summary'], (2, 2), 'Bigrams', 'Train - Summary')"
      ]
    },
    {
      "cell_type": "code",
      "execution_count": 15,
      "metadata": {
        "colab": {
          "base_uri": "https://localhost:8080/",
          "height": 112
        },
        "id": "iJyg4sNYgh4v",
        "outputId": "b3c93604-bd20-4bb9-a103-38a09d23ee8c"
      },
      "outputs": [
        {
          "data": {
            "text/html": [
              "<div>\n",
              "<style scoped>\n",
              "    .dataframe tbody tr th:only-of-type {\n",
              "        vertical-align: middle;\n",
              "    }\n",
              "\n",
              "    .dataframe tbody tr th {\n",
              "        vertical-align: top;\n",
              "    }\n",
              "\n",
              "    .dataframe thead th {\n",
              "        text-align: right;\n",
              "    }\n",
              "</style>\n",
              "<table border=\"1\" class=\"dataframe\">\n",
              "  <thead>\n",
              "    <tr style=\"text-align: right;\">\n",
              "      <th></th>\n",
              "      <th>text</th>\n",
              "      <th>summary</th>\n",
              "      <th>title</th>\n",
              "    </tr>\n",
              "  </thead>\n",
              "  <tbody>\n",
              "    <tr>\n",
              "      <th>3</th>\n",
              "      <td>SECTION 1. NONRECOGNITION OF GAIN WHERE ROLLOV...</td>\n",
              "      <td>Amends the Internal Revenue Code to provide (t...</td>\n",
              "      <td>To amend the Internal Revenue Code to provide ...</td>\n",
              "    </tr>\n",
              "    <tr>\n",
              "      <th>11</th>\n",
              "      <td>SECTION 1. SHORT TITLE.\\n\\n    This Act may be...</td>\n",
              "      <td>Public Safety and Protection Investment Act of...</td>\n",
              "      <td>To amend the Internal Revenue Code of 1986 to ...</td>\n",
              "    </tr>\n",
              "  </tbody>\n",
              "</table>\n",
              "</div>"
            ],
            "text/plain": [
              "                                                 text  \\\n",
              "3   SECTION 1. NONRECOGNITION OF GAIN WHERE ROLLOV...   \n",
              "11  SECTION 1. SHORT TITLE.\\n\\n    This Act may be...   \n",
              "\n",
              "                                              summary  \\\n",
              "3   Amends the Internal Revenue Code to provide (t...   \n",
              "11  Public Safety and Protection Investment Act of...   \n",
              "\n",
              "                                                title  \n",
              "3   To amend the Internal Revenue Code to provide ...  \n",
              "11  To amend the Internal Revenue Code of 1986 to ...  "
            ]
          },
          "execution_count": 15,
          "metadata": {},
          "output_type": "execute_result"
        }
      ],
      "source": [
        "# Filtering dataset to see those containing the term 'revenue code' in the summary\n",
        "filtered_train = train[train['summary'].str.contains('revenue code', case=False, na=False)]\n",
        "filtered_train.head(2)"
      ]
    },
    {
      "cell_type": "code",
      "execution_count": 16,
      "metadata": {
        "colab": {
          "base_uri": "https://localhost:8080/",
          "height": 817
        },
        "id": "69_ZFPzSyVKN",
        "outputId": "1b8fe209-d36a-4bea-f4e8-99518e78c06d"
      },
      "outputs": [
        {
          "data": {
            "application/vnd.plotly.v1+json": {
              "config": {
                "plotlyServerURL": "https://plot.ly"
              },
              "data": [
                {
                  "colorscale": [
                    [
                      0,
                      "#00224e"
                    ],
                    [
                      0.1111111111111111,
                      "#123570"
                    ],
                    [
                      0.2222222222222222,
                      "#3b496c"
                    ],
                    [
                      0.3333333333333333,
                      "#575d6d"
                    ],
                    [
                      0.4444444444444444,
                      "#707173"
                    ],
                    [
                      0.5555555555555556,
                      "#8a8678"
                    ],
                    [
                      0.6666666666666666,
                      "#a59c74"
                    ],
                    [
                      0.7777777777777778,
                      "#c3b369"
                    ],
                    [
                      0.8888888888888888,
                      "#e1cc55"
                    ],
                    [
                      1,
                      "#fee838"
                    ]
                  ],
                  "reversescale": false,
                  "showscale": false,
                  "type": "heatmap",
                  "x": [
                    "000 000",
                    "act cited",
                    "adding end",
                    "amended striking",
                    "date enactment",
                    "enactment act",
                    "end following",
                    "fiscal year",
                    "following new",
                    "secretary shall",
                    "shall apply",
                    "short title",
                    "states code",
                    "title act"
                  ],
                  "y": [
                    "united states",
                    "title act",
                    "states code",
                    "short title",
                    "shall apply",
                    "secretary shall",
                    "following new",
                    "fiscal year",
                    "end following",
                    "enactment act",
                    "date enactment",
                    "amended striking",
                    "adding end",
                    "act cited"
                  ],
                  "z": [
                    [
                      -0.15,
                      -0.14,
                      -0.33,
                      -0.27,
                      -0.13,
                      -0.06,
                      -0.33,
                      -0.2,
                      -0.29,
                      -0.24,
                      -0.23,
                      -0.15,
                      0.34,
                      -0.15
                    ],
                    [
                      -0.03,
                      0.98,
                      -0.02,
                      -0.14,
                      0.09,
                      0.06,
                      -0.01,
                      -0.14,
                      -0.07,
                      -0.03,
                      -0.01,
                      0.9,
                      -0.13
                    ],
                    [
                      -0.17,
                      -0.12,
                      -0.09,
                      -0.09,
                      -0.09,
                      -0.06,
                      -0.09,
                      -0.13,
                      -0.1,
                      -0.16,
                      -0.11,
                      -0.12
                    ],
                    [
                      -0.03,
                      0.91,
                      -0.02,
                      -0.12,
                      0.08,
                      0.07,
                      -0.01,
                      -0.13,
                      -0.07,
                      -0.03,
                      -0.01
                    ],
                    [
                      -0.16,
                      -0.01,
                      0.13,
                      0.16,
                      0.03,
                      0.03,
                      0.11,
                      -0.19,
                      0.31,
                      -0.18
                    ],
                    [
                      0.02,
                      -0.04,
                      -0.14,
                      -0.19,
                      -0.04,
                      -0.06,
                      -0.13,
                      -0.01,
                      -0.14
                    ],
                    [
                      -0.15,
                      -0.07,
                      0.38,
                      0.19,
                      -0.08,
                      -0.12,
                      0.35,
                      -0.15
                    ],
                    [
                      0.23,
                      -0.13,
                      -0.13,
                      -0.1,
                      -0.18,
                      -0.17,
                      -0.12
                    ],
                    [
                      -0.12,
                      -0.01,
                      0.95,
                      0.16,
                      -0.04,
                      -0.16
                    ],
                    [
                      -0.12,
                      0.06,
                      -0.17,
                      -0.12,
                      0.77
                    ],
                    [
                      -0.12,
                      0.08,
                      -0.05,
                      -0.1
                    ],
                    [
                      -0.1,
                      -0.15,
                      0.17
                    ],
                    [
                      -0.12,
                      -0.02
                    ],
                    [
                      -0.03
                    ]
                  ]
                },
                {
                  "colorscale": [
                    [
                      0,
                      "#00224e"
                    ],
                    [
                      0.1111111111111111,
                      "#123570"
                    ],
                    [
                      0.2222222222222222,
                      "#3b496c"
                    ],
                    [
                      0.3333333333333333,
                      "#575d6d"
                    ],
                    [
                      0.4444444444444444,
                      "#707173"
                    ],
                    [
                      0.5555555555555556,
                      "#8a8678"
                    ],
                    [
                      0.6666666666666666,
                      "#a59c74"
                    ],
                    [
                      0.7777777777777778,
                      "#c3b369"
                    ],
                    [
                      0.8888888888888888,
                      "#e1cc55"
                    ],
                    [
                      1,
                      "#fee838"
                    ]
                  ],
                  "showscale": true,
                  "type": "heatmap",
                  "visible": true,
                  "z": [
                    [
                      -0.15,
                      -0.14,
                      -0.33,
                      -0.27,
                      -0.13,
                      -0.06,
                      -0.33,
                      -0.2,
                      -0.29,
                      -0.24,
                      -0.23,
                      -0.15,
                      0.34,
                      -0.15
                    ],
                    [
                      -0.03,
                      0.98,
                      -0.02,
                      -0.14,
                      0.09,
                      0.06,
                      -0.01,
                      -0.14,
                      -0.07,
                      -0.03,
                      -0.01,
                      0.9,
                      -0.13
                    ],
                    [
                      -0.17,
                      -0.12,
                      -0.09,
                      -0.09,
                      -0.09,
                      -0.06,
                      -0.09,
                      -0.13,
                      -0.1,
                      -0.16,
                      -0.11,
                      -0.12
                    ],
                    [
                      -0.03,
                      0.91,
                      -0.02,
                      -0.12,
                      0.08,
                      0.07,
                      -0.01,
                      -0.13,
                      -0.07,
                      -0.03,
                      -0.01
                    ],
                    [
                      -0.16,
                      -0.01,
                      0.13,
                      0.16,
                      0.03,
                      0.03,
                      0.11,
                      -0.19,
                      0.31,
                      -0.18
                    ],
                    [
                      0.02,
                      -0.04,
                      -0.14,
                      -0.19,
                      -0.04,
                      -0.06,
                      -0.13,
                      -0.01,
                      -0.14
                    ],
                    [
                      -0.15,
                      -0.07,
                      0.38,
                      0.19,
                      -0.08,
                      -0.12,
                      0.35,
                      -0.15
                    ],
                    [
                      0.23,
                      -0.13,
                      -0.13,
                      -0.1,
                      -0.18,
                      -0.17,
                      -0.12
                    ],
                    [
                      -0.12,
                      -0.01,
                      0.95,
                      0.16,
                      -0.04,
                      -0.16
                    ],
                    [
                      -0.12,
                      0.06,
                      -0.17,
                      -0.12,
                      0.77
                    ],
                    [
                      -0.12,
                      0.08,
                      -0.05,
                      -0.1
                    ],
                    [
                      -0.1,
                      -0.15,
                      0.17
                    ],
                    [
                      -0.12,
                      -0.02
                    ],
                    [
                      -0.03
                    ]
                  ]
                }
              ],
              "layout": {
                "annotations": [
                  {
                    "font": {
                      "color": "#FFFFFF",
                      "size": 12
                    },
                    "showarrow": false,
                    "text": "-0.15",
                    "x": "000 000",
                    "xref": "x",
                    "y": "united states",
                    "yref": "y"
                  },
                  {
                    "font": {
                      "color": "#FFFFFF",
                      "size": 12
                    },
                    "showarrow": false,
                    "text": "-0.14",
                    "x": "act cited",
                    "xref": "x",
                    "y": "united states",
                    "yref": "y"
                  },
                  {
                    "font": {
                      "color": "#FFFFFF",
                      "size": 12
                    },
                    "showarrow": false,
                    "text": "-0.33",
                    "x": "adding end",
                    "xref": "x",
                    "y": "united states",
                    "yref": "y"
                  },
                  {
                    "font": {
                      "color": "#FFFFFF",
                      "size": 12
                    },
                    "showarrow": false,
                    "text": "-0.27",
                    "x": "amended striking",
                    "xref": "x",
                    "y": "united states",
                    "yref": "y"
                  },
                  {
                    "font": {
                      "color": "#FFFFFF",
                      "size": 12
                    },
                    "showarrow": false,
                    "text": "-0.13",
                    "x": "date enactment",
                    "xref": "x",
                    "y": "united states",
                    "yref": "y"
                  },
                  {
                    "font": {
                      "color": "#FFFFFF",
                      "size": 12
                    },
                    "showarrow": false,
                    "text": "-0.06",
                    "x": "enactment act",
                    "xref": "x",
                    "y": "united states",
                    "yref": "y"
                  },
                  {
                    "font": {
                      "color": "#FFFFFF",
                      "size": 12
                    },
                    "showarrow": false,
                    "text": "-0.33",
                    "x": "end following",
                    "xref": "x",
                    "y": "united states",
                    "yref": "y"
                  },
                  {
                    "font": {
                      "color": "#FFFFFF",
                      "size": 12
                    },
                    "showarrow": false,
                    "text": "-0.2",
                    "x": "fiscal year",
                    "xref": "x",
                    "y": "united states",
                    "yref": "y"
                  },
                  {
                    "font": {
                      "color": "#FFFFFF",
                      "size": 12
                    },
                    "showarrow": false,
                    "text": "-0.29",
                    "x": "following new",
                    "xref": "x",
                    "y": "united states",
                    "yref": "y"
                  },
                  {
                    "font": {
                      "color": "#FFFFFF",
                      "size": 12
                    },
                    "showarrow": false,
                    "text": "-0.24",
                    "x": "secretary shall",
                    "xref": "x",
                    "y": "united states",
                    "yref": "y"
                  },
                  {
                    "font": {
                      "color": "#FFFFFF",
                      "size": 12
                    },
                    "showarrow": false,
                    "text": "-0.23",
                    "x": "shall apply",
                    "xref": "x",
                    "y": "united states",
                    "yref": "y"
                  },
                  {
                    "font": {
                      "color": "#FFFFFF",
                      "size": 12
                    },
                    "showarrow": false,
                    "text": "-0.15",
                    "x": "short title",
                    "xref": "x",
                    "y": "united states",
                    "yref": "y"
                  },
                  {
                    "font": {
                      "color": "#000000",
                      "size": 12
                    },
                    "showarrow": false,
                    "text": "0.34",
                    "x": "states code",
                    "xref": "x",
                    "y": "united states",
                    "yref": "y"
                  },
                  {
                    "font": {
                      "color": "#FFFFFF",
                      "size": 12
                    },
                    "showarrow": false,
                    "text": "-0.15",
                    "x": "title act",
                    "xref": "x",
                    "y": "united states",
                    "yref": "y"
                  },
                  {
                    "font": {
                      "color": "#FFFFFF",
                      "size": 12
                    },
                    "showarrow": false,
                    "text": "-0.03",
                    "x": "000 000",
                    "xref": "x",
                    "y": "title act",
                    "yref": "y"
                  },
                  {
                    "font": {
                      "color": "#000000",
                      "size": 12
                    },
                    "showarrow": false,
                    "text": "0.98",
                    "x": "act cited",
                    "xref": "x",
                    "y": "title act",
                    "yref": "y"
                  },
                  {
                    "font": {
                      "color": "#FFFFFF",
                      "size": 12
                    },
                    "showarrow": false,
                    "text": "-0.02",
                    "x": "adding end",
                    "xref": "x",
                    "y": "title act",
                    "yref": "y"
                  },
                  {
                    "font": {
                      "color": "#FFFFFF",
                      "size": 12
                    },
                    "showarrow": false,
                    "text": "-0.14",
                    "x": "amended striking",
                    "xref": "x",
                    "y": "title act",
                    "yref": "y"
                  },
                  {
                    "font": {
                      "color": "#FFFFFF",
                      "size": 12
                    },
                    "showarrow": false,
                    "text": "0.09",
                    "x": "date enactment",
                    "xref": "x",
                    "y": "title act",
                    "yref": "y"
                  },
                  {
                    "font": {
                      "color": "#FFFFFF",
                      "size": 12
                    },
                    "showarrow": false,
                    "text": "0.06",
                    "x": "enactment act",
                    "xref": "x",
                    "y": "title act",
                    "yref": "y"
                  },
                  {
                    "font": {
                      "color": "#FFFFFF",
                      "size": 12
                    },
                    "showarrow": false,
                    "text": "-0.01",
                    "x": "end following",
                    "xref": "x",
                    "y": "title act",
                    "yref": "y"
                  },
                  {
                    "font": {
                      "color": "#FFFFFF",
                      "size": 12
                    },
                    "showarrow": false,
                    "text": "-0.14",
                    "x": "fiscal year",
                    "xref": "x",
                    "y": "title act",
                    "yref": "y"
                  },
                  {
                    "font": {
                      "color": "#FFFFFF",
                      "size": 12
                    },
                    "showarrow": false,
                    "text": "-0.07",
                    "x": "following new",
                    "xref": "x",
                    "y": "title act",
                    "yref": "y"
                  },
                  {
                    "font": {
                      "color": "#FFFFFF",
                      "size": 12
                    },
                    "showarrow": false,
                    "text": "-0.03",
                    "x": "secretary shall",
                    "xref": "x",
                    "y": "title act",
                    "yref": "y"
                  },
                  {
                    "font": {
                      "color": "#FFFFFF",
                      "size": 12
                    },
                    "showarrow": false,
                    "text": "-0.01",
                    "x": "shall apply",
                    "xref": "x",
                    "y": "title act",
                    "yref": "y"
                  },
                  {
                    "font": {
                      "color": "#000000",
                      "size": 12
                    },
                    "showarrow": false,
                    "text": "0.9",
                    "x": "short title",
                    "xref": "x",
                    "y": "title act",
                    "yref": "y"
                  },
                  {
                    "font": {
                      "color": "#FFFFFF",
                      "size": 12
                    },
                    "showarrow": false,
                    "text": "-0.13",
                    "x": "states code",
                    "xref": "x",
                    "y": "title act",
                    "yref": "y"
                  },
                  {
                    "font": {
                      "color": "#FFFFFF",
                      "size": 12
                    },
                    "showarrow": false,
                    "text": "-0.17",
                    "x": "000 000",
                    "xref": "x",
                    "y": "states code",
                    "yref": "y"
                  },
                  {
                    "font": {
                      "color": "#FFFFFF",
                      "size": 12
                    },
                    "showarrow": false,
                    "text": "-0.12",
                    "x": "act cited",
                    "xref": "x",
                    "y": "states code",
                    "yref": "y"
                  },
                  {
                    "font": {
                      "color": "#FFFFFF",
                      "size": 12
                    },
                    "showarrow": false,
                    "text": "-0.09",
                    "x": "adding end",
                    "xref": "x",
                    "y": "states code",
                    "yref": "y"
                  },
                  {
                    "font": {
                      "color": "#FFFFFF",
                      "size": 12
                    },
                    "showarrow": false,
                    "text": "-0.09",
                    "x": "amended striking",
                    "xref": "x",
                    "y": "states code",
                    "yref": "y"
                  },
                  {
                    "font": {
                      "color": "#FFFFFF",
                      "size": 12
                    },
                    "showarrow": false,
                    "text": "-0.09",
                    "x": "date enactment",
                    "xref": "x",
                    "y": "states code",
                    "yref": "y"
                  },
                  {
                    "font": {
                      "color": "#FFFFFF",
                      "size": 12
                    },
                    "showarrow": false,
                    "text": "-0.06",
                    "x": "enactment act",
                    "xref": "x",
                    "y": "states code",
                    "yref": "y"
                  },
                  {
                    "font": {
                      "color": "#FFFFFF",
                      "size": 12
                    },
                    "showarrow": false,
                    "text": "-0.09",
                    "x": "end following",
                    "xref": "x",
                    "y": "states code",
                    "yref": "y"
                  },
                  {
                    "font": {
                      "color": "#FFFFFF",
                      "size": 12
                    },
                    "showarrow": false,
                    "text": "-0.13",
                    "x": "fiscal year",
                    "xref": "x",
                    "y": "states code",
                    "yref": "y"
                  },
                  {
                    "font": {
                      "color": "#FFFFFF",
                      "size": 12
                    },
                    "showarrow": false,
                    "text": "-0.1",
                    "x": "following new",
                    "xref": "x",
                    "y": "states code",
                    "yref": "y"
                  },
                  {
                    "font": {
                      "color": "#FFFFFF",
                      "size": 12
                    },
                    "showarrow": false,
                    "text": "-0.16",
                    "x": "secretary shall",
                    "xref": "x",
                    "y": "states code",
                    "yref": "y"
                  },
                  {
                    "font": {
                      "color": "#FFFFFF",
                      "size": 12
                    },
                    "showarrow": false,
                    "text": "-0.11",
                    "x": "shall apply",
                    "xref": "x",
                    "y": "states code",
                    "yref": "y"
                  },
                  {
                    "font": {
                      "color": "#FFFFFF",
                      "size": 12
                    },
                    "showarrow": false,
                    "text": "-0.12",
                    "x": "short title",
                    "xref": "x",
                    "y": "states code",
                    "yref": "y"
                  },
                  {
                    "font": {
                      "color": "#FFFFFF",
                      "size": 12
                    },
                    "showarrow": false,
                    "text": "-0.03",
                    "x": "000 000",
                    "xref": "x",
                    "y": "short title",
                    "yref": "y"
                  },
                  {
                    "font": {
                      "color": "#000000",
                      "size": 12
                    },
                    "showarrow": false,
                    "text": "0.91",
                    "x": "act cited",
                    "xref": "x",
                    "y": "short title",
                    "yref": "y"
                  },
                  {
                    "font": {
                      "color": "#FFFFFF",
                      "size": 12
                    },
                    "showarrow": false,
                    "text": "-0.02",
                    "x": "adding end",
                    "xref": "x",
                    "y": "short title",
                    "yref": "y"
                  },
                  {
                    "font": {
                      "color": "#FFFFFF",
                      "size": 12
                    },
                    "showarrow": false,
                    "text": "-0.12",
                    "x": "amended striking",
                    "xref": "x",
                    "y": "short title",
                    "yref": "y"
                  },
                  {
                    "font": {
                      "color": "#FFFFFF",
                      "size": 12
                    },
                    "showarrow": false,
                    "text": "0.08",
                    "x": "date enactment",
                    "xref": "x",
                    "y": "short title",
                    "yref": "y"
                  },
                  {
                    "font": {
                      "color": "#FFFFFF",
                      "size": 12
                    },
                    "showarrow": false,
                    "text": "0.07",
                    "x": "enactment act",
                    "xref": "x",
                    "y": "short title",
                    "yref": "y"
                  },
                  {
                    "font": {
                      "color": "#FFFFFF",
                      "size": 12
                    },
                    "showarrow": false,
                    "text": "-0.01",
                    "x": "end following",
                    "xref": "x",
                    "y": "short title",
                    "yref": "y"
                  },
                  {
                    "font": {
                      "color": "#FFFFFF",
                      "size": 12
                    },
                    "showarrow": false,
                    "text": "-0.13",
                    "x": "fiscal year",
                    "xref": "x",
                    "y": "short title",
                    "yref": "y"
                  },
                  {
                    "font": {
                      "color": "#FFFFFF",
                      "size": 12
                    },
                    "showarrow": false,
                    "text": "-0.07",
                    "x": "following new",
                    "xref": "x",
                    "y": "short title",
                    "yref": "y"
                  },
                  {
                    "font": {
                      "color": "#FFFFFF",
                      "size": 12
                    },
                    "showarrow": false,
                    "text": "-0.03",
                    "x": "secretary shall",
                    "xref": "x",
                    "y": "short title",
                    "yref": "y"
                  },
                  {
                    "font": {
                      "color": "#FFFFFF",
                      "size": 12
                    },
                    "showarrow": false,
                    "text": "-0.01",
                    "x": "shall apply",
                    "xref": "x",
                    "y": "short title",
                    "yref": "y"
                  },
                  {
                    "font": {
                      "color": "#FFFFFF",
                      "size": 12
                    },
                    "showarrow": false,
                    "text": "-0.16",
                    "x": "000 000",
                    "xref": "x",
                    "y": "shall apply",
                    "yref": "y"
                  },
                  {
                    "font": {
                      "color": "#FFFFFF",
                      "size": 12
                    },
                    "showarrow": false,
                    "text": "-0.01",
                    "x": "act cited",
                    "xref": "x",
                    "y": "shall apply",
                    "yref": "y"
                  },
                  {
                    "font": {
                      "color": "#FFFFFF",
                      "size": 12
                    },
                    "showarrow": false,
                    "text": "0.13",
                    "x": "adding end",
                    "xref": "x",
                    "y": "shall apply",
                    "yref": "y"
                  },
                  {
                    "font": {
                      "color": "#FFFFFF",
                      "size": 12
                    },
                    "showarrow": false,
                    "text": "0.16",
                    "x": "amended striking",
                    "xref": "x",
                    "y": "shall apply",
                    "yref": "y"
                  },
                  {
                    "font": {
                      "color": "#FFFFFF",
                      "size": 12
                    },
                    "showarrow": false,
                    "text": "0.03",
                    "x": "date enactment",
                    "xref": "x",
                    "y": "shall apply",
                    "yref": "y"
                  },
                  {
                    "font": {
                      "color": "#FFFFFF",
                      "size": 12
                    },
                    "showarrow": false,
                    "text": "0.03",
                    "x": "enactment act",
                    "xref": "x",
                    "y": "shall apply",
                    "yref": "y"
                  },
                  {
                    "font": {
                      "color": "#FFFFFF",
                      "size": 12
                    },
                    "showarrow": false,
                    "text": "0.11",
                    "x": "end following",
                    "xref": "x",
                    "y": "shall apply",
                    "yref": "y"
                  },
                  {
                    "font": {
                      "color": "#FFFFFF",
                      "size": 12
                    },
                    "showarrow": false,
                    "text": "-0.19",
                    "x": "fiscal year",
                    "xref": "x",
                    "y": "shall apply",
                    "yref": "y"
                  },
                  {
                    "font": {
                      "color": "#FFFFFF",
                      "size": 12
                    },
                    "showarrow": false,
                    "text": "0.31",
                    "x": "following new",
                    "xref": "x",
                    "y": "shall apply",
                    "yref": "y"
                  },
                  {
                    "font": {
                      "color": "#FFFFFF",
                      "size": 12
                    },
                    "showarrow": false,
                    "text": "-0.18",
                    "x": "secretary shall",
                    "xref": "x",
                    "y": "shall apply",
                    "yref": "y"
                  },
                  {
                    "font": {
                      "color": "#FFFFFF",
                      "size": 12
                    },
                    "showarrow": false,
                    "text": "0.02",
                    "x": "000 000",
                    "xref": "x",
                    "y": "secretary shall",
                    "yref": "y"
                  },
                  {
                    "font": {
                      "color": "#FFFFFF",
                      "size": 12
                    },
                    "showarrow": false,
                    "text": "-0.04",
                    "x": "act cited",
                    "xref": "x",
                    "y": "secretary shall",
                    "yref": "y"
                  },
                  {
                    "font": {
                      "color": "#FFFFFF",
                      "size": 12
                    },
                    "showarrow": false,
                    "text": "-0.14",
                    "x": "adding end",
                    "xref": "x",
                    "y": "secretary shall",
                    "yref": "y"
                  },
                  {
                    "font": {
                      "color": "#FFFFFF",
                      "size": 12
                    },
                    "showarrow": false,
                    "text": "-0.19",
                    "x": "amended striking",
                    "xref": "x",
                    "y": "secretary shall",
                    "yref": "y"
                  },
                  {
                    "font": {
                      "color": "#FFFFFF",
                      "size": 12
                    },
                    "showarrow": false,
                    "text": "-0.04",
                    "x": "date enactment",
                    "xref": "x",
                    "y": "secretary shall",
                    "yref": "y"
                  },
                  {
                    "font": {
                      "color": "#FFFFFF",
                      "size": 12
                    },
                    "showarrow": false,
                    "text": "-0.06",
                    "x": "enactment act",
                    "xref": "x",
                    "y": "secretary shall",
                    "yref": "y"
                  },
                  {
                    "font": {
                      "color": "#FFFFFF",
                      "size": 12
                    },
                    "showarrow": false,
                    "text": "-0.13",
                    "x": "end following",
                    "xref": "x",
                    "y": "secretary shall",
                    "yref": "y"
                  },
                  {
                    "font": {
                      "color": "#FFFFFF",
                      "size": 12
                    },
                    "showarrow": false,
                    "text": "-0.01",
                    "x": "fiscal year",
                    "xref": "x",
                    "y": "secretary shall",
                    "yref": "y"
                  },
                  {
                    "font": {
                      "color": "#FFFFFF",
                      "size": 12
                    },
                    "showarrow": false,
                    "text": "-0.14",
                    "x": "following new",
                    "xref": "x",
                    "y": "secretary shall",
                    "yref": "y"
                  },
                  {
                    "font": {
                      "color": "#FFFFFF",
                      "size": 12
                    },
                    "showarrow": false,
                    "text": "-0.15",
                    "x": "000 000",
                    "xref": "x",
                    "y": "following new",
                    "yref": "y"
                  },
                  {
                    "font": {
                      "color": "#FFFFFF",
                      "size": 12
                    },
                    "showarrow": false,
                    "text": "-0.07",
                    "x": "act cited",
                    "xref": "x",
                    "y": "following new",
                    "yref": "y"
                  },
                  {
                    "font": {
                      "color": "#000000",
                      "size": 12
                    },
                    "showarrow": false,
                    "text": "0.38",
                    "x": "adding end",
                    "xref": "x",
                    "y": "following new",
                    "yref": "y"
                  },
                  {
                    "font": {
                      "color": "#FFFFFF",
                      "size": 12
                    },
                    "showarrow": false,
                    "text": "0.19",
                    "x": "amended striking",
                    "xref": "x",
                    "y": "following new",
                    "yref": "y"
                  },
                  {
                    "font": {
                      "color": "#FFFFFF",
                      "size": 12
                    },
                    "showarrow": false,
                    "text": "-0.08",
                    "x": "date enactment",
                    "xref": "x",
                    "y": "following new",
                    "yref": "y"
                  },
                  {
                    "font": {
                      "color": "#FFFFFF",
                      "size": 12
                    },
                    "showarrow": false,
                    "text": "-0.12",
                    "x": "enactment act",
                    "xref": "x",
                    "y": "following new",
                    "yref": "y"
                  },
                  {
                    "font": {
                      "color": "#000000",
                      "size": 12
                    },
                    "showarrow": false,
                    "text": "0.35",
                    "x": "end following",
                    "xref": "x",
                    "y": "following new",
                    "yref": "y"
                  },
                  {
                    "font": {
                      "color": "#FFFFFF",
                      "size": 12
                    },
                    "showarrow": false,
                    "text": "-0.15",
                    "x": "fiscal year",
                    "xref": "x",
                    "y": "following new",
                    "yref": "y"
                  },
                  {
                    "font": {
                      "color": "#FFFFFF",
                      "size": 12
                    },
                    "showarrow": false,
                    "text": "0.23",
                    "x": "000 000",
                    "xref": "x",
                    "y": "fiscal year",
                    "yref": "y"
                  },
                  {
                    "font": {
                      "color": "#FFFFFF",
                      "size": 12
                    },
                    "showarrow": false,
                    "text": "-0.13",
                    "x": "act cited",
                    "xref": "x",
                    "y": "fiscal year",
                    "yref": "y"
                  },
                  {
                    "font": {
                      "color": "#FFFFFF",
                      "size": 12
                    },
                    "showarrow": false,
                    "text": "-0.13",
                    "x": "adding end",
                    "xref": "x",
                    "y": "fiscal year",
                    "yref": "y"
                  },
                  {
                    "font": {
                      "color": "#FFFFFF",
                      "size": 12
                    },
                    "showarrow": false,
                    "text": "-0.1",
                    "x": "amended striking",
                    "xref": "x",
                    "y": "fiscal year",
                    "yref": "y"
                  },
                  {
                    "font": {
                      "color": "#FFFFFF",
                      "size": 12
                    },
                    "showarrow": false,
                    "text": "-0.18",
                    "x": "date enactment",
                    "xref": "x",
                    "y": "fiscal year",
                    "yref": "y"
                  },
                  {
                    "font": {
                      "color": "#FFFFFF",
                      "size": 12
                    },
                    "showarrow": false,
                    "text": "-0.17",
                    "x": "enactment act",
                    "xref": "x",
                    "y": "fiscal year",
                    "yref": "y"
                  },
                  {
                    "font": {
                      "color": "#FFFFFF",
                      "size": 12
                    },
                    "showarrow": false,
                    "text": "-0.12",
                    "x": "end following",
                    "xref": "x",
                    "y": "fiscal year",
                    "yref": "y"
                  },
                  {
                    "font": {
                      "color": "#FFFFFF",
                      "size": 12
                    },
                    "showarrow": false,
                    "text": "-0.12",
                    "x": "000 000",
                    "xref": "x",
                    "y": "end following",
                    "yref": "y"
                  },
                  {
                    "font": {
                      "color": "#FFFFFF",
                      "size": 12
                    },
                    "showarrow": false,
                    "text": "-0.01",
                    "x": "act cited",
                    "xref": "x",
                    "y": "end following",
                    "yref": "y"
                  },
                  {
                    "font": {
                      "color": "#000000",
                      "size": 12
                    },
                    "showarrow": false,
                    "text": "0.95",
                    "x": "adding end",
                    "xref": "x",
                    "y": "end following",
                    "yref": "y"
                  },
                  {
                    "font": {
                      "color": "#FFFFFF",
                      "size": 12
                    },
                    "showarrow": false,
                    "text": "0.16",
                    "x": "amended striking",
                    "xref": "x",
                    "y": "end following",
                    "yref": "y"
                  },
                  {
                    "font": {
                      "color": "#FFFFFF",
                      "size": 12
                    },
                    "showarrow": false,
                    "text": "-0.04",
                    "x": "date enactment",
                    "xref": "x",
                    "y": "end following",
                    "yref": "y"
                  },
                  {
                    "font": {
                      "color": "#FFFFFF",
                      "size": 12
                    },
                    "showarrow": false,
                    "text": "-0.16",
                    "x": "enactment act",
                    "xref": "x",
                    "y": "end following",
                    "yref": "y"
                  },
                  {
                    "font": {
                      "color": "#FFFFFF",
                      "size": 12
                    },
                    "showarrow": false,
                    "text": "-0.12",
                    "x": "000 000",
                    "xref": "x",
                    "y": "enactment act",
                    "yref": "y"
                  },
                  {
                    "font": {
                      "color": "#FFFFFF",
                      "size": 12
                    },
                    "showarrow": false,
                    "text": "0.06",
                    "x": "act cited",
                    "xref": "x",
                    "y": "enactment act",
                    "yref": "y"
                  },
                  {
                    "font": {
                      "color": "#FFFFFF",
                      "size": 12
                    },
                    "showarrow": false,
                    "text": "-0.17",
                    "x": "adding end",
                    "xref": "x",
                    "y": "enactment act",
                    "yref": "y"
                  },
                  {
                    "font": {
                      "color": "#FFFFFF",
                      "size": 12
                    },
                    "showarrow": false,
                    "text": "-0.12",
                    "x": "amended striking",
                    "xref": "x",
                    "y": "enactment act",
                    "yref": "y"
                  },
                  {
                    "font": {
                      "color": "#000000",
                      "size": 12
                    },
                    "showarrow": false,
                    "text": "0.77",
                    "x": "date enactment",
                    "xref": "x",
                    "y": "enactment act",
                    "yref": "y"
                  },
                  {
                    "font": {
                      "color": "#FFFFFF",
                      "size": 12
                    },
                    "showarrow": false,
                    "text": "-0.12",
                    "x": "000 000",
                    "xref": "x",
                    "y": "date enactment",
                    "yref": "y"
                  },
                  {
                    "font": {
                      "color": "#FFFFFF",
                      "size": 12
                    },
                    "showarrow": false,
                    "text": "0.08",
                    "x": "act cited",
                    "xref": "x",
                    "y": "date enactment",
                    "yref": "y"
                  },
                  {
                    "font": {
                      "color": "#FFFFFF",
                      "size": 12
                    },
                    "showarrow": false,
                    "text": "-0.05",
                    "x": "adding end",
                    "xref": "x",
                    "y": "date enactment",
                    "yref": "y"
                  },
                  {
                    "font": {
                      "color": "#FFFFFF",
                      "size": 12
                    },
                    "showarrow": false,
                    "text": "-0.1",
                    "x": "amended striking",
                    "xref": "x",
                    "y": "date enactment",
                    "yref": "y"
                  },
                  {
                    "font": {
                      "color": "#FFFFFF",
                      "size": 12
                    },
                    "showarrow": false,
                    "text": "-0.1",
                    "x": "000 000",
                    "xref": "x",
                    "y": "amended striking",
                    "yref": "y"
                  },
                  {
                    "font": {
                      "color": "#FFFFFF",
                      "size": 12
                    },
                    "showarrow": false,
                    "text": "-0.15",
                    "x": "act cited",
                    "xref": "x",
                    "y": "amended striking",
                    "yref": "y"
                  },
                  {
                    "font": {
                      "color": "#FFFFFF",
                      "size": 12
                    },
                    "showarrow": false,
                    "text": "0.17",
                    "x": "adding end",
                    "xref": "x",
                    "y": "amended striking",
                    "yref": "y"
                  },
                  {
                    "font": {
                      "color": "#FFFFFF",
                      "size": 12
                    },
                    "showarrow": false,
                    "text": "-0.12",
                    "x": "000 000",
                    "xref": "x",
                    "y": "adding end",
                    "yref": "y"
                  },
                  {
                    "font": {
                      "color": "#FFFFFF",
                      "size": 12
                    },
                    "showarrow": false,
                    "text": "-0.02",
                    "x": "act cited",
                    "xref": "x",
                    "y": "adding end",
                    "yref": "y"
                  },
                  {
                    "font": {
                      "color": "#FFFFFF",
                      "size": 12
                    },
                    "showarrow": false,
                    "text": "-0.03",
                    "x": "000 000",
                    "xref": "x",
                    "y": "act cited",
                    "yref": "y"
                  }
                ],
                "height": 800,
                "margin": {
                  "l": 110,
                  "t": 210
                },
                "template": {
                  "data": {
                    "bar": [
                      {
                        "error_x": {
                          "color": "#f2f5fa"
                        },
                        "error_y": {
                          "color": "#f2f5fa"
                        },
                        "marker": {
                          "line": {
                            "color": "rgb(17,17,17)",
                            "width": 0.5
                          },
                          "pattern": {
                            "fillmode": "overlay",
                            "size": 10,
                            "solidity": 0.2
                          }
                        },
                        "type": "bar"
                      }
                    ],
                    "barpolar": [
                      {
                        "marker": {
                          "line": {
                            "color": "rgb(17,17,17)",
                            "width": 0.5
                          },
                          "pattern": {
                            "fillmode": "overlay",
                            "size": 10,
                            "solidity": 0.2
                          }
                        },
                        "type": "barpolar"
                      }
                    ],
                    "carpet": [
                      {
                        "aaxis": {
                          "endlinecolor": "#A2B1C6",
                          "gridcolor": "#506784",
                          "linecolor": "#506784",
                          "minorgridcolor": "#506784",
                          "startlinecolor": "#A2B1C6"
                        },
                        "baxis": {
                          "endlinecolor": "#A2B1C6",
                          "gridcolor": "#506784",
                          "linecolor": "#506784",
                          "minorgridcolor": "#506784",
                          "startlinecolor": "#A2B1C6"
                        },
                        "type": "carpet"
                      }
                    ],
                    "choropleth": [
                      {
                        "colorbar": {
                          "outlinewidth": 0,
                          "ticks": ""
                        },
                        "type": "choropleth"
                      }
                    ],
                    "contour": [
                      {
                        "colorbar": {
                          "outlinewidth": 0,
                          "ticks": ""
                        },
                        "colorscale": [
                          [
                            0,
                            "#0d0887"
                          ],
                          [
                            0.1111111111111111,
                            "#46039f"
                          ],
                          [
                            0.2222222222222222,
                            "#7201a8"
                          ],
                          [
                            0.3333333333333333,
                            "#9c179e"
                          ],
                          [
                            0.4444444444444444,
                            "#bd3786"
                          ],
                          [
                            0.5555555555555556,
                            "#d8576b"
                          ],
                          [
                            0.6666666666666666,
                            "#ed7953"
                          ],
                          [
                            0.7777777777777778,
                            "#fb9f3a"
                          ],
                          [
                            0.8888888888888888,
                            "#fdca26"
                          ],
                          [
                            1,
                            "#f0f921"
                          ]
                        ],
                        "type": "contour"
                      }
                    ],
                    "contourcarpet": [
                      {
                        "colorbar": {
                          "outlinewidth": 0,
                          "ticks": ""
                        },
                        "type": "contourcarpet"
                      }
                    ],
                    "heatmap": [
                      {
                        "colorbar": {
                          "outlinewidth": 0,
                          "ticks": ""
                        },
                        "colorscale": [
                          [
                            0,
                            "#0d0887"
                          ],
                          [
                            0.1111111111111111,
                            "#46039f"
                          ],
                          [
                            0.2222222222222222,
                            "#7201a8"
                          ],
                          [
                            0.3333333333333333,
                            "#9c179e"
                          ],
                          [
                            0.4444444444444444,
                            "#bd3786"
                          ],
                          [
                            0.5555555555555556,
                            "#d8576b"
                          ],
                          [
                            0.6666666666666666,
                            "#ed7953"
                          ],
                          [
                            0.7777777777777778,
                            "#fb9f3a"
                          ],
                          [
                            0.8888888888888888,
                            "#fdca26"
                          ],
                          [
                            1,
                            "#f0f921"
                          ]
                        ],
                        "type": "heatmap"
                      }
                    ],
                    "histogram": [
                      {
                        "marker": {
                          "pattern": {
                            "fillmode": "overlay",
                            "size": 10,
                            "solidity": 0.2
                          }
                        },
                        "type": "histogram"
                      }
                    ],
                    "histogram2d": [
                      {
                        "colorbar": {
                          "outlinewidth": 0,
                          "ticks": ""
                        },
                        "colorscale": [
                          [
                            0,
                            "#0d0887"
                          ],
                          [
                            0.1111111111111111,
                            "#46039f"
                          ],
                          [
                            0.2222222222222222,
                            "#7201a8"
                          ],
                          [
                            0.3333333333333333,
                            "#9c179e"
                          ],
                          [
                            0.4444444444444444,
                            "#bd3786"
                          ],
                          [
                            0.5555555555555556,
                            "#d8576b"
                          ],
                          [
                            0.6666666666666666,
                            "#ed7953"
                          ],
                          [
                            0.7777777777777778,
                            "#fb9f3a"
                          ],
                          [
                            0.8888888888888888,
                            "#fdca26"
                          ],
                          [
                            1,
                            "#f0f921"
                          ]
                        ],
                        "type": "histogram2d"
                      }
                    ],
                    "histogram2dcontour": [
                      {
                        "colorbar": {
                          "outlinewidth": 0,
                          "ticks": ""
                        },
                        "colorscale": [
                          [
                            0,
                            "#0d0887"
                          ],
                          [
                            0.1111111111111111,
                            "#46039f"
                          ],
                          [
                            0.2222222222222222,
                            "#7201a8"
                          ],
                          [
                            0.3333333333333333,
                            "#9c179e"
                          ],
                          [
                            0.4444444444444444,
                            "#bd3786"
                          ],
                          [
                            0.5555555555555556,
                            "#d8576b"
                          ],
                          [
                            0.6666666666666666,
                            "#ed7953"
                          ],
                          [
                            0.7777777777777778,
                            "#fb9f3a"
                          ],
                          [
                            0.8888888888888888,
                            "#fdca26"
                          ],
                          [
                            1,
                            "#f0f921"
                          ]
                        ],
                        "type": "histogram2dcontour"
                      }
                    ],
                    "mesh3d": [
                      {
                        "colorbar": {
                          "outlinewidth": 0,
                          "ticks": ""
                        },
                        "type": "mesh3d"
                      }
                    ],
                    "parcoords": [
                      {
                        "line": {
                          "colorbar": {
                            "outlinewidth": 0,
                            "ticks": ""
                          }
                        },
                        "type": "parcoords"
                      }
                    ],
                    "pie": [
                      {
                        "automargin": true,
                        "type": "pie"
                      }
                    ],
                    "scatter": [
                      {
                        "marker": {
                          "line": {
                            "color": "#283442"
                          }
                        },
                        "type": "scatter"
                      }
                    ],
                    "scatter3d": [
                      {
                        "line": {
                          "colorbar": {
                            "outlinewidth": 0,
                            "ticks": ""
                          }
                        },
                        "marker": {
                          "colorbar": {
                            "outlinewidth": 0,
                            "ticks": ""
                          }
                        },
                        "type": "scatter3d"
                      }
                    ],
                    "scattercarpet": [
                      {
                        "marker": {
                          "colorbar": {
                            "outlinewidth": 0,
                            "ticks": ""
                          }
                        },
                        "type": "scattercarpet"
                      }
                    ],
                    "scattergeo": [
                      {
                        "marker": {
                          "colorbar": {
                            "outlinewidth": 0,
                            "ticks": ""
                          }
                        },
                        "type": "scattergeo"
                      }
                    ],
                    "scattergl": [
                      {
                        "marker": {
                          "line": {
                            "color": "#283442"
                          }
                        },
                        "type": "scattergl"
                      }
                    ],
                    "scattermap": [
                      {
                        "marker": {
                          "colorbar": {
                            "outlinewidth": 0,
                            "ticks": ""
                          }
                        },
                        "type": "scattermap"
                      }
                    ],
                    "scattermapbox": [
                      {
                        "marker": {
                          "colorbar": {
                            "outlinewidth": 0,
                            "ticks": ""
                          }
                        },
                        "type": "scattermapbox"
                      }
                    ],
                    "scatterpolar": [
                      {
                        "marker": {
                          "colorbar": {
                            "outlinewidth": 0,
                            "ticks": ""
                          }
                        },
                        "type": "scatterpolar"
                      }
                    ],
                    "scatterpolargl": [
                      {
                        "marker": {
                          "colorbar": {
                            "outlinewidth": 0,
                            "ticks": ""
                          }
                        },
                        "type": "scatterpolargl"
                      }
                    ],
                    "scatterternary": [
                      {
                        "marker": {
                          "colorbar": {
                            "outlinewidth": 0,
                            "ticks": ""
                          }
                        },
                        "type": "scatterternary"
                      }
                    ],
                    "surface": [
                      {
                        "colorbar": {
                          "outlinewidth": 0,
                          "ticks": ""
                        },
                        "colorscale": [
                          [
                            0,
                            "#0d0887"
                          ],
                          [
                            0.1111111111111111,
                            "#46039f"
                          ],
                          [
                            0.2222222222222222,
                            "#7201a8"
                          ],
                          [
                            0.3333333333333333,
                            "#9c179e"
                          ],
                          [
                            0.4444444444444444,
                            "#bd3786"
                          ],
                          [
                            0.5555555555555556,
                            "#d8576b"
                          ],
                          [
                            0.6666666666666666,
                            "#ed7953"
                          ],
                          [
                            0.7777777777777778,
                            "#fb9f3a"
                          ],
                          [
                            0.8888888888888888,
                            "#fdca26"
                          ],
                          [
                            1,
                            "#f0f921"
                          ]
                        ],
                        "type": "surface"
                      }
                    ],
                    "table": [
                      {
                        "cells": {
                          "fill": {
                            "color": "#506784"
                          },
                          "line": {
                            "color": "rgb(17,17,17)"
                          }
                        },
                        "header": {
                          "fill": {
                            "color": "#2a3f5f"
                          },
                          "line": {
                            "color": "rgb(17,17,17)"
                          }
                        },
                        "type": "table"
                      }
                    ]
                  },
                  "layout": {
                    "annotationdefaults": {
                      "arrowcolor": "#f2f5fa",
                      "arrowhead": 0,
                      "arrowwidth": 1
                    },
                    "autotypenumbers": "strict",
                    "coloraxis": {
                      "colorbar": {
                        "outlinewidth": 0,
                        "ticks": ""
                      }
                    },
                    "colorscale": {
                      "diverging": [
                        [
                          0,
                          "#8e0152"
                        ],
                        [
                          0.1,
                          "#c51b7d"
                        ],
                        [
                          0.2,
                          "#de77ae"
                        ],
                        [
                          0.3,
                          "#f1b6da"
                        ],
                        [
                          0.4,
                          "#fde0ef"
                        ],
                        [
                          0.5,
                          "#f7f7f7"
                        ],
                        [
                          0.6,
                          "#e6f5d0"
                        ],
                        [
                          0.7,
                          "#b8e186"
                        ],
                        [
                          0.8,
                          "#7fbc41"
                        ],
                        [
                          0.9,
                          "#4d9221"
                        ],
                        [
                          1,
                          "#276419"
                        ]
                      ],
                      "sequential": [
                        [
                          0,
                          "#0d0887"
                        ],
                        [
                          0.1111111111111111,
                          "#46039f"
                        ],
                        [
                          0.2222222222222222,
                          "#7201a8"
                        ],
                        [
                          0.3333333333333333,
                          "#9c179e"
                        ],
                        [
                          0.4444444444444444,
                          "#bd3786"
                        ],
                        [
                          0.5555555555555556,
                          "#d8576b"
                        ],
                        [
                          0.6666666666666666,
                          "#ed7953"
                        ],
                        [
                          0.7777777777777778,
                          "#fb9f3a"
                        ],
                        [
                          0.8888888888888888,
                          "#fdca26"
                        ],
                        [
                          1,
                          "#f0f921"
                        ]
                      ],
                      "sequentialminus": [
                        [
                          0,
                          "#0d0887"
                        ],
                        [
                          0.1111111111111111,
                          "#46039f"
                        ],
                        [
                          0.2222222222222222,
                          "#7201a8"
                        ],
                        [
                          0.3333333333333333,
                          "#9c179e"
                        ],
                        [
                          0.4444444444444444,
                          "#bd3786"
                        ],
                        [
                          0.5555555555555556,
                          "#d8576b"
                        ],
                        [
                          0.6666666666666666,
                          "#ed7953"
                        ],
                        [
                          0.7777777777777778,
                          "#fb9f3a"
                        ],
                        [
                          0.8888888888888888,
                          "#fdca26"
                        ],
                        [
                          1,
                          "#f0f921"
                        ]
                      ]
                    },
                    "colorway": [
                      "#636efa",
                      "#EF553B",
                      "#00cc96",
                      "#ab63fa",
                      "#FFA15A",
                      "#19d3f3",
                      "#FF6692",
                      "#B6E880",
                      "#FF97FF",
                      "#FECB52"
                    ],
                    "font": {
                      "color": "#f2f5fa"
                    },
                    "geo": {
                      "bgcolor": "rgb(17,17,17)",
                      "lakecolor": "rgb(17,17,17)",
                      "landcolor": "rgb(17,17,17)",
                      "showlakes": true,
                      "showland": true,
                      "subunitcolor": "#506784"
                    },
                    "hoverlabel": {
                      "align": "left"
                    },
                    "hovermode": "closest",
                    "mapbox": {
                      "style": "dark"
                    },
                    "paper_bgcolor": "rgb(17,17,17)",
                    "plot_bgcolor": "rgb(17,17,17)",
                    "polar": {
                      "angularaxis": {
                        "gridcolor": "#506784",
                        "linecolor": "#506784",
                        "ticks": ""
                      },
                      "bgcolor": "rgb(17,17,17)",
                      "radialaxis": {
                        "gridcolor": "#506784",
                        "linecolor": "#506784",
                        "ticks": ""
                      }
                    },
                    "scene": {
                      "xaxis": {
                        "backgroundcolor": "rgb(17,17,17)",
                        "gridcolor": "#506784",
                        "gridwidth": 2,
                        "linecolor": "#506784",
                        "showbackground": true,
                        "ticks": "",
                        "zerolinecolor": "#C8D4E3"
                      },
                      "yaxis": {
                        "backgroundcolor": "rgb(17,17,17)",
                        "gridcolor": "#506784",
                        "gridwidth": 2,
                        "linecolor": "#506784",
                        "showbackground": true,
                        "ticks": "",
                        "zerolinecolor": "#C8D4E3"
                      },
                      "zaxis": {
                        "backgroundcolor": "rgb(17,17,17)",
                        "gridcolor": "#506784",
                        "gridwidth": 2,
                        "linecolor": "#506784",
                        "showbackground": true,
                        "ticks": "",
                        "zerolinecolor": "#C8D4E3"
                      }
                    },
                    "shapedefaults": {
                      "line": {
                        "color": "#f2f5fa"
                      }
                    },
                    "sliderdefaults": {
                      "bgcolor": "#C8D4E3",
                      "bordercolor": "rgb(17,17,17)",
                      "borderwidth": 1,
                      "tickwidth": 0
                    },
                    "ternary": {
                      "aaxis": {
                        "gridcolor": "#506784",
                        "linecolor": "#506784",
                        "ticks": ""
                      },
                      "baxis": {
                        "gridcolor": "#506784",
                        "linecolor": "#506784",
                        "ticks": ""
                      },
                      "bgcolor": "rgb(17,17,17)",
                      "caxis": {
                        "gridcolor": "#506784",
                        "linecolor": "#506784",
                        "ticks": ""
                      }
                    },
                    "title": {
                      "x": 0.05
                    },
                    "updatemenudefaults": {
                      "bgcolor": "#506784",
                      "borderwidth": 0
                    },
                    "xaxis": {
                      "automargin": true,
                      "gridcolor": "#283442",
                      "linecolor": "#506784",
                      "ticks": "",
                      "title": {
                        "standoff": 15
                      },
                      "zerolinecolor": "#283442",
                      "zerolinewidth": 2
                    },
                    "yaxis": {
                      "automargin": true,
                      "gridcolor": "#283442",
                      "linecolor": "#506784",
                      "ticks": "",
                      "title": {
                        "standoff": 15
                      },
                      "zerolinecolor": "#283442",
                      "zerolinewidth": 2
                    }
                  }
                },
                "title": {
                  "text": "<b>Trigrams Heatmap<br><sup>&nbsp;&nbsp;&nbsp;&nbsp;<i>Train - Summary</i></sup></b>",
                  "x": 0.025,
                  "xanchor": "left",
                  "y": 0.95
                },
                "width": 800,
                "xaxis": {
                  "dtick": 1,
                  "gridcolor": "rgb(0, 0, 0)",
                  "showgrid": false,
                  "side": "top",
                  "ticks": ""
                },
                "yaxis": {
                  "autorange": "reversed",
                  "dtick": 1,
                  "showgrid": false,
                  "ticks": "",
                  "ticksuffix": "  "
                }
              }
            }
          },
          "metadata": {},
          "output_type": "display_data"
        }
      ],
      "source": [
        "vectorize_and_plot(train['text'], (2, 2), 'Trigrams', 'Train - Summary')"
      ]
    },
    {
      "cell_type": "code",
      "execution_count": 17,
      "metadata": {
        "colab": {
          "base_uri": "https://localhost:8080/",
          "height": 1000
        },
        "id": "w2-9Fn02hoO6",
        "outputId": "be3ea2db-dc68-48c6-930e-6645088313bc"
      },
      "outputs": [
        {
          "data": {
            "application/vnd.plotly.v1+json": {
              "config": {
                "plotlyServerURL": "https://plot.ly"
              },
              "data": [
                {
                  "fill": "tozeroy",
                  "line": {
                    "color": "#89c2e0"
                  },
                  "mode": "lines",
                  "name": "Density",
                  "type": "scatter",
                  "x": {
                    "bdata": "AAAAAAAAZkAEG70rMr9nQAg2eldkfmlADFE3g5Y9a0AQbPSuyPxsQBSHsdr6u25ADFE3g5Y9cECO3hWZLx1xQBBs9K7I/HFAkvnSxGHcckAUh7Ha+rtzQJYUkPCTm3RAF6JuBi17dUCZL00cxlp2QBu9KzJfOndAnUoKSPgZeEAf2Ohdkfl4QKFlx3Mq2XlAI/OlicO4ekClgISfXJh7QCcOY7X1d3xAqZtBy45XfUArKSDhJzd+QK22/vbAFn9ALkTdDFr2f0DY6F2R+WqAQJkvTRzG2oBAWnY8p5JKgUAbvSsyX7qBQNwDG70rKoJAnUoKSPiZgkBekfnSxAmDQB/Y6F2ReYNA4B7Y6F3pg0ChZcdzKlmEQGKstv72yIRAI/OlicM4hUDkOZUUkKiFQKWAhJ9cGIZAZsdzKimIhkAnDmO19feGQOhUUkDCZ4dAqZtBy47Xh0Bq4jBWW0eIQCspIOEnt4hA7G8PbPQmiUCttv72wJaJQG797YGNBopALkTdDFp2ikDvisyXJuaKQLDRuyLzVYtAcRirrb/Fi0AyX5o4jDWMQPOlicNYpYxAtOx4TiUVjUB1M2jZ8YSNQDZ6V2S+9I1A98BG74pkjkC4BzZ6V9SOQHlOJQUkRI9AOpUUkPCzj0D+7YGN3hGQQF6R+dLESZBAvjRxGKuBkEAf2OhdkbmQQIB7YKN38ZBA4B7Y6F0pkUBAwk8uRGGRQKFlx3MqmZFAAgk/uRDRkUBirLb+9giSQMJPLkTdQJJAI/OlicN4kkCElh3PqbCSQOQ5lRSQ6JJARN0MWnYgk0ClgISfXFiTQAUk/ORCkJNAZsdzKinIk0DGautvDwCUQCcOY7X1N5RAh7Ha+ttvlEDoVFJAwqeUQEj4yYWo35RAqZtBy44XlUAJP7kQdU+VQGriMFZbh5VAyoWom0G/lUArKSDhJ/eVQIvMlyYOL5ZA7G8PbPRmlkBME4ex2p6WQK22/vbA1pZADVp2PKcOl0Bu/e2BjUaXQM6gZcdzfpdALkTdDFq2l0CP51RSQO6XQO+KzJcmJphAUC5E3QxemECw0bsi85WYQBF1M2jZzZhAcRirrb8FmUDSuyLzpT2ZQDJfmjiMdZlAkwISfnKtmUDzpYnDWOWZQFRJAQk/HZpAtOx4TiVVmkAVkPCTC42aQHUzaNnxxJpA1tbfHtj8mkA2eldkvjSbQJcdz6mkbJtA98BG74qkm0BYZL40cdybQLgHNnpXFJxAGautvz1MnEB5TiUFJIScQNrxnEoKvJxAOpUUkPDznECbOIzV1iudQPvbAxu9Y51AXH97YKObnUC8IvOlidOdQB3GautvC55AfWniMFZDnkDeDFp2PHueQD6w0bsis55AnlNJAQnrnkD/9sBG7yKfQF+aOIzVWp9AwD2w0buSn0Ag4ScXosqfQEDCTy5EAaBA8JMLUTcdoEChZcdzKjmgQFE3g5YdVaBAAgk/uRBxoECy2vrbA42gQGKstv72qKBAEn5yIerEoEDCTy5E3eCgQHIh6mbQ/KBAI/OlicMYoUDTxGGstjShQISWHc+pUKFANGjZ8ZxsoUDkOZUUkIihQJQLUTeDpKFARN0MWnbAoUD1rsh8adyhQKWAhJ9c+KFAVVJAwk8UokAFJPzkQjCiQLb1twc2TKJAZsdzKilookAWmS9NHISiQMZq628PoKJAdzynkgK8okAnDmO19deiQNffHtjo86JAh7Ha+tsPo0A3g5YdzyujQOhUUkDCR6NAmCYOY7Vjo0BI+MmFqH+jQPjJhaibm6NAqZtBy463o0BZbf3tgdOjQAk/uRB176NAuRB1M2gLpEBq4jBWWyekQBq07HhOQ6RAyoWom0FfpEB6V2S+NHukQCspIOEnl6RA2/rbAxuzpECLzJcmDs+kQDueU0kB66RA7G8PbPQGpUCcQcuO5yKlQEwTh7HaPqVA/ORC1M1apUCttv72wHalQF2Iuhm0kqVADVp2PKeupUC9KzJfmsqlQG797YGN5qVAHs+ppIACpkDOoGXHcx6mQH5yIepmOqZALkTdDFpWpkDfFZkvTXKmQI/nVFJAjqZAP7kQdTOqpkDvisyXJsamQKBciLoZ4qZAUC5E3Qz+pkAAAAAAABqnQA==",
                    "dtype": "f8"
                  },
                  "xaxis": "x2",
                  "y": {
                    "bdata": "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",
                    "dtype": "f8"
                  },
                  "yaxis": "y2"
                },
                {
                  "boxmean": true,
                  "line": {
                    "color": "#d500ff"
                  },
                  "name": "Box Plot",
                  "type": "box",
                  "xaxis": "x",
                  "y": {
                    "bdata": "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",
                    "dtype": "i2"
                  },
                  "yaxis": "y"
                }
              ],
              "layout": {
                "annotations": [
                  {
                    "font": {
                      "size": 16
                    },
                    "showarrow": false,
                    "text": "Box Plot",
                    "x": 0.2,
                    "xanchor": "center",
                    "xref": "paper",
                    "y": 1,
                    "yanchor": "bottom",
                    "yref": "paper"
                  },
                  {
                    "font": {
                      "size": 16
                    },
                    "showarrow": false,
                    "text": "Histogram",
                    "x": 0.8,
                    "xanchor": "center",
                    "xref": "paper",
                    "y": 1,
                    "yanchor": "bottom",
                    "yref": "paper"
                  }
                ],
                "height": 600,
                "margin": {
                  "t": 100
                },
                "showlegend": true,
                "template": {
                  "data": {
                    "bar": [
                      {
                        "error_x": {
                          "color": "#f2f5fa"
                        },
                        "error_y": {
                          "color": "#f2f5fa"
                        },
                        "marker": {
                          "line": {
                            "color": "rgb(17,17,17)",
                            "width": 0.5
                          },
                          "pattern": {
                            "fillmode": "overlay",
                            "size": 10,
                            "solidity": 0.2
                          }
                        },
                        "type": "bar"
                      }
                    ],
                    "barpolar": [
                      {
                        "marker": {
                          "line": {
                            "color": "rgb(17,17,17)",
                            "width": 0.5
                          },
                          "pattern": {
                            "fillmode": "overlay",
                            "size": 10,
                            "solidity": 0.2
                          }
                        },
                        "type": "barpolar"
                      }
                    ],
                    "carpet": [
                      {
                        "aaxis": {
                          "endlinecolor": "#A2B1C6",
                          "gridcolor": "#506784",
                          "linecolor": "#506784",
                          "minorgridcolor": "#506784",
                          "startlinecolor": "#A2B1C6"
                        },
                        "baxis": {
                          "endlinecolor": "#A2B1C6",
                          "gridcolor": "#506784",
                          "linecolor": "#506784",
                          "minorgridcolor": "#506784",
                          "startlinecolor": "#A2B1C6"
                        },
                        "type": "carpet"
                      }
                    ],
                    "choropleth": [
                      {
                        "colorbar": {
                          "outlinewidth": 0,
                          "ticks": ""
                        },
                        "type": "choropleth"
                      }
                    ],
                    "contour": [
                      {
                        "colorbar": {
                          "outlinewidth": 0,
                          "ticks": ""
                        },
                        "colorscale": [
                          [
                            0,
                            "#0d0887"
                          ],
                          [
                            0.1111111111111111,
                            "#46039f"
                          ],
                          [
                            0.2222222222222222,
                            "#7201a8"
                          ],
                          [
                            0.3333333333333333,
                            "#9c179e"
                          ],
                          [
                            0.4444444444444444,
                            "#bd3786"
                          ],
                          [
                            0.5555555555555556,
                            "#d8576b"
                          ],
                          [
                            0.6666666666666666,
                            "#ed7953"
                          ],
                          [
                            0.7777777777777778,
                            "#fb9f3a"
                          ],
                          [
                            0.8888888888888888,
                            "#fdca26"
                          ],
                          [
                            1,
                            "#f0f921"
                          ]
                        ],
                        "type": "contour"
                      }
                    ],
                    "contourcarpet": [
                      {
                        "colorbar": {
                          "outlinewidth": 0,
                          "ticks": ""
                        },
                        "type": "contourcarpet"
                      }
                    ],
                    "heatmap": [
                      {
                        "colorbar": {
                          "outlinewidth": 0,
                          "ticks": ""
                        },
                        "colorscale": [
                          [
                            0,
                            "#0d0887"
                          ],
                          [
                            0.1111111111111111,
                            "#46039f"
                          ],
                          [
                            0.2222222222222222,
                            "#7201a8"
                          ],
                          [
                            0.3333333333333333,
                            "#9c179e"
                          ],
                          [
                            0.4444444444444444,
                            "#bd3786"
                          ],
                          [
                            0.5555555555555556,
                            "#d8576b"
                          ],
                          [
                            0.6666666666666666,
                            "#ed7953"
                          ],
                          [
                            0.7777777777777778,
                            "#fb9f3a"
                          ],
                          [
                            0.8888888888888888,
                            "#fdca26"
                          ],
                          [
                            1,
                            "#f0f921"
                          ]
                        ],
                        "type": "heatmap"
                      }
                    ],
                    "histogram": [
                      {
                        "marker": {
                          "pattern": {
                            "fillmode": "overlay",
                            "size": 10,
                            "solidity": 0.2
                          }
                        },
                        "type": "histogram"
                      }
                    ],
                    "histogram2d": [
                      {
                        "colorbar": {
                          "outlinewidth": 0,
                          "ticks": ""
                        },
                        "colorscale": [
                          [
                            0,
                            "#0d0887"
                          ],
                          [
                            0.1111111111111111,
                            "#46039f"
                          ],
                          [
                            0.2222222222222222,
                            "#7201a8"
                          ],
                          [
                            0.3333333333333333,
                            "#9c179e"
                          ],
                          [
                            0.4444444444444444,
                            "#bd3786"
                          ],
                          [
                            0.5555555555555556,
                            "#d8576b"
                          ],
                          [
                            0.6666666666666666,
                            "#ed7953"
                          ],
                          [
                            0.7777777777777778,
                            "#fb9f3a"
                          ],
                          [
                            0.8888888888888888,
                            "#fdca26"
                          ],
                          [
                            1,
                            "#f0f921"
                          ]
                        ],
                        "type": "histogram2d"
                      }
                    ],
                    "histogram2dcontour": [
                      {
                        "colorbar": {
                          "outlinewidth": 0,
                          "ticks": ""
                        },
                        "colorscale": [
                          [
                            0,
                            "#0d0887"
                          ],
                          [
                            0.1111111111111111,
                            "#46039f"
                          ],
                          [
                            0.2222222222222222,
                            "#7201a8"
                          ],
                          [
                            0.3333333333333333,
                            "#9c179e"
                          ],
                          [
                            0.4444444444444444,
                            "#bd3786"
                          ],
                          [
                            0.5555555555555556,
                            "#d8576b"
                          ],
                          [
                            0.6666666666666666,
                            "#ed7953"
                          ],
                          [
                            0.7777777777777778,
                            "#fb9f3a"
                          ],
                          [
                            0.8888888888888888,
                            "#fdca26"
                          ],
                          [
                            1,
                            "#f0f921"
                          ]
                        ],
                        "type": "histogram2dcontour"
                      }
                    ],
                    "mesh3d": [
                      {
                        "colorbar": {
                          "outlinewidth": 0,
                          "ticks": ""
                        },
                        "type": "mesh3d"
                      }
                    ],
                    "parcoords": [
                      {
                        "line": {
                          "colorbar": {
                            "outlinewidth": 0,
                            "ticks": ""
                          }
                        },
                        "type": "parcoords"
                      }
                    ],
                    "pie": [
                      {
                        "automargin": true,
                        "type": "pie"
                      }
                    ],
                    "scatter": [
                      {
                        "marker": {
                          "line": {
                            "color": "#283442"
                          }
                        },
                        "type": "scatter"
                      }
                    ],
                    "scatter3d": [
                      {
                        "line": {
                          "colorbar": {
                            "outlinewidth": 0,
                            "ticks": ""
                          }
                        },
                        "marker": {
                          "colorbar": {
                            "outlinewidth": 0,
                            "ticks": ""
                          }
                        },
                        "type": "scatter3d"
                      }
                    ],
                    "scattercarpet": [
                      {
                        "marker": {
                          "colorbar": {
                            "outlinewidth": 0,
                            "ticks": ""
                          }
                        },
                        "type": "scattercarpet"
                      }
                    ],
                    "scattergeo": [
                      {
                        "marker": {
                          "colorbar": {
                            "outlinewidth": 0,
                            "ticks": ""
                          }
                        },
                        "type": "scattergeo"
                      }
                    ],
                    "scattergl": [
                      {
                        "marker": {
                          "line": {
                            "color": "#283442"
                          }
                        },
                        "type": "scattergl"
                      }
                    ],
                    "scattermap": [
                      {
                        "marker": {
                          "colorbar": {
                            "outlinewidth": 0,
                            "ticks": ""
                          }
                        },
                        "type": "scattermap"
                      }
                    ],
                    "scattermapbox": [
                      {
                        "marker": {
                          "colorbar": {
                            "outlinewidth": 0,
                            "ticks": ""
                          }
                        },
                        "type": "scattermapbox"
                      }
                    ],
                    "scatterpolar": [
                      {
                        "marker": {
                          "colorbar": {
                            "outlinewidth": 0,
                            "ticks": ""
                          }
                        },
                        "type": "scatterpolar"
                      }
                    ],
                    "scatterpolargl": [
                      {
                        "marker": {
                          "colorbar": {
                            "outlinewidth": 0,
                            "ticks": ""
                          }
                        },
                        "type": "scatterpolargl"
                      }
                    ],
                    "scatterternary": [
                      {
                        "marker": {
                          "colorbar": {
                            "outlinewidth": 0,
                            "ticks": ""
                          }
                        },
                        "type": "scatterternary"
                      }
                    ],
                    "surface": [
                      {
                        "colorbar": {
                          "outlinewidth": 0,
                          "ticks": ""
                        },
                        "colorscale": [
                          [
                            0,
                            "#0d0887"
                          ],
                          [
                            0.1111111111111111,
                            "#46039f"
                          ],
                          [
                            0.2222222222222222,
                            "#7201a8"
                          ],
                          [
                            0.3333333333333333,
                            "#9c179e"
                          ],
                          [
                            0.4444444444444444,
                            "#bd3786"
                          ],
                          [
                            0.5555555555555556,
                            "#d8576b"
                          ],
                          [
                            0.6666666666666666,
                            "#ed7953"
                          ],
                          [
                            0.7777777777777778,
                            "#fb9f3a"
                          ],
                          [
                            0.8888888888888888,
                            "#fdca26"
                          ],
                          [
                            1,
                            "#f0f921"
                          ]
                        ],
                        "type": "surface"
                      }
                    ],
                    "table": [
                      {
                        "cells": {
                          "fill": {
                            "color": "#506784"
                          },
                          "line": {
                            "color": "rgb(17,17,17)"
                          }
                        },
                        "header": {
                          "fill": {
                            "color": "#2a3f5f"
                          },
                          "line": {
                            "color": "rgb(17,17,17)"
                          }
                        },
                        "type": "table"
                      }
                    ]
                  },
                  "layout": {
                    "annotationdefaults": {
                      "arrowcolor": "#f2f5fa",
                      "arrowhead": 0,
                      "arrowwidth": 1
                    },
                    "autotypenumbers": "strict",
                    "coloraxis": {
                      "colorbar": {
                        "outlinewidth": 0,
                        "ticks": ""
                      }
                    },
                    "colorscale": {
                      "diverging": [
                        [
                          0,
                          "#8e0152"
                        ],
                        [
                          0.1,
                          "#c51b7d"
                        ],
                        [
                          0.2,
                          "#de77ae"
                        ],
                        [
                          0.3,
                          "#f1b6da"
                        ],
                        [
                          0.4,
                          "#fde0ef"
                        ],
                        [
                          0.5,
                          "#f7f7f7"
                        ],
                        [
                          0.6,
                          "#e6f5d0"
                        ],
                        [
                          0.7,
                          "#b8e186"
                        ],
                        [
                          0.8,
                          "#7fbc41"
                        ],
                        [
                          0.9,
                          "#4d9221"
                        ],
                        [
                          1,
                          "#276419"
                        ]
                      ],
                      "sequential": [
                        [
                          0,
                          "#0d0887"
                        ],
                        [
                          0.1111111111111111,
                          "#46039f"
                        ],
                        [
                          0.2222222222222222,
                          "#7201a8"
                        ],
                        [
                          0.3333333333333333,
                          "#9c179e"
                        ],
                        [
                          0.4444444444444444,
                          "#bd3786"
                        ],
                        [
                          0.5555555555555556,
                          "#d8576b"
                        ],
                        [
                          0.6666666666666666,
                          "#ed7953"
                        ],
                        [
                          0.7777777777777778,
                          "#fb9f3a"
                        ],
                        [
                          0.8888888888888888,
                          "#fdca26"
                        ],
                        [
                          1,
                          "#f0f921"
                        ]
                      ],
                      "sequentialminus": [
                        [
                          0,
                          "#0d0887"
                        ],
                        [
                          0.1111111111111111,
                          "#46039f"
                        ],
                        [
                          0.2222222222222222,
                          "#7201a8"
                        ],
                        [
                          0.3333333333333333,
                          "#9c179e"
                        ],
                        [
                          0.4444444444444444,
                          "#bd3786"
                        ],
                        [
                          0.5555555555555556,
                          "#d8576b"
                        ],
                        [
                          0.6666666666666666,
                          "#ed7953"
                        ],
                        [
                          0.7777777777777778,
                          "#fb9f3a"
                        ],
                        [
                          0.8888888888888888,
                          "#fdca26"
                        ],
                        [
                          1,
                          "#f0f921"
                        ]
                      ]
                    },
                    "colorway": [
                      "#636efa",
                      "#EF553B",
                      "#00cc96",
                      "#ab63fa",
                      "#FFA15A",
                      "#19d3f3",
                      "#FF6692",
                      "#B6E880",
                      "#FF97FF",
                      "#FECB52"
                    ],
                    "font": {
                      "color": "#f2f5fa"
                    },
                    "geo": {
                      "bgcolor": "rgb(17,17,17)",
                      "lakecolor": "rgb(17,17,17)",
                      "landcolor": "rgb(17,17,17)",
                      "showlakes": true,
                      "showland": true,
                      "subunitcolor": "#506784"
                    },
                    "hoverlabel": {
                      "align": "left"
                    },
                    "hovermode": "closest",
                    "mapbox": {
                      "style": "dark"
                    },
                    "paper_bgcolor": "rgb(17,17,17)",
                    "plot_bgcolor": "rgb(17,17,17)",
                    "polar": {
                      "angularaxis": {
                        "gridcolor": "#506784",
                        "linecolor": "#506784",
                        "ticks": ""
                      },
                      "bgcolor": "rgb(17,17,17)",
                      "radialaxis": {
                        "gridcolor": "#506784",
                        "linecolor": "#506784",
                        "ticks": ""
                      }
                    },
                    "scene": {
                      "xaxis": {
                        "backgroundcolor": "rgb(17,17,17)",
                        "gridcolor": "#506784",
                        "gridwidth": 2,
                        "linecolor": "#506784",
                        "showbackground": true,
                        "ticks": "",
                        "zerolinecolor": "#C8D4E3"
                      },
                      "yaxis": {
                        "backgroundcolor": "rgb(17,17,17)",
                        "gridcolor": "#506784",
                        "gridwidth": 2,
                        "linecolor": "#506784",
                        "showbackground": true,
                        "ticks": "",
                        "zerolinecolor": "#C8D4E3"
                      },
                      "zaxis": {
                        "backgroundcolor": "rgb(17,17,17)",
                        "gridcolor": "#506784",
                        "gridwidth": 2,
                        "linecolor": "#506784",
                        "showbackground": true,
                        "ticks": "",
                        "zerolinecolor": "#C8D4E3"
                      }
                    },
                    "shapedefaults": {
                      "line": {
                        "color": "#f2f5fa"
                      }
                    },
                    "sliderdefaults": {
                      "bgcolor": "#C8D4E3",
                      "bordercolor": "rgb(17,17,17)",
                      "borderwidth": 1,
                      "tickwidth": 0
                    },
                    "ternary": {
                      "aaxis": {
                        "gridcolor": "#506784",
                        "linecolor": "#506784",
                        "ticks": ""
                      },
                      "baxis": {
                        "gridcolor": "#506784",
                        "linecolor": "#506784",
                        "ticks": ""
                      },
                      "bgcolor": "rgb(17,17,17)",
                      "caxis": {
                        "gridcolor": "#506784",
                        "linecolor": "#506784",
                        "ticks": ""
                      }
                    },
                    "title": {
                      "x": 0.05
                    },
                    "updatemenudefaults": {
                      "bgcolor": "#506784",
                      "borderwidth": 0
                    },
                    "xaxis": {
                      "automargin": true,
                      "gridcolor": "#283442",
                      "linecolor": "#506784",
                      "ticks": "",
                      "title": {
                        "standoff": 15
                      },
                      "zerolinecolor": "#283442",
                      "zerolinewidth": 2
                    },
                    "yaxis": {
                      "automargin": true,
                      "gridcolor": "#283442",
                      "linecolor": "#506784",
                      "ticks": "",
                      "title": {
                        "standoff": 15
                      },
                      "zerolinecolor": "#283442",
                      "zerolinewidth": 2
                    }
                  }
                },
                "title": {
                  "text": "<b>Validation Dataset Word Count<br><sup><i>&nbsp;&nbsp;&nbsp;&nbsp;text</i></sup></b>",
                  "x": 0.025,
                  "xanchor": "left"
                },
                "width": 1000,
                "xaxis": {
                  "anchor": "y",
                  "domain": [
                    0,
                    0.4
                  ],
                  "showgrid": false,
                  "title": {
                    "text": ""
                  }
                },
                "xaxis2": {
                  "anchor": "y2",
                  "domain": [
                    0.6000000000000001,
                    1
                  ],
                  "showgrid": false,
                  "title": {
                    "text": "<b>Words</b>"
                  }
                },
                "yaxis": {
                  "anchor": "x",
                  "domain": [
                    0,
                    1
                  ],
                  "showgrid": false,
                  "title": {
                    "text": "<b>Words</b>"
                  }
                },
                "yaxis2": {
                  "anchor": "x2",
                  "domain": [
                    0,
                    1
                  ],
                  "showgrid": false,
                  "title": {
                    "text": "<b>Frequency</b>"
                  }
                }
              }
            }
          },
          "metadata": {},
          "output_type": "display_data"
        },
        {
          "data": {
            "application/vnd.plotly.v1+json": {
              "config": {
                "plotlyServerURL": "https://plot.ly"
              },
              "data": [
                {
                  "fill": "tozeroy",
                  "line": {
                    "color": "#89c2e0"
                  },
                  "mode": "lines",
                  "name": "Density",
                  "type": "scatter",
                  "x": {
                    "bdata": "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",
                    "dtype": "f8"
                  },
                  "xaxis": "x2",
                  "y": {
                    "bdata": "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",
                    "dtype": "f8"
                  },
                  "yaxis": "y2"
                },
                {
                  "boxmean": true,
                  "line": {
                    "color": "#d500ff"
                  },
                  "name": "Box Plot",
                  "type": "box",
                  "xaxis": "x",
                  "y": {
                    "bdata": "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",
                    "dtype": "i2"
                  },
                  "yaxis": "y"
                }
              ],
              "layout": {
                "annotations": [
                  {
                    "font": {
                      "size": 16
                    },
                    "showarrow": false,
                    "text": "Box Plot",
                    "x": 0.2,
                    "xanchor": "center",
                    "xref": "paper",
                    "y": 1,
                    "yanchor": "bottom",
                    "yref": "paper"
                  },
                  {
                    "font": {
                      "size": 16
                    },
                    "showarrow": false,
                    "text": "Histogram",
                    "x": 0.8,
                    "xanchor": "center",
                    "xref": "paper",
                    "y": 1,
                    "yanchor": "bottom",
                    "yref": "paper"
                  }
                ],
                "height": 600,
                "margin": {
                  "t": 100
                },
                "showlegend": true,
                "template": {
                  "data": {
                    "bar": [
                      {
                        "error_x": {
                          "color": "#f2f5fa"
                        },
                        "error_y": {
                          "color": "#f2f5fa"
                        },
                        "marker": {
                          "line": {
                            "color": "rgb(17,17,17)",
                            "width": 0.5
                          },
                          "pattern": {
                            "fillmode": "overlay",
                            "size": 10,
                            "solidity": 0.2
                          }
                        },
                        "type": "bar"
                      }
                    ],
                    "barpolar": [
                      {
                        "marker": {
                          "line": {
                            "color": "rgb(17,17,17)",
                            "width": 0.5
                          },
                          "pattern": {
                            "fillmode": "overlay",
                            "size": 10,
                            "solidity": 0.2
                          }
                        },
                        "type": "barpolar"
                      }
                    ],
                    "carpet": [
                      {
                        "aaxis": {
                          "endlinecolor": "#A2B1C6",
                          "gridcolor": "#506784",
                          "linecolor": "#506784",
                          "minorgridcolor": "#506784",
                          "startlinecolor": "#A2B1C6"
                        },
                        "baxis": {
                          "endlinecolor": "#A2B1C6",
                          "gridcolor": "#506784",
                          "linecolor": "#506784",
                          "minorgridcolor": "#506784",
                          "startlinecolor": "#A2B1C6"
                        },
                        "type": "carpet"
                      }
                    ],
                    "choropleth": [
                      {
                        "colorbar": {
                          "outlinewidth": 0,
                          "ticks": ""
                        },
                        "type": "choropleth"
                      }
                    ],
                    "contour": [
                      {
                        "colorbar": {
                          "outlinewidth": 0,
                          "ticks": ""
                        },
                        "colorscale": [
                          [
                            0,
                            "#0d0887"
                          ],
                          [
                            0.1111111111111111,
                            "#46039f"
                          ],
                          [
                            0.2222222222222222,
                            "#7201a8"
                          ],
                          [
                            0.3333333333333333,
                            "#9c179e"
                          ],
                          [
                            0.4444444444444444,
                            "#bd3786"
                          ],
                          [
                            0.5555555555555556,
                            "#d8576b"
                          ],
                          [
                            0.6666666666666666,
                            "#ed7953"
                          ],
                          [
                            0.7777777777777778,
                            "#fb9f3a"
                          ],
                          [
                            0.8888888888888888,
                            "#fdca26"
                          ],
                          [
                            1,
                            "#f0f921"
                          ]
                        ],
                        "type": "contour"
                      }
                    ],
                    "contourcarpet": [
                      {
                        "colorbar": {
                          "outlinewidth": 0,
                          "ticks": ""
                        },
                        "type": "contourcarpet"
                      }
                    ],
                    "heatmap": [
                      {
                        "colorbar": {
                          "outlinewidth": 0,
                          "ticks": ""
                        },
                        "colorscale": [
                          [
                            0,
                            "#0d0887"
                          ],
                          [
                            0.1111111111111111,
                            "#46039f"
                          ],
                          [
                            0.2222222222222222,
                            "#7201a8"
                          ],
                          [
                            0.3333333333333333,
                            "#9c179e"
                          ],
                          [
                            0.4444444444444444,
                            "#bd3786"
                          ],
                          [
                            0.5555555555555556,
                            "#d8576b"
                          ],
                          [
                            0.6666666666666666,
                            "#ed7953"
                          ],
                          [
                            0.7777777777777778,
                            "#fb9f3a"
                          ],
                          [
                            0.8888888888888888,
                            "#fdca26"
                          ],
                          [
                            1,
                            "#f0f921"
                          ]
                        ],
                        "type": "heatmap"
                      }
                    ],
                    "histogram": [
                      {
                        "marker": {
                          "pattern": {
                            "fillmode": "overlay",
                            "size": 10,
                            "solidity": 0.2
                          }
                        },
                        "type": "histogram"
                      }
                    ],
                    "histogram2d": [
                      {
                        "colorbar": {
                          "outlinewidth": 0,
                          "ticks": ""
                        },
                        "colorscale": [
                          [
                            0,
                            "#0d0887"
                          ],
                          [
                            0.1111111111111111,
                            "#46039f"
                          ],
                          [
                            0.2222222222222222,
                            "#7201a8"
                          ],
                          [
                            0.3333333333333333,
                            "#9c179e"
                          ],
                          [
                            0.4444444444444444,
                            "#bd3786"
                          ],
                          [
                            0.5555555555555556,
                            "#d8576b"
                          ],
                          [
                            0.6666666666666666,
                            "#ed7953"
                          ],
                          [
                            0.7777777777777778,
                            "#fb9f3a"
                          ],
                          [
                            0.8888888888888888,
                            "#fdca26"
                          ],
                          [
                            1,
                            "#f0f921"
                          ]
                        ],
                        "type": "histogram2d"
                      }
                    ],
                    "histogram2dcontour": [
                      {
                        "colorbar": {
                          "outlinewidth": 0,
                          "ticks": ""
                        },
                        "colorscale": [
                          [
                            0,
                            "#0d0887"
                          ],
                          [
                            0.1111111111111111,
                            "#46039f"
                          ],
                          [
                            0.2222222222222222,
                            "#7201a8"
                          ],
                          [
                            0.3333333333333333,
                            "#9c179e"
                          ],
                          [
                            0.4444444444444444,
                            "#bd3786"
                          ],
                          [
                            0.5555555555555556,
                            "#d8576b"
                          ],
                          [
                            0.6666666666666666,
                            "#ed7953"
                          ],
                          [
                            0.7777777777777778,
                            "#fb9f3a"
                          ],
                          [
                            0.8888888888888888,
                            "#fdca26"
                          ],
                          [
                            1,
                            "#f0f921"
                          ]
                        ],
                        "type": "histogram2dcontour"
                      }
                    ],
                    "mesh3d": [
                      {
                        "colorbar": {
                          "outlinewidth": 0,
                          "ticks": ""
                        },
                        "type": "mesh3d"
                      }
                    ],
                    "parcoords": [
                      {
                        "line": {
                          "colorbar": {
                            "outlinewidth": 0,
                            "ticks": ""
                          }
                        },
                        "type": "parcoords"
                      }
                    ],
                    "pie": [
                      {
                        "automargin": true,
                        "type": "pie"
                      }
                    ],
                    "scatter": [
                      {
                        "marker": {
                          "line": {
                            "color": "#283442"
                          }
                        },
                        "type": "scatter"
                      }
                    ],
                    "scatter3d": [
                      {
                        "line": {
                          "colorbar": {
                            "outlinewidth": 0,
                            "ticks": ""
                          }
                        },
                        "marker": {
                          "colorbar": {
                            "outlinewidth": 0,
                            "ticks": ""
                          }
                        },
                        "type": "scatter3d"
                      }
                    ],
                    "scattercarpet": [
                      {
                        "marker": {
                          "colorbar": {
                            "outlinewidth": 0,
                            "ticks": ""
                          }
                        },
                        "type": "scattercarpet"
                      }
                    ],
                    "scattergeo": [
                      {
                        "marker": {
                          "colorbar": {
                            "outlinewidth": 0,
                            "ticks": ""
                          }
                        },
                        "type": "scattergeo"
                      }
                    ],
                    "scattergl": [
                      {
                        "marker": {
                          "line": {
                            "color": "#283442"
                          }
                        },
                        "type": "scattergl"
                      }
                    ],
                    "scattermap": [
                      {
                        "marker": {
                          "colorbar": {
                            "outlinewidth": 0,
                            "ticks": ""
                          }
                        },
                        "type": "scattermap"
                      }
                    ],
                    "scattermapbox": [
                      {
                        "marker": {
                          "colorbar": {
                            "outlinewidth": 0,
                            "ticks": ""
                          }
                        },
                        "type": "scattermapbox"
                      }
                    ],
                    "scatterpolar": [
                      {
                        "marker": {
                          "colorbar": {
                            "outlinewidth": 0,
                            "ticks": ""
                          }
                        },
                        "type": "scatterpolar"
                      }
                    ],
                    "scatterpolargl": [
                      {
                        "marker": {
                          "colorbar": {
                            "outlinewidth": 0,
                            "ticks": ""
                          }
                        },
                        "type": "scatterpolargl"
                      }
                    ],
                    "scatterternary": [
                      {
                        "marker": {
                          "colorbar": {
                            "outlinewidth": 0,
                            "ticks": ""
                          }
                        },
                        "type": "scatterternary"
                      }
                    ],
                    "surface": [
                      {
                        "colorbar": {
                          "outlinewidth": 0,
                          "ticks": ""
                        },
                        "colorscale": [
                          [
                            0,
                            "#0d0887"
                          ],
                          [
                            0.1111111111111111,
                            "#46039f"
                          ],
                          [
                            0.2222222222222222,
                            "#7201a8"
                          ],
                          [
                            0.3333333333333333,
                            "#9c179e"
                          ],
                          [
                            0.4444444444444444,
                            "#bd3786"
                          ],
                          [
                            0.5555555555555556,
                            "#d8576b"
                          ],
                          [
                            0.6666666666666666,
                            "#ed7953"
                          ],
                          [
                            0.7777777777777778,
                            "#fb9f3a"
                          ],
                          [
                            0.8888888888888888,
                            "#fdca26"
                          ],
                          [
                            1,
                            "#f0f921"
                          ]
                        ],
                        "type": "surface"
                      }
                    ],
                    "table": [
                      {
                        "cells": {
                          "fill": {
                            "color": "#506784"
                          },
                          "line": {
                            "color": "rgb(17,17,17)"
                          }
                        },
                        "header": {
                          "fill": {
                            "color": "#2a3f5f"
                          },
                          "line": {
                            "color": "rgb(17,17,17)"
                          }
                        },
                        "type": "table"
                      }
                    ]
                  },
                  "layout": {
                    "annotationdefaults": {
                      "arrowcolor": "#f2f5fa",
                      "arrowhead": 0,
                      "arrowwidth": 1
                    },
                    "autotypenumbers": "strict",
                    "coloraxis": {
                      "colorbar": {
                        "outlinewidth": 0,
                        "ticks": ""
                      }
                    },
                    "colorscale": {
                      "diverging": [
                        [
                          0,
                          "#8e0152"
                        ],
                        [
                          0.1,
                          "#c51b7d"
                        ],
                        [
                          0.2,
                          "#de77ae"
                        ],
                        [
                          0.3,
                          "#f1b6da"
                        ],
                        [
                          0.4,
                          "#fde0ef"
                        ],
                        [
                          0.5,
                          "#f7f7f7"
                        ],
                        [
                          0.6,
                          "#e6f5d0"
                        ],
                        [
                          0.7,
                          "#b8e186"
                        ],
                        [
                          0.8,
                          "#7fbc41"
                        ],
                        [
                          0.9,
                          "#4d9221"
                        ],
                        [
                          1,
                          "#276419"
                        ]
                      ],
                      "sequential": [
                        [
                          0,
                          "#0d0887"
                        ],
                        [
                          0.1111111111111111,
                          "#46039f"
                        ],
                        [
                          0.2222222222222222,
                          "#7201a8"
                        ],
                        [
                          0.3333333333333333,
                          "#9c179e"
                        ],
                        [
                          0.4444444444444444,
                          "#bd3786"
                        ],
                        [
                          0.5555555555555556,
                          "#d8576b"
                        ],
                        [
                          0.6666666666666666,
                          "#ed7953"
                        ],
                        [
                          0.7777777777777778,
                          "#fb9f3a"
                        ],
                        [
                          0.8888888888888888,
                          "#fdca26"
                        ],
                        [
                          1,
                          "#f0f921"
                        ]
                      ],
                      "sequentialminus": [
                        [
                          0,
                          "#0d0887"
                        ],
                        [
                          0.1111111111111111,
                          "#46039f"
                        ],
                        [
                          0.2222222222222222,
                          "#7201a8"
                        ],
                        [
                          0.3333333333333333,
                          "#9c179e"
                        ],
                        [
                          0.4444444444444444,
                          "#bd3786"
                        ],
                        [
                          0.5555555555555556,
                          "#d8576b"
                        ],
                        [
                          0.6666666666666666,
                          "#ed7953"
                        ],
                        [
                          0.7777777777777778,
                          "#fb9f3a"
                        ],
                        [
                          0.8888888888888888,
                          "#fdca26"
                        ],
                        [
                          1,
                          "#f0f921"
                        ]
                      ]
                    },
                    "colorway": [
                      "#636efa",
                      "#EF553B",
                      "#00cc96",
                      "#ab63fa",
                      "#FFA15A",
                      "#19d3f3",
                      "#FF6692",
                      "#B6E880",
                      "#FF97FF",
                      "#FECB52"
                    ],
                    "font": {
                      "color": "#f2f5fa"
                    },
                    "geo": {
                      "bgcolor": "rgb(17,17,17)",
                      "lakecolor": "rgb(17,17,17)",
                      "landcolor": "rgb(17,17,17)",
                      "showlakes": true,
                      "showland": true,
                      "subunitcolor": "#506784"
                    },
                    "hoverlabel": {
                      "align": "left"
                    },
                    "hovermode": "closest",
                    "mapbox": {
                      "style": "dark"
                    },
                    "paper_bgcolor": "rgb(17,17,17)",
                    "plot_bgcolor": "rgb(17,17,17)",
                    "polar": {
                      "angularaxis": {
                        "gridcolor": "#506784",
                        "linecolor": "#506784",
                        "ticks": ""
                      },
                      "bgcolor": "rgb(17,17,17)",
                      "radialaxis": {
                        "gridcolor": "#506784",
                        "linecolor": "#506784",
                        "ticks": ""
                      }
                    },
                    "scene": {
                      "xaxis": {
                        "backgroundcolor": "rgb(17,17,17)",
                        "gridcolor": "#506784",
                        "gridwidth": 2,
                        "linecolor": "#506784",
                        "showbackground": true,
                        "ticks": "",
                        "zerolinecolor": "#C8D4E3"
                      },
                      "yaxis": {
                        "backgroundcolor": "rgb(17,17,17)",
                        "gridcolor": "#506784",
                        "gridwidth": 2,
                        "linecolor": "#506784",
                        "showbackground": true,
                        "ticks": "",
                        "zerolinecolor": "#C8D4E3"
                      },
                      "zaxis": {
                        "backgroundcolor": "rgb(17,17,17)",
                        "gridcolor": "#506784",
                        "gridwidth": 2,
                        "linecolor": "#506784",
                        "showbackground": true,
                        "ticks": "",
                        "zerolinecolor": "#C8D4E3"
                      }
                    },
                    "shapedefaults": {
                      "line": {
                        "color": "#f2f5fa"
                      }
                    },
                    "sliderdefaults": {
                      "bgcolor": "#C8D4E3",
                      "bordercolor": "rgb(17,17,17)",
                      "borderwidth": 1,
                      "tickwidth": 0
                    },
                    "ternary": {
                      "aaxis": {
                        "gridcolor": "#506784",
                        "linecolor": "#506784",
                        "ticks": ""
                      },
                      "baxis": {
                        "gridcolor": "#506784",
                        "linecolor": "#506784",
                        "ticks": ""
                      },
                      "bgcolor": "rgb(17,17,17)",
                      "caxis": {
                        "gridcolor": "#506784",
                        "linecolor": "#506784",
                        "ticks": ""
                      }
                    },
                    "title": {
                      "x": 0.05
                    },
                    "updatemenudefaults": {
                      "bgcolor": "#506784",
                      "borderwidth": 0
                    },
                    "xaxis": {
                      "automargin": true,
                      "gridcolor": "#283442",
                      "linecolor": "#506784",
                      "ticks": "",
                      "title": {
                        "standoff": 15
                      },
                      "zerolinecolor": "#283442",
                      "zerolinewidth": 2
                    },
                    "yaxis": {
                      "automargin": true,
                      "gridcolor": "#283442",
                      "linecolor": "#506784",
                      "ticks": "",
                      "title": {
                        "standoff": 15
                      },
                      "zerolinecolor": "#283442",
                      "zerolinewidth": 2
                    }
                  }
                },
                "title": {
                  "text": "<b>Validation Dataset Word Count<br><sup><i>&nbsp;&nbsp;&nbsp;&nbsp;summary</i></sup></b>",
                  "x": 0.025,
                  "xanchor": "left"
                },
                "width": 1000,
                "xaxis": {
                  "anchor": "y",
                  "domain": [
                    0,
                    0.4
                  ],
                  "showgrid": false,
                  "title": {
                    "text": ""
                  }
                },
                "xaxis2": {
                  "anchor": "y2",
                  "domain": [
                    0.6000000000000001,
                    1
                  ],
                  "showgrid": false,
                  "title": {
                    "text": "<b>Words</b>"
                  }
                },
                "yaxis": {
                  "anchor": "x",
                  "domain": [
                    0,
                    1
                  ],
                  "showgrid": false,
                  "title": {
                    "text": "<b>Words</b>"
                  }
                },
                "yaxis2": {
                  "anchor": "x2",
                  "domain": [
                    0,
                    1
                  ],
                  "showgrid": false,
                  "title": {
                    "text": "<b>Frequency</b>"
                  }
                }
              }
            }
          },
          "metadata": {},
          "output_type": "display_data"
        },
        {
          "data": {
            "application/vnd.plotly.v1+json": {
              "config": {
                "plotlyServerURL": "https://plot.ly"
              },
              "data": [
                {
                  "fill": "tozeroy",
                  "line": {
                    "color": "#89c2e0"
                  },
                  "mode": "lines",
                  "name": "Density",
                  "type": "scatter",
                  "x": {
                    "bdata": "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",
                    "dtype": "f8"
                  },
                  "xaxis": "x2",
                  "y": {
                    "bdata": "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",
                    "dtype": "f8"
                  },
                  "yaxis": "y2"
                },
                {
                  "boxmean": true,
                  "line": {
                    "color": "#d500ff"
                  },
                  "name": "Box Plot",
                  "type": "box",
                  "xaxis": "x",
                  "y": {
                    "bdata": "DAYKEwgGCiQJFBcLGxRDGwoYDB8EAhkdGRouIg8rEwodGhsaFwgHEyYGFBYPGjcGBw4KGyQjBSA2MQIPBgUFEwcQKRQEFQgGBwMxDQYJHwYHBgQKBwQPBhMIGwoNBhoYChkeFxMGLgUWIAQbBRcaKg0UMiE6CA8eBwsgBBMuIwcLBRcKGhYFGwcoHw8ECiIaBRoFNgUtBxceHxsdEgQvDBUIBAgHFQkTHCsJBgYfCwsGBhQIGx4KBgUHHAYDCBsMMTQGHR8fMxQXBBg4AggHCFkMEQgJCSEOCRQiHDYdHBccHBwXYSQCHRoGBEkFBRUHIA8GFx8lHQscCRgMIxQQHgYLBgQuCBcFFgYNGhADBwkdByAJIAgYBQYZGAoUIiQJNgkHBwoGChMUDA8GAysIBg4kBgYIDw4oBh0PDRMSJQYNBx8aCAc1FxIfCAkWCAUaBgcEDBIFJjYZFgctBgMgCAcVFT0fBy0HMQgFIiYJBgkFJQQiBSUlBwkSJxUJOiUGFBAECQMGHgscJRMHBQkGDR4WCAZIDAcUBiUNB0ETCRIgCCYCEikFHhYFCEgICAYIGBwKLAcWCAUWBxYcIQcGChMRBxMyBRorBRQRHg86KwcZDhQaCQMFDgUSIw0IFhMEBh0WEiEiEggiCBQIEQsICgYXGg0JOAcIEBcJDkQaGzAGIAYJARYEHAcLIioxCisXCAMKBgYRDQcEHhooBgYQBwUIEQoGEhkSBRsRAw4OBC0LMAwHBwYFJAcaCBMIEhI1DwgTGjUFCAMMBwcLBRgZCxwRCBgfIhoKJBgSBhkpOwUHFxsIEgUKEwIHDAcMDwgfHRsEFwUlQAkWRDAHJjkXBiMIGwgFHRY2IQQHBRQMEwgHBy4HBQoWBTIVBigZERIIBh8GCAUSBiAJBBsHBgUXCgYJNy8iBQYmJgQVIxUdISYEEysoBiUTEQUaBR0XBAYiEAc8ERchHhYIBRJZHAYIDAgPBwUZIzBDCgIGAiUFHREaFQkoEgQeDAQIKBMHGCMJKQgxBwcaFwcGBQcUEw0HAwUpCBUIBxkdJgk7CQsEBgsmBQgKHAYHCygUDwU7GgUDAwcGBxMqEAkfCQ4HDhsTDQwCFxMKEw0QBgYWGRYdDBsKAggIBQkFOwcFEQcXBgwUBwUJBxM5BA0lGgYHBhUIHhQLDhMGCSkTBgUEJysfCAwHCAQGHgtPCAYuBwUMDBIHBS8HBzgGFhkHLRIJBzoRHhoJDAwIHwoRKjQGCAkGBhUHBxUIKysHGQYFBTMEJBkaLDkFExEGEAcGFQQTDggfGgYGBQsZBSkZCxYYHAgTDhYdJwkZBxEWBQYXFSAKIBswJiEvBwgFCB0WCQQYISwaDBsGHSQfGBsZCAYIFyAfKwYIEAgJChANEwYNHSMYCAYgBB8JDiEWEgoHJiIQCw4LBQ0HDxMGGCIYBigKBRcUBwoCHgkIBjMDBSgFGAUaEx4gGwMLDyoJAhsFDgUGBwUICCAEHAlGFCAIFAkQMgYHBw0IGQcICgMiHwYIHAwIEiYOBhMNDg8fFwYiHRcFBgcmNjEEBBMDPB4VERsGDx0OFAMbBg0IBlENFRoEAwUdByMJBwMSIwogGw8JBwYyFiIHCgYhHxgfDgYjFAcQFhIQBhggEzVCJQwFHwcpCwsECRMWBhUKCAYJLwUjDxgIJQUhCRolBQkHGgQcKgUGAwcGAwYYCCQJEQkcHxcIKCAGBwwoBgcFBgUGDggGCgQMGysVCQYGBAZLBwYQNAUhBwUVBxkIChAPGwcZBiQCFSAPBgYEJxoIIQgVDBAHBxULCD8FEQUnHBIGCA4HFRIiCB8ZBwcgJBoHEgYHBgoXDgQWKgglCSEhJAQaHgoJEC8GIRcbPggJIQcuDwYbJgQkDwoUAwkiHAgWHhgUBQULEgsJEQcJHgQbDgkHJhIHPBA2BwYGEA4HIQkdCCAIBgYHDAgXCAkHEAUODCYEDgQOAwoPBx0DBwsxCSQRBgYkBQoIBwUFBx8ZCwsRHQY5GhsWBBkGHCsHDikIChkKBgoUCCgSCAUGBwcIEioHBikUJQg5GhUZBwUWAwQiBBwJHwgIBAoSEBUOFQ42FRoREgQSCBoICxoSBwQVBScXBw08CQUFFQwFCAkFBCkjCR8JBwYXAwUHBwYtCQgbAxFCDCYHBwUFDysQFB8KDhUeKQwIHAoYERUUBgUIEBgEBygIFxsGDAcbCAkCBhcUBwYJIzYhGAgGCAsICRgTFxUEDCIHBhwNTBgSCQQFCAceJwYGCAgTLRAJBQceCCwcBQYHBCQbGQgKBAYIOAcHEQkeCQcWFwcHGAYJOBwmBSgVExYGNAUDBgcgCCsGGRkJCAQlBgcXJQkPHxIICSMMCR0IGwocFgY0FQofEwgTBQk4EQclIh8hBwsWBC8OEwYaBjcUBjEIEjQQGh0ZCTIJCgsFFwgaGBIVCg4HIwlOHicIFBcGMwkGGRANCR8HBjwRBQgrLSYdExoGCgILBSUiCVIRBRkVKxgGJyEGIRQRBSMPMxYMCRMgFCQVMgUHGDIPBQgGDAgGVhUVDRwOByEGBgQaBQYUOBwdDh0ZGRcEPxkGGRwGBAgFBAYSAhIGGQYNVBYJBiYRLh8jEQ4FBQgUKiQGFBUSCwcXHAoaCQsICBEEMCgTBRAXBQQOQAcJIRUdHwsHFBAJBgcSBzkJFwYIGSQHBh4hBQcFCAVnBQkMLAgYBgwWCAYEIBQVBRAsGgYLIAU6IhAIHykEBQUVDxwHFwcIEwsoFhYNBQc5EAYHHQcGBQwGEhAFFxEcBBEGQAgkCAcjHwcuJgg9BhobBB4NHBIJEz8ZKggwEQ4fBwVQFgcSEhcFBgQ5BgYOEQQjGAYFOgYlGjIPGAwHBgUSCBkGGRkjHAQFBiAIBQYbCQYTEgcgBAUwIhYWDhgyFQULDggFHQYcBAMaBSQoGgYLLhsNHRoHHBYaDx0HBgkIBQYJMhwHGAYkIQgIBxcJPAwPPgkGEhYXDQUFBwUbHhYHGxEiBRsGBgcGBBgICQoSCQciBkUIGxcWEwUQDAMpIRoaDgcTBhUQBgQSBA8FBgckEAceGAccBgcIBB8FBAUICgYiGRcFBwYJBiwIBgcDFiMFCRYHERoGDgUIFR0TAxcIHwoHIx8dIwgZGR4CBAYJBhUdFRgFBxESBgYEBQUFHwcJMBcYLwYaIAYfFQcZDQgTCEIWECAWEDErBwUgCjkODA0XBwYHJB4HDwYjDAUMBRYJBwoJCk8SHQYYKzEwCgYEBBQIEBQGBxYTBhcGHxscEwg2KAYtCB8JBhAFKAoJFgYiMgYHXAkdGgQXBwgkHSMFBg8EFQcRCCUGERQqBAcFBggNCQhOCSUeBykJCwYHBgwcHBcGCA0aGQcRJB4KJxMFFhkwBgcMJxIUBxAJGBgGBx8REQgIGQUzEhEFKyIGBw8kExsGKCkIEAweDz4SEB8FBg8dHxQcCQ8fBgcGKRoHEwUGCB0HBRAXHB4jNxoVBg4OBwUkMScFGBIKCBkGCAczBgMFBgYHJQUGDRwVCAkCNhccFxkFBQQdBRwfEgUUPSkOLgYgBRgYChMeChMHFQYZBxgFCCcKJAUHFwodIwQEHA8HBgYQHAQHIgsEBhECBgkFFRMqBggiBh4ICAYdFxQYBgcIGCQVGwwILgYdHgYDBQcdCgcGGQQSBh4IGQYIDC4IHgchFywHCCQGHgQHERINLQcCIQgHJxoGDRolCxcOBgkGFQsmDwUaHwofKwgRChAHEB0YBAgpBxghCRAGFg8TGhwIDwcbCAgaFSkIFjIGBTUJCSozBjAZKRoHHgwGIiEKDTQRGBscCQYIEwUGIw0ZFBkPDQwgFAwXCAQTCAYHGgUTBQ4dDwMFJhoIIgYEBxgJCDkICwYFJAgHBiEIBBQGCxQWBhcjAyYWBiQIGSoZBSQGBhQfEBUQMwgeBQUEISMkSQkPDxoaBgQcGQUECS4NCAsHDCMGAhcIBgQVHQYHCR4WBBwGFQIaDDIGBggEAxYUEBMYCg4FLwcnGwcQIAseEQcIBSYQCQcdKh4CBgchEgsJGgcGByoSEAYQHxkEJw8CGBQHEwQFFRkWAws6GisVBisbFQYNCAcRGQcEGAQHJgYGCQkGGwcDBSEFBgMUCSUaIBcWCBohEx0IBAcTKBgQHgYbBxgICxQGB0kcYB8FAxISCQMIBgMLCREEDQUNIhcNBg4UBiYFBR8rFwUZLB8IDQ8cBwcHCSkFBgMFIA4IBw0RH0kTLQcFCwYNFhYFBwYbDzgZBQUJGwgIBhMkIQYZHgcZBicLCEQGERwICi8MAwYICgcDGwUlIzMHBxcHEyEGVQYGEQYYFhUfIBADEA4IBxIIBwc=",
                    "dtype": "i1"
                  },
                  "yaxis": "y"
                }
              ],
              "layout": {
                "annotations": [
                  {
                    "font": {
                      "size": 16
                    },
                    "showarrow": false,
                    "text": "Box Plot",
                    "x": 0.2,
                    "xanchor": "center",
                    "xref": "paper",
                    "y": 1,
                    "yanchor": "bottom",
                    "yref": "paper"
                  },
                  {
                    "font": {
                      "size": 16
                    },
                    "showarrow": false,
                    "text": "Histogram",
                    "x": 0.8,
                    "xanchor": "center",
                    "xref": "paper",
                    "y": 1,
                    "yanchor": "bottom",
                    "yref": "paper"
                  }
                ],
                "height": 600,
                "margin": {
                  "t": 100
                },
                "showlegend": true,
                "template": {
                  "data": {
                    "bar": [
                      {
                        "error_x": {
                          "color": "#f2f5fa"
                        },
                        "error_y": {
                          "color": "#f2f5fa"
                        },
                        "marker": {
                          "line": {
                            "color": "rgb(17,17,17)",
                            "width": 0.5
                          },
                          "pattern": {
                            "fillmode": "overlay",
                            "size": 10,
                            "solidity": 0.2
                          }
                        },
                        "type": "bar"
                      }
                    ],
                    "barpolar": [
                      {
                        "marker": {
                          "line": {
                            "color": "rgb(17,17,17)",
                            "width": 0.5
                          },
                          "pattern": {
                            "fillmode": "overlay",
                            "size": 10,
                            "solidity": 0.2
                          }
                        },
                        "type": "barpolar"
                      }
                    ],
                    "carpet": [
                      {
                        "aaxis": {
                          "endlinecolor": "#A2B1C6",
                          "gridcolor": "#506784",
                          "linecolor": "#506784",
                          "minorgridcolor": "#506784",
                          "startlinecolor": "#A2B1C6"
                        },
                        "baxis": {
                          "endlinecolor": "#A2B1C6",
                          "gridcolor": "#506784",
                          "linecolor": "#506784",
                          "minorgridcolor": "#506784",
                          "startlinecolor": "#A2B1C6"
                        },
                        "type": "carpet"
                      }
                    ],
                    "choropleth": [
                      {
                        "colorbar": {
                          "outlinewidth": 0,
                          "ticks": ""
                        },
                        "type": "choropleth"
                      }
                    ],
                    "contour": [
                      {
                        "colorbar": {
                          "outlinewidth": 0,
                          "ticks": ""
                        },
                        "colorscale": [
                          [
                            0,
                            "#0d0887"
                          ],
                          [
                            0.1111111111111111,
                            "#46039f"
                          ],
                          [
                            0.2222222222222222,
                            "#7201a8"
                          ],
                          [
                            0.3333333333333333,
                            "#9c179e"
                          ],
                          [
                            0.4444444444444444,
                            "#bd3786"
                          ],
                          [
                            0.5555555555555556,
                            "#d8576b"
                          ],
                          [
                            0.6666666666666666,
                            "#ed7953"
                          ],
                          [
                            0.7777777777777778,
                            "#fb9f3a"
                          ],
                          [
                            0.8888888888888888,
                            "#fdca26"
                          ],
                          [
                            1,
                            "#f0f921"
                          ]
                        ],
                        "type": "contour"
                      }
                    ],
                    "contourcarpet": [
                      {
                        "colorbar": {
                          "outlinewidth": 0,
                          "ticks": ""
                        },
                        "type": "contourcarpet"
                      }
                    ],
                    "heatmap": [
                      {
                        "colorbar": {
                          "outlinewidth": 0,
                          "ticks": ""
                        },
                        "colorscale": [
                          [
                            0,
                            "#0d0887"
                          ],
                          [
                            0.1111111111111111,
                            "#46039f"
                          ],
                          [
                            0.2222222222222222,
                            "#7201a8"
                          ],
                          [
                            0.3333333333333333,
                            "#9c179e"
                          ],
                          [
                            0.4444444444444444,
                            "#bd3786"
                          ],
                          [
                            0.5555555555555556,
                            "#d8576b"
                          ],
                          [
                            0.6666666666666666,
                            "#ed7953"
                          ],
                          [
                            0.7777777777777778,
                            "#fb9f3a"
                          ],
                          [
                            0.8888888888888888,
                            "#fdca26"
                          ],
                          [
                            1,
                            "#f0f921"
                          ]
                        ],
                        "type": "heatmap"
                      }
                    ],
                    "histogram": [
                      {
                        "marker": {
                          "pattern": {
                            "fillmode": "overlay",
                            "size": 10,
                            "solidity": 0.2
                          }
                        },
                        "type": "histogram"
                      }
                    ],
                    "histogram2d": [
                      {
                        "colorbar": {
                          "outlinewidth": 0,
                          "ticks": ""
                        },
                        "colorscale": [
                          [
                            0,
                            "#0d0887"
                          ],
                          [
                            0.1111111111111111,
                            "#46039f"
                          ],
                          [
                            0.2222222222222222,
                            "#7201a8"
                          ],
                          [
                            0.3333333333333333,
                            "#9c179e"
                          ],
                          [
                            0.4444444444444444,
                            "#bd3786"
                          ],
                          [
                            0.5555555555555556,
                            "#d8576b"
                          ],
                          [
                            0.6666666666666666,
                            "#ed7953"
                          ],
                          [
                            0.7777777777777778,
                            "#fb9f3a"
                          ],
                          [
                            0.8888888888888888,
                            "#fdca26"
                          ],
                          [
                            1,
                            "#f0f921"
                          ]
                        ],
                        "type": "histogram2d"
                      }
                    ],
                    "histogram2dcontour": [
                      {
                        "colorbar": {
                          "outlinewidth": 0,
                          "ticks": ""
                        },
                        "colorscale": [
                          [
                            0,
                            "#0d0887"
                          ],
                          [
                            0.1111111111111111,
                            "#46039f"
                          ],
                          [
                            0.2222222222222222,
                            "#7201a8"
                          ],
                          [
                            0.3333333333333333,
                            "#9c179e"
                          ],
                          [
                            0.4444444444444444,
                            "#bd3786"
                          ],
                          [
                            0.5555555555555556,
                            "#d8576b"
                          ],
                          [
                            0.6666666666666666,
                            "#ed7953"
                          ],
                          [
                            0.7777777777777778,
                            "#fb9f3a"
                          ],
                          [
                            0.8888888888888888,
                            "#fdca26"
                          ],
                          [
                            1,
                            "#f0f921"
                          ]
                        ],
                        "type": "histogram2dcontour"
                      }
                    ],
                    "mesh3d": [
                      {
                        "colorbar": {
                          "outlinewidth": 0,
                          "ticks": ""
                        },
                        "type": "mesh3d"
                      }
                    ],
                    "parcoords": [
                      {
                        "line": {
                          "colorbar": {
                            "outlinewidth": 0,
                            "ticks": ""
                          }
                        },
                        "type": "parcoords"
                      }
                    ],
                    "pie": [
                      {
                        "automargin": true,
                        "type": "pie"
                      }
                    ],
                    "scatter": [
                      {
                        "marker": {
                          "line": {
                            "color": "#283442"
                          }
                        },
                        "type": "scatter"
                      }
                    ],
                    "scatter3d": [
                      {
                        "line": {
                          "colorbar": {
                            "outlinewidth": 0,
                            "ticks": ""
                          }
                        },
                        "marker": {
                          "colorbar": {
                            "outlinewidth": 0,
                            "ticks": ""
                          }
                        },
                        "type": "scatter3d"
                      }
                    ],
                    "scattercarpet": [
                      {
                        "marker": {
                          "colorbar": {
                            "outlinewidth": 0,
                            "ticks": ""
                          }
                        },
                        "type": "scattercarpet"
                      }
                    ],
                    "scattergeo": [
                      {
                        "marker": {
                          "colorbar": {
                            "outlinewidth": 0,
                            "ticks": ""
                          }
                        },
                        "type": "scattergeo"
                      }
                    ],
                    "scattergl": [
                      {
                        "marker": {
                          "line": {
                            "color": "#283442"
                          }
                        },
                        "type": "scattergl"
                      }
                    ],
                    "scattermap": [
                      {
                        "marker": {
                          "colorbar": {
                            "outlinewidth": 0,
                            "ticks": ""
                          }
                        },
                        "type": "scattermap"
                      }
                    ],
                    "scattermapbox": [
                      {
                        "marker": {
                          "colorbar": {
                            "outlinewidth": 0,
                            "ticks": ""
                          }
                        },
                        "type": "scattermapbox"
                      }
                    ],
                    "scatterpolar": [
                      {
                        "marker": {
                          "colorbar": {
                            "outlinewidth": 0,
                            "ticks": ""
                          }
                        },
                        "type": "scatterpolar"
                      }
                    ],
                    "scatterpolargl": [
                      {
                        "marker": {
                          "colorbar": {
                            "outlinewidth": 0,
                            "ticks": ""
                          }
                        },
                        "type": "scatterpolargl"
                      }
                    ],
                    "scatterternary": [
                      {
                        "marker": {
                          "colorbar": {
                            "outlinewidth": 0,
                            "ticks": ""
                          }
                        },
                        "type": "scatterternary"
                      }
                    ],
                    "surface": [
                      {
                        "colorbar": {
                          "outlinewidth": 0,
                          "ticks": ""
                        },
                        "colorscale": [
                          [
                            0,
                            "#0d0887"
                          ],
                          [
                            0.1111111111111111,
                            "#46039f"
                          ],
                          [
                            0.2222222222222222,
                            "#7201a8"
                          ],
                          [
                            0.3333333333333333,
                            "#9c179e"
                          ],
                          [
                            0.4444444444444444,
                            "#bd3786"
                          ],
                          [
                            0.5555555555555556,
                            "#d8576b"
                          ],
                          [
                            0.6666666666666666,
                            "#ed7953"
                          ],
                          [
                            0.7777777777777778,
                            "#fb9f3a"
                          ],
                          [
                            0.8888888888888888,
                            "#fdca26"
                          ],
                          [
                            1,
                            "#f0f921"
                          ]
                        ],
                        "type": "surface"
                      }
                    ],
                    "table": [
                      {
                        "cells": {
                          "fill": {
                            "color": "#506784"
                          },
                          "line": {
                            "color": "rgb(17,17,17)"
                          }
                        },
                        "header": {
                          "fill": {
                            "color": "#2a3f5f"
                          },
                          "line": {
                            "color": "rgb(17,17,17)"
                          }
                        },
                        "type": "table"
                      }
                    ]
                  },
                  "layout": {
                    "annotationdefaults": {
                      "arrowcolor": "#f2f5fa",
                      "arrowhead": 0,
                      "arrowwidth": 1
                    },
                    "autotypenumbers": "strict",
                    "coloraxis": {
                      "colorbar": {
                        "outlinewidth": 0,
                        "ticks": ""
                      }
                    },
                    "colorscale": {
                      "diverging": [
                        [
                          0,
                          "#8e0152"
                        ],
                        [
                          0.1,
                          "#c51b7d"
                        ],
                        [
                          0.2,
                          "#de77ae"
                        ],
                        [
                          0.3,
                          "#f1b6da"
                        ],
                        [
                          0.4,
                          "#fde0ef"
                        ],
                        [
                          0.5,
                          "#f7f7f7"
                        ],
                        [
                          0.6,
                          "#e6f5d0"
                        ],
                        [
                          0.7,
                          "#b8e186"
                        ],
                        [
                          0.8,
                          "#7fbc41"
                        ],
                        [
                          0.9,
                          "#4d9221"
                        ],
                        [
                          1,
                          "#276419"
                        ]
                      ],
                      "sequential": [
                        [
                          0,
                          "#0d0887"
                        ],
                        [
                          0.1111111111111111,
                          "#46039f"
                        ],
                        [
                          0.2222222222222222,
                          "#7201a8"
                        ],
                        [
                          0.3333333333333333,
                          "#9c179e"
                        ],
                        [
                          0.4444444444444444,
                          "#bd3786"
                        ],
                        [
                          0.5555555555555556,
                          "#d8576b"
                        ],
                        [
                          0.6666666666666666,
                          "#ed7953"
                        ],
                        [
                          0.7777777777777778,
                          "#fb9f3a"
                        ],
                        [
                          0.8888888888888888,
                          "#fdca26"
                        ],
                        [
                          1,
                          "#f0f921"
                        ]
                      ],
                      "sequentialminus": [
                        [
                          0,
                          "#0d0887"
                        ],
                        [
                          0.1111111111111111,
                          "#46039f"
                        ],
                        [
                          0.2222222222222222,
                          "#7201a8"
                        ],
                        [
                          0.3333333333333333,
                          "#9c179e"
                        ],
                        [
                          0.4444444444444444,
                          "#bd3786"
                        ],
                        [
                          0.5555555555555556,
                          "#d8576b"
                        ],
                        [
                          0.6666666666666666,
                          "#ed7953"
                        ],
                        [
                          0.7777777777777778,
                          "#fb9f3a"
                        ],
                        [
                          0.8888888888888888,
                          "#fdca26"
                        ],
                        [
                          1,
                          "#f0f921"
                        ]
                      ]
                    },
                    "colorway": [
                      "#636efa",
                      "#EF553B",
                      "#00cc96",
                      "#ab63fa",
                      "#FFA15A",
                      "#19d3f3",
                      "#FF6692",
                      "#B6E880",
                      "#FF97FF",
                      "#FECB52"
                    ],
                    "font": {
                      "color": "#f2f5fa"
                    },
                    "geo": {
                      "bgcolor": "rgb(17,17,17)",
                      "lakecolor": "rgb(17,17,17)",
                      "landcolor": "rgb(17,17,17)",
                      "showlakes": true,
                      "showland": true,
                      "subunitcolor": "#506784"
                    },
                    "hoverlabel": {
                      "align": "left"
                    },
                    "hovermode": "closest",
                    "mapbox": {
                      "style": "dark"
                    },
                    "paper_bgcolor": "rgb(17,17,17)",
                    "plot_bgcolor": "rgb(17,17,17)",
                    "polar": {
                      "angularaxis": {
                        "gridcolor": "#506784",
                        "linecolor": "#506784",
                        "ticks": ""
                      },
                      "bgcolor": "rgb(17,17,17)",
                      "radialaxis": {
                        "gridcolor": "#506784",
                        "linecolor": "#506784",
                        "ticks": ""
                      }
                    },
                    "scene": {
                      "xaxis": {
                        "backgroundcolor": "rgb(17,17,17)",
                        "gridcolor": "#506784",
                        "gridwidth": 2,
                        "linecolor": "#506784",
                        "showbackground": true,
                        "ticks": "",
                        "zerolinecolor": "#C8D4E3"
                      },
                      "yaxis": {
                        "backgroundcolor": "rgb(17,17,17)",
                        "gridcolor": "#506784",
                        "gridwidth": 2,
                        "linecolor": "#506784",
                        "showbackground": true,
                        "ticks": "",
                        "zerolinecolor": "#C8D4E3"
                      },
                      "zaxis": {
                        "backgroundcolor": "rgb(17,17,17)",
                        "gridcolor": "#506784",
                        "gridwidth": 2,
                        "linecolor": "#506784",
                        "showbackground": true,
                        "ticks": "",
                        "zerolinecolor": "#C8D4E3"
                      }
                    },
                    "shapedefaults": {
                      "line": {
                        "color": "#f2f5fa"
                      }
                    },
                    "sliderdefaults": {
                      "bgcolor": "#C8D4E3",
                      "bordercolor": "rgb(17,17,17)",
                      "borderwidth": 1,
                      "tickwidth": 0
                    },
                    "ternary": {
                      "aaxis": {
                        "gridcolor": "#506784",
                        "linecolor": "#506784",
                        "ticks": ""
                      },
                      "baxis": {
                        "gridcolor": "#506784",
                        "linecolor": "#506784",
                        "ticks": ""
                      },
                      "bgcolor": "rgb(17,17,17)",
                      "caxis": {
                        "gridcolor": "#506784",
                        "linecolor": "#506784",
                        "ticks": ""
                      }
                    },
                    "title": {
                      "x": 0.05
                    },
                    "updatemenudefaults": {
                      "bgcolor": "#506784",
                      "borderwidth": 0
                    },
                    "xaxis": {
                      "automargin": true,
                      "gridcolor": "#283442",
                      "linecolor": "#506784",
                      "ticks": "",
                      "title": {
                        "standoff": 15
                      },
                      "zerolinecolor": "#283442",
                      "zerolinewidth": 2
                    },
                    "yaxis": {
                      "automargin": true,
                      "gridcolor": "#283442",
                      "linecolor": "#506784",
                      "ticks": "",
                      "title": {
                        "standoff": 15
                      },
                      "zerolinecolor": "#283442",
                      "zerolinewidth": 2
                    }
                  }
                },
                "title": {
                  "text": "<b>Validation Dataset Word Count<br><sup><i>&nbsp;&nbsp;&nbsp;&nbsp;title</i></sup></b>",
                  "x": 0.025,
                  "xanchor": "left"
                },
                "width": 1000,
                "xaxis": {
                  "anchor": "y",
                  "domain": [
                    0,
                    0.4
                  ],
                  "showgrid": false,
                  "title": {
                    "text": ""
                  }
                },
                "xaxis2": {
                  "anchor": "y2",
                  "domain": [
                    0.6000000000000001,
                    1
                  ],
                  "showgrid": false,
                  "title": {
                    "text": "<b>Words</b>"
                  }
                },
                "yaxis": {
                  "anchor": "x",
                  "domain": [
                    0,
                    1
                  ],
                  "showgrid": false,
                  "title": {
                    "text": "<b>Words</b>"
                  }
                },
                "yaxis2": {
                  "anchor": "x2",
                  "domain": [
                    0,
                    1
                  ],
                  "showgrid": false,
                  "title": {
                    "text": "<b>Frequency</b>"
                  }
                }
              }
            }
          },
          "metadata": {},
          "output_type": "display_data"
        }
      ],
      "source": [
        "df_text_lenght = pd.DataFrame()\n",
        "\n",
        "for feat in categorical_features:\n",
        "    df_text_lenght[feat] = test[feat].apply(lambda x: len(str(x).split()))\n",
        "\n",
        "histogram_boxplot(df_text_lenght,'#89c2e0', '#d500ff', 600, 1000, True, 'Validation Dataset')"
      ]
    },
    {
      "cell_type": "code",
      "execution_count": 18,
      "metadata": {
        "colab": {
          "base_uri": "https://localhost:8080/"
        },
        "id": "QTkLfQVmh4In",
        "outputId": "a5d7a826-e89c-4b48-a9d0-3e40119ccb0e"
      },
      "outputs": [
        {
          "name": "stdout",
          "output_type": "stream",
          "text": [
            "SECTION 1. LIABILITY OF BUSINESS ENTITIES PROVIDING USE OF FACILITIES \n",
            "              TO NONPROFIT ORGANIZATIONS.\n",
            "\n",
            "    (a) Definitions.--In this section:\n",
            "            (1) Business entity.--The term ``business entity'' means a \n",
            "        firm, corporation, association, partnership, consortium, joint \n",
            "        venture, or other form of enterprise.\n",
            "            (2) Facility.--The term ``facility'' means any real \n",
            "        property, including any building, improvement, or appurtenance.\n",
            "            (3) Gross negligence.--The term ``gross negligence'' means \n",
            "        voluntary and conscious conduct by a person with knowledge (at \n",
            "        the time of the conduct) that the conduct is likely to be \n",
            "        harmful to the health or well-being of another person.\n",
            "            (4) Intentional misconduct.--The term ``intentional \n",
            "        misconduct'' means conduct by a person with knowledge (at the \n",
            "        time of the conduct) that the conduct is harmful to the health \n",
            "        or well-being of another person.\n",
            "            (5) Nonprofit organization.--The term ``nonprofit \n",
            "        organization'' means--\n",
            "                    (A) any organization described in section 501(c)(3) \n",
            "                of the Internal Revenue Code of 1986 and exempt from \n",
            "                tax under section 501(a) of such Code; or\n",
            "                    (B) any not-for-profit organization organized and \n",
            "                conducted for public benefit and operated primarily for \n",
            "                charitable, civic, educational, religious, welfare, or \n",
            "                health purposes.\n",
            "            (6) State.--The term ``State'' means each of the several \n",
            "        States, the District of Columbia, the Commonwealth of Puerto \n",
            "        Rico, the Virgin Islands, Guam, American Samoa, the Northern \n",
            "        Mariana Islands, any other territory or possession of the \n",
            "        United States, or any political subdivision of any such State, \n",
            "        territory, or possession.\n",
            "    (b) Limitation on Liability.--\n",
            "            (1) In general.--Subject to subsection (c), a business \n",
            "        entity shall not be subject to civil liability relating to any \n",
            "        injury or death occurring at a facility of the business entity \n",
            "        in connection with a use of such facility by a nonprofit \n",
            "        organization if--\n",
            "                    (A) the use occurs outside of the scope of business \n",
            "                of the business entity;\n",
            "                    (B) such injury or death occurs during a period \n",
            "                that such facility is used by the nonprofit \n",
            "                organization; and\n",
            "                    (C) the business entity authorized the use of such \n",
            "                facility by the nonprofit organization.\n",
            "            (2) Application.--This subsection shall apply--\n",
            "                    (A) with respect to civil liability under Federal \n",
            "                and State law; and\n",
            "                    (B) regardless of whether a nonprofit organization \n",
            "                pays for the use of a facility.\n",
            "    (c) Exception for Liability.--Subsection (b) shall not apply to an \n",
            "injury or death that results from an act or omission of a business \n",
            "entity that constitutes gross negligence or intentional misconduct, \n",
            "including any misconduct that--\n",
            "            (1) constitutes a crime of violence (as that term is \n",
            "        defined in section 16 of title 18, United States Code) or act \n",
            "        of international terrorism (as that term is defined in section \n",
            "        2331 of title 18) for which the defendant has been convicted in \n",
            "        any court;\n",
            "            (2) constitutes a hate crime (as that term is used in the \n",
            "        Hate Crime Statistics Act (28 U.S.C. 534 note));\n",
            "            (3) involves a sexual offense, as defined by applicable \n",
            "        State law, for which the defendant has been convicted in any \n",
            "        court; or\n",
            "            (4) involves misconduct for which the defendant has been \n",
            "        found to have violated a Federal or State civil rights law.\n",
            "    (d) Superseding Provision.--\n",
            "            (1) In general.--Subject to paragraph (2) and subsection \n",
            "        (e), this Act preempts the laws of any State to the extent that \n",
            "        such laws are inconsistent with this Act, except that this Act \n",
            "        shall not preempt any State law that provides additional \n",
            "        protection from liability for a business entity for an injury \n",
            "        or death with respect to which conditions under subparagraphs \n",
            "        (A) through (C) of subsection (b)(1) apply.\n",
            "            (2) Limitation.--Nothing in this Act shall be construed to \n",
            "        supersede any Federal or State health or safety law.\n",
            "    (e) Election of State Regarding Nonapplicability.--This Act shall \n",
            "not apply to any civil action in a State court against a business \n",
            "entity in which all parties are citizens of the State if such State \n",
            "enacts a statute--\n",
            "            (1) citing the authority of this subsection;\n",
            "            (2) declaring the election of such State that this Act \n",
            "        shall not apply to such civil action in the State; and\n",
            "            (3) containing no other provision.\n"
          ]
        }
      ],
      "source": [
        "print(train['text'].iloc[0])"
      ]
    },
    {
      "cell_type": "code",
      "execution_count": 19,
      "metadata": {
        "colab": {
          "base_uri": "https://localhost:8080/",
          "height": 121
        },
        "id": "IXDAlEIzktRS",
        "outputId": "ecead178-6a8f-4682-e2dc-d037311b9fa9"
      },
      "outputs": [
        {
          "data": {
            "text/html": [
              "Shields a business entity from civil liability relating to any injury or death occurring at a facility of that entity in connection with a use of such facility by a nonprofit organization if: (1) the use occurs outside the scope of business of the business entity; (2) such injury or death occurs during a period that such facility is used by such organization; and (3) the business entity authorized the use of such facility by the organization. \n",
              "Makes this Act inapplicable to an injury or death that results from an act or omission of a business entity that constitutes gross negligence or intentional misconduct, including misconduct that: (1) constitutes a hate crime or a crime of violence or act of international terrorism for which the defendant has been convicted in any court; or (2) involves a sexual offense for which the defendant has been convicted in any court or misconduct for which the defendant has been found to have violated a Federal or State civil rights law. \n",
              "Preempts State laws to the extent that such laws are inconsistent with this Act, except State law that provides additional protection from liability.  Specifies that this Act shall not be construed to supersede any Federal or State health or safety law. \n",
              "Makes this Act inapplicable to any civil action in a State court against a business entity in which all parties are citizens of the State if such State, citing this Act's authority and containing no other provision, enacts a statute declaring the State's election that this Act shall not apply to such action in the State."
            ],
            "text/plain": [
              "<IPython.core.display.HTML object>"
            ]
          },
          "metadata": {},
          "output_type": "display_data"
        }
      ],
      "source": [
        "from IPython.display import HTML\n",
        "\n",
        "html_content = train['summary'].iloc[0]\n",
        "display(HTML(html_content))"
      ]
    },
    {
      "cell_type": "markdown",
      "metadata": {
        "id": "4Ap4bDtI0Jwz"
      },
      "source": [
        "### Count Tokens"
      ]
    },
    {
      "cell_type": "code",
      "execution_count": 22,
      "metadata": {
        "colab": {
          "base_uri": "https://localhost:8080/"
        },
        "id": "3h3ug1Yp0LGI",
        "outputId": "da49a9e3-dcd7-471c-d5ce-9bc2354cfa1a"
      },
      "outputs": [
        {
          "name": "stderr",
          "output_type": "stream",
          "text": [
            "[nltk_data] Downloading package punkt_tab to /home/kayc/nltk_data...\n",
            "[nltk_data]   Unzipping tokenizers/punkt_tab.zip.\n"
          ]
        }
      ],
      "source": [
        "import random\n",
        "import nltk\n",
        "from nltk.tokenize import word_tokenize\n",
        "\n",
        "nltk.download('punkt_tab')\n",
        "\n",
        "def count_tokens(text):\n",
        "    tokens = word_tokenize(text)\n",
        "    return len(tokens)"
      ]
    },
    {
      "cell_type": "code",
      "execution_count": 23,
      "metadata": {
        "colab": {
          "base_uri": "https://localhost:8080/"
        },
        "id": "BeoVtXjw0vQJ",
        "outputId": "69794dfe-7dff-49ec-8bbf-ed2b13d2de59"
      },
      "outputs": [
        {
          "name": "stdout",
          "output_type": "stream",
          "text": [
            "Index: 0 | Number of tokens in summary: 290\n",
            "Index: 1000 | Number of tokens in summary: 236\n",
            "Index: 2000 | Number of tokens in summary: 103\n",
            "Index: 3000 | Number of tokens in summary: 95\n",
            "Index: 4000 | Number of tokens in summary: 269\n",
            "Index: 5000 | Number of tokens in summary: 36\n",
            "Index: 6000 | Number of tokens in summary: 310\n",
            "Index: 7000 | Number of tokens in summary: 65\n",
            "Index: 8000 | Number of tokens in summary: 343\n",
            "Index: 9000 | Number of tokens in summary: 115\n"
          ]
        }
      ],
      "source": [
        "for i in range(10):\n",
        "    i = i * 1000\n",
        "    text = train['summary'].iloc[i]\n",
        "    token_count = count_tokens(text)\n",
        "    print(f\"Index: {i} | Number of tokens in summary: {token_count}\")"
      ]
    }
  ],
  "metadata": {
    "colab": {
      "provenance": []
    },
    "kernelspec": {
      "display_name": ".venv",
      "language": "python",
      "name": "python3"
    },
    "language_info": {
      "codemirror_mode": {
        "name": "ipython",
        "version": 3
      },
      "file_extension": ".py",
      "mimetype": "text/x-python",
      "name": "python",
      "nbconvert_exporter": "python",
      "pygments_lexer": "ipython3",
      "version": "3.11.11"
    }
  },
  "nbformat": 4,
  "nbformat_minor": 0
}
